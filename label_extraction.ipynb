{
 "cells": [
  {
   "cell_type": "markdown",
   "metadata": {},
   "source": [
    "# Label extraction"
   ]
  },
  {
   "cell_type": "markdown",
   "metadata": {},
   "source": [
    "### Testing BART c"
   ]
  },
  {
   "cell_type": "code",
   "execution_count": null,
   "metadata": {},
   "outputs": [],
   "source": [
    "from transformers import pipeline\n",
    "# Define the zero-shot classification pipeline\n",
    "classifier = pipeline(\"zero-shot-classification\", model=\"facebook/bart-large-mnli\")"
   ]
  },
  {
   "cell_type": "code",
   "execution_count": null,
   "metadata": {},
   "outputs": [],
   "source": [
    "# Text to classify\n",
    "text = \"This video explains the basics of Python programming and coding.\"\n",
    "\n",
    "# Define possible categories\n",
    "candidate_labels = [\n",
    "    \"tutorial\",\n",
    "    \"lecture\",\n",
    "    \"explainer\",\n",
    "    \"study tips\",\n",
    "    \"experiment\",\n",
    "    \"interview\",\n",
    "    \"language learning\",\n",
    "    \"professional development\"\n",
    "]\n",
    "\n",
    "# Perform zero-shot classification\n",
    "result = classifier(text, candidate_labels)\n",
    "\n",
    "# Output the results\n",
    "print(result)"
   ]
  }
 ],
 "metadata": {
  "language_info": {
   "name": "python"
  }
 },
 "nbformat": 4,
 "nbformat_minor": 2
}
