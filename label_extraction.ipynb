{
 "cells": [
  {
   "cell_type": "markdown",
   "metadata": {},
   "source": [
    "# Label extraction"
   ]
  },
  {
   "cell_type": "markdown",
   "metadata": {},
   "source": [
    "### Testing BART c"
   ]
  },
  {
   "cell_type": "code",
   "execution_count": 9,
   "metadata": {},
   "outputs": [
    {
     "name": "stderr",
     "output_type": "stream",
     "text": [
      "Hardware accelerator e.g. GPU is available in the environment, but no `device` argument is passed to the `Pipeline` object. Model will be on CPU.\n"
     ]
    }
   ],
   "source": [
    "from transformers import pipeline\n",
    "# Define the zero-shot classification pipeline\n",
    "classifier = pipeline(\"zero-shot-classification\", model=\"facebook/bart-large-mnli\")"
   ]
  },
  {
   "cell_type": "code",
   "execution_count": 10,
   "metadata": {},
   "outputs": [],
   "source": [
    "import pandas as pd\n",
    "df = pd.read_csv('./data/raw/Education_videos_7_cleaned.csv')"
   ]
  },
  {
   "cell_type": "code",
   "execution_count": 11,
   "metadata": {},
   "outputs": [],
   "source": [
    "df['upload_date'] = pd.to_datetime(df['upload_date'])\n",
    "df['year'] = df['upload_date'].dt.year"
   ]
  },
  {
   "cell_type": "code",
   "execution_count": 12,
   "metadata": {},
   "outputs": [
    {
     "data": {
      "text/plain": [
       "95465"
      ]
     },
     "execution_count": 12,
     "metadata": {},
     "output_type": "execute_result"
    }
   ],
   "source": [
    "df_2018 = df[df['year'] == 2018]\n",
    "len(df_2018)"
   ]
  },
  {
   "cell_type": "code",
   "execution_count": 13,
   "metadata": {},
   "outputs": [],
   "source": [
    "N = 10000\n",
    "df_2018_sampled = df_2018.sample(N, replace=False)"
   ]
  },
  {
   "cell_type": "code",
   "execution_count": 7,
   "metadata": {},
   "outputs": [
    {
     "name": "stdout",
     "output_type": "stream",
     "text": [
      "Start classification...\n",
      "Converting to dataset...\n",
      "Processing...\n"
     ]
    },
    {
     "data": {
      "application/vnd.jupyter.widget-view+json": {
       "model_id": "65416b2b02934e8ea1a95a066052b806",
       "version_major": 2,
       "version_minor": 0
      },
      "text/plain": [
       "Map:   0%|          | 0/10000 [00:00<?, ? examples/s]"
      ]
     },
     "metadata": {},
     "output_type": "display_data"
    },
    {
     "name": "stderr",
     "output_type": "stream",
     "text": [
      "You seem to be using the pipelines sequentially on GPU. In order to maximize efficiency please use a dataset\n"
     ]
    },
    {
     "name": "stdout",
     "output_type": "stream",
     "text": [
      "Converting back to DataFrame...\n",
      "CSV saved\n"
     ]
    }
   ],
   "source": [
    "import importlib\n",
    "import classify\n",
    "importlib.reload(classify)\n",
    "from classify import classify\n",
    "import torch\n",
    "from transformers import pipeline\n",
    "\n",
    "purpose_labels = [\n",
    "    \"academic\",\n",
    "    \"edutainment or science popularization\",\n",
    "    \"hobby\"\n",
    "]\n",
    "\n",
    "# Set the device to cuda\n",
    "device = torch.device('cuda')\n",
    "\n",
    "data = df_2018_sampled.copy()\n",
    "\n",
    "# Initialize the BART-based classifier\n",
    "classifier = pipeline(\"zero-shot-classification\", model=\"facebook/bart-large-mnli\", device=device)\n",
    "\n",
    "# Pre-process text\n",
    "data['text'] = data['title'] + data['tags']\n",
    "\n",
    "# Perform classification\n",
    "print('Start classification...')\n",
    "final_data = classify(data, candidate_labels=purpose_labels, on='text', classifier=classifier, batch_size=32, multi_label=False)\n",
    "\n",
    "# Save results\n",
    "final_data.to_csv('data/raw/Education_videos_7_classified_BART_2018_3_labels.csv', index=False)\n",
    "print('CSV saved')"
   ]
  },
  {
   "cell_type": "code",
   "execution_count": 8,
   "metadata": {},
   "outputs": [
    {
     "name": "stdout",
     "output_type": "stream",
     "text": [
      "[18.97466573] [0.06154979]\n"
     ]
    },
    {
     "data": {
      "image/png": "[encoded data removed]",
      "text/plain": [
       "<Figure size 640x480 with 1 Axes>"
      ]
     },
     "metadata": {},
     "output_type": "display_data"
    }
   ],
   "source": [
    "import ast\n",
    "import pandas as pd\n",
    "import numpy as np\n",
    "from sklearn.feature_selection import chi2\n",
    "classified = pd.read_csv(r'data\\raw\\Education_videos_7_classified_BART_2018_3_labels.csv')\n",
    "classified['classified_labels'] = classified['classified_labels'].apply(lambda x: ast.literal_eval(x))\n",
    "classified['label'] = classified['classified_labels'].apply(lambda x: x[0])\n",
    "classified['upload_date'] = pd.to_datetime(classified['upload_date'])\n",
    "classified['month'] = classified['upload_date'].dt.month\n",
    "academic = classified[classified['label'] == 'academic']\n",
    "academic.groupby('month').size().plot(kind='bar')\n",
    "number_per_month = np.asarray(academic.groupby('month').size()).reshape(-1,1)\n",
    "months = np.arange(12) + 1\n",
    "chi_stat, p_value = chi2(number_per_month, months)\n",
    "print(chi_stat, p_value)\n",
    "\n"
   ]
  },
  {
   "cell_type": "code",
   "execution_count": 22,
   "metadata": {},
   "outputs": [
    {
     "name": "stdout",
     "output_type": "stream",
     "text": [
      "Imported Education_videos_0_cleaned.csv\n",
      "Imported Education_videos_1_cleaned.csv\n",
      "Imported Education_videos_2_cleaned.csv\n",
      "Imported Education_videos_3_cleaned.csv\n",
      "Imported Education_videos_4_cleaned.csv\n",
      "Imported Education_videos_5_cleaned.csv\n",
      "Imported Education_videos_6_cleaned.csv\n",
      "Imported Education_videos_7_cleaned.csv\n"
     ]
    }
   ],
   "source": [
    "import pandas as pd\n",
    "\n",
    "path = './data/raw'\n",
    "df = pd.DataFrame()\n",
    "\n",
    "for i in range(8):\n",
    "    new_df = pd.read_csv(path+f'/Education_videos_{i}_cleaned.csv')\n",
    "    new_df = new_df.dropna(axis=0)\n",
    "    df = pd.concat([df, new_df])\n",
    "    del(new_df)\n",
    "    print(f'Imported Education_videos_{i}_cleaned.csv')"
   ]
  },
  {
   "cell_type": "code",
   "execution_count": 23,
   "metadata": {},
   "outputs": [],
   "source": [
    "df['upload_date'] = pd.to_datetime(df['upload_date'])\n",
    "df['year'] = df['upload_date'].dt.year"
   ]
  },
  {
   "cell_type": "code",
   "execution_count": 3,
   "metadata": {},
   "outputs": [
    {
     "name": "stdout",
     "output_type": "stream",
     "text": [
      "Start classification...\n",
      "Converting to dataset...\n",
      "Processing...\n"
     ]
    },
    {
     "data": {
      "application/vnd.jupyter.widget-view+json": {
       "model_id": "86c8fc11924246dd82ccdee6fda277f0",
       "version_major": 2,
       "version_minor": 0
      },
      "text/plain": [
       "Map:   0%|          | 0/50000 [00:00<?, ? examples/s]"
      ]
     },
     "metadata": {},
     "output_type": "display_data"
    },
    {
     "name": "stderr",
     "output_type": "stream",
     "text": [
      "You seem to be using the pipelines sequentially on GPU. In order to maximize efficiency please use a dataset\n"
     ]
    },
    {
     "name": "stdout",
     "output_type": "stream",
     "text": [
      "Converting back to DataFrame...\n",
      "CSV saved\n"
     ]
    }
   ],
   "source": [
    "import importlib\n",
    "import classify\n",
    "importlib.reload(classify)\n",
    "from classify import classify\n",
    "import torch\n",
    "from transformers import pipeline\n",
    "\n",
    "\n",
    "year = 2018\n",
    "df_year = df[df['year'] == year]\n",
    "\n",
    "N = 50000\n",
    "data = df_year.sample(N)\n",
    "\n",
    "purpose_labels = [\n",
    "    \"academic\",\n",
    "    \"edutainment or science popularization\",\n",
    "    \"hobby\"\n",
    "]\n",
    "\n",
    "# Set the device to cuda\n",
    "device = torch.device('cuda')\n",
    "\n",
    "# Initialize the BART-based classifier\n",
    "classifier = pipeline(\"zero-shot-classification\", model=\"facebook/bart-large-mnli\", device=device)\n",
    "\n",
    "# Pre-process text\n",
    "data['text'] = data['title'] + data['tags']\n",
    "\n",
    "\n",
    "# Perform classification\n",
    "print('Start classification...')\n",
    "final_data = classify(data, candidate_labels=purpose_labels, on='text', classifier=classifier, batch_size=16, multi_label=False)\n",
    "\n",
    "# Save results\n",
    "final_data.to_csv(f'data/raw/Education_videos_classified_BART_{year}_{N}_3_labels.csv', index=False)\n",
    "print('CSV saved')"
   ]
  },
  {
   "cell_type": "code",
   "execution_count": 9,
   "metadata": {},
   "outputs": [
    {
     "name": "stdout",
     "output_type": "stream",
     "text": [
      "[206.21371247] [3.8140123e-38]\n"
     ]
    },
    {
     "data": {
      "image/png": "[encoded data removed]",
      "text/plain": [
       "<Figure size 640x480 with 1 Axes>"
      ]
     },
     "metadata": {},
     "output_type": "display_data"
    }
   ],
   "source": [
    "import ast\n",
    "import pandas as pd\n",
    "import numpy as np\n",
    "from sklearn.feature_selection import chi2\n",
    "classified = pd.read_csv(r'data\\raw\\Education_videos_classified_BART_2018_50000_3_labels.csv')\n",
    "classified['classified_labels'] = classified['classified_labels'].apply(lambda x: ast.literal_eval(x))\n",
    "classified['label'] = classified['classified_labels'].apply(lambda x: x[0])\n",
    "classified['upload_date'] = pd.to_datetime(classified['upload_date'])\n",
    "classified['month'] = classified['upload_date'].dt.month\n",
    "academic = classified[classified['label'] == 'academic']\n",
    "academic.groupby('month').size().plot(kind='bar')\n",
    "number_per_month = np.asarray(academic.groupby('month').size()).reshape(-1,1)\n",
    "months = np.arange(12) + 1\n",
    "chi_stat, p_value = chi2(number_per_month, months)\n",
    "print(chi_stat, p_value)\n",
    "\n"
   ]
  },
  {
   "cell_type": "code",
   "execution_count": 7,
   "metadata": {},
   "outputs": [
    {
     "data": {
      "text/plain": [
       "label\n",
       "academic                                 10093\n",
       "edutainment or science popularization    25844\n",
       "hobby                                     9370\n",
       "uncertain                                 4693\n",
       "dtype: int64"
      ]
     },
     "execution_count": 7,
     "metadata": {},
     "output_type": "execute_result"
    }
   ],
   "source": [
    "classified.groupby('label').size()"
   ]
  },
  {
   "cell_type": "code",
   "execution_count": 24,
   "metadata": {},
   "outputs": [
    {
     "name": "stdout",
     "output_type": "stream",
     "text": [
      "Start classification...\n",
      "Converting to dataset...\n",
      "Processing...\n"
     ]
    },
    {
     "data": {
      "application/vnd.jupyter.widget-view+json": {
       "model_id": "8c49a5bbcf074eccaa469599c0a28636",
       "version_major": 2,
       "version_minor": 0
      },
      "text/plain": [
       "Map:   0%|          | 0/50000 [00:00<?, ? examples/s]"
      ]
     },
     "metadata": {},
     "output_type": "display_data"
    },
    {
     "name": "stderr",
     "output_type": "stream",
     "text": [
      "You seem to be using the pipelines sequentially on GPU. In order to maximize efficiency please use a dataset\n"
     ]
    },
    {
     "name": "stdout",
     "output_type": "stream",
     "text": [
      "Converting back to DataFrame...\n",
      "CSV saved\n"
     ]
    }
   ],
   "source": [
    "import importlib\n",
    "import classify\n",
    "importlib.reload(classify)\n",
    "from classify import classify\n",
    "import torch\n",
    "from transformers import pipeline\n",
    "\n",
    "\n",
    "\n",
    "N = 50000\n",
    "data = df.sample(N)\n",
    "\n",
    "purpose_labels = [\n",
    "    \"academic\",\n",
    "    \"edutainment or science popularization\",\n",
    "    \"hobby\"\n",
    "]\n",
    "\n",
    "# Set the device to cuda\n",
    "device = torch.device('cuda')\n",
    "\n",
    "# Initialize the BART-based classifier\n",
    "classifier = pipeline(\"zero-shot-classification\", model=\"facebook/bart-large-mnli\", device=device)\n",
    "\n",
    "# Pre-process text\n",
    "data['text'] = data['title'] + data['tags']\n",
    "\n",
    "\n",
    "# Perform classification\n",
    "print('Start classification...')\n",
    "final_data = classify(data, candidate_labels=purpose_labels, on='text', classifier=classifier, batch_size=16, multi_label=False)\n",
    "\n",
    "# Save results\n",
    "final_data.to_csv(f'data/raw/Education_videos_classified_BART_{N}_3_labels.csv', index=False)\n",
    "print('CSV saved')"
   ]
  }
 ],
 "metadata": {
  "kernelspec": {
   "display_name": "ada2",
   "language": "python",
   "name": "python3"
  },
  "language_info": {
   "codemirror_mode": {
    "name": "ipython",
    "version": 3
   },
   "file_extension": ".py",
   "mimetype": "text/x-python",
   "name": "python",
   "nbconvert_exporter": "python",
   "pygments_lexer": "ipython3",
   "version": "3.12.7"
  }
 },
 "nbformat": 4,
 "nbformat_minor": 2
}
