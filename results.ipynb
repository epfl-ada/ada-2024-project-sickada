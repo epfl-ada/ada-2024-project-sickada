{
 "cells": [
  {
   "cell_type": "markdown",
   "metadata": {
    "vscode": {
     "languageId": "plaintext"
    }
   },
   "source": [
    "# Milestone 2"
   ]
  },
  {
   "cell_type": "markdown",
   "metadata": {},
   "source": [
    "This notebook contains machinmachinmachin, blabla happy reading ihihihihihi"
   ]
  },
  {
   "cell_type": "code",
   "execution_count": null,
   "metadata": {},
   "outputs": [],
   "source": [
    "import sys\n",
    "import os\n",
    "import os.path as op\n",
    "import pandas as pd\n",
    "import numpy as np\n",
    "import seaborn as sns\n",
    "import matplotlib.pyplot as plt\n",
    "import json\n",
    "import gzip\n",
    "import warnings\n",
    "from tqdm.notebook import tqdm\n",
    "\n",
    "from googleapiclient.discovery import build\n",
    "from googleapiclient.errors import HttpError\n",
    "\n",
    "\n",
    "\n",
    "from config import DRIVE_PATH_VIVA, DRIVE_PATH_FLORIAN\n",
    "\n",
    "sys.path.insert(0, '.') # to use relative paths\n",
    "path_data = op.join('data', 'raw')\n",
    "path_deriv = op.join(path_data, '..', 'derivatives')\n",
    "path_exploration_fig = os.path.join('data', 'figures', 'exploration')\n",
    "path_edu = op.join(path_deriv, \"Education_videos_{}.csv\")\n",
    "\n",
    "RAW_DATA_PATH = op.join(path_data, \"yt_metadata_en.jsonl.gz\") # change here to your data path !!!\n",
    "warnings.filterwarnings(\"ignore\")"
   ]
  },
  {
   "cell_type": "code",
   "execution_count": null,
   "metadata": {},
   "outputs": [],
   "source": [
    "# TODO delete dans le final \n",
    "%load_ext autoreload\n",
    "%autoreload 2"
   ]
  },
  {
   "cell_type": "markdown",
   "metadata": {},
   "source": [
    "## Data Extraction"
   ]
  },
  {
   "cell_type": "code",
   "execution_count": 5,
   "metadata": {},
   "outputs": [],
   "source": [
    "# The proper extraction\n",
    "category = 'Education'\n",
    "video_file_path = os.path.join(RAW_DATA_PATH, f'extracted_{category}', 'yt_metadata_en.jsonl.gz')\n",
    "save_path = os.path.join(path_deriv) # change so you save it wherever you like\n",
    "\n",
    "total_len = 3795564 # 3'795'564 (info obtained from metadata_subcategories.ipynb)\n",
    "approx_length = round(total_len/1000000,1)*1000000 \n",
    "N_BATCHES = 8\n",
    "batch_size = int(np.floor_divide(approx_length,N_BATCHES)) # for 8 batches should end up with 475'000\n",
    "\n",
    "#filter_jsonl(video_file_path, category, batch_size, save_path, verbose=True) # lengthy process do not call"
   ]
  },
  {
   "cell_type": "markdown",
   "metadata": {},
   "source": [
    "## Bert pipeline for assigning subcategories to Education videos"
   ]
  },
  {
   "cell_type": "code",
   "execution_count": null,
   "metadata": {},
   "outputs": [],
   "source": []
  },
  {
   "cell_type": "markdown",
   "metadata": {},
   "source": [
    "## Bart pipeline for assigning subcategories to Education videos"
   ]
  },
  {
   "cell_type": "code",
   "execution_count": null,
   "metadata": {},
   "outputs": [],
   "source": [
    "# TODO Code de Florian a modifier eventuellement \n",
    "from utils import load_metadata_videos, bart_classification, plot_scores_BART\n",
    "file_path = path_edu.format(5) # DRIVE_PATH_FLORIAN\n",
    "df_education = load_metadata_videos(file_path)"
   ]
  },
  {
   "cell_type": "code",
   "execution_count": null,
   "metadata": {},
   "outputs": [],
   "source": [
    "from config import purpose_labels, level_labels, content_labels\n",
    "\n",
    "sample_row = 364772\n",
    "title = df_education.loc[sample_row, 'title']\n",
    "tags = df_education.loc[sample_row, 'tags']\n",
    "combined_text = f\"{title} {tags.replace(',', ', ')}\"\n",
    "print('Row:', sample_row)\n",
    "print('Title:', title)\n",
    "print('Tags:', tags)\n",
    "purpose = bart_classification(combined_text, purpose_labels, multi_label=True, plot=True, title=title)\n",
    "print(\"--> Purpose:\", purpose)\n",
    "level = bart_classification(combined_text, level_labels, multi_label=False, plot=True, title=title)\n",
    "print(\"--> Level:  \", level)\n",
    "content = bart_classification(combined_text, content_labels, multi_label=True, plot=True, title=title)\n",
    "print(\"--> Content:\", content)"
   ]
  },
  {
   "cell_type": "code",
   "execution_count": null,
   "metadata": {},
   "outputs": [],
   "source": []
  },
  {
   "cell_type": "code",
   "execution_count": null,
   "metadata": {},
   "outputs": [],
   "source": []
  },
  {
   "cell_type": "code",
   "execution_count": null,
   "metadata": {},
   "outputs": [],
   "source": []
  },
  {
   "cell_type": "markdown",
   "metadata": {},
   "source": [
    "# Country extraction from YouTube Data API v3"
   ]
  },
  {
   "cell_type": "code",
   "execution_count": null,
   "metadata": {},
   "outputs": [
    {
     "name": "stdout",
     "output_type": "stream",
     "text": [
      "Processing file : path_edu_0  --> Found 3412 channels\n",
      "Processing file : path_edu_1  --> Found 3039 channels\n",
      "Processing file : path_edu_2  --> Found 3069 channels\n",
      "Processing file : path_edu_3  --> Found 3036 channels\n",
      "Processing file : path_edu_4  --> Found 3384 channels\n",
      "Processing file : path_edu_5  --> Found 3282 channels\n",
      "Processing file : path_edu_6  --> Found 3150 channels\n",
      "Processing file : path_edu_7  --> Found 3224 channels\n",
      "Total number of channels : 25587\n"
     ]
    }
   ],
   "source": [
    "from utils import extract_channels_edu\n",
    "\n",
    "channels = extract_channels_edu(path_edu, N_BATCHES, verbose = True)"
   ]
  },
  {
   "cell_type": "code",
   "execution_count": null,
   "metadata": {},
   "outputs": [],
   "source": [
    "from utils import youtube_country_scraper\n",
    "\n",
    "countries = pd.DataFrame(columns = ['channel_id', 'country']) \n",
    "countries['channel_id'] = channels\n",
    "countries['country'] = 'empty'\n",
    "\n",
    "start = 0\n",
    "end = len(countries) # max 10k per day - improved since now we do batches so can run all of them in one go\n",
    "batch_size = 50 # max youtube allows per request\n",
    "\n",
    "try:\n",
    "    for i in tqdm(range(start,end,batch_size), total = (end - start)//batch_size, desc = 'Country extraction'):\n",
    "        chs = channels[i:min(i+batch_size,end)]\n",
    "        nations = youtube_country_scraper(chs, verbose= False)\n",
    "        \n",
    "        for ch in chs:\n",
    "            countries.loc[countries.channel_id == ch, 'country'] = nations[ch]\n",
    "            tqdm.write('Channel {} : {} - {}  '.format(i, ch, nations[ch]), end=\"\\r\")\n",
    "\n",
    "    if end % batch_size != 0:\n",
    "        chs_extra = channels[(end//batch_size)* batch_size:end]\n",
    "        nations = youtube_country_scraper(chs_extra, verbose= False)\n",
    "        for i, ch in enumerate(chs_extra):\n",
    "            countries.loc[countries.channel_id == ch, 'country'] = nations[ch]\n",
    "            tqdm.write('Channel {} : {} - {}  '.format(i, ch, nations[ch]), end=\"\\r\")\n",
    "\n",
    "except HttpError as e:\n",
    "        if e.resp.status == 403:\n",
    "            print('Quota exceeded, saving extracted countries')\n",
    "            countries.to_csv(op.join(path_deriv, 'countries.csv'), index = False)        \n",
    "\n",
    "countries.to_csv(op.join(path_deriv, 'countries.csv'))\n",
    "tqdm.write('Done!                                        ')"
   ]
  },
  {
   "cell_type": "code",
   "execution_count": null,
   "metadata": {},
   "outputs": [],
   "source": [
    "# Redo the ones that could not be identified in the response to the api request - most of them are deleted channels\n",
    "countries_redo = countries[countries.country == 'deleted'].reset_index(drop = True) \n",
    "for i, ch in tqdm(enumerate(countries_redo.channel_id), total = len(countries_redo)//10, desc = 'Countries redo'):\n",
    "    nations = youtube_country_scraper([ch], verbose= False)\n",
    "    countries.loc[countries.channel_id == ch, 'country'] = nations[ch]\n",
    "    tqdm.write('Channel {} : {} - {}  '.format(i, ch, nations[ch]), end=\"\\r\")\n",
    "\n",
    "countries.to_csv(op.join(path_deriv, 'countries.csv'))"
   ]
  },
  {
   "cell_type": "code",
   "execution_count": 15,
   "metadata": {},
   "outputs": [],
   "source": [
    "# Run from here on extracted data\n",
    "countries = pd.read_csv(op.join(path_deriv, 'countries.csv'))"
   ]
  },
  {
   "cell_type": "code",
   "execution_count": 16,
   "metadata": {},
   "outputs": [],
   "source": [
    "#group in single category all the countries with less than 10 channels\n",
    "from utils import agglomerate_countries\n",
    "\n",
    "filter = 20\n",
    "countries_plt = countries.copy()\n",
    "countries_plt['country'] = countries_plt['country'].apply(agglomerate_countries, args=(countries_plt['country'].value_counts(),filter))"
   ]
  },
  {
   "cell_type": "code",
   "execution_count": 17,
   "metadata": {},
   "outputs": [
    {
     "data": {
      "image/png": "[encoded data removed]",
      "text/plain": [
       "<Figure size 2000x500 with 1 Axes>"
      ]
     },
     "metadata": {},
     "output_type": "display_data"
    }
   ],
   "source": [
    "fig, ax = plt.subplots(figsize=(20, 5))\n",
    "sns.countplot(x='country', data=countries_plt, order = countries_plt['country'].value_counts(dropna=False).index, hue = 'country', ax=ax)\n",
    "ax.set_yscale('log')\n",
    "ax.set_title('Number of channels per country')\n",
    "ax.set_xlabel('Country')\n",
    "ax.set_ylabel('Number of channels (log)')\n",
    "plt.show()\n",
    "# ax.legend_.remove()"
   ]
  }
 ],
 "metadata": {
  "kernelspec": {
   "display_name": "ada",
   "language": "python",
   "name": "python3"
  },
  "language_info": {
   "codemirror_mode": {
    "name": "ipython",
    "version": 3
   },
   "file_extension": ".py",
   "mimetype": "text/x-python",
   "name": "python",
   "nbconvert_exporter": "python",
   "pygments_lexer": "ipython3",
   "version": "3.11.9"
  }
 },
 "nbformat": 4,
 "nbformat_minor": 2
}
