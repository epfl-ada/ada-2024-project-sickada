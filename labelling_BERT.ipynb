{
 "cells": [
  {
   "cell_type": "code",
   "execution_count": 6,
   "metadata": {},
   "outputs": [
    {
     "name": "stderr",
     "output_type": "stream",
     "text": [
      "The `xla_device` argument has been deprecated in v4.4.0 of Transformers. It is ignored and you can safely remove it from your `config.json` file.\n",
      "The `xla_device` argument has been deprecated in v4.4.0 of Transformers. It is ignored and you can safely remove it from your `config.json` file.\n",
      "The `xla_device` argument has been deprecated in v4.4.0 of Transformers. It is ignored and you can safely remove it from your `config.json` file.\n",
      "The `xla_device` argument has been deprecated in v4.4.0 of Transformers. It is ignored and you can safely remove it from your `config.json` file.\n",
      "The `xla_device` argument has been deprecated in v4.4.0 of Transformers. It is ignored and you can safely remove it from your `config.json` file.\n"
     ]
    },
    {
     "name": "stdout",
     "output_type": "stream",
     "text": [
      "Start classification...\n",
      "Converting to dataset...\n",
      "Processing...\n"
     ]
    },
    {
     "data": {
      "application/vnd.jupyter.widget-view+json": {
       "model_id": "d4ad9b5b3c0a47ef955b649bed0e3f96",
       "version_major": 2,
       "version_minor": 0
      },
      "text/plain": [
       "Map:   0%|          | 0/10000 [00:00<?, ? examples/s]"
      ]
     },
     "metadata": {},
     "output_type": "display_data"
    },
    {
     "name": "stderr",
     "output_type": "stream",
     "text": [
      "You seem to be using the pipelines sequentially on GPU. In order to maximize efficiency please use a dataset\n"
     ]
    },
    {
     "name": "stdout",
     "output_type": "stream",
     "text": [
      "Converting back to DataFrame...\n",
      "CSV saved\n"
     ]
    }
   ],
   "source": [
    "import pandas as pd\n",
    "import numpy as np\n",
    "import torch\n",
    "from transformers import pipeline\n",
    "import importlib\n",
    "import classify\n",
    "importlib.reload(classify)\n",
    "from classify import classify\n",
    "import json\n",
    "# from utils import random_sample_from_csv_files\n",
    "\n",
    "purpose_labels = [\n",
    "    \"lecture or academic course\", #exercise\n",
    "    #\"study-tips or test preparation\",\n",
    "    \"hacks\", \n",
    "    \"conference\",\n",
    "    \"tutorial or DIY\",\n",
    "    \"interview or Q&A or review\", #FIND BETTER\n",
    "    \"kids content\",\n",
    "    \"entertaining explanation or science popularization\",\n",
    "    \"documentary\" #research based\n",
    "]\n",
    "\n",
    "level_labels = [\n",
    "    \"beginner\",\n",
    "    \"intermediate\",\n",
    "    \"advanced\",\n",
    "]\n",
    "\n",
    "content_labels = [\n",
    "    \"science or technology\",\n",
    "    \"music or art\",\n",
    "    \"photography or videography or filmaking\",\n",
    "    \"gaming\",\n",
    "    \"chess or puzzles or logic\", #riddles\n",
    "    \"religion or spirituality\",\n",
    "    \"phylosophy or ethics\",\n",
    "    \"history or politics\",\n",
    "    \"economics or business\",\n",
    "    \"financial education\",\n",
    "    \"cryptocurrency\",\n",
    "    \"food or cooking\",\n",
    "    \"sport\",\n",
    "    \"health or medicine\",\n",
    "    \"travel\",\n",
    "    \"motivational or personal development\"\n",
    "    \"home repair or renovation\",  \n",
    "    \"beauty or fashion\",\n",
    "    \"programming tools or coding\",\n",
    "    \"foreign language\",\n",
    "    \"sociology or culture\",\n",
    "    \"psychology\",\n",
    "    \"climate or environment\",\n",
    "    \"wildlife or animals or nature\" #segment?\n",
    "]\n",
    "\n",
    "# Load the data\n",
    "data = pd.read_csv('./data/raw/Education_videos_7_cleaned.csv').head(10000)\n",
    "\n",
    "# Initialize the classifier with batch support\n",
    "device = torch.device('cuda' if torch.cuda.is_available() else 'cpu')\n",
    "classifier = pipeline(\"zero-shot-classification\", model=\"typeform/distilbert-base-uncased-mnli\", device=device)\n",
    "\n",
    "# Pre-process text for batch classification\n",
    "data['text'] = data['title'] + data['tags']\n",
    "\n",
    "print('Start classification...')\n",
    "final_data = classify(data, candidate_labels=purpose_labels, on='text', classifier=classifier, batch_size=32, multi_label=True)\n",
    "\n",
    "final_data.to_csv('./data/raw/Education_videos_7_classified_BERT_batch_0_10000.csv', index=False)\n",
    "print('CSV saved')"
   ]
  },
  {
   "cell_type": "code",
   "execution_count": null,
   "metadata": {},
   "outputs": [],
   "source": []
  }
 ],
 "metadata": {
  "kernelspec": {
   "display_name": "ada2",
   "language": "python",
   "name": "python3"
  },
  "language_info": {
   "codemirror_mode": {
    "name": "ipython",
    "version": 3
   },
   "file_extension": ".py",
   "mimetype": "text/x-python",
   "name": "python",
   "nbconvert_exporter": "python",
   "pygments_lexer": "ipython3",
   "version": "3.12.7"
  }
 },
 "nbformat": 4,
 "nbformat_minor": 2
}
