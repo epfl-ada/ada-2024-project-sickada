{
 "cells": [
  {
   "cell_type": "code",
   "execution_count": null,
   "metadata": {},
   "outputs": [],
   "source": [
    "import importlib\n",
    "import classify\n",
    "importlib.reload(classify)\n",
    "from classify import classify\n",
    "import torch\n",
    "from transformers import pipeline\n",
    "import pandas as pd"
   ]
  },
  {
   "cell_type": "code",
   "execution_count": null,
   "metadata": {},
   "outputs": [
    {
     "name": "stdout",
     "output_type": "stream",
     "text": [
      "Imported Education_videos_0_cleaned.csv\n",
      "Imported Education_videos_1_cleaned.csv\n",
      "Imported Education_videos_2_cleaned.csv\n",
      "Imported Education_videos_3_cleaned.csv\n",
      "Imported Education_videos_4_cleaned.csv\n",
      "Imported Education_videos_5_cleaned.csv\n",
      "Imported Education_videos_6_cleaned.csv\n",
      "Imported Education_videos_7_cleaned.csv\n"
     ]
    }
   ],
   "source": [
    "path = './data/raw'\n",
    "df = pd.DataFrame()\n",
    "\n",
    "for i in range(8):\n",
    "    new_df = pd.read_csv(path+f'/Education_videos_{i}_cleaned.csv')\n",
    "    new_df = new_df.dropna(axis=0)\n",
    "    df = pd.concat([df, new_df])\n",
    "    del(new_df)\n",
    "    print(f'Imported Education_videos_{i}_cleaned.csv')"
   ]
  },
  {
   "cell_type": "code",
   "execution_count": 23,
   "metadata": {},
   "outputs": [],
   "source": [
    "df['upload_date'] = pd.to_datetime(df['upload_date'])\n",
    "df['year'] = df['upload_date'].dt.year"
   ]
  },
  {
   "cell_type": "code",
   "execution_count": null,
   "metadata": {},
   "outputs": [
    {
     "name": "stdout",
     "output_type": "stream",
     "text": [
      "Start classification...\n",
      "Converting to dataset...\n",
      "Processing...\n"
     ]
    },
    {
     "data": {
      "application/vnd.jupyter.widget-view+json": {
       "model_id": "8c49a5bbcf074eccaa469599c0a28636",
       "version_major": 2,
       "version_minor": 0
      },
      "text/plain": [
       "Map:   0%|          | 0/50000 [00:00<?, ? examples/s]"
      ]
     },
     "metadata": {},
     "output_type": "display_data"
    },
    {
     "name": "stderr",
     "output_type": "stream",
     "text": [
      "You seem to be using the pipelines sequentially on GPU. In order to maximize efficiency please use a dataset\n"
     ]
    },
    {
     "name": "stdout",
     "output_type": "stream",
     "text": [
      "Converting back to DataFrame...\n",
      "CSV saved\n"
     ]
    }
   ],
   "source": [
    "N = 50000\n",
    "data = df.sample(N)\n",
    "\n",
    "purpose_labels = [\n",
    "    \"academic\",\n",
    "    \"edutainment or science popularization\",\n",
    "    \"hobby\"\n",
    "]\n",
    "\n",
    "# Set the device to cuda\n",
    "device = torch.device('cuda')\n",
    "\n",
    "# Initialize the BART-based classifier\n",
    "classifier = pipeline(\"zero-shot-classification\", model=\"facebook/bart-large-mnli\", device=device)\n",
    "\n",
    "# Pre-process text\n",
    "data['text'] = data['title'] + data['tags']\n",
    "\n",
    "\n",
    "# Perform classification\n",
    "print('Start classification...')\n",
    "final_data = classify(data, candidate_labels=purpose_labels, on='text', classifier=classifier, batch_size=16, multi_label=False)\n",
    "\n",
    "# Save results\n",
    "final_data.to_csv(f'data/raw/Education_videos_classified_BART_{N}_3_labels.csv', index=False)\n",
    "print('CSV saved')"
   ]
  }
 ],
 "metadata": {
  "kernelspec": {
   "display_name": "ada2",
   "language": "python",
   "name": "python3"
  },
  "language_info": {
   "codemirror_mode": {
    "name": "ipython",
    "version": 3
   },
   "file_extension": ".py",
   "mimetype": "text/x-python",
   "name": "python",
   "nbconvert_exporter": "python",
   "pygments_lexer": "ipython3",
   "version": "3.12.7"
  }
 },
 "nbformat": 4,
 "nbformat_minor": 2
}
