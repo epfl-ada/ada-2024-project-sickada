{
 "cells": [
  {
   "cell_type": "markdown",
   "metadata": {},
   "source": [
    "# Generating clean data to use in duration analysis and other notebooks"
   ]
  },
  {
   "cell_type": "code",
   "execution_count": null,
   "metadata": {},
   "outputs": [],
   "source": [
    "# Imports\n",
    "%load_ext autoreload\n",
    "%autoreload 2\n",
    "from config import DRIVE_PATH_VIVA, label_clustering, content_categories\n",
    "import numpy as np\n",
    "import pandas as pd\n",
    "import seaborn as sns\n",
    "import matplotlib.pyplot as plt\n",
    "import matplotlib.ticker as ticker\n",
    "import os\n",
    "import math\n",
    "import matplotlib.patches as mpatches\n",
    "import matplotlib.lines as mlines\n",
    "from sklearn.feature_selection import mutual_info_regression\n",
    "from scipy.stats import pearsonr, spearmanr"
   ]
  },
  {
   "cell_type": "code",
   "execution_count": null,
   "metadata": {},
   "outputs": [],
   "source": [
    "# Loading raw data\n",
    "general_path = os.path.join(DRIVE_PATH_VIVA, 'extracted_Education')\n",
    "dir_list = os.listdir(general_path)\n",
    "total_df = pd.DataFrame()\n",
    "for dir in dir_list:\n",
    "    batch_dir = os.path.join(general_path, dir)\n",
    "    batch_df = pd.read_csv(batch_dir)\n",
    "    total_df = pd.concat([total_df, batch_df])\n",
    "print(len(total_df))\n",
    "    \n",
    "channels_df = pd.read_csv('data/raw/df_channels_en.tsv', sep = \"\\t\")\n",
    "channels_df[\"join_date\"] = pd.to_datetime(channels_df[\"join_date\"])\n",
    "\n",
    "# Classified with keyword search\n",
    "classified_df = pd.read_csv('data/derivatives/subcategories_18_12_w_spam.csv')\n"
   ]
  },
  {
   "cell_type": "markdown",
   "metadata": {},
   "source": [
    "### Processing\n",
    "\n",
    "> - Print number of videos\n",
    "> - Check duration\n",
    "> - Get duration in minutes\n",
    "> - After visualizing time distribution, \n",
    "> - Remove too small and too large videos?\n",
    "> - Adding label column (classified / channel)\n",
    "> - Add year channel\n",
    "> - Create duration bins and add duration bin column\n",
    "> - Select period\n",
    "> - Add likes / dislikes / views for each videos (function in basic file)\n",
    "> - Drop nans\n",
    "> - Remove the keyword search for trash\n",
    "> - Plot hist of duration bins"
   ]
  },
  {
   "cell_type": "code",
   "execution_count": null,
   "metadata": {},
   "outputs": [],
   "source": [
    "# Add duration in minutes for clarity\n",
    "total_df['duration_in_min'] = total_df['duration']/60"
   ]
  },
  {
   "cell_type": "code",
   "execution_count": null,
   "metadata": {},
   "outputs": [],
   "source": [
    "# Visualise the durations distribution\n",
    "sns.histplot(data = total_df, x = 'duration_in_min', bins = 50)\n",
    "plt.title('Distribution of video duration in labelled data')\n",
    "plt.xlabel('Duration [min]')\n",
    "plt.yscale('log')\n",
    "\n",
    "# Zoom on small durations\n",
    "sns.histplot(data = total_df[total_df['duration_in_min']< 10], x = 'duration_in_min', bins = 20)\n",
    "plt.title('Distribution of video duration in labelled data')\n",
    "plt.xlabel('Duration [min]')\n",
    "plt.yscale('log')\n"
   ]
  },
  {
   "cell_type": "code",
   "execution_count": null,
   "metadata": {},
   "outputs": [],
   "source": [
    "def find_key(category):\n",
    "    for key, values in label_clustering.items():\n",
    "        if category in values:\n",
    "            return key\n",
    "    return 'trash'\n",
    "\n",
    "def get_metric_per_view(row, metric):\n",
    "    return row[metric]/row['view_count']"
   ]
  },
  {
   "cell_type": "code",
   "execution_count": null,
   "metadata": {},
   "outputs": [],
   "source": [
    "# Select durations and view limits\n",
    "min_duration = 0.5 # in minutes\n",
    "max_duration = 1000\n",
    "total_df = total_df[(total_df['duration_in_min'] > min_duration) & (total_df['duration_in_min'] < max_duration)]\n",
    "\n",
    "min_views = 1000\n",
    "total_df = total_df[total_df['view_count'] > min_views]\n",
    "\n",
    "# Add duration bin column\n",
    "duration_bins = [0, 5, 10, 15, 20, 25, 30, 40, 50, 60, 90, 120, float('inf')]\n",
    "duration_bin_titles = ['0-5', '5-10', '10-15', '15-20', '20-25', '25-30', '30-40', \n",
    "                       '40-50', '50-60', '60-90', '90-120', '>120']\n",
    "\n",
    "# Create duration_bin column\n",
    "total_df['duration_bin'] = pd.cut(total_df['duration_in_min'], bins=duration_bins, labels=duration_bin_titles, right=False)\n",
    "\n",
    "# Add label and year columns\n",
    "category_ch_map = channels_df.set_index('channel')['category_cc'].to_dict()\n",
    "category_lab_int_map = classified_df.set_index('display_id')['category']\n",
    "classified_df['category_name'] = classified_df['category'].apply(find_key)\n",
    "category_lab_str_map = classified_df.set_index('display_id')['category_name']\n",
    "\n",
    "total_df['channel_category'] = total_df['channel_id'].map(category_ch_map)\n",
    "total_df['classified_category'] = total_df['display_id'].map(category_lab_str_map)\n",
    "total_df['upload_year'] = total_df['upload_date'].apply(lambda x : int(x[0:4]))\n",
    "\n",
    "# Drop NaN + 'nan' in channel categories\n",
    "total_df = total_df.dropna()\n",
    "total_df = total_df[total_df['channel_category'] != 'nan']\n",
    "\n",
    "# select time period\n",
    "period = [2015, 2016, 2017, 2018]\n",
    "period_data = total_df[total_df['upload_year'].isin(period)]\n",
    "\n",
    "# Remove trash videos\n",
    "period_data = period_data[period_data['classified_category'] != 'trash']\n",
    "\n",
    "# Add metric/view\n",
    "period_data['likes_per_view']= period_data.apply(lambda x: get_metric_per_view(x, 'like_count'), axis = 1)\n",
    "period_data['dislikes_per_view']= period_data.apply(lambda x: get_metric_per_view(x, 'dislike_count'), axis = 1)\n",
    "\n",
    "print(len(period_data))"
   ]
  },
  {
   "cell_type": "code",
   "execution_count": null,
   "metadata": {},
   "outputs": [],
   "source": [
    "period_data.to_csv(os.path.join('data', 'derivatives', 'clean_viva.csv'))"
   ]
  },
  {
   "cell_type": "code",
   "execution_count": null,
   "metadata": {},
   "outputs": [],
   "source": [
    "# Plot bin histogram\n",
    "fig = plt.figure(figsize = (10, 5))\n",
    "sns.histplot(data = period_data, x = 'duration_bin')\n",
    "plt.title('Distribution of Video Duration in Total Data')\n",
    "plt.xlabel('Duration [min]')\n",
    "plt.ylabel('Video Count')\n",
    "# plt.yscale('log')\n",
    "# plt.ylabel('Video Count (x10^5)')\n",
    "# plt.gca().yaxis.set_major_formatter(ticker.FuncFormatter(lambda x, _: f'{x / 1e5:.1f}'))\n",
    "\n",
    "plt.tight_layout()"
   ]
  }
 ],
 "metadata": {
  "kernelspec": {
   "display_name": "ada",
   "language": "python",
   "name": "python3"
  },
  "language_info": {
   "name": "python",
   "version": "3.12.7"
  }
 },
 "nbformat": 4,
 "nbformat_minor": 2
}
