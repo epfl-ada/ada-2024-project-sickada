{
 "cells": [
  {
   "cell_type": "code",
   "execution_count": null,
   "metadata": {},
   "outputs": [],
   "source": [
    "import sample_jsonl\n",
    "from video_classification_metrics import generate_classification_report"
   ]
  },
  {
   "cell_type": "code",
   "execution_count": 4,
   "metadata": {},
   "outputs": [],
   "source": [
    "file_path = 'data/yt_metadata_en.jsonl.gz'\n",
    "sample_size = 100\n",
    "random_seed = 42\n",
    "\n",
    "df_vd_sampled = sample_jsonl.random_sample_jsonl_rows(file_path, sample_size, random_seed)"
   ]
  },
  {
   "cell_type": "markdown",
   "metadata": {},
   "source": [
    "### Compare videos' category with BART classifier (is_educational)\n",
    "The reasoning behind it is to make legit our assumption to study only videos marked as educational as the whole dataset. And then, look at the category from its channel to assess the content."
   ]
  },
  {
   "cell_type": "code",
   "execution_count": 5,
   "metadata": {},
   "outputs": [],
   "source": [
    "report = generate_classification_report(df_vd_sampled, category_col='categories', predicted_col='is_educational', f1_threshold=0.5, output_folder=\"confusion_matrices\")"
   ]
  }
 ],
 "metadata": {
  "kernelspec": {
   "display_name": "new_env",
   "language": "python",
   "name": "python3"
  },
  "language_info": {
   "codemirror_mode": {
    "name": "ipython",
    "version": 3
   },
   "file_extension": ".py",
   "mimetype": "text/x-python",
   "name": "python",
   "nbconvert_exporter": "python",
   "pygments_lexer": "ipython3",
   "version": "3.12.4"
  }
 },
 "nbformat": 4,
 "nbformat_minor": 2
}
