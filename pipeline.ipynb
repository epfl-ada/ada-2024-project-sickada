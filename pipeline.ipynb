{
 "cells": [
  {
   "cell_type": "markdown",
   "metadata": {},
   "source": [
    "Load the required packages"
   ]
  },
  {
   "cell_type": "code",
   "execution_count": 1,
   "metadata": {},
   "outputs": [],
   "source": [
    "import sample_jsonl\n",
    "import json\n",
    "import topic_filtering\n",
    "import time_series\n",
    "import visualisation\n",
    "import pandas as pd\n",
    "import os"
   ]
  },
  {
   "cell_type": "markdown",
   "metadata": {},
   "source": [
    "Load a sample of the dataset from GitHub"
   ]
  },
  {
   "cell_type": "code",
   "execution_count": null,
   "metadata": {},
   "outputs": [],
   "source": [
    "file_path = 'data/yt_metadata_en.jsonl.gz'\n",
    "sample_size = 1000000\n",
    "random_seed = 42\n",
    "\n",
    "df_vd_sampled = sample_jsonl.random_sample_jsonl_rows(file_path, sample_size, random_seed)"
   ]
  },
  {
   "cell_type": "markdown",
   "metadata": {},
   "source": [
    "### Load the dataset from Viva's work (only Education videos)\n",
    "\n",
    "Here: each video has the category of its channel since all videos were classified as Education"
   ]
  },
  {
   "cell_type": "code",
   "execution_count": 2,
   "metadata": {},
   "outputs": [
    {
     "name": "stderr",
     "output_type": "stream",
     "text": [
      "/var/folders/1y/f431dfd55sgcrd9ymcz950th0000gn/T/ipykernel_8604/1497819074.py:1: DtypeWarning: Columns (0,5,9) have mixed types. Specify dtype option on import or set low_memory=False.\n",
      "  df_vd_sampled = pd.read_csv('data/updated_education_videos.csv')\n"
     ]
    }
   ],
   "source": [
    "df_vd_sampled = pd.read_csv('data/updated_education_videos.csv')\n",
    "sample_size = 0"
   ]
  },
  {
   "cell_type": "markdown",
   "metadata": {},
   "source": [
    "Load the events"
   ]
  },
  {
   "cell_type": "code",
   "execution_count": 2,
   "metadata": {},
   "outputs": [
    {
     "name": "stderr",
     "output_type": "stream",
     "text": [
      "/var/folders/1y/f431dfd55sgcrd9ymcz950th0000gn/T/ipykernel_10191/1997304134.py:1: DtypeWarning: Columns (0,5,9) have mixed types. Specify dtype option on import or set low_memory=False.\n",
      "  df_vd_sampled = pd.read_csv('data/updated_education_videos.csv')\n",
      "/Users/yanndevance/ada-2024-project-sickada/time_series.py:24: SettingWithCopyWarning: \n",
      "A value is trying to be set on a copy of a slice from a DataFrame.\n",
      "Try using .loc[row_indexer,col_indexer] = value instead\n",
      "\n",
      "See the caveats in the documentation: https://pandas.pydata.org/pandas-docs/stable/user_guide/indexing.html#returning-a-view-versus-a-copy\n",
      "  df['upload_date'] = pd.to_datetime(df['upload_date'], errors='coerce')\n",
      "/Users/yanndevance/ada-2024-project-sickada/time_series.py:24: SettingWithCopyWarning: \n",
      "A value is trying to be set on a copy of a slice from a DataFrame.\n",
      "Try using .loc[row_indexer,col_indexer] = value instead\n",
      "\n",
      "See the caveats in the documentation: https://pandas.pydata.org/pandas-docs/stable/user_guide/indexing.html#returning-a-view-versus-a-copy\n",
      "  df['upload_date'] = pd.to_datetime(df['upload_date'], errors='coerce')\n",
      "/Users/yanndevance/ada-2024-project-sickada/time_series.py:24: SettingWithCopyWarning: \n",
      "A value is trying to be set on a copy of a slice from a DataFrame.\n",
      "Try using .loc[row_indexer,col_indexer] = value instead\n",
      "\n",
      "See the caveats in the documentation: https://pandas.pydata.org/pandas-docs/stable/user_guide/indexing.html#returning-a-view-versus-a-copy\n",
      "  df['upload_date'] = pd.to_datetime(df['upload_date'], errors='coerce')\n",
      "/Users/yanndevance/ada-2024-project-sickada/time_series.py:24: SettingWithCopyWarning: \n",
      "A value is trying to be set on a copy of a slice from a DataFrame.\n",
      "Try using .loc[row_indexer,col_indexer] = value instead\n",
      "\n",
      "See the caveats in the documentation: https://pandas.pydata.org/pandas-docs/stable/user_guide/indexing.html#returning-a-view-versus-a-copy\n",
      "  df['upload_date'] = pd.to_datetime(df['upload_date'], errors='coerce')\n"
     ]
    },
    {
     "name": "stdout",
     "output_type": "stream",
     "text": [
      "No cross-correlation data to plot.\n"
     ]
    },
    {
     "name": "stderr",
     "output_type": "stream",
     "text": [
      "/Users/yanndevance/ada-2024-project-sickada/time_series.py:24: SettingWithCopyWarning: \n",
      "A value is trying to be set on a copy of a slice from a DataFrame.\n",
      "Try using .loc[row_indexer,col_indexer] = value instead\n",
      "\n",
      "See the caveats in the documentation: https://pandas.pydata.org/pandas-docs/stable/user_guide/indexing.html#returning-a-view-versus-a-copy\n",
      "  df['upload_date'] = pd.to_datetime(df['upload_date'], errors='coerce')\n",
      "/Users/yanndevance/ada-2024-project-sickada/time_series.py:24: SettingWithCopyWarning: \n",
      "A value is trying to be set on a copy of a slice from a DataFrame.\n",
      "Try using .loc[row_indexer,col_indexer] = value instead\n",
      "\n",
      "See the caveats in the documentation: https://pandas.pydata.org/pandas-docs/stable/user_guide/indexing.html#returning-a-view-versus-a-copy\n",
      "  df['upload_date'] = pd.to_datetime(df['upload_date'], errors='coerce')\n",
      "/Users/yanndevance/ada-2024-project-sickada/time_series.py:24: SettingWithCopyWarning: \n",
      "A value is trying to be set on a copy of a slice from a DataFrame.\n",
      "Try using .loc[row_indexer,col_indexer] = value instead\n",
      "\n",
      "See the caveats in the documentation: https://pandas.pydata.org/pandas-docs/stable/user_guide/indexing.html#returning-a-view-versus-a-copy\n",
      "  df['upload_date'] = pd.to_datetime(df['upload_date'], errors='coerce')\n"
     ]
    },
    {
     "name": "stdout",
     "output_type": "stream",
     "text": [
      "No cross-correlation data to plot.\n"
     ]
    },
    {
     "name": "stderr",
     "output_type": "stream",
     "text": [
      "/Users/yanndevance/ada-2024-project-sickada/time_series.py:24: SettingWithCopyWarning: \n",
      "A value is trying to be set on a copy of a slice from a DataFrame.\n",
      "Try using .loc[row_indexer,col_indexer] = value instead\n",
      "\n",
      "See the caveats in the documentation: https://pandas.pydata.org/pandas-docs/stable/user_guide/indexing.html#returning-a-view-versus-a-copy\n",
      "  df['upload_date'] = pd.to_datetime(df['upload_date'], errors='coerce')\n"
     ]
    },
    {
     "name": "stdout",
     "output_type": "stream",
     "text": [
      "No cross-correlation data to plot.\n"
     ]
    },
    {
     "name": "stderr",
     "output_type": "stream",
     "text": [
      "/Users/yanndevance/ada-2024-project-sickada/time_series.py:24: SettingWithCopyWarning: \n",
      "A value is trying to be set on a copy of a slice from a DataFrame.\n",
      "Try using .loc[row_indexer,col_indexer] = value instead\n",
      "\n",
      "See the caveats in the documentation: https://pandas.pydata.org/pandas-docs/stable/user_guide/indexing.html#returning-a-view-versus-a-copy\n",
      "  df['upload_date'] = pd.to_datetime(df['upload_date'], errors='coerce')\n",
      "/Users/yanndevance/ada-2024-project-sickada/time_series.py:24: SettingWithCopyWarning: \n",
      "A value is trying to be set on a copy of a slice from a DataFrame.\n",
      "Try using .loc[row_indexer,col_indexer] = value instead\n",
      "\n",
      "See the caveats in the documentation: https://pandas.pydata.org/pandas-docs/stable/user_guide/indexing.html#returning-a-view-versus-a-copy\n",
      "  df['upload_date'] = pd.to_datetime(df['upload_date'], errors='coerce')\n",
      "/Users/yanndevance/ada-2024-project-sickada/time_series.py:24: SettingWithCopyWarning: \n",
      "A value is trying to be set on a copy of a slice from a DataFrame.\n",
      "Try using .loc[row_indexer,col_indexer] = value instead\n",
      "\n",
      "See the caveats in the documentation: https://pandas.pydata.org/pandas-docs/stable/user_guide/indexing.html#returning-a-view-versus-a-copy\n",
      "  df['upload_date'] = pd.to_datetime(df['upload_date'], errors='coerce')\n",
      "/Users/yanndevance/ada-2024-project-sickada/time_series.py:24: SettingWithCopyWarning: \n",
      "A value is trying to be set on a copy of a slice from a DataFrame.\n",
      "Try using .loc[row_indexer,col_indexer] = value instead\n",
      "\n",
      "See the caveats in the documentation: https://pandas.pydata.org/pandas-docs/stable/user_guide/indexing.html#returning-a-view-versus-a-copy\n",
      "  df['upload_date'] = pd.to_datetime(df['upload_date'], errors='coerce')\n"
     ]
    },
    {
     "name": "stdout",
     "output_type": "stream",
     "text": [
      "No cross-correlation data to plot.\n"
     ]
    },
    {
     "name": "stderr",
     "output_type": "stream",
     "text": [
      "/Users/yanndevance/ada-2024-project-sickada/time_series.py:24: SettingWithCopyWarning: \n",
      "A value is trying to be set on a copy of a slice from a DataFrame.\n",
      "Try using .loc[row_indexer,col_indexer] = value instead\n",
      "\n",
      "See the caveats in the documentation: https://pandas.pydata.org/pandas-docs/stable/user_guide/indexing.html#returning-a-view-versus-a-copy\n",
      "  df['upload_date'] = pd.to_datetime(df['upload_date'], errors='coerce')\n",
      "/Users/yanndevance/ada-2024-project-sickada/time_series.py:24: SettingWithCopyWarning: \n",
      "A value is trying to be set on a copy of a slice from a DataFrame.\n",
      "Try using .loc[row_indexer,col_indexer] = value instead\n",
      "\n",
      "See the caveats in the documentation: https://pandas.pydata.org/pandas-docs/stable/user_guide/indexing.html#returning-a-view-versus-a-copy\n",
      "  df['upload_date'] = pd.to_datetime(df['upload_date'], errors='coerce')\n",
      "/Users/yanndevance/ada-2024-project-sickada/time_series.py:24: SettingWithCopyWarning: \n",
      "A value is trying to be set on a copy of a slice from a DataFrame.\n",
      "Try using .loc[row_indexer,col_indexer] = value instead\n",
      "\n",
      "See the caveats in the documentation: https://pandas.pydata.org/pandas-docs/stable/user_guide/indexing.html#returning-a-view-versus-a-copy\n",
      "  df['upload_date'] = pd.to_datetime(df['upload_date'], errors='coerce')\n"
     ]
    },
    {
     "name": "stdout",
     "output_type": "stream",
     "text": [
      "No cross-correlation data to plot.\n"
     ]
    },
    {
     "name": "stderr",
     "output_type": "stream",
     "text": [
      "/Users/yanndevance/ada-2024-project-sickada/time_series.py:24: SettingWithCopyWarning: \n",
      "A value is trying to be set on a copy of a slice from a DataFrame.\n",
      "Try using .loc[row_indexer,col_indexer] = value instead\n",
      "\n",
      "See the caveats in the documentation: https://pandas.pydata.org/pandas-docs/stable/user_guide/indexing.html#returning-a-view-versus-a-copy\n",
      "  df['upload_date'] = pd.to_datetime(df['upload_date'], errors='coerce')\n"
     ]
    },
    {
     "name": "stdout",
     "output_type": "stream",
     "text": [
      "No cross-correlation data to plot.\n"
     ]
    }
   ],
   "source": [
    "df_vd_sampled = pd.read_csv('data/updated_education_videos.csv')\n",
    "sample_size = 0\n",
    "\n",
    "with open(\"events.json\", \"r\") as file:\n",
    "    events = json.load(file)\n",
    "\n",
    "frequencies = [\"ME\", \"W\"]\n",
    "\n",
    "for freq in frequencies:\n",
    "    for topic, data in events.items():\n",
    "        url = data['url']\n",
    "        events_dict = data['events']\n",
    "        text = topic_filtering.extract_text_from_wikipedia(url)\n",
    "        keywords = topic_filtering.find_keywords(text)\n",
    "\n",
    "        weights = {'title': 2, 'description': 0.5, 'tags': 1}\n",
    "        mask = df_vd_sampled.apply(lambda row: topic_filtering.meets_keyword_requirements(row, keywords, weights), axis=1)\n",
    "        df_vd_filtered = df_vd_sampled[mask]\n",
    "\n",
    "        df_ts_s = time_series.create_time_slots(df_vd_filtered, freq)\n",
    "        visualisation.plot_time_series(df_ts_s,topic,sample_size, freq)\n",
    "        visualisation.plot_time_series(df_ts_s,topic,sample_size, freq, events_dict)\n",
    "        visualisation.plot_cross_correlation(df_ts_s, topic, sample_size)"
   ]
  }
 ],
 "metadata": {
  "kernelspec": {
   "display_name": "new_env",
   "language": "python",
   "name": "python3"
  },
  "language_info": {
   "codemirror_mode": {
    "name": "ipython",
    "version": 3
   },
   "file_extension": ".py",
   "mimetype": "text/x-python",
   "name": "python",
   "nbconvert_exporter": "python",
   "pygments_lexer": "ipython3",
   "version": "3.12.2"
  }
 },
 "nbformat": 4,
 "nbformat_minor": 2
}
