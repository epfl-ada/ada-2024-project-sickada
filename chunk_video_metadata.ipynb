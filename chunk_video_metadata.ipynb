{
 "cells": [
  {
   "cell_type": "markdown",
   "metadata": {},
   "source": [
    "# Run notebook to save dataframes containing rows with video metadata for a specific category"
   ]
  },
  {
   "cell_type": "code",
   "execution_count": 2,
   "metadata": {},
   "outputs": [],
   "source": [
    "import random\n",
    "import os\n",
    "import json\n",
    "import gzip\n",
    "import pandas as pd\n",
    "import numpy as np\n",
    "from config import DRIVE_PATH_VIVA"
   ]
  },
  {
   "cell_type": "code",
   "execution_count": null,
   "metadata": {},
   "outputs": [],
   "source": [
    "def filter_jsonl(input_path, category, batch_size, save_path, verbose = False):\n",
    "    \"\"\"Unzips input jsonl data then extracts rows with given category and saves them in batches\n",
    "\n",
    "    Args:\n",
    "        input (str): path to yt_metadata_en.jsonl.gz (incl)\n",
    "        category (str): from the options in channel metadata\n",
    "        batch_size (int): number of videos per batch\n",
    "        save_path (str): path to folder where you want the batch dataframes to be saved\n",
    "        verbose (bool, optional): print info. Defaults to False.\n",
    "    \"\"\"\n",
    "    \n",
    "    batch_index = -1 # so we can start with index 0\n",
    "    line_counter = 0\n",
    "    category_counter = 0\n",
    "    renew_list = True # bc issue: 0 % anythig = 0\n",
    "    with gzip.open(input_path, 'rt', encoding='utf-8') as f:\n",
    "        for line in f:\n",
    "            entry = json.loads(line)\n",
    "            line_counter +=1\n",
    "            \n",
    "            # create new batch list\n",
    "            if category_counter % batch_size == 0 and renew_list:\n",
    "                renew_list = False\n",
    "                filtered_data = []\n",
    "                batch_index +=1\n",
    "                if verbose:\n",
    "                    print(f'======== Batch {batch_index} - started at {line_counter} ========')\n",
    "            \n",
    "            if entry.get('categories') == category:\n",
    "                category_counter +=1\n",
    "                filtered_data.append(entry)\n",
    "                \n",
    "                if verbose:\n",
    "                    if category_counter != 0 and category_counter % 100000 == 0:\n",
    "                        print(f'Filtered {category_counter} {category} videos out of {line_counter} so far') \n",
    "                \n",
    "                if len(filtered_data) == batch_size: #save\n",
    "                    df_filtered = pd.DataFrame(filtered_data)\n",
    "                    df_filtered.to_csv(os.path.join(save_path, f'{category}_videos_{batch_index}.csv'))\n",
    "                    renew_list = True\n",
    "                    if verbose: \n",
    "                        print(f\"We filtered a total of {category_counter} videos in the {category} category!\")\n",
    "        \n",
    "        df_filtered = pd.DataFrame(filtered_data)\n",
    "        df_filtered.to_csv(os.path.join(save_path, f'{category}_videos_{batch_index}.csv'))\n",
    "        \n",
    "        print(f\"We filtered a total of {category_counter} videos in the {category} category!\")"
   ]
  },
  {
   "cell_type": "code",
   "execution_count": null,
   "metadata": {},
   "outputs": [],
   "source": [
    "category = 'Education'\n",
    "video_file_path = os.path.join(DRIVE_PATH_VIVA, f'extracted_{category}', 'yt_metadata_en.jsonl.gz') # change so it is your path (cannot do absolute)\n",
    "save_path = DRIVE_PATH_VIVA # change so you save it wherever you like\n",
    "total_len = 3795564 #3'795'564 (we knew from Gongon's notebook)\n",
    "approx_length = round(total_len/1000000,1)*1000000 \n",
    "n_batches = 8\n",
    "\n",
    "batch_size = int(np.floor_divide(approx_length,n_batches)) # for 8 batches should end up with 475'000\n",
    "\n",
    "\n",
    "filter_jsonl(video_file_path, category, batch_size, save_path, True)"
   ]
  },
  {
   "cell_type": "code",
   "execution_count": null,
   "metadata": {},
   "outputs": [],
   "source": [
    "# edited Gonçalo's\n",
    "# def filter_jsonl(input, category, batch_size, start = 0, all = False, randomness = True, random_seed = 0, verbose = False):\n",
    "#     filtered_data = []\n",
    "#     random.seed(random_seed)\n",
    "#     line_counter = 0\n",
    "#     counter = 0\n",
    "    \n",
    "#     with gzip.open(input, 'rt', encoding='utf-8') as f:\n",
    "#         for line in f:\n",
    "#             entry = json.loads(line)\n",
    "#             line_counter +=1\n",
    "\n",
    "#             if line_counter >= start:\n",
    "#                 #print(f'{line_counter} >= {start}')\n",
    "                \n",
    "#                 if entry.get('categories') == category:\n",
    "#                     counter +=1\n",
    "#                     if verbose:\n",
    "#                         if counter != 0 and counter % 10000 == 0:\n",
    "#                             print(f'Filtered {counter} {category} videos out of {line_counter} so far') \n",
    "#                     if len(filtered_data) < batch_size or all:\n",
    "#                         filtered_data.append(entry)\n",
    "                        \n",
    "#                     elif randomness:\n",
    "#                         index_to_replace = random.randint(0, len(filtered_data) - 1)\n",
    "#                         if index_to_replace < batch_size:\n",
    "#                             filtered_data[index_to_replace] = entry\n",
    "#                     else:\n",
    "                        \n",
    "#                         break\n",
    "      \n",
    "#     if randomness:           \n",
    "#         print(f\"There are {counter} videos in the {category} category!\")\n",
    "#     else:\n",
    "#         print(f\"We filtered {len(filtered_data)} videos in the {category} category!\")\n",
    "\n",
    "#     return pd.DataFrame(filtered_data)"
   ]
  }
 ],
 "metadata": {
  "kernelspec": {
   "display_name": "ada",
   "language": "python",
   "name": "python3"
  },
  "language_info": {
   "codemirror_mode": {
    "name": "ipython",
    "version": 3
   },
   "file_extension": ".py",
   "mimetype": "text/x-python",
   "name": "python",
   "nbconvert_exporter": "python",
   "pygments_lexer": "ipython3",
   "version": "3.12.7"
  }
 },
 "nbformat": 4,
 "nbformat_minor": 2
}
