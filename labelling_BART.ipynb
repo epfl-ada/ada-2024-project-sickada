{
 "cells": [
  {
   "cell_type": "code",
   "execution_count": null,
   "metadata": {},
   "outputs": [
    {
     "name": "stdout",
     "output_type": "stream",
     "text": [
      "MPS backend is not available on this device.\n",
      "Start classification...\n",
      "Converting to dataset...\n",
      "Processing...\n"
     ]
    },
    {
     "data": {
      "application/vnd.jupyter.widget-view+json": {
       "model_id": "a860e876aa1641e6af549f018fb6edeb",
       "version_major": 2,
       "version_minor": 0
      },
      "text/plain": [
       "Map:   0%|          | 0/10000 [00:00<?, ? examples/s]"
      ]
     },
     "metadata": {},
     "output_type": "display_data"
    },
    {
     "name": "stderr",
     "output_type": "stream",
     "text": [
      "You seem to be using the pipelines sequentially on GPU. In order to maximize efficiency please use a dataset\n"
     ]
    },
    {
     "name": "stdout",
     "output_type": "stream",
     "text": [
      "Converting back to DataFrame...\n",
      "CSV saved\n"
     ]
    },
    {
     "ename": "",
     "evalue": "",
     "output_type": "error",
     "traceback": [
      "\u001b[1;31mThe Kernel crashed while executing code in the current cell or a previous cell. \n",
      "\u001b[1;31mPlease review the code in the cell(s) to identify a possible cause of the failure. \n",
      "\u001b[1;31mClick <a href='https://aka.ms/vscodeJupyterKernelCrash'>here</a> for more info. \n",
      "\u001b[1;31mView Jupyter <a href='command:jupyter.viewOutput'>log</a> for further details."
     ]
    }
   ],
   "source": [
    "import pandas as pd\n",
    "import torch\n",
    "from transformers import pipeline\n",
    "from classify import classify\n",
    "\n",
    "# Candidate labels\n",
    "purpose_labels = [\n",
    "    \"lecture or academic course\",\n",
    "    \"hacks\", \n",
    "    \"conference\",\n",
    "    \"tutorial or DIY\",\n",
    "    \"interview or Q&A or review\",\n",
    "    \"kids content\",\n",
    "    \"entertaining explanation or science popularization\",\n",
    "    \"documentary\"\n",
    "]\n",
    "\n",
    "# Check for MPS support\n",
    "if not torch.backends.mps.is_available():\n",
    "    print(\"MPS backend is not available on this device.\")\n",
    "    exit()\n",
    "\n",
    "# Set the device to MPS\n",
    "device = torch.device('cuda')\n",
    "\n",
    "# Load data\n",
    "data = pd.read_csv('data/raw/Education_videos_7_cleaned.csv').head(10000)\n",
    "\n",
    "# Initialize the BART-based classifier\n",
    "classifier = pipeline(\"zero-shot-classification\", model=\"facebook/bart-large-mnli\", device=device)\n",
    "\n",
    "# Pre-process text\n",
    "data['text'] = data['title'] + data['tags']\n",
    "\n",
    "# Perform classification\n",
    "print('Start classification...')\n",
    "final_data = classify(data, candidate_labels=purpose_labels, on='text', classifier=classifier, batch_size=32, multi_label=True)\n",
    "\n",
    "# Save results\n",
    "final_data.to_csv('data/raw/Education_videos_7_classified_BART_batch_0_10000.csv', index=False)\n",
    "print('CSV saved')\n"
   ]
  },
  {
   "cell_type": "code",
   "execution_count": null,
   "metadata": {},
   "outputs": [],
   "source": []
  }
 ],
 "metadata": {
  "kernelspec": {
   "display_name": "ada2",
   "language": "python",
   "name": "python3"
  },
  "language_info": {
   "codemirror_mode": {
    "name": "ipython",
    "version": 3
   },
   "file_extension": ".py",
   "mimetype": "text/x-python",
   "name": "python",
   "nbconvert_exporter": "python",
   "pygments_lexer": "ipython3",
   "version": "3.12.7"
  }
 },
 "nbformat": 4,
 "nbformat_minor": 2
}
