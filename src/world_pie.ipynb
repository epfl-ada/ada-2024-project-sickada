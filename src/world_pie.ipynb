{
 "cells": [
  {
   "cell_type": "code",
   "execution_count": null,
   "metadata": {},
   "outputs": [],
   "source": [
    "import matplotlib.pyplot as plt\n",
    "import seaborn as sns\n",
    "import pandas as pd\n",
    "import numpy as np\n",
    "import os\n",
    "import sys\n",
    "import os.path as op\n",
    "\n",
    "from mpl_toolkits.basemap import Basemap\n",
    "\n",
    "sys.path.insert(0, '..') # project folder\n",
    "path_data = op.join('..', 'data', 'raw')\n",
    "path_metadata = op.join(path_data, \"yt_metadata_en.jsonl.gz\")\n",
    "path_channels = op.join(path_data, \"df_channels_en.tsv.gz\")\n",
    "path_deriv = op.join(path_data, '..', 'derivatives')\n",
    "path_edu = op.join(path_deriv, \"Education_videos_{}.csv\")\n",
    "path_edu_clean = op.join(path_deriv, \"Education_videos_{}clean.csv\")"
   ]
  },
  {
   "cell_type": "code",
   "execution_count": null,
   "metadata": {},
   "outputs": [],
   "source": [
    "fig, ax = plt.subplots(figsize=(12, 8)) \n",
    "map = Basemap(projection='cyl', ax=ax)\n",
    "map.drawmapboundary(fill_color='lightblue', zorder =0)\n",
    "map.fillcontinents(color='beige',lake_color=None, zorder=2)\n",
    "map.drawcountries() #zorder=-10\n",
    "map.drawcoastlines() #zorder=-11\n",
    "\n",
    "# a = plt.pie(\n",
    "#     attributes,\n",
    "#     center=(map(-2.78, 53.98)), \n",
    "#     colors = [\"tab:purple\", \"tab:blue\", \"tab:red\"],\n",
    "#     # wedgeprops={'alpha':1},\n",
    "#     radius= 1)\n",
    "map.bluemarble(zorder =1)\n",
    "\n",
    "plt.show()\n",
    "https://basemaptutorial.readthedocs.io/en/latest/basemap3d.html"
   ]
  }
 ],
 "metadata": {
  "kernelspec": {
   "display_name": "ada",
   "language": "python",
   "name": "python3"
  },
  "language_info": {
   "name": "python",
   "version": "3.11.9"
  }
 },
 "nbformat": 4,
 "nbformat_minor": 2
}
