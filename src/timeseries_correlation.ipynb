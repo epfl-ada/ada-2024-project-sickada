{
 "cells": [
  {
   "cell_type": "markdown",
   "metadata": {},
   "source": [
    "Load the required packages"
   ]
  },
  {
   "cell_type": "code",
   "execution_count": null,
   "metadata": {},
   "outputs": [],
   "source": [
    "import sample_jsonl\n",
    "import json\n",
    "import topic_filtering\n",
    "import time_series\n",
    "import visualisation\n",
    "import pandas as pd\n",
    "import os\n",
    "import os.path as op"
   ]
  },
  {
   "cell_type": "markdown",
   "metadata": {},
   "source": [
    "Load a sample of the dataset from GitHub"
   ]
  },
  {
   "cell_type": "code",
   "execution_count": null,
   "metadata": {},
   "outputs": [],
   "source": [
    "file_path = 'data/yt_metadata_en.jsonl.gz'\n",
    "sample_size = 1000000\n",
    "random_seed = 42\n",
    "\n",
    "df_vd_sampled = sample_jsonl.random_sample_jsonl_rows(file_path, sample_size, random_seed)"
   ]
  },
  {
   "cell_type": "markdown",
   "metadata": {},
   "source": [
    "### Load the dataset from Viva's work (only Education videos)\n",
    "\n",
    "Here: each video has the category of its channel since all videos were classified as Education"
   ]
  },
  {
   "cell_type": "code",
   "execution_count": 2,
   "metadata": {},
   "outputs": [
    {
     "name": "stderr",
     "output_type": "stream",
     "text": [
      "/var/folders/1y/f431dfd55sgcrd9ymcz950th0000gn/T/ipykernel_8604/1497819074.py:1: DtypeWarning: Columns (0,5,9) have mixed types. Specify dtype option on import or set low_memory=False.\n",
      "  df_vd_sampled = pd.read_csv('data/updated_education_videos.csv')\n"
     ]
    }
   ],
   "source": [
    "df_vd_sampled = pd.read_csv('data/updated_education_videos.csv')\n",
    "sample_size = 0"
   ]
  },
  {
   "cell_type": "markdown",
   "metadata": {},
   "source": [
    "Load the events"
   ]
  },
  {
   "cell_type": "code",
   "execution_count": null,
   "metadata": {},
   "outputs": [],
   "source": [
    "df_vd_sampled = pd.read_csv('data/updated_education_videos.csv')\n",
    "sample_size = 0\n",
    "\n",
    "with open(op.join('data','raw',\"events.json\"), \"r\") as file:\n",
    "    events = json.load(file)\n",
    "\n",
    "frequencies = [\"ME\", \"W\"]\n",
    "\n",
    "for freq in frequencies:\n",
    "    for topic, data in events.items():\n",
    "        url = data['url']\n",
    "        events_dict = data['events']\n",
    "        text = topic_filtering.extract_text_from_wikipedia(url)\n",
    "        keywords = topic_filtering.find_keywords(text)\n",
    "\n",
    "        weights = {'title': 2, 'description': 0.5, 'tags': 1}\n",
    "        mask = df_vd_sampled.apply(lambda row: topic_filtering.meets_keyword_requirements(row, keywords, weights), axis=1)\n",
    "        df_vd_filtered = df_vd_sampled[mask]\n",
    "\n",
    "        df_ts_s = time_series.create_time_slots(df_vd_filtered, freq)\n",
    "        visualisation.plot_time_series(df_ts_s,topic,sample_size, freq)\n",
    "        visualisation.plot_time_series(df_ts_s,topic,sample_size, freq, events_dict)\n",
    "        visualisation.plot_cross_correlation(df_ts_s, topic, sample_size)"
   ]
  }
 ],
 "metadata": {
  "kernelspec": {
   "display_name": "new_env",
   "language": "python",
   "name": "python3"
  },
  "language_info": {
   "codemirror_mode": {
    "name": "ipython",
    "version": 3
   },
   "file_extension": ".py",
   "mimetype": "text/x-python",
   "name": "python",
   "nbconvert_exporter": "python",
   "pygments_lexer": "ipython3",
   "version": "3.12.2"
  }
 },
 "nbformat": 4,
 "nbformat_minor": 2
}
