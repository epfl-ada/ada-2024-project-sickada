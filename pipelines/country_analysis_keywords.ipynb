{
 "cells": [
  {
   "cell_type": "code",
   "execution_count": 1,
   "metadata": {},
   "outputs": [],
   "source": [
    "%load_ext autoreload\n",
    "%autoreload 2\n",
    "\n",
    "import matplotlib.pyplot as plt\n",
    "import seaborn as sns\n",
    "import pandas as pd\n",
    "import numpy as np\n",
    "import os\n",
    "import sys\n",
    "import os.path as op\n",
    "from countryinfo import CountryInfo\n",
    "from tqdm.notebook import tqdm\n",
    "import re\n",
    "import time\n",
    "import gc\n",
    "\n",
    "\n",
    "import plotly.express as px\n",
    "import plotly.graph_objects as go\n",
    "from dash import Dash, html, dcc, callback, Output, Input\n",
    "\n",
    "sys.path.insert(0, '..') # project folder\n",
    "\n",
    "from config import *\n",
    "from country_analysis import get_iso3, get_country_fullname\n",
    "path_country_fig = op.join('..','data', 'figures','countries')"
   ]
  },
  {
   "cell_type": "code",
   "execution_count": 2,
   "metadata": {},
   "outputs": [],
   "source": [
    "edu = pd.DataFrame()\n",
    "for i in range(N_BATCHES):\n",
    "    batch = pd.read_csv(path_edu.format(i), index_col=0).drop(columns = ['description', 'crawl_date', 'title', 'tags'])\n",
    "    edu = pd.concat([edu, batch])\n",
    "    del batch\n",
    "\n",
    "edu = edu.rename(columns={'channel_id': 'channel', 'categories': 'vid_category'})"
   ]
  },
  {
   "cell_type": "code",
   "execution_count": 3,
   "metadata": {},
   "outputs": [
    {
     "data": {
      "text/html": [
       "<div>\n",
       "<style scoped>\n",
       "    .dataframe tbody tr th:only-of-type {\n",
       "        vertical-align: middle;\n",
       "    }\n",
       "\n",
       "    .dataframe tbody tr th {\n",
       "        vertical-align: top;\n",
       "    }\n",
       "\n",
       "    .dataframe thead th {\n",
       "        text-align: right;\n",
       "    }\n",
       "</style>\n",
       "<table border=\"1\" class=\"dataframe\">\n",
       "  <thead>\n",
       "    <tr style=\"text-align: right;\">\n",
       "      <th></th>\n",
       "      <th>vid_category</th>\n",
       "      <th>channel</th>\n",
       "      <th>dislike_count</th>\n",
       "      <th>display_id</th>\n",
       "      <th>duration</th>\n",
       "      <th>like_count</th>\n",
       "      <th>upload_date</th>\n",
       "      <th>view_count</th>\n",
       "      <th>join_date</th>\n",
       "      <th>name_cc</th>\n",
       "      <th>subscribers_cc</th>\n",
       "      <th>videos_cc</th>\n",
       "      <th>subscriber_rank_sb</th>\n",
       "      <th>category</th>\n",
       "      <th>country</th>\n",
       "    </tr>\n",
       "  </thead>\n",
       "  <tbody>\n",
       "    <tr>\n",
       "      <th>0</th>\n",
       "      <td>Education</td>\n",
       "      <td>UCzWrhkg9eK5I8Bm3HfV-unA</td>\n",
       "      <td>3.0</td>\n",
       "      <td>jCaqrZ8gSkY</td>\n",
       "      <td>116</td>\n",
       "      <td>11.0</td>\n",
       "      <td>2016-05-03 00:00:00</td>\n",
       "      <td>2720.0</td>\n",
       "      <td>2013-08-26</td>\n",
       "      <td>Supertronic</td>\n",
       "      <td>314000</td>\n",
       "      <td>2398</td>\n",
       "      <td>54617.0</td>\n",
       "      <td>5</td>\n",
       "      <td>US</td>\n",
       "    </tr>\n",
       "    <tr>\n",
       "      <th>1</th>\n",
       "      <td>Education</td>\n",
       "      <td>UCzWrhkg9eK5I8Bm3HfV-unA</td>\n",
       "      <td>1094.0</td>\n",
       "      <td>VZ6_wQxKVSI</td>\n",
       "      <td>940</td>\n",
       "      <td>2884.0</td>\n",
       "      <td>2015-06-30 00:00:00</td>\n",
       "      <td>4530589.0</td>\n",
       "      <td>2013-08-26</td>\n",
       "      <td>Supertronic</td>\n",
       "      <td>314000</td>\n",
       "      <td>2398</td>\n",
       "      <td>54617.0</td>\n",
       "      <td>unclass</td>\n",
       "      <td>US</td>\n",
       "    </tr>\n",
       "    <tr>\n",
       "      <th>2</th>\n",
       "      <td>Education</td>\n",
       "      <td>UCzWrhkg9eK5I8Bm3HfV-unA</td>\n",
       "      <td>4.0</td>\n",
       "      <td>0CsvKzQNd7g</td>\n",
       "      <td>412</td>\n",
       "      <td>12.0</td>\n",
       "      <td>2015-06-20 00:00:00</td>\n",
       "      <td>18053.0</td>\n",
       "      <td>2013-08-26</td>\n",
       "      <td>Supertronic</td>\n",
       "      <td>314000</td>\n",
       "      <td>2398</td>\n",
       "      <td>54617.0</td>\n",
       "      <td>5</td>\n",
       "      <td>US</td>\n",
       "    </tr>\n",
       "    <tr>\n",
       "      <th>3</th>\n",
       "      <td>Education</td>\n",
       "      <td>UCzWn_gTaXyH5Idyo8Raf7_A</td>\n",
       "      <td>2.0</td>\n",
       "      <td>WNR69JYddKA</td>\n",
       "      <td>156</td>\n",
       "      <td>68.0</td>\n",
       "      <td>2015-07-24 00:00:00</td>\n",
       "      <td>7758.0</td>\n",
       "      <td>2013-11-28</td>\n",
       "      <td>Catfish and Carp</td>\n",
       "      <td>621000</td>\n",
       "      <td>489</td>\n",
       "      <td>27674.0</td>\n",
       "      <td>unclass</td>\n",
       "      <td>US</td>\n",
       "    </tr>\n",
       "    <tr>\n",
       "      <th>4</th>\n",
       "      <td>Education</td>\n",
       "      <td>UCzWn_gTaXyH5Idyo8Raf7_A</td>\n",
       "      <td>8.0</td>\n",
       "      <td>0alQMm9IOaI</td>\n",
       "      <td>1109</td>\n",
       "      <td>124.0</td>\n",
       "      <td>2015-07-17 00:00:00</td>\n",
       "      <td>7499.0</td>\n",
       "      <td>2013-11-28</td>\n",
       "      <td>Catfish and Carp</td>\n",
       "      <td>621000</td>\n",
       "      <td>489</td>\n",
       "      <td>27674.0</td>\n",
       "      <td>unclass</td>\n",
       "      <td>US</td>\n",
       "    </tr>\n",
       "  </tbody>\n",
       "</table>\n",
       "</div>"
      ],
      "text/plain": [
       "  vid_category                   channel  dislike_count   display_id  \\\n",
       "0    Education  UCzWrhkg9eK5I8Bm3HfV-unA            3.0  jCaqrZ8gSkY   \n",
       "1    Education  UCzWrhkg9eK5I8Bm3HfV-unA         1094.0  VZ6_wQxKVSI   \n",
       "2    Education  UCzWrhkg9eK5I8Bm3HfV-unA            4.0  0CsvKzQNd7g   \n",
       "3    Education  UCzWn_gTaXyH5Idyo8Raf7_A            2.0  WNR69JYddKA   \n",
       "4    Education  UCzWn_gTaXyH5Idyo8Raf7_A            8.0  0alQMm9IOaI   \n",
       "\n",
       "   duration  like_count          upload_date  view_count   join_date  \\\n",
       "0       116        11.0  2016-05-03 00:00:00      2720.0  2013-08-26   \n",
       "1       940      2884.0  2015-06-30 00:00:00   4530589.0  2013-08-26   \n",
       "2       412        12.0  2015-06-20 00:00:00     18053.0  2013-08-26   \n",
       "3       156        68.0  2015-07-24 00:00:00      7758.0  2013-11-28   \n",
       "4      1109       124.0  2015-07-17 00:00:00      7499.0  2013-11-28   \n",
       "\n",
       "            name_cc  subscribers_cc  videos_cc  subscriber_rank_sb category  \\\n",
       "0       Supertronic          314000       2398             54617.0        5   \n",
       "1       Supertronic          314000       2398             54617.0  unclass   \n",
       "2       Supertronic          314000       2398             54617.0        5   \n",
       "3  Catfish and Carp          621000        489             27674.0  unclass   \n",
       "4  Catfish and Carp          621000        489             27674.0  unclass   \n",
       "\n",
       "  country  \n",
       "0      US  \n",
       "1      US  \n",
       "2      US  \n",
       "3      US  \n",
       "4      US  "
      ]
     },
     "execution_count": 3,
     "metadata": {},
     "output_type": "execute_result"
    }
   ],
   "source": [
    "countries = pd.read_csv(op.join(path_deriv, 'countries.csv'), index_col=0, dtype={'country': str, 'channel_id': str}).rename(columns={'channel_id': 'channel'})\n",
    "classif = pd.read_csv(path_classified)[['display_id', 'category']]\n",
    "\n",
    "channels = pd.read_csv(path_channels, compression=\"infer\", sep=\"\\t\")#.drop ... # TODO\n",
    "channels = channels[['channel', 'join_date', 'name_cc', 'subscribers_cc', 'videos_cc', 'subscriber_rank_sb']]\n",
    "edu = edu.merge(channels, on='channel', how='left')\n",
    "edu = edu.merge(classif, on='display_id', how='left')\n",
    "edu = edu.merge(countries, on='channel', how='left')\n",
    "edu.head()"
   ]
  },
  {
   "cell_type": "markdown",
   "metadata": {},
   "source": [
    "# Data cleaning"
   ]
  },
  {
   "cell_type": "code",
   "execution_count": 4,
   "metadata": {},
   "outputs": [],
   "source": [
    "edu = edu[~edu.country.isin(['no_rec', 'deleted', 'no_country'])]"
   ]
  },
  {
   "cell_type": "markdown",
   "metadata": {},
   "source": [
    "# plot Channels per country"
   ]
  },
  {
   "cell_type": "code",
   "execution_count": 5,
   "metadata": {},
   "outputs": [
    {
     "data": {
      "text/html": [
       "<div>\n",
       "<style scoped>\n",
       "    .dataframe tbody tr th:only-of-type {\n",
       "        vertical-align: middle;\n",
       "    }\n",
       "\n",
       "    .dataframe tbody tr th {\n",
       "        vertical-align: top;\n",
       "    }\n",
       "\n",
       "    .dataframe thead th {\n",
       "        text-align: right;\n",
       "    }\n",
       "</style>\n",
       "<table border=\"1\" class=\"dataframe\">\n",
       "  <thead>\n",
       "    <tr style=\"text-align: right;\">\n",
       "      <th></th>\n",
       "      <th>country</th>\n",
       "      <th># channels</th>\n",
       "      <th>country_iso3</th>\n",
       "      <th>country_name</th>\n",
       "    </tr>\n",
       "  </thead>\n",
       "  <tbody>\n",
       "    <tr>\n",
       "      <th>116</th>\n",
       "      <td>US</td>\n",
       "      <td>12312</td>\n",
       "      <td>USA</td>\n",
       "      <td>United States</td>\n",
       "    </tr>\n",
       "    <tr>\n",
       "      <th>54</th>\n",
       "      <td>IN</td>\n",
       "      <td>2464</td>\n",
       "      <td>IND</td>\n",
       "      <td>India</td>\n",
       "    </tr>\n",
       "    <tr>\n",
       "      <th>42</th>\n",
       "      <td>GB</td>\n",
       "      <td>1963</td>\n",
       "      <td>GBR</td>\n",
       "      <td>United Kingdom</td>\n",
       "    </tr>\n",
       "    <tr>\n",
       "      <th>23</th>\n",
       "      <td>CA</td>\n",
       "      <td>1165</td>\n",
       "      <td>CAN</td>\n",
       "      <td>Canada</td>\n",
       "    </tr>\n",
       "    <tr>\n",
       "      <th>9</th>\n",
       "      <td>AU</td>\n",
       "      <td>571</td>\n",
       "      <td>AUS</td>\n",
       "      <td>Australia</td>\n",
       "    </tr>\n",
       "    <tr>\n",
       "      <th>...</th>\n",
       "      <td>...</td>\n",
       "      <td>...</td>\n",
       "      <td>...</td>\n",
       "      <td>...</td>\n",
       "    </tr>\n",
       "    <tr>\n",
       "      <th>106</th>\n",
       "      <td>SY</td>\n",
       "      <td>1</td>\n",
       "      <td>SYR</td>\n",
       "      <td>Syrian Arab Republic</td>\n",
       "    </tr>\n",
       "    <tr>\n",
       "      <th>40</th>\n",
       "      <td>FK</td>\n",
       "      <td>1</td>\n",
       "      <td>FLK</td>\n",
       "      <td>Falkland Islands (Malvinas)</td>\n",
       "    </tr>\n",
       "    <tr>\n",
       "      <th>104</th>\n",
       "      <td>SN</td>\n",
       "      <td>1</td>\n",
       "      <td>SEN</td>\n",
       "      <td>Senegal</td>\n",
       "    </tr>\n",
       "    <tr>\n",
       "      <th>22</th>\n",
       "      <td>BZ</td>\n",
       "      <td>1</td>\n",
       "      <td>BLZ</td>\n",
       "      <td>Belize</td>\n",
       "    </tr>\n",
       "    <tr>\n",
       "      <th>105</th>\n",
       "      <td>SR</td>\n",
       "      <td>1</td>\n",
       "      <td>SUR</td>\n",
       "      <td>Suriname</td>\n",
       "    </tr>\n",
       "  </tbody>\n",
       "</table>\n",
       "<p>123 rows × 4 columns</p>\n",
       "</div>"
      ],
      "text/plain": [
       "    country  # channels country_iso3                 country_name\n",
       "116      US       12312          USA                United States\n",
       "54       IN        2464          IND                        India\n",
       "42       GB        1963          GBR               United Kingdom\n",
       "23       CA        1165          CAN                       Canada\n",
       "9        AU         571          AUS                    Australia\n",
       "..      ...         ...          ...                          ...\n",
       "106      SY           1          SYR         Syrian Arab Republic\n",
       "40       FK           1          FLK  Falkland Islands (Malvinas)\n",
       "104      SN           1          SEN                      Senegal\n",
       "22       BZ           1          BLZ                       Belize\n",
       "105      SR           1          SUR                     Suriname\n",
       "\n",
       "[123 rows x 4 columns]"
      ]
     },
     "execution_count": 5,
     "metadata": {},
     "output_type": "execute_result"
    }
   ],
   "source": [
    "ch_per_country = edu.groupby(['country', 'channel']).count().reset_index().groupby('country').count().reset_index()[['country', 'channel']].rename(columns={'channel': '# channels'}).sort_values(by='# channels', ascending=False)\n",
    "ch_per_country['country_iso3'] = ch_per_country.country.apply(get_iso3)\n",
    "ch_per_country['country_name'] = ch_per_country.country.apply(get_country_fullname)\n",
    "ch_per_country.to_csv(op.join(path_deriv, 'channels_per_country.csv'))\n",
    "ch_per_country"
   ]
  },
  {
   "cell_type": "code",
   "execution_count": 6,
   "metadata": {},
   "outputs": [
    {
     "data": {
      "application/vnd.plotly.v1+json": {
       "config": {
        "plotlyServerURL": "https://plot.ly"
       },
       "data": [
        {
         "autocolorscale": false,
         "colorbar": {
          "tickfont": {
           "size": 8.5
          },
          "tickprefix": "",
          "ticktext": [
           "1",
           "5",
           "11",
           "27",
           "35",
           "40",
           "53",
           "75",
           "96",
           "117",
           "237",
           "1135",
           "12312"
          ],
          "tickvals": [
           "0",
           "6",
           "10",
           "16",
           "18",
           "20",
           "22",
           "24",
           "26",
           "27",
           "28",
           "29",
           "30"
          ],
          "title": {
           "text": "# channels"
          },
          "x": 1
         },
         "colorscale": [
          [
           0,
           "rgb(158,1,66)"
          ],
          [
           0.1,
           "rgb(213,62,79)"
          ],
          [
           0.2,
           "rgb(244,109,67)"
          ],
          [
           0.3,
           "rgb(253,174,97)"
          ],
          [
           0.4,
           "rgb(254,224,139)"
          ],
          [
           0.5,
           "rgb(255,255,191)"
          ],
          [
           0.6,
           "rgb(230,245,152)"
          ],
          [
           0.7,
           "rgb(171,221,164)"
          ],
          [
           0.8,
           "rgb(102,194,165)"
          ],
          [
           0.9,
           "rgb(50,136,189)"
          ],
          [
           1,
           "rgb(94,79,162)"
          ]
         ],
         "customdata": [
          12312,
          2464,
          1963,
          1165,
          571,
          249,
          247,
          155,
          132,
          120,
          103,
          98,
          97,
          94,
          93,
          87,
          84,
          81,
          79,
          67,
          66,
          59,
          57,
          55,
          54,
          53,
          51,
          50,
          45,
          42,
          41,
          40,
          40,
          38,
          37,
          37,
          35,
          35,
          32,
          31,
          31,
          28,
          27,
          27,
          25,
          24,
          22,
          21,
          21,
          20,
          18,
          17,
          16,
          15,
          15,
          13,
          13,
          12,
          12,
          12,
          11,
          11,
          11,
          11,
          10,
          9,
          9,
          9,
          8,
          7,
          6,
          6,
          6,
          5,
          5,
          5,
          5,
          4,
          4,
          4,
          4,
          4,
          4,
          4,
          4,
          3,
          3,
          3,
          3,
          3,
          2,
          2,
          2,
          2,
          2,
          2,
          2,
          2,
          2,
          2,
          2,
          2,
          2,
          2,
          2,
          2,
          2,
          1,
          1,
          1,
          1,
          1,
          1,
          1,
          1,
          1,
          1,
          1,
          1,
          1,
          1,
          1,
          1
         ],
         "hovertemplate": "<b>%{text}</b><extra>%{customdata:,.0f} channels</extra>",
         "locations": [
          "USA",
          "IND",
          "GBR",
          "CAN",
          "AUS",
          "PAK",
          "DEU",
          "PHL",
          "NLD",
          "SWE",
          "FRA",
          "NZL",
          "BGD",
          "ESP",
          "IDN",
          "IRL",
          "JPN",
          "ITA",
          "SGP",
          "CHE",
          "ZAF",
          "ARE",
          "ROU",
          "NPL",
          "MYS",
          "POL",
          "DNK",
          "KOR",
          "RUS",
          "NOR",
          "BRA",
          "AUT",
          "BEL",
          "PRT",
          "FIN",
          "THA",
          "ISR",
          "UKR",
          "HKG",
          "NGA",
          "MEX",
          "GRC",
          "KEN",
          "VNM",
          "CZE",
          "HUN",
          "HRV",
          "SRB",
          "LKA",
          "SVN",
          "SAU",
          "TUR",
          "SVK",
          "KHM",
          "TWN",
          "ARG",
          "GHA",
          "COL",
          "EGY",
          "BGR",
          "LVA",
          "JAM",
          "CHN",
          "MAR",
          "CYP",
          "EST",
          "MLT",
          "DZA",
          "CHL",
          "LTU",
          "CRI",
          "IRQ",
          "QAT",
          "UGA",
          "KAZ",
          "KWT",
          "TZA",
          "ATA",
          "LBN",
          "BIH",
          "PER",
          "BHR",
          "BLR",
          "OMN",
          "LUX",
          "PRI",
          "ZWE",
          "ECU",
          "JOR",
          "MKD",
          "PAN",
          "AFG",
          "VIR",
          "URY",
          "ALB",
          "AZE",
          "BRB",
          "BMU",
          "TTO",
          "BHS",
          "AND",
          "IMN",
          "IRN",
          "MDA",
          "GEO",
          "ISL",
          "GTM",
          "MNE",
          "AIA",
          "VEN",
          "PSE",
          "UMI",
          "AGO",
          "CXR",
          "SJM",
          "RWA",
          "BOL",
          "TJK",
          "SYR",
          "FLK",
          "SEN",
          "BLZ",
          "SUR"
         ],
         "marker": {
          "line": {
           "color": "white",
           "width": 0.5
          }
         },
         "reversescale": true,
         "showscale": true,
         "text": [
          "United States",
          "India",
          "United Kingdom",
          "Canada",
          "Australia",
          "Pakistan",
          "Germany",
          "Philippines",
          "Netherlands",
          "Sweden",
          "France",
          "New Zealand",
          "Bangladesh",
          "Spain",
          "Indonesia",
          "Ireland",
          "Japan",
          "Italy",
          "Singapore",
          "Switzerland",
          "South Africa",
          "United Arab Emirates",
          "Romania",
          "Nepal",
          "Malaysia",
          "Poland",
          "Denmark",
          "Korea, Republic of",
          "Russian Federation",
          "Norway",
          "Brazil",
          "Austria",
          "Belgium",
          "Portugal",
          "Finland",
          "Thailand",
          "Israel",
          "Ukraine",
          "Hong Kong",
          "Nigeria",
          "Mexico",
          "Greece",
          "Kenya",
          "Viet Nam",
          "Czechia",
          "Hungary",
          "Croatia",
          "Serbia",
          "Sri Lanka",
          "Slovenia",
          "Saudi Arabia",
          "Türkiye",
          "Slovakia",
          "Cambodia",
          "Taiwan, Province of China",
          "Argentina",
          "Ghana",
          "Colombia",
          "Egypt",
          "Bulgaria",
          "Latvia",
          "Jamaica",
          "China",
          "Morocco",
          "Cyprus",
          "Estonia",
          "Malta",
          "Algeria",
          "Chile",
          "Lithuania",
          "Costa Rica",
          "Iraq",
          "Qatar",
          "Uganda",
          "Kazakhstan",
          "Kuwait",
          "Tanzania, United Republic of",
          "Antarctica",
          "Lebanon",
          "Bosnia and Herzegovina",
          "Peru",
          "Bahrain",
          "Belarus",
          "Oman",
          "Luxembourg",
          "Puerto Rico",
          "Zimbabwe",
          "Ecuador",
          "Jordan",
          "North Macedonia",
          "Panama",
          "Afghanistan",
          "Virgin Islands, U.S.",
          "Uruguay",
          "Albania",
          "Azerbaijan",
          "Barbados",
          "Bermuda",
          "Trinidad and Tobago",
          "Bahamas",
          "Andorra",
          "Isle of Man",
          "Iran, Islamic Republic of",
          "Moldova, Republic of",
          "Georgia",
          "Iceland",
          "Guatemala",
          "Montenegro",
          "Anguilla",
          "Venezuela, Bolivarian Republic of",
          "Palestine, State of",
          "United States Minor Outlying Islands",
          "Angola",
          "Christmas Island",
          "Svalbard and Jan Mayen",
          "Rwanda",
          "Bolivia, Plurinational State of",
          "Tajikistan",
          "Syrian Arab Republic",
          "Falkland Islands (Malvinas)",
          "Senegal",
          "Belize",
          "Suriname"
         ],
         "type": "choropleth",
         "z": [
          29,
          29,
          29,
          29,
          28,
          28,
          28,
          27,
          27,
          27,
          26,
          26,
          26,
          25,
          25,
          25,
          24,
          24,
          24,
          23,
          23,
          23,
          22,
          22,
          22,
          21,
          21,
          21,
          20,
          20,
          20,
          19,
          19,
          19,
          18,
          18,
          17,
          17,
          17,
          16,
          16,
          16,
          15,
          15,
          15,
          15,
          14,
          14,
          14,
          13,
          13,
          13,
          12,
          12,
          12,
          11,
          11,
          10,
          10,
          10,
          9,
          9,
          9,
          9,
          9,
          8,
          8,
          8,
          7,
          7,
          6,
          6,
          6,
          5,
          5,
          5,
          5,
          3,
          3,
          3,
          3,
          3,
          3,
          3,
          3,
          2,
          2,
          2,
          2,
          2,
          1,
          1,
          1,
          1,
          1,
          1,
          1,
          1,
          1,
          1,
          1,
          1,
          1,
          1,
          1,
          1,
          1,
          0,
          0,
          0,
          0,
          0,
          0,
          0,
          0,
          0,
          0,
          0,
          0,
          0,
          0,
          0,
          0
         ]
        }
       ],
       "layout": {
        "autosize": true,
        "geo": {
         "coastlinecolor": "white",
         "coastlinewidth": 0.8,
         "lakecolor": "Blue",
         "landcolor": "#fff0db",
         "oceancolor": "LightBlue",
         "projection": {
          "type": "equirectangular"
         },
         "rivercolor": "Blue",
         "showcoastlines": true,
         "showframe": true,
         "showlakes": false,
         "showland": true,
         "showocean": true,
         "showrivers": false
        },
        "template": {
         "data": {
          "bar": [
           {
            "error_x": {
             "color": "#2a3f5f"
            },
            "error_y": {
             "color": "#2a3f5f"
            },
            "marker": {
             "line": {
              "color": "#E5ECF6",
              "width": 0.5
             },
             "pattern": {
              "fillmode": "overlay",
              "size": 10,
              "solidity": 0.2
             }
            },
            "type": "bar"
           }
          ],
          "barpolar": [
           {
            "marker": {
             "line": {
              "color": "#E5ECF6",
              "width": 0.5
             },
             "pattern": {
              "fillmode": "overlay",
              "size": 10,
              "solidity": 0.2
             }
            },
            "type": "barpolar"
           }
          ],
          "carpet": [
           {
            "aaxis": {
             "endlinecolor": "#2a3f5f",
             "gridcolor": "white",
             "linecolor": "white",
             "minorgridcolor": "white",
             "startlinecolor": "#2a3f5f"
            },
            "baxis": {
             "endlinecolor": "#2a3f5f",
             "gridcolor": "white",
             "linecolor": "white",
             "minorgridcolor": "white",
             "startlinecolor": "#2a3f5f"
            },
            "type": "carpet"
           }
          ],
          "choropleth": [
           {
            "colorbar": {
             "outlinewidth": 0,
             "ticks": ""
            },
            "type": "choropleth"
           }
          ],
          "contour": [
           {
            "colorbar": {
             "outlinewidth": 0,
             "ticks": ""
            },
            "colorscale": [
             [
              0,
              "#0d0887"
             ],
             [
              0.1111111111111111,
              "#46039f"
             ],
             [
              0.2222222222222222,
              "#7201a8"
             ],
             [
              0.3333333333333333,
              "#9c179e"
             ],
             [
              0.4444444444444444,
              "#bd3786"
             ],
             [
              0.5555555555555556,
              "#d8576b"
             ],
             [
              0.6666666666666666,
              "#ed7953"
             ],
             [
              0.7777777777777778,
              "#fb9f3a"
             ],
             [
              0.8888888888888888,
              "#fdca26"
             ],
             [
              1,
              "#f0f921"
             ]
            ],
            "type": "contour"
           }
          ],
          "contourcarpet": [
           {
            "colorbar": {
             "outlinewidth": 0,
             "ticks": ""
            },
            "type": "contourcarpet"
           }
          ],
          "heatmap": [
           {
            "colorbar": {
             "outlinewidth": 0,
             "ticks": ""
            },
            "colorscale": [
             [
              0,
              "#0d0887"
             ],
             [
              0.1111111111111111,
              "#46039f"
             ],
             [
              0.2222222222222222,
              "#7201a8"
             ],
             [
              0.3333333333333333,
              "#9c179e"
             ],
             [
              0.4444444444444444,
              "#bd3786"
             ],
             [
              0.5555555555555556,
              "#d8576b"
             ],
             [
              0.6666666666666666,
              "#ed7953"
             ],
             [
              0.7777777777777778,
              "#fb9f3a"
             ],
             [
              0.8888888888888888,
              "#fdca26"
             ],
             [
              1,
              "#f0f921"
             ]
            ],
            "type": "heatmap"
           }
          ],
          "heatmapgl": [
           {
            "colorbar": {
             "outlinewidth": 0,
             "ticks": ""
            },
            "colorscale": [
             [
              0,
              "#0d0887"
             ],
             [
              0.1111111111111111,
              "#46039f"
             ],
             [
              0.2222222222222222,
              "#7201a8"
             ],
             [
              0.3333333333333333,
              "#9c179e"
             ],
             [
              0.4444444444444444,
              "#bd3786"
             ],
             [
              0.5555555555555556,
              "#d8576b"
             ],
             [
              0.6666666666666666,
              "#ed7953"
             ],
             [
              0.7777777777777778,
              "#fb9f3a"
             ],
             [
              0.8888888888888888,
              "#fdca26"
             ],
             [
              1,
              "#f0f921"
             ]
            ],
            "type": "heatmapgl"
           }
          ],
          "histogram": [
           {
            "marker": {
             "pattern": {
              "fillmode": "overlay",
              "size": 10,
              "solidity": 0.2
             }
            },
            "type": "histogram"
           }
          ],
          "histogram2d": [
           {
            "colorbar": {
             "outlinewidth": 0,
             "ticks": ""
            },
            "colorscale": [
             [
              0,
              "#0d0887"
             ],
             [
              0.1111111111111111,
              "#46039f"
             ],
             [
              0.2222222222222222,
              "#7201a8"
             ],
             [
              0.3333333333333333,
              "#9c179e"
             ],
             [
              0.4444444444444444,
              "#bd3786"
             ],
             [
              0.5555555555555556,
              "#d8576b"
             ],
             [
              0.6666666666666666,
              "#ed7953"
             ],
             [
              0.7777777777777778,
              "#fb9f3a"
             ],
             [
              0.8888888888888888,
              "#fdca26"
             ],
             [
              1,
              "#f0f921"
             ]
            ],
            "type": "histogram2d"
           }
          ],
          "histogram2dcontour": [
           {
            "colorbar": {
             "outlinewidth": 0,
             "ticks": ""
            },
            "colorscale": [
             [
              0,
              "#0d0887"
             ],
             [
              0.1111111111111111,
              "#46039f"
             ],
             [
              0.2222222222222222,
              "#7201a8"
             ],
             [
              0.3333333333333333,
              "#9c179e"
             ],
             [
              0.4444444444444444,
              "#bd3786"
             ],
             [
              0.5555555555555556,
              "#d8576b"
             ],
             [
              0.6666666666666666,
              "#ed7953"
             ],
             [
              0.7777777777777778,
              "#fb9f3a"
             ],
             [
              0.8888888888888888,
              "#fdca26"
             ],
             [
              1,
              "#f0f921"
             ]
            ],
            "type": "histogram2dcontour"
           }
          ],
          "mesh3d": [
           {
            "colorbar": {
             "outlinewidth": 0,
             "ticks": ""
            },
            "type": "mesh3d"
           }
          ],
          "parcoords": [
           {
            "line": {
             "colorbar": {
              "outlinewidth": 0,
              "ticks": ""
             }
            },
            "type": "parcoords"
           }
          ],
          "pie": [
           {
            "automargin": true,
            "type": "pie"
           }
          ],
          "scatter": [
           {
            "fillpattern": {
             "fillmode": "overlay",
             "size": 10,
             "solidity": 0.2
            },
            "type": "scatter"
           }
          ],
          "scatter3d": [
           {
            "line": {
             "colorbar": {
              "outlinewidth": 0,
              "ticks": ""
             }
            },
            "marker": {
             "colorbar": {
              "outlinewidth": 0,
              "ticks": ""
             }
            },
            "type": "scatter3d"
           }
          ],
          "scattercarpet": [
           {
            "marker": {
             "colorbar": {
              "outlinewidth": 0,
              "ticks": ""
             }
            },
            "type": "scattercarpet"
           }
          ],
          "scattergeo": [
           {
            "marker": {
             "colorbar": {
              "outlinewidth": 0,
              "ticks": ""
             }
            },
            "type": "scattergeo"
           }
          ],
          "scattergl": [
           {
            "marker": {
             "colorbar": {
              "outlinewidth": 0,
              "ticks": ""
             }
            },
            "type": "scattergl"
           }
          ],
          "scattermapbox": [
           {
            "marker": {
             "colorbar": {
              "outlinewidth": 0,
              "ticks": ""
             }
            },
            "type": "scattermapbox"
           }
          ],
          "scatterpolar": [
           {
            "marker": {
             "colorbar": {
              "outlinewidth": 0,
              "ticks": ""
             }
            },
            "type": "scatterpolar"
           }
          ],
          "scatterpolargl": [
           {
            "marker": {
             "colorbar": {
              "outlinewidth": 0,
              "ticks": ""
             }
            },
            "type": "scatterpolargl"
           }
          ],
          "scatterternary": [
           {
            "marker": {
             "colorbar": {
              "outlinewidth": 0,
              "ticks": ""
             }
            },
            "type": "scatterternary"
           }
          ],
          "surface": [
           {
            "colorbar": {
             "outlinewidth": 0,
             "ticks": ""
            },
            "colorscale": [
             [
              0,
              "#0d0887"
             ],
             [
              0.1111111111111111,
              "#46039f"
             ],
             [
              0.2222222222222222,
              "#7201a8"
             ],
             [
              0.3333333333333333,
              "#9c179e"
             ],
             [
              0.4444444444444444,
              "#bd3786"
             ],
             [
              0.5555555555555556,
              "#d8576b"
             ],
             [
              0.6666666666666666,
              "#ed7953"
             ],
             [
              0.7777777777777778,
              "#fb9f3a"
             ],
             [
              0.8888888888888888,
              "#fdca26"
             ],
             [
              1,
              "#f0f921"
             ]
            ],
            "type": "surface"
           }
          ],
          "table": [
           {
            "cells": {
             "fill": {
              "color": "#EBF0F8"
             },
             "line": {
              "color": "white"
             }
            },
            "header": {
             "fill": {
              "color": "#C8D4E3"
             },
             "line": {
              "color": "white"
             }
            },
            "type": "table"
           }
          ]
         },
         "layout": {
          "annotationdefaults": {
           "arrowcolor": "#2a3f5f",
           "arrowhead": 0,
           "arrowwidth": 1
          },
          "autotypenumbers": "strict",
          "coloraxis": {
           "colorbar": {
            "outlinewidth": 0,
            "ticks": ""
           }
          },
          "colorscale": {
           "diverging": [
            [
             0,
             "#8e0152"
            ],
            [
             0.1,
             "#c51b7d"
            ],
            [
             0.2,
             "#de77ae"
            ],
            [
             0.3,
             "#f1b6da"
            ],
            [
             0.4,
             "#fde0ef"
            ],
            [
             0.5,
             "#f7f7f7"
            ],
            [
             0.6,
             "#e6f5d0"
            ],
            [
             0.7,
             "#b8e186"
            ],
            [
             0.8,
             "#7fbc41"
            ],
            [
             0.9,
             "#4d9221"
            ],
            [
             1,
             "#276419"
            ]
           ],
           "sequential": [
            [
             0,
             "#0d0887"
            ],
            [
             0.1111111111111111,
             "#46039f"
            ],
            [
             0.2222222222222222,
             "#7201a8"
            ],
            [
             0.3333333333333333,
             "#9c179e"
            ],
            [
             0.4444444444444444,
             "#bd3786"
            ],
            [
             0.5555555555555556,
             "#d8576b"
            ],
            [
             0.6666666666666666,
             "#ed7953"
            ],
            [
             0.7777777777777778,
             "#fb9f3a"
            ],
            [
             0.8888888888888888,
             "#fdca26"
            ],
            [
             1,
             "#f0f921"
            ]
           ],
           "sequentialminus": [
            [
             0,
             "#0d0887"
            ],
            [
             0.1111111111111111,
             "#46039f"
            ],
            [
             0.2222222222222222,
             "#7201a8"
            ],
            [
             0.3333333333333333,
             "#9c179e"
            ],
            [
             0.4444444444444444,
             "#bd3786"
            ],
            [
             0.5555555555555556,
             "#d8576b"
            ],
            [
             0.6666666666666666,
             "#ed7953"
            ],
            [
             0.7777777777777778,
             "#fb9f3a"
            ],
            [
             0.8888888888888888,
             "#fdca26"
            ],
            [
             1,
             "#f0f921"
            ]
           ]
          },
          "colorway": [
           "#636efa",
           "#EF553B",
           "#00cc96",
           "#ab63fa",
           "#FFA15A",
           "#19d3f3",
           "#FF6692",
           "#B6E880",
           "#FF97FF",
           "#FECB52"
          ],
          "font": {
           "color": "#2a3f5f"
          },
          "geo": {
           "bgcolor": "white",
           "lakecolor": "white",
           "landcolor": "#E5ECF6",
           "showlakes": true,
           "showland": true,
           "subunitcolor": "white"
          },
          "hoverlabel": {
           "align": "left"
          },
          "hovermode": "closest",
          "mapbox": {
           "style": "light"
          },
          "paper_bgcolor": "white",
          "plot_bgcolor": "#E5ECF6",
          "polar": {
           "angularaxis": {
            "gridcolor": "white",
            "linecolor": "white",
            "ticks": ""
           },
           "bgcolor": "#E5ECF6",
           "radialaxis": {
            "gridcolor": "white",
            "linecolor": "white",
            "ticks": ""
           }
          },
          "scene": {
           "xaxis": {
            "backgroundcolor": "#E5ECF6",
            "gridcolor": "white",
            "gridwidth": 2,
            "linecolor": "white",
            "showbackground": true,
            "ticks": "",
            "zerolinecolor": "white"
           },
           "yaxis": {
            "backgroundcolor": "#E5ECF6",
            "gridcolor": "white",
            "gridwidth": 2,
            "linecolor": "white",
            "showbackground": true,
            "ticks": "",
            "zerolinecolor": "white"
           },
           "zaxis": {
            "backgroundcolor": "#E5ECF6",
            "gridcolor": "white",
            "gridwidth": 2,
            "linecolor": "white",
            "showbackground": true,
            "ticks": "",
            "zerolinecolor": "white"
           }
          },
          "shapedefaults": {
           "line": {
            "color": "#2a3f5f"
           }
          },
          "ternary": {
           "aaxis": {
            "gridcolor": "white",
            "linecolor": "white",
            "ticks": ""
           },
           "baxis": {
            "gridcolor": "white",
            "linecolor": "white",
            "ticks": ""
           },
           "bgcolor": "#E5ECF6",
           "caxis": {
            "gridcolor": "white",
            "linecolor": "white",
            "ticks": ""
           }
          },
          "title": {
           "x": 0.05
          },
          "xaxis": {
           "automargin": true,
           "gridcolor": "white",
           "linecolor": "white",
           "ticks": "",
           "title": {
            "standoff": 15
           },
           "zerolinecolor": "white",
           "zerolinewidth": 2
          },
          "yaxis": {
           "automargin": true,
           "gridcolor": "white",
           "linecolor": "white",
           "ticks": "",
           "title": {
            "standoff": 15
           },
           "zerolinecolor": "white",
           "zerolinewidth": 2
          }
         }
        }
       }
      }
     },
     "metadata": {},
     "output_type": "display_data"
    }
   ],
   "source": [
    "import plotly.express as px\n",
    "import plotly.graph_objects as go\n",
    "import pandas as pd\n",
    "\n",
    "ch_per_country = pd.read_csv(op.join(path_deriv, 'channels_per_country.csv'), index_col=0)\n",
    "quantiles, bins = pd.qcut(ch_per_country['# channels'], q=40, retbins=True, labels = False,duplicates='drop')\n",
    "bins = [(int(b), id) for id, b in enumerate(bins) if b != 1.25 and int(b) in [1,5,11,27,35,40, 53,75,96] or b>100 ]\n",
    "line_color = 'white'#\"RebeccaPurple\" 'darkgray' \n",
    "\n",
    "fig = go.Figure(data=go.Choropleth(\n",
    "    locations = ch_per_country.country_iso3,\n",
    "    #z = ch_per_country['# channels'].astype(float),\n",
    "    z = quantiles,\n",
    "    text = ch_per_country.country_name,\n",
    "    customdata=ch_per_country['# channels'],\n",
    "    colorscale = 'Spectral',#'Blues',\n",
    "    colorbar=dict(\n",
    "        tickvals=[str(b) for id, b in bins],\n",
    "        ticktext=[str(id) for id, b in bins],  # Label quantiles\n",
    "        x = 1,\n",
    "        tickfont=dict(size=8.5)\n",
    "    ),\n",
    "    showscale=True,\n",
    "    hovertemplate=\"<b>%{text}</b><extra>%{customdata:,.0f} channels</extra>\",\n",
    "    autocolorscale=False,\n",
    "    reversescale=True,\n",
    "    marker_line_color=line_color,\n",
    "    marker_line_width=0.5,\n",
    "    colorbar_tickprefix = '',\n",
    "    colorbar_title = '# channels',\n",
    "    \n",
    "))\n",
    "\n",
    "fig.update_geos(\n",
    "        showframe=True,\n",
    "        showcoastlines=True, coastlinecolor=line_color, coastlinewidth=0.8,\n",
    "        showocean=True, oceancolor=\"LightBlue\",\n",
    "        showlakes=False, lakecolor=\"Blue\",\n",
    "        showrivers=False, rivercolor=\"Blue\",\n",
    "        showland=True, landcolor=\"#fff0db\",\n",
    "        projection_type='equirectangular'\n",
    "    )\n",
    "\n",
    "fig.update_layout(autosize=True)\n",
    "fig.show()\n",
    "\n",
    "#fig.write_html(op.join(path_country_fig, 'country_channel.html'), auto_open=True)"
   ]
  },
  {
   "cell_type": "code",
   "execution_count": null,
   "metadata": {},
   "outputs": [],
   "source": []
  },
  {
   "cell_type": "markdown",
   "metadata": {},
   "source": [
    "# Now get to the labels"
   ]
  },
  {
   "cell_type": "code",
   "execution_count": 5,
   "metadata": {},
   "outputs": [],
   "source": [
    "# filter by labels\n",
    "from country_analysis import filter_categories\n",
    "edu = filter_categories(edu, kids = False)"
   ]
  },
  {
   "cell_type": "code",
   "execution_count": 6,
   "metadata": {},
   "outputs": [],
   "source": [
    "# filter by country\n",
    "edu = edu[~edu.country.isin(['no_rec', 'deleted', 'no_country'])]\n",
    "edu['subcategory'] = edu.category.apply(lambda x: content_categories[x].capitalize())\n",
    "edu['country_name'] = edu.country.apply(get_country_fullname)\n",
    "country_category = edu.groupby(['country', 'category']).count().reset_index()[['country', 'category', 'channel']].rename(columns = {'channel': '# videos'})\n",
    "country_category.to_csv(op.join(path_deriv, 'country_category.csv'))"
   ]
  },
  {
   "cell_type": "code",
   "execution_count": 12,
   "metadata": {},
   "outputs": [
    {
     "data": {
      "application/vnd.plotly.v1+json": {
       "config": {
        "plotlyServerURL": "https://plot.ly"
       },
       "data": [
        {
         "branchvalues": "total",
         "customdata": [
          [
           "History"
          ],
          [
           "History"
          ],
          [
           "History"
          ],
          [
           "History"
          ],
          [
           "History"
          ],
          [
           "History"
          ],
          [
           "History"
          ],
          [
           "History"
          ],
          [
           "History"
          ],
          [
           "History"
          ],
          [
           "History"
          ],
          [
           "History"
          ],
          [
           "History"
          ],
          [
           "History"
          ],
          [
           "History"
          ],
          [
           "History"
          ],
          [
           "History"
          ],
          [
           "History"
          ],
          [
           "History"
          ],
          [
           "History"
          ],
          [
           "History"
          ],
          [
           "History"
          ],
          [
           "History"
          ],
          [
           "History"
          ],
          [
           "History"
          ],
          [
           "History"
          ],
          [
           "History"
          ],
          [
           "History"
          ],
          [
           "History"
          ],
          [
           "History"
          ],
          [
           "History"
          ],
          [
           "History"
          ],
          [
           "History"
          ],
          [
           "History"
          ],
          [
           "History"
          ],
          [
           "History"
          ],
          [
           "History"
          ],
          [
           "History"
          ],
          [
           "History"
          ],
          [
           "History"
          ],
          [
           "History"
          ],
          [
           "History"
          ],
          [
           "History"
          ],
          [
           "History"
          ],
          [
           "History"
          ],
          [
           "History"
          ],
          [
           "History"
          ],
          [
           "History"
          ],
          [
           "History"
          ],
          [
           "History"
          ],
          [
           "History"
          ],
          [
           "History"
          ],
          [
           "History"
          ],
          [
           "History"
          ],
          [
           "History"
          ],
          [
           "History"
          ],
          [
           "History"
          ],
          [
           "History"
          ],
          [
           "History"
          ],
          [
           "History"
          ],
          [
           "History"
          ],
          [
           "History"
          ],
          [
           "History"
          ],
          [
           "History"
          ],
          [
           "History"
          ],
          [
           "History"
          ],
          [
           "History"
          ],
          [
           "History"
          ],
          [
           "History"
          ],
          [
           "History"
          ],
          [
           "History"
          ],
          [
           "History"
          ],
          [
           "History"
          ],
          [
           "History"
          ],
          [
           "History"
          ],
          [
           "History"
          ],
          [
           "History"
          ],
          [
           "History"
          ],
          [
           "History"
          ],
          [
           "History"
          ],
          [
           "History"
          ],
          [
           "Religion or spirituality"
          ],
          [
           "Religion or spirituality"
          ],
          [
           "Religion or spirituality"
          ],
          [
           "Religion or spirituality"
          ],
          [
           "Religion or spirituality"
          ],
          [
           "Religion or spirituality"
          ],
          [
           "Religion or spirituality"
          ],
          [
           "Religion or spirituality"
          ],
          [
           "Religion or spirituality"
          ],
          [
           "Religion or spirituality"
          ],
          [
           "Religion or spirituality"
          ],
          [
           "Religion or spirituality"
          ],
          [
           "Religion or spirituality"
          ],
          [
           "Religion or spirituality"
          ],
          [
           "Religion or spirituality"
          ],
          [
           "Religion or spirituality"
          ],
          [
           "Religion or spirituality"
          ],
          [
           "Religion or spirituality"
          ],
          [
           "Religion or spirituality"
          ],
          [
           "Religion or spirituality"
          ],
          [
           "Religion or spirituality"
          ],
          [
           "Religion or spirituality"
          ],
          [
           "Religion or spirituality"
          ],
          [
           "Religion or spirituality"
          ],
          [
           "Religion or spirituality"
          ],
          [
           "Religion or spirituality"
          ],
          [
           "Religion or spirituality"
          ],
          [
           "Religion or spirituality"
          ],
          [
           "Religion or spirituality"
          ],
          [
           "Religion or spirituality"
          ],
          [
           "Religion or spirituality"
          ],
          [
           "Religion or spirituality"
          ],
          [
           "Religion or spirituality"
          ],
          [
           "Religion or spirituality"
          ],
          [
           "Religion or spirituality"
          ],
          [
           "Religion or spirituality"
          ],
          [
           "Religion or spirituality"
          ],
          [
           "Religion or spirituality"
          ],
          [
           "Religion or spirituality"
          ],
          [
           "Religion or spirituality"
          ],
          [
           "Religion or spirituality"
          ],
          [
           "Religion or spirituality"
          ],
          [
           "Religion or spirituality"
          ],
          [
           "Religion or spirituality"
          ],
          [
           "Religion or spirituality"
          ],
          [
           "Religion or spirituality"
          ],
          [
           "Religion or spirituality"
          ],
          [
           "Religion or spirituality"
          ],
          [
           "Religion or spirituality"
          ],
          [
           "Religion or spirituality"
          ],
          [
           "Religion or spirituality"
          ],
          [
           "Religion or spirituality"
          ],
          [
           "Religion or spirituality"
          ],
          [
           "Religion or spirituality"
          ],
          [
           "Religion or spirituality"
          ],
          [
           "Religion or spirituality"
          ],
          [
           "Religion or spirituality"
          ],
          [
           "Religion or spirituality"
          ],
          [
           "Religion or spirituality"
          ],
          [
           "Religion or spirituality"
          ],
          [
           "Religion or spirituality"
          ],
          [
           "Religion or spirituality"
          ],
          [
           "Religion or spirituality"
          ],
          [
           "Religion or spirituality"
          ],
          [
           "Religion or spirituality"
          ],
          [
           "Religion or spirituality"
          ],
          [
           "Religion or spirituality"
          ],
          [
           "Religion or spirituality"
          ],
          [
           "Religion or spirituality"
          ],
          [
           "Religion or spirituality"
          ],
          [
           "Religion or spirituality"
          ],
          [
           "Religion or spirituality"
          ],
          [
           "Religion or spirituality"
          ],
          [
           "Religion or spirituality"
          ],
          [
           "Religion or spirituality"
          ],
          [
           "Religion or spirituality"
          ],
          [
           "Religion or spirituality"
          ],
          [
           "Religion or spirituality"
          ],
          [
           "Religion or spirituality"
          ],
          [
           "Religion or spirituality"
          ],
          [
           "Religion or spirituality"
          ],
          [
           "Religion or spirituality"
          ],
          [
           "Religion or spirituality"
          ],
          [
           "Religion or spirituality"
          ],
          [
           "Religion or spirituality"
          ],
          [
           "Religion or spirituality"
          ],
          [
           "Phylosophy or ethics"
          ],
          [
           "Phylosophy or ethics"
          ],
          [
           "Phylosophy or ethics"
          ],
          [
           "Phylosophy or ethics"
          ],
          [
           "Phylosophy or ethics"
          ],
          [
           "Phylosophy or ethics"
          ],
          [
           "Phylosophy or ethics"
          ],
          [
           "Phylosophy or ethics"
          ],
          [
           "Phylosophy or ethics"
          ],
          [
           "Phylosophy or ethics"
          ],
          [
           "Phylosophy or ethics"
          ],
          [
           "Phylosophy or ethics"
          ],
          [
           "Phylosophy or ethics"
          ],
          [
           "Phylosophy or ethics"
          ],
          [
           "Phylosophy or ethics"
          ],
          [
           "Phylosophy or ethics"
          ],
          [
           "Phylosophy or ethics"
          ],
          [
           "Phylosophy or ethics"
          ],
          [
           "Phylosophy or ethics"
          ],
          [
           "Phylosophy or ethics"
          ],
          [
           "Phylosophy or ethics"
          ],
          [
           "Phylosophy or ethics"
          ],
          [
           "Phylosophy or ethics"
          ],
          [
           "Phylosophy or ethics"
          ],
          [
           "Phylosophy or ethics"
          ],
          [
           "Phylosophy or ethics"
          ],
          [
           "Phylosophy or ethics"
          ],
          [
           "Phylosophy or ethics"
          ],
          [
           "Phylosophy or ethics"
          ],
          [
           "Phylosophy or ethics"
          ],
          [
           "Phylosophy or ethics"
          ],
          [
           "Phylosophy or ethics"
          ],
          [
           "Phylosophy or ethics"
          ],
          [
           "Phylosophy or ethics"
          ],
          [
           "Phylosophy or ethics"
          ],
          [
           "Phylosophy or ethics"
          ],
          [
           "Phylosophy or ethics"
          ],
          [
           "Phylosophy or ethics"
          ],
          [
           "Phylosophy or ethics"
          ],
          [
           "Phylosophy or ethics"
          ],
          [
           "Phylosophy or ethics"
          ],
          [
           "Phylosophy or ethics"
          ],
          [
           "Phylosophy or ethics"
          ],
          [
           "Phylosophy or ethics"
          ],
          [
           "Phylosophy or ethics"
          ],
          [
           "Phylosophy or ethics"
          ],
          [
           "Phylosophy or ethics"
          ],
          [
           "Phylosophy or ethics"
          ],
          [
           "Phylosophy or ethics"
          ],
          [
           "Phylosophy or ethics"
          ],
          [
           "Phylosophy or ethics"
          ],
          [
           "Phylosophy or ethics"
          ],
          [
           "Phylosophy or ethics"
          ],
          [
           "Phylosophy or ethics"
          ],
          [
           "Geopolitics"
          ],
          [
           "Geopolitics"
          ],
          [
           "Geopolitics"
          ],
          [
           "Geopolitics"
          ],
          [
           "Geopolitics"
          ],
          [
           "Geopolitics"
          ],
          [
           "Geopolitics"
          ],
          [
           "Geopolitics"
          ],
          [
           "Geopolitics"
          ],
          [
           "Geopolitics"
          ],
          [
           "Geopolitics"
          ],
          [
           "Geopolitics"
          ],
          [
           "Geopolitics"
          ],
          [
           "Geopolitics"
          ],
          [
           "Geopolitics"
          ],
          [
           "Geopolitics"
          ],
          [
           "Geopolitics"
          ],
          [
           "Geopolitics"
          ],
          [
           "Geopolitics"
          ],
          [
           "Geopolitics"
          ],
          [
           "Geopolitics"
          ],
          [
           "Geopolitics"
          ],
          [
           "Geopolitics"
          ],
          [
           "Geopolitics"
          ],
          [
           "Geopolitics"
          ],
          [
           "Geopolitics"
          ],
          [
           "Geopolitics"
          ],
          [
           "Geopolitics"
          ],
          [
           "Geopolitics"
          ],
          [
           "Geopolitics"
          ],
          [
           "Geopolitics"
          ],
          [
           "Geopolitics"
          ],
          [
           "Geopolitics"
          ],
          [
           "Geopolitics"
          ],
          [
           "Geopolitics"
          ],
          [
           "Geopolitics"
          ],
          [
           "Geopolitics"
          ],
          [
           "Geopolitics"
          ],
          [
           "Geopolitics"
          ],
          [
           "Geopolitics"
          ],
          [
           "Geopolitics"
          ],
          [
           "Geopolitics"
          ],
          [
           "Geopolitics"
          ],
          [
           "Geopolitics"
          ],
          [
           "Geopolitics"
          ],
          [
           "Cryptocurrency"
          ],
          [
           "Cryptocurrency"
          ],
          [
           "Cryptocurrency"
          ],
          [
           "Cryptocurrency"
          ],
          [
           "Cryptocurrency"
          ],
          [
           "Cryptocurrency"
          ],
          [
           "Cryptocurrency"
          ],
          [
           "Cryptocurrency"
          ],
          [
           "Cryptocurrency"
          ],
          [
           "Cryptocurrency"
          ],
          [
           "Cryptocurrency"
          ],
          [
           "Cryptocurrency"
          ],
          [
           "Cryptocurrency"
          ],
          [
           "Cryptocurrency"
          ],
          [
           "Cryptocurrency"
          ],
          [
           "Cryptocurrency"
          ],
          [
           "Cryptocurrency"
          ],
          [
           "Cryptocurrency"
          ],
          [
           "Cryptocurrency"
          ],
          [
           "Cryptocurrency"
          ],
          [
           "Cryptocurrency"
          ],
          [
           "Cryptocurrency"
          ],
          [
           "Cryptocurrency"
          ],
          [
           "Cryptocurrency"
          ],
          [
           "Cryptocurrency"
          ],
          [
           "Cryptocurrency"
          ],
          [
           "Cryptocurrency"
          ],
          [
           "Cryptocurrency"
          ],
          [
           "Cryptocurrency"
          ],
          [
           "Cryptocurrency"
          ],
          [
           "Cryptocurrency"
          ],
          [
           "Cryptocurrency"
          ],
          [
           "Cryptocurrency"
          ],
          [
           "Cryptocurrency"
          ],
          [
           "Cryptocurrency"
          ],
          [
           "Cryptocurrency"
          ],
          [
           "Cryptocurrency"
          ],
          [
           "Cryptocurrency"
          ],
          [
           "Cryptocurrency"
          ],
          [
           "Cryptocurrency"
          ],
          [
           "Cryptocurrency"
          ],
          [
           "Cryptocurrency"
          ],
          [
           "Cryptocurrency"
          ],
          [
           "Cryptocurrency"
          ],
          [
           "Food or cooking"
          ],
          [
           "Food or cooking"
          ],
          [
           "Food or cooking"
          ],
          [
           "Food or cooking"
          ],
          [
           "Food or cooking"
          ],
          [
           "Food or cooking"
          ],
          [
           "Food or cooking"
          ],
          [
           "Food or cooking"
          ],
          [
           "Food or cooking"
          ],
          [
           "Food or cooking"
          ],
          [
           "Food or cooking"
          ],
          [
           "Food or cooking"
          ],
          [
           "Food or cooking"
          ],
          [
           "Food or cooking"
          ],
          [
           "Food or cooking"
          ],
          [
           "Food or cooking"
          ],
          [
           "Food or cooking"
          ],
          [
           "Food or cooking"
          ],
          [
           "Food or cooking"
          ],
          [
           "Food or cooking"
          ],
          [
           "Food or cooking"
          ],
          [
           "Food or cooking"
          ],
          [
           "Food or cooking"
          ],
          [
           "Food or cooking"
          ],
          [
           "Food or cooking"
          ],
          [
           "Food or cooking"
          ],
          [
           "Food or cooking"
          ],
          [
           "Food or cooking"
          ],
          [
           "Food or cooking"
          ],
          [
           "Food or cooking"
          ],
          [
           "Food or cooking"
          ],
          [
           "Food or cooking"
          ],
          [
           "Food or cooking"
          ],
          [
           "Food or cooking"
          ],
          [
           "Food or cooking"
          ],
          [
           "Food or cooking"
          ],
          [
           "Food or cooking"
          ],
          [
           "Food or cooking"
          ],
          [
           "Food or cooking"
          ],
          [
           "Food or cooking"
          ],
          [
           "Food or cooking"
          ],
          [
           "Food or cooking"
          ],
          [
           "Food or cooking"
          ],
          [
           "Food or cooking"
          ],
          [
           "Food or cooking"
          ],
          [
           "Food or cooking"
          ],
          [
           "Food or cooking"
          ],
          [
           "Food or cooking"
          ],
          [
           "Food or cooking"
          ],
          [
           "Food or cooking"
          ],
          [
           "Food or cooking"
          ],
          [
           "Food or cooking"
          ],
          [
           "Food or cooking"
          ],
          [
           "Food or cooking"
          ],
          [
           "Food or cooking"
          ],
          [
           "Food or cooking"
          ],
          [
           "Food or cooking"
          ],
          [
           "Food or cooking"
          ],
          [
           "Food or cooking"
          ],
          [
           "Food or cooking"
          ],
          [
           "Food or cooking"
          ],
          [
           "Food or cooking"
          ],
          [
           "Food or cooking"
          ],
          [
           "Food or cooking"
          ],
          [
           "Food or cooking"
          ],
          [
           "Food or cooking"
          ],
          [
           "Food or cooking"
          ],
          [
           "Food or cooking"
          ],
          [
           "Food or cooking"
          ],
          [
           "Food or cooking"
          ],
          [
           "Programming"
          ],
          [
           "Programming"
          ],
          [
           "Programming"
          ],
          [
           "Programming"
          ],
          [
           "Programming"
          ],
          [
           "Programming"
          ],
          [
           "Programming"
          ],
          [
           "Programming"
          ],
          [
           "Programming"
          ],
          [
           "Programming"
          ],
          [
           "Programming"
          ],
          [
           "Programming"
          ],
          [
           "Programming"
          ],
          [
           "Programming"
          ],
          [
           "Programming"
          ],
          [
           "Programming"
          ],
          [
           "Programming"
          ],
          [
           "Programming"
          ],
          [
           "Programming"
          ],
          [
           "Programming"
          ],
          [
           "Programming"
          ],
          [
           "Programming"
          ],
          [
           "Programming"
          ],
          [
           "Programming"
          ],
          [
           "Programming"
          ],
          [
           "Programming"
          ],
          [
           "Programming"
          ],
          [
           "Programming"
          ],
          [
           "Programming"
          ],
          [
           "Programming"
          ],
          [
           "Programming"
          ],
          [
           "Programming"
          ],
          [
           "Programming"
          ],
          [
           "Programming"
          ],
          [
           "Programming"
          ],
          [
           "Programming"
          ],
          [
           "Programming"
          ],
          [
           "Programming"
          ],
          [
           "Programming"
          ],
          [
           "Programming"
          ],
          [
           "Programming"
          ],
          [
           "Programming"
          ],
          [
           "Programming"
          ],
          [
           "Programming"
          ],
          [
           "Programming"
          ],
          [
           "Programming"
          ],
          [
           "Programming"
          ],
          [
           "Programming"
          ],
          [
           "Programming"
          ],
          [
           "Programming"
          ],
          [
           "Programming"
          ],
          [
           "Programming"
          ],
          [
           "Programming"
          ],
          [
           "Programming"
          ],
          [
           "Programming"
          ],
          [
           "Programming"
          ],
          [
           "Programming"
          ],
          [
           "Programming"
          ],
          [
           "Programming"
          ],
          [
           "Programming"
          ],
          [
           "Programming"
          ],
          [
           "Programming"
          ],
          [
           "Programming"
          ],
          [
           "Programming"
          ],
          [
           "Programming"
          ],
          [
           "Programming"
          ],
          [
           "Programming"
          ],
          [
           "Programming"
          ],
          [
           "Programming"
          ],
          [
           "Programming"
          ],
          [
           "Programming"
          ],
          [
           "Machine learning"
          ],
          [
           "Machine learning"
          ],
          [
           "Machine learning"
          ],
          [
           "Machine learning"
          ],
          [
           "Machine learning"
          ],
          [
           "Machine learning"
          ],
          [
           "Machine learning"
          ],
          [
           "Machine learning"
          ],
          [
           "Machine learning"
          ],
          [
           "Machine learning"
          ],
          [
           "Machine learning"
          ],
          [
           "Machine learning"
          ],
          [
           "Machine learning"
          ],
          [
           "Machine learning"
          ],
          [
           "Machine learning"
          ],
          [
           "Machine learning"
          ],
          [
           "Machine learning"
          ],
          [
           "Machine learning"
          ],
          [
           "Machine learning"
          ],
          [
           "Machine learning"
          ],
          [
           "Machine learning"
          ],
          [
           "Machine learning"
          ],
          [
           "Machine learning"
          ],
          [
           "Machine learning"
          ],
          [
           "Machine learning"
          ],
          [
           "Machine learning"
          ],
          [
           "Machine learning"
          ],
          [
           "Machine learning"
          ],
          [
           "Machine learning"
          ],
          [
           "Machine learning"
          ],
          [
           "Machine learning"
          ],
          [
           "Machine learning"
          ],
          [
           "Machine learning"
          ],
          [
           "Machine learning"
          ],
          [
           "Machine learning"
          ],
          [
           "Machine learning"
          ],
          [
           "Machine learning"
          ],
          [
           "Edutainment"
          ],
          [
           "Edutainment"
          ],
          [
           "Edutainment"
          ],
          [
           "Edutainment"
          ],
          [
           "Edutainment"
          ],
          [
           "Edutainment"
          ],
          [
           "Edutainment"
          ],
          [
           "Edutainment"
          ],
          [
           "Edutainment"
          ],
          [
           "Edutainment"
          ],
          [
           "Science and tech"
          ],
          [
           "Science and tech"
          ],
          [
           "Science and tech"
          ],
          [
           "Science and tech"
          ],
          [
           "Science and tech"
          ],
          [
           "Science and tech"
          ],
          [
           "Science and tech"
          ],
          [
           "Science and tech"
          ],
          [
           "Science and tech"
          ],
          [
           "Science and tech"
          ],
          [
           "Science and tech"
          ],
          [
           "Science and tech"
          ],
          [
           "Science and tech"
          ],
          [
           "Science and tech"
          ],
          [
           "Science and tech"
          ],
          [
           "Science and tech"
          ],
          [
           "Science and tech"
          ],
          [
           "Science and tech"
          ],
          [
           "Science and tech"
          ],
          [
           "Science and tech"
          ],
          [
           "Science and tech"
          ],
          [
           "Science and tech"
          ],
          [
           "Science and tech"
          ],
          [
           "Science and tech"
          ],
          [
           "Science and tech"
          ],
          [
           "Science and tech"
          ],
          [
           "Science and tech"
          ],
          [
           "Science and tech"
          ],
          [
           "Science and tech"
          ],
          [
           "Science and tech"
          ],
          [
           "Science and tech"
          ],
          [
           "Science and tech"
          ],
          [
           "Science and tech"
          ],
          [
           "Science and tech"
          ],
          [
           "Science and tech"
          ],
          [
           "Science and tech"
          ],
          [
           "Science and tech"
          ],
          [
           "Science and tech"
          ],
          [
           "Science and tech"
          ],
          [
           "Science and tech"
          ],
          [
           "Science and tech"
          ],
          [
           "Science and tech"
          ],
          [
           "Science and tech"
          ],
          [
           "Science and tech"
          ],
          [
           "Science and tech"
          ],
          [
           "Science and tech"
          ],
          [
           "Science and tech"
          ],
          [
           "Science and tech"
          ],
          [
           "Science and tech"
          ],
          [
           "Science and tech"
          ],
          [
           "Science and tech"
          ],
          [
           "Science and tech"
          ],
          [
           "Science and tech"
          ],
          [
           "Science and tech"
          ],
          [
           "Science and tech"
          ],
          [
           "Science and tech"
          ],
          [
           "Science and tech"
          ],
          [
           "Science and tech"
          ],
          [
           "Science and tech"
          ],
          [
           "Science and tech"
          ],
          [
           "Science and tech"
          ],
          [
           "Science and tech"
          ],
          [
           "Science and tech"
          ],
          [
           "Science and tech"
          ],
          [
           "Science and tech"
          ],
          [
           "Science and tech"
          ],
          [
           "Science and tech"
          ],
          [
           "Science and tech"
          ],
          [
           "Science and tech"
          ],
          [
           "Science and tech"
          ],
          [
           "Science and tech"
          ],
          [
           "Science and tech"
          ],
          [
           "Wildlife or animals or nature"
          ],
          [
           "Wildlife or animals or nature"
          ],
          [
           "Wildlife or animals or nature"
          ],
          [
           "Wildlife or animals or nature"
          ],
          [
           "Wildlife or animals or nature"
          ],
          [
           "Wildlife or animals or nature"
          ],
          [
           "Wildlife or animals or nature"
          ],
          [
           "Wildlife or animals or nature"
          ],
          [
           "Wildlife or animals or nature"
          ],
          [
           "Wildlife or animals or nature"
          ],
          [
           "Wildlife or animals or nature"
          ],
          [
           "Wildlife or animals or nature"
          ],
          [
           "Wildlife or animals or nature"
          ],
          [
           "Wildlife or animals or nature"
          ],
          [
           "Wildlife or animals or nature"
          ],
          [
           "Wildlife or animals or nature"
          ],
          [
           "Wildlife or animals or nature"
          ],
          [
           "Wildlife or animals or nature"
          ],
          [
           "Wildlife or animals or nature"
          ],
          [
           "Wildlife or animals or nature"
          ],
          [
           "Wildlife or animals or nature"
          ],
          [
           "Wildlife or animals or nature"
          ],
          [
           "Wildlife or animals or nature"
          ],
          [
           "Wildlife or animals or nature"
          ],
          [
           "Wildlife or animals or nature"
          ],
          [
           "Wildlife or animals or nature"
          ],
          [
           "Wildlife or animals or nature"
          ],
          [
           "Wildlife or animals or nature"
          ],
          [
           "Wildlife or animals or nature"
          ],
          [
           "Wildlife or animals or nature"
          ],
          [
           "Wildlife or animals or nature"
          ],
          [
           "Wildlife or animals or nature"
          ],
          [
           "Wildlife or animals or nature"
          ],
          [
           "Wildlife or animals or nature"
          ],
          [
           "Wildlife or animals or nature"
          ],
          [
           "Wildlife or animals or nature"
          ],
          [
           "Wildlife or animals or nature"
          ],
          [
           "Wildlife or animals or nature"
          ],
          [
           "Wildlife or animals or nature"
          ],
          [
           "Wildlife or animals or nature"
          ],
          [
           "Wildlife or animals or nature"
          ],
          [
           "Wildlife or animals or nature"
          ],
          [
           "Wildlife or animals or nature"
          ],
          [
           "Wildlife or animals or nature"
          ],
          [
           "Wildlife or animals or nature"
          ],
          [
           "Wildlife or animals or nature"
          ],
          [
           "Wildlife or animals or nature"
          ],
          [
           "Wildlife or animals or nature"
          ],
          [
           "Wildlife or animals or nature"
          ],
          [
           "Wildlife or animals or nature"
          ],
          [
           "Wildlife or animals or nature"
          ],
          [
           "Wildlife or animals or nature"
          ],
          [
           "Wildlife or animals or nature"
          ],
          [
           "Wildlife or animals or nature"
          ],
          [
           "Wildlife or animals or nature"
          ],
          [
           "Wildlife or animals or nature"
          ],
          [
           "Wildlife or animals or nature"
          ],
          [
           "Wildlife or animals or nature"
          ],
          [
           "Wildlife or animals or nature"
          ],
          [
           "Wildlife or animals or nature"
          ],
          [
           "Wildlife or animals or nature"
          ],
          [
           "Wildlife or animals or nature"
          ],
          [
           "Wildlife or animals or nature"
          ],
          [
           "Wildlife or animals or nature"
          ],
          [
           "Wildlife or animals or nature"
          ],
          [
           "Wildlife or animals or nature"
          ],
          [
           "Wildlife or animals or nature"
          ],
          [
           "Wildlife or animals or nature"
          ],
          [
           "Wildlife or animals or nature"
          ],
          [
           "Wildlife or animals or nature"
          ],
          [
           "Wildlife or animals or nature"
          ],
          [
           "Wildlife or animals or nature"
          ],
          [
           "Wildlife or animals or nature"
          ],
          [
           "Foreign language or language proficiency"
          ],
          [
           "Foreign language or language proficiency"
          ],
          [
           "Foreign language or language proficiency"
          ],
          [
           "Foreign language or language proficiency"
          ],
          [
           "Foreign language or language proficiency"
          ],
          [
           "Foreign language or language proficiency"
          ],
          [
           "Foreign language or language proficiency"
          ],
          [
           "Foreign language or language proficiency"
          ],
          [
           "Foreign language or language proficiency"
          ],
          [
           "Foreign language or language proficiency"
          ],
          [
           "Foreign language or language proficiency"
          ],
          [
           "Foreign language or language proficiency"
          ],
          [
           "Foreign language or language proficiency"
          ],
          [
           "Foreign language or language proficiency"
          ],
          [
           "Foreign language or language proficiency"
          ],
          [
           "Foreign language or language proficiency"
          ],
          [
           "Foreign language or language proficiency"
          ],
          [
           "Foreign language or language proficiency"
          ],
          [
           "Foreign language or language proficiency"
          ],
          [
           "Foreign language or language proficiency"
          ],
          [
           "Foreign language or language proficiency"
          ],
          [
           "Foreign language or language proficiency"
          ],
          [
           "Foreign language or language proficiency"
          ],
          [
           "Foreign language or language proficiency"
          ],
          [
           "Foreign language or language proficiency"
          ],
          [
           "Foreign language or language proficiency"
          ],
          [
           "Foreign language or language proficiency"
          ],
          [
           "Foreign language or language proficiency"
          ],
          [
           "Foreign language or language proficiency"
          ],
          [
           "Foreign language or language proficiency"
          ],
          [
           "Foreign language or language proficiency"
          ],
          [
           "Foreign language or language proficiency"
          ],
          [
           "Foreign language or language proficiency"
          ],
          [
           "Foreign language or language proficiency"
          ],
          [
           "Foreign language or language proficiency"
          ],
          [
           "Foreign language or language proficiency"
          ],
          [
           "Foreign language or language proficiency"
          ],
          [
           "Foreign language or language proficiency"
          ],
          [
           "Foreign language or language proficiency"
          ],
          [
           "Foreign language or language proficiency"
          ],
          [
           "Foreign language or language proficiency"
          ],
          [
           "Foreign language or language proficiency"
          ],
          [
           "Foreign language or language proficiency"
          ],
          [
           "Foreign language or language proficiency"
          ],
          [
           "Foreign language or language proficiency"
          ],
          [
           "Foreign language or language proficiency"
          ],
          [
           "Foreign language or language proficiency"
          ],
          [
           "Foreign language or language proficiency"
          ],
          [
           "Foreign language or language proficiency"
          ],
          [
           "Foreign language or language proficiency"
          ],
          [
           "Foreign language or language proficiency"
          ],
          [
           "Foreign language or language proficiency"
          ],
          [
           "Foreign language or language proficiency"
          ],
          [
           "Foreign language or language proficiency"
          ],
          [
           "Foreign language or language proficiency"
          ],
          [
           "Foreign language or language proficiency"
          ],
          [
           "Foreign language or language proficiency"
          ],
          [
           "Foreign language or language proficiency"
          ],
          [
           "Foreign language or language proficiency"
          ],
          [
           "Foreign language or language proficiency"
          ],
          [
           "Foreign language or language proficiency"
          ],
          [
           "Foreign language or language proficiency"
          ],
          [
           "Foreign language or language proficiency"
          ],
          [
           "Foreign language or language proficiency"
          ],
          [
           "Foreign language or language proficiency"
          ],
          [
           "Foreign language or language proficiency"
          ],
          [
           "Foreign language or language proficiency"
          ],
          [
           "Foreign language or language proficiency"
          ],
          [
           "Foreign language or language proficiency"
          ],
          [
           "Foreign language or language proficiency"
          ],
          [
           "Foreign language or language proficiency"
          ],
          [
           "Foreign language or language proficiency"
          ],
          [
           "Home repair or renovation"
          ],
          [
           "Home repair or renovation"
          ],
          [
           "Home repair or renovation"
          ],
          [
           "Home repair or renovation"
          ],
          [
           "Home repair or renovation"
          ],
          [
           "Home repair or renovation"
          ],
          [
           "Home repair or renovation"
          ],
          [
           "Home repair or renovation"
          ],
          [
           "Home repair or renovation"
          ],
          [
           "Home repair or renovation"
          ],
          [
           "Home repair or renovation"
          ],
          [
           "Home repair or renovation"
          ],
          [
           "Home repair or renovation"
          ],
          [
           "Home repair or renovation"
          ],
          [
           "Home repair or renovation"
          ],
          [
           "Home repair or renovation"
          ],
          [
           "Home repair or renovation"
          ],
          [
           "Home repair or renovation"
          ],
          [
           "Home repair or renovation"
          ],
          [
           "Home repair or renovation"
          ],
          [
           "Home repair or renovation"
          ],
          [
           "Home repair or renovation"
          ],
          [
           "Home repair or renovation"
          ],
          [
           "Home repair or renovation"
          ],
          [
           "Home repair or renovation"
          ],
          [
           "Home repair or renovation"
          ],
          [
           "Home repair or renovation"
          ],
          [
           "Home repair or renovation"
          ],
          [
           "Home repair or renovation"
          ],
          [
           "Home repair or renovation"
          ],
          [
           "Home repair or renovation"
          ],
          [
           "Home repair or renovation"
          ],
          [
           "Home repair or renovation"
          ],
          [
           "Home repair or renovation"
          ],
          [
           "Home repair or renovation"
          ],
          [
           "Home repair or renovation"
          ],
          [
           "Home repair or renovation"
          ],
          [
           "Home repair or renovation"
          ],
          [
           "Home repair or renovation"
          ],
          [
           "Home repair or renovation"
          ],
          [
           "Home repair or renovation"
          ],
          [
           "Home repair or renovation"
          ],
          [
           "Home repair or renovation"
          ],
          [
           "Home repair or renovation"
          ],
          [
           "Home repair or renovation"
          ],
          [
           "Home repair or renovation"
          ],
          [
           "Home repair or renovation"
          ],
          [
           "Home repair or renovation"
          ],
          [
           "Home repair or renovation"
          ],
          [
           "Home repair or renovation"
          ],
          [
           "Home repair or renovation"
          ],
          [
           "Home repair or renovation"
          ],
          [
           "Home repair or renovation"
          ],
          [
           "Home repair or renovation"
          ],
          [
           "Home repair or renovation"
          ],
          [
           "Home repair or renovation"
          ],
          [
           "Home repair or renovation"
          ],
          [
           "Home repair or renovation"
          ],
          [
           "Home repair or renovation"
          ],
          [
           "Home repair or renovation"
          ],
          [
           "Home repair or renovation"
          ],
          [
           "Home repair or renovation"
          ],
          [
           "Home repair or renovation"
          ],
          [
           "Home repair or renovation"
          ],
          [
           "Home repair or renovation"
          ],
          [
           "Home repair or renovation"
          ],
          [
           "Home repair or renovation"
          ],
          [
           "Home repair or renovation"
          ],
          [
           "Home repair or renovation"
          ],
          [
           "Home repair or renovation"
          ],
          [
           "Home repair or renovation"
          ],
          [
           "Home repair or renovation"
          ],
          [
           "Home repair or renovation"
          ],
          [
           "Home repair or renovation"
          ],
          [
           "Home repair or renovation"
          ],
          [
           "Home repair or renovation"
          ],
          [
           "Home repair or renovation"
          ],
          [
           "Sports"
          ],
          [
           "Sports"
          ],
          [
           "Sports"
          ],
          [
           "Sports"
          ],
          [
           "Sports"
          ],
          [
           "Sports"
          ],
          [
           "Sports"
          ],
          [
           "Sports"
          ],
          [
           "Sports"
          ],
          [
           "Sports"
          ],
          [
           "Sports"
          ],
          [
           "Sports"
          ],
          [
           "Sports"
          ],
          [
           "Sports"
          ],
          [
           "Sports"
          ],
          [
           "Sports"
          ],
          [
           "Sports"
          ],
          [
           "Sports"
          ],
          [
           "Sports"
          ],
          [
           "Sports"
          ],
          [
           "Sports"
          ],
          [
           "Sports"
          ],
          [
           "Sports"
          ],
          [
           "Sports"
          ],
          [
           "Sports"
          ],
          [
           "Sports"
          ],
          [
           "Sports"
          ],
          [
           "Sports"
          ],
          [
           "Sports"
          ],
          [
           "Sports"
          ],
          [
           "Sports"
          ],
          [
           "Sports"
          ],
          [
           "Sports"
          ],
          [
           "Sports"
          ],
          [
           "Sports"
          ],
          [
           "Sports"
          ],
          [
           "Sports"
          ],
          [
           "Sports"
          ],
          [
           "Sports"
          ],
          [
           "Sports"
          ],
          [
           "Sports"
          ],
          [
           "Sports"
          ],
          [
           "Sports"
          ],
          [
           "Sports"
          ],
          [
           "Sports"
          ],
          [
           "Sports"
          ],
          [
           "Sports"
          ],
          [
           "Sports"
          ],
          [
           "Sports"
          ],
          [
           "Sports"
          ],
          [
           "Sports"
          ],
          [
           "Sports"
          ],
          [
           "Sports"
          ],
          [
           "Sports"
          ],
          [
           "Sports"
          ],
          [
           "Sports"
          ],
          [
           "Sports"
          ],
          [
           "Sports"
          ],
          [
           "Sports"
          ],
          [
           "Sports"
          ],
          [
           "Sports"
          ],
          [
           "Sports"
          ],
          [
           "Sports"
          ],
          [
           "Sports"
          ],
          [
           "Sports"
          ],
          [
           "Sports"
          ],
          [
           "Sports"
          ],
          [
           "Sports"
          ],
          [
           "Sports"
          ],
          [
           "Sports"
          ],
          [
           "Sports"
          ],
          [
           "Sports"
          ],
          [
           "Sports"
          ],
          [
           "Sports"
          ],
          [
           "Sports"
          ],
          [
           "Football"
          ],
          [
           "Football"
          ],
          [
           "Football"
          ],
          [
           "Football"
          ],
          [
           "Football"
          ],
          [
           "Football"
          ],
          [
           "Football"
          ],
          [
           "Football"
          ],
          [
           "Football"
          ],
          [
           "Football"
          ],
          [
           "Football"
          ],
          [
           "Football"
          ],
          [
           "Football"
          ],
          [
           "Football"
          ],
          [
           "Football"
          ],
          [
           "Football"
          ],
          [
           "Football"
          ],
          [
           "Football"
          ],
          [
           "Football"
          ],
          [
           "Football"
          ],
          [
           "Football"
          ],
          [
           "Football"
          ],
          [
           "Football"
          ],
          [
           "Football"
          ],
          [
           "Football"
          ],
          [
           "Football"
          ],
          [
           "Football"
          ],
          [
           "Football"
          ],
          [
           "Football"
          ],
          [
           "Football"
          ],
          [
           "Football"
          ],
          [
           "Football"
          ],
          [
           "Football"
          ],
          [
           "Football"
          ],
          [
           "Football"
          ],
          [
           "Football"
          ],
          [
           "Football"
          ],
          [
           "Football"
          ],
          [
           "Football"
          ],
          [
           "Football"
          ],
          [
           "Football"
          ],
          [
           "Football"
          ],
          [
           "Football"
          ],
          [
           "Basketball"
          ],
          [
           "Basketball"
          ],
          [
           "Basketball"
          ],
          [
           "Basketball"
          ],
          [
           "Basketball"
          ],
          [
           "Basketball"
          ],
          [
           "Basketball"
          ],
          [
           "Basketball"
          ],
          [
           "Basketball"
          ],
          [
           "Basketball"
          ],
          [
           "Basketball"
          ],
          [
           "Basketball"
          ],
          [
           "Basketball"
          ],
          [
           "Basketball"
          ],
          [
           "Basketball"
          ],
          [
           "Basketball"
          ],
          [
           "Basketball"
          ],
          [
           "Basketball"
          ],
          [
           "Basketball"
          ],
          [
           "Basketball"
          ],
          [
           "Basketball"
          ],
          [
           "Basketball"
          ],
          [
           "Basketball"
          ],
          [
           "Basketball"
          ],
          [
           "Basketball"
          ],
          [
           "Basketball"
          ],
          [
           "Basketball"
          ],
          [
           "Basketball"
          ],
          [
           "Basketball"
          ],
          [
           "Basketball"
          ],
          [
           "Basketball"
          ],
          [
           "Basketball"
          ],
          [
           "Basketball"
          ],
          [
           "Basketball"
          ],
          [
           "American football"
          ],
          [
           "American football"
          ],
          [
           "American football"
          ],
          [
           "American football"
          ],
          [
           "American football"
          ],
          [
           "American football"
          ],
          [
           "American football"
          ],
          [
           "American football"
          ],
          [
           "American football"
          ],
          [
           "American football"
          ],
          [
           "American football"
          ],
          [
           "American football"
          ],
          [
           "American football"
          ],
          [
           "Cricket"
          ],
          [
           "Cricket"
          ],
          [
           "Cricket"
          ],
          [
           "Cricket"
          ],
          [
           "Cricket"
          ],
          [
           "Cricket"
          ],
          [
           "Cricket"
          ],
          [
           "Cricket"
          ],
          [
           "Cricket"
          ],
          [
           "Cricket"
          ],
          [
           "Cricket"
          ],
          [
           "Cricket"
          ],
          [
           "Cricket"
          ],
          [
           "Cricket"
          ],
          [
           "Cricket"
          ],
          [
           "Cricket"
          ],
          [
           "Cricket"
          ],
          [
           "Cricket"
          ],
          [
           "Cricket"
          ],
          [
           "Cricket"
          ],
          [
           "Cricket"
          ],
          [
           "Cricket"
          ],
          [
           "Cricket"
          ],
          [
           "Cricket"
          ],
          [
           "Cricket"
          ],
          [
           "Cricket"
          ],
          [
           "Baseball"
          ],
          [
           "Baseball"
          ],
          [
           "Baseball"
          ],
          [
           "Baseball"
          ],
          [
           "Baseball"
          ],
          [
           "Baseball"
          ],
          [
           "Baseball"
          ],
          [
           "Baseball"
          ],
          [
           "Baseball"
          ],
          [
           "Baseball"
          ],
          [
           "Baseball"
          ],
          [
           "Baseball"
          ],
          [
           "Baseball"
          ],
          [
           "Baseball"
          ],
          [
           "Baseball"
          ],
          [
           "Baseball"
          ],
          [
           "Music"
          ],
          [
           "Music"
          ],
          [
           "Music"
          ],
          [
           "Music"
          ],
          [
           "Music"
          ],
          [
           "Music"
          ],
          [
           "Music"
          ],
          [
           "Music"
          ],
          [
           "Music"
          ],
          [
           "Music"
          ],
          [
           "Music"
          ],
          [
           "Music"
          ],
          [
           "Music"
          ],
          [
           "Music"
          ],
          [
           "Music"
          ],
          [
           "Music"
          ],
          [
           "Music"
          ],
          [
           "Music"
          ],
          [
           "Music"
          ],
          [
           "Music"
          ],
          [
           "Music"
          ],
          [
           "Music"
          ],
          [
           "Music"
          ],
          [
           "Music"
          ],
          [
           "Music"
          ],
          [
           "Music"
          ],
          [
           "Music"
          ],
          [
           "Music"
          ],
          [
           "Music"
          ],
          [
           "Music"
          ],
          [
           "Music"
          ],
          [
           "Music"
          ],
          [
           "Music"
          ],
          [
           "Music"
          ],
          [
           "Music"
          ],
          [
           "Music"
          ],
          [
           "Music"
          ],
          [
           "Music"
          ],
          [
           "Music"
          ],
          [
           "Music"
          ],
          [
           "Music"
          ],
          [
           "Music"
          ],
          [
           "Music"
          ],
          [
           "Music"
          ],
          [
           "Music"
          ],
          [
           "Music"
          ],
          [
           "Music"
          ],
          [
           "Music"
          ],
          [
           "Music"
          ],
          [
           "Music"
          ],
          [
           "Music"
          ],
          [
           "Music"
          ],
          [
           "Music"
          ],
          [
           "Music"
          ],
          [
           "Music"
          ],
          [
           "Music"
          ],
          [
           "Music"
          ],
          [
           "Music"
          ],
          [
           "Music"
          ],
          [
           "Music"
          ],
          [
           "Music"
          ],
          [
           "Music"
          ],
          [
           "Music"
          ],
          [
           "Music"
          ],
          [
           "Music"
          ],
          [
           "Music"
          ],
          [
           "Music"
          ],
          [
           "Music"
          ],
          [
           "Music"
          ],
          [
           "Music"
          ],
          [
           "Music"
          ],
          [
           "Music"
          ],
          [
           "Music"
          ],
          [
           "Music"
          ],
          [
           "Music"
          ],
          [
           "Music"
          ],
          [
           "Music"
          ],
          [
           "Music"
          ],
          [
           "Music"
          ],
          [
           "Music"
          ],
          [
           "Music"
          ],
          [
           "Music"
          ],
          [
           "Piano tutorial"
          ],
          [
           "Piano tutorial"
          ],
          [
           "Piano tutorial"
          ],
          [
           "Piano tutorial"
          ],
          [
           "Piano tutorial"
          ],
          [
           "Piano tutorial"
          ],
          [
           "Piano tutorial"
          ],
          [
           "Piano tutorial"
          ],
          [
           "Piano tutorial"
          ],
          [
           "Piano tutorial"
          ],
          [
           "Piano tutorial"
          ],
          [
           "Piano tutorial"
          ],
          [
           "Piano tutorial"
          ],
          [
           "Piano tutorial"
          ],
          [
           "Piano tutorial"
          ],
          [
           "Piano tutorial"
          ],
          [
           "Guitar tutorial"
          ],
          [
           "Guitar tutorial"
          ],
          [
           "Guitar tutorial"
          ],
          [
           "Guitar tutorial"
          ],
          [
           "Guitar tutorial"
          ],
          [
           "Guitar tutorial"
          ],
          [
           "Guitar tutorial"
          ],
          [
           "Guitar tutorial"
          ],
          [
           "Guitar tutorial"
          ],
          [
           "Guitar tutorial"
          ],
          [
           "Guitar tutorial"
          ],
          [
           "Guitar tutorial"
          ],
          [
           "Guitar tutorial"
          ],
          [
           "Guitar tutorial"
          ],
          [
           "Guitar tutorial"
          ],
          [
           "Guitar tutorial"
          ],
          [
           "Guitar tutorial"
          ],
          [
           "Guitar tutorial"
          ],
          [
           "Guitar tutorial"
          ],
          [
           "Violin tutorial"
          ],
          [
           "Violin tutorial"
          ],
          [
           "Violin tutorial"
          ],
          [
           "Drums tutorial"
          ],
          [
           "Drums tutorial"
          ],
          [
           "Drums tutorial"
          ],
          [
           "Drums tutorial"
          ],
          [
           "Drums tutorial"
          ],
          [
           "Drums tutorial"
          ],
          [
           "Drums tutorial"
          ],
          [
           "Drums tutorial"
          ],
          [
           "Ukulele tutorial"
          ],
          [
           "Ukulele tutorial"
          ],
          [
           "Artists 2010"
          ],
          [
           "Artists 2010"
          ],
          [
           "Artists 2010"
          ],
          [
           "Artists 2010"
          ],
          [
           "Artists 2010"
          ],
          [
           "Artists 2010"
          ],
          [
           "Artists 2010"
          ],
          [
           "Artists 2010"
          ],
          [
           "Artists 2010"
          ],
          [
           "Artists 2010"
          ],
          [
           "Artists 2010"
          ],
          [
           "Artists 2010"
          ],
          [
           "Artists 2010"
          ],
          [
           "Artists 2010"
          ],
          [
           "Artists 2010"
          ],
          [
           "Artists 2010"
          ],
          [
           "Artists 2010"
          ],
          [
           "Artists 2010"
          ],
          [
           "Artists 2010"
          ],
          [
           "Artists 2010"
          ],
          [
           "Artists 2010"
          ],
          [
           "Artists 2010"
          ],
          [
           "Artists 2010"
          ],
          [
           "Artists 2010"
          ],
          [
           "Artists 2010"
          ],
          [
           "Artists 2010"
          ],
          [
           "Artists 2010"
          ],
          [
           "Artists 2010"
          ],
          [
           "Artists 2010"
          ],
          [
           "Artists 2010"
          ],
          [
           "Artists 2010"
          ],
          [
           "Artists 2010"
          ],
          [
           "Artists 2010"
          ],
          [
           "Artists 2010"
          ],
          [
           "Artists 2010"
          ],
          [
           "Artists 2010"
          ],
          [
           "Artists 2010"
          ],
          [
           "Artists 2010"
          ],
          [
           "Artists 2010"
          ],
          [
           "Artists 2010"
          ],
          [
           "Artists 2010"
          ],
          [
           "Artists 2010"
          ],
          [
           "Artists 2010"
          ],
          [
           "Artists 2010"
          ],
          [
           "Artists 2010"
          ],
          [
           "Artists 2010"
          ],
          [
           "Artists 2010"
          ],
          [
           "Artists 2010"
          ],
          [
           "Artists 2010"
          ],
          [
           "Artists 2010"
          ],
          [
           "Artists 2010"
          ],
          [
           "Artists 2010"
          ],
          [
           "Artists 2010"
          ],
          [
           "Classical music"
          ],
          [
           "Classical music"
          ],
          [
           "Classical music"
          ],
          [
           "Classical music"
          ],
          [
           "Classical music"
          ],
          [
           "Classical music"
          ],
          [
           "Classical music"
          ],
          [
           "Classical music"
          ],
          [
           "Classical music"
          ],
          [
           "Classical music"
          ],
          [
           "Classical music"
          ],
          [
           "Classical music"
          ],
          [
           "Classical music"
          ],
          [
           "Classical music"
          ],
          [
           "Classical music"
          ],
          [
           "Classical music"
          ],
          [
           "Classical music"
          ],
          [
           "Classical music"
          ],
          [
           "Classical music"
          ],
          [
           "Classical music"
          ],
          [
           "Classical music"
          ],
          [
           "Classical music"
          ],
          [
           "Classical music"
          ],
          [
           "Classical music"
          ],
          [
           "Classical music"
          ],
          [
           "Classical music"
          ],
          [
           "Classical music"
          ],
          [
           "Classical music"
          ],
          [
           "Classical music"
          ],
          [
           "Classical music"
          ],
          [
           "Classical music"
          ],
          [
           "Classical music"
          ],
          [
           "Classical music"
          ],
          [
           "Classical music"
          ],
          [
           "Classical music"
          ],
          [
           "Classical music"
          ],
          [
           "Classical music"
          ],
          [
           "Classical music"
          ],
          [
           "Classical music"
          ],
          [
           "Classical music"
          ],
          [
           "Classical music"
          ],
          [
           "Classical music"
          ],
          [
           "Classical music"
          ],
          [
           "Classical music"
          ],
          [
           "Classical music"
          ],
          [
           "Classical music"
          ],
          [
           "Classical music"
          ],
          [
           "Classical music"
          ],
          [
           "Classical music"
          ],
          [
           "Classical music"
          ],
          [
           "Dances"
          ],
          [
           "Dances"
          ],
          [
           "Dances"
          ],
          [
           "Dances"
          ],
          [
           "Dances"
          ],
          [
           "Dances"
          ],
          [
           "Dances"
          ],
          [
           "Dances"
          ],
          [
           "Dances"
          ],
          [
           "Dances"
          ],
          [
           "Dances"
          ],
          [
           "Dances"
          ],
          [
           "Dances"
          ],
          [
           "Dances"
          ],
          [
           "Dances"
          ],
          [
           "Dances"
          ],
          [
           "Dances"
          ],
          [
           "Dances"
          ],
          [
           "Dances"
          ],
          [
           "Dances"
          ],
          [
           "Dances"
          ],
          [
           "Dances"
          ],
          [
           "Dances"
          ],
          [
           "Dances"
          ],
          [
           "Dances"
          ],
          [
           "Dances"
          ],
          [
           "Dances"
          ],
          [
           "Dances"
          ],
          [
           "Dances"
          ],
          [
           "Dances"
          ],
          [
           "Dances"
          ],
          [
           "Dances"
          ],
          [
           "Dances"
          ],
          [
           "Dances"
          ],
          [
           "Dances"
          ],
          [
           "Dances"
          ],
          [
           "Dances"
          ],
          [
           "Dances"
          ],
          [
           "Dances"
          ],
          [
           "Dances"
          ],
          [
           "Dances"
          ],
          [
           "Dances"
          ],
          [
           "Dances"
          ],
          [
           "Dances"
          ],
          [
           "Dances"
          ],
          [
           "Dances"
          ],
          [
           "Gaming"
          ],
          [
           "Gaming"
          ],
          [
           "Gaming"
          ],
          [
           "Gaming"
          ],
          [
           "Gaming"
          ],
          [
           "Gaming"
          ],
          [
           "Gaming"
          ],
          [
           "Gaming"
          ],
          [
           "Gaming"
          ],
          [
           "Gaming"
          ],
          [
           "Gaming"
          ],
          [
           "Gaming"
          ],
          [
           "Gaming"
          ],
          [
           "Gaming"
          ],
          [
           "Gaming"
          ],
          [
           "Gaming"
          ],
          [
           "Gaming"
          ],
          [
           "Gaming"
          ],
          [
           "Gaming"
          ],
          [
           "Gaming"
          ],
          [
           "Gaming"
          ],
          [
           "Gaming"
          ],
          [
           "Gaming"
          ],
          [
           "Gaming"
          ],
          [
           "Gaming"
          ],
          [
           "Gaming"
          ],
          [
           "Gaming"
          ],
          [
           "Gaming"
          ],
          [
           "Gaming"
          ],
          [
           "Gaming"
          ],
          [
           "Gaming"
          ],
          [
           "Gaming"
          ],
          [
           "Gaming"
          ],
          [
           "Gaming"
          ],
          [
           "Gaming"
          ],
          [
           "Gaming"
          ],
          [
           "Gaming"
          ],
          [
           "Gaming"
          ],
          [
           "Gaming"
          ],
          [
           "Gaming"
          ],
          [
           "Gaming"
          ],
          [
           "Gaming"
          ],
          [
           "Gaming"
          ],
          [
           "Gaming"
          ],
          [
           "Gaming"
          ],
          [
           "Gaming"
          ],
          [
           "Gaming"
          ],
          [
           "Gaming"
          ],
          [
           "Gaming"
          ],
          [
           "Gaming"
          ],
          [
           "Gaming"
          ],
          [
           "Gaming"
          ],
          [
           "Gaming"
          ],
          [
           "Gaming"
          ],
          [
           "Gaming"
          ],
          [
           "Gaming"
          ],
          [
           "Gaming"
          ],
          [
           "Gaming"
          ],
          [
           "Chess"
          ],
          [
           "Chess"
          ],
          [
           "Chess"
          ],
          [
           "Chess"
          ],
          [
           "Chess"
          ],
          [
           "Chess"
          ],
          [
           "Chess"
          ],
          [
           "Chess"
          ],
          [
           "Chess"
          ],
          [
           "Chess"
          ],
          [
           "Chess"
          ],
          [
           "Chess"
          ],
          [
           "Chess"
          ],
          [
           "Chess"
          ],
          [
           "Chess"
          ],
          [
           "Chess"
          ],
          [
           "Chess"
          ],
          [
           "Chess"
          ],
          [
           "Chess"
          ],
          [
           "Chess"
          ],
          [
           "Chess"
          ],
          [
           "Roblox"
          ],
          [
           "Roblox"
          ],
          [
           "Roblox"
          ],
          [
           "Roblox"
          ],
          [
           "Roblox"
          ],
          [
           "Roblox"
          ],
          [
           "Roblox"
          ],
          [
           "Roblox"
          ],
          [
           "Roblox"
          ],
          [
           "Roblox"
          ],
          [
           "Roblox"
          ],
          [
           "Roblox"
          ],
          [
           "Roblox"
          ],
          [
           "Roblox"
          ],
          [
           "Roblox"
          ],
          [
           "Roblox"
          ],
          [
           "Minecraft"
          ],
          [
           "Minecraft"
          ],
          [
           "Minecraft"
          ],
          [
           "Minecraft"
          ],
          [
           "Minecraft"
          ],
          [
           "Minecraft"
          ],
          [
           "Minecraft"
          ],
          [
           "Minecraft"
          ],
          [
           "Minecraft"
          ],
          [
           "Minecraft"
          ],
          [
           "Minecraft"
          ],
          [
           "Minecraft"
          ],
          [
           "Minecraft"
          ],
          [
           "Minecraft"
          ],
          [
           "Minecraft"
          ],
          [
           "Minecraft"
          ],
          [
           "Minecraft"
          ],
          [
           "Minecraft"
          ],
          [
           "Minecraft"
          ],
          [
           "Minecraft"
          ],
          [
           "Minecraft"
          ],
          [
           "Minecraft"
          ],
          [
           "Minecraft"
          ],
          [
           "Minecraft"
          ],
          [
           "Minecraft"
          ],
          [
           "Minecraft"
          ],
          [
           "Minecraft"
          ],
          [
           "Minecraft"
          ],
          [
           "Minecraft"
          ],
          [
           "Minecraft"
          ],
          [
           "Minecraft"
          ],
          [
           "Minecraft"
          ],
          [
           "Minecraft"
          ],
          [
           "Minecraft"
          ],
          [
           "Minecraft"
          ],
          [
           "Pubg"
          ],
          [
           "Pubg"
          ],
          [
           "Pubg"
          ],
          [
           "Pubg"
          ],
          [
           "Pubg"
          ],
          [
           "Pubg"
          ],
          [
           "Pubg"
          ],
          [
           "Pubg"
          ],
          [
           "Pubg"
          ],
          [
           "Pubg"
          ],
          [
           "Pubg"
          ],
          [
           "Pubg"
          ],
          [
           "Pubg"
          ],
          [
           "Pubg"
          ],
          [
           "Pubg"
          ],
          [
           "Pubg"
          ],
          [
           "Pubg"
          ],
          [
           "Pubg"
          ],
          [
           "Pubg"
          ],
          [
           "Pubg"
          ],
          [
           "Pubg"
          ],
          [
           "Pubg"
          ],
          [
           "Pubg"
          ],
          [
           "League of legends"
          ],
          [
           "League of legends"
          ],
          [
           "League of legends"
          ],
          [
           "League of legends"
          ],
          [
           "League of legends"
          ],
          [
           "League of legends"
          ],
          [
           "League of legends"
          ],
          [
           "League of legends"
          ],
          [
           "League of legends"
          ],
          [
           "League of legends"
          ],
          [
           "League of legends"
          ],
          [
           "League of legends"
          ],
          [
           "League of legends"
          ],
          [
           "League of legends"
          ],
          [
           "League of legends"
          ],
          [
           "League of legends"
          ],
          [
           "League of legends"
          ],
          [
           "League of legends"
          ],
          [
           "League of legends"
          ],
          [
           "Call of duty"
          ],
          [
           "Call of duty"
          ],
          [
           "Call of duty"
          ],
          [
           "Call of duty"
          ],
          [
           "Call of duty"
          ],
          [
           "Call of duty"
          ],
          [
           "Call of duty"
          ],
          [
           "Call of duty"
          ],
          [
           "Call of duty"
          ],
          [
           "Call of duty"
          ],
          [
           "Call of duty"
          ],
          [
           "Call of duty"
          ],
          [
           "Call of duty"
          ],
          [
           "Call of duty"
          ],
          [
           "Call of duty"
          ],
          [
           "Call of duty"
          ],
          [
           "Call of duty"
          ],
          [
           "Call of duty"
          ],
          [
           "Call of duty"
          ],
          [
           "Call of duty"
          ],
          [
           "Call of duty"
          ],
          [
           "Pokemon"
          ],
          [
           "Pokemon"
          ],
          [
           "Pokemon"
          ],
          [
           "Pokemon"
          ],
          [
           "Pokemon"
          ],
          [
           "Pokemon"
          ],
          [
           "Pokemon"
          ],
          [
           "Pokemon"
          ],
          [
           "Pokemon"
          ],
          [
           "Pokemon"
          ],
          [
           "Pokemon"
          ],
          [
           "Pokemon"
          ],
          [
           "Pokemon"
          ],
          [
           "Pokemon"
          ],
          [
           "Pokemon"
          ],
          [
           "Pokemon"
          ],
          [
           "Pokemon"
          ],
          [
           "Pokemon"
          ],
          [
           "Pokemon"
          ],
          [
           "Pokemon"
          ],
          [
           "Pokemon"
          ],
          [
           "Super mario"
          ],
          [
           "Super mario"
          ],
          [
           "Super mario"
          ],
          [
           "Super mario"
          ],
          [
           "Super mario"
          ],
          [
           "Super mario"
          ],
          [
           "Super mario"
          ],
          [
           "Super mario"
          ],
          [
           "Super mario"
          ],
          [
           "Super mario"
          ],
          [
           "Super mario"
          ],
          [
           "Super mario"
          ],
          [
           "Super mario"
          ],
          [
           "Super mario"
          ],
          [
           "Super mario"
          ],
          [
           "Super mario"
          ],
          [
           "Super mario"
          ],
          [
           "Super mario"
          ],
          [
           "Super mario"
          ],
          [
           "Super mario"
          ],
          [
           "Super mario"
          ],
          [
           "Super mario"
          ],
          [
           "Super mario"
          ],
          [
           "Super mario"
          ],
          [
           "Super mario"
          ],
          [
           "Super mario"
          ],
          [
           "Super mario"
          ],
          [
           "Super mario"
          ],
          [
           "Super mario"
          ],
          [
           "Super mario"
          ],
          [
           "Super mario"
          ],
          [
           "Super mario"
          ],
          [
           "Super mario"
          ],
          [
           "Super mario"
          ],
          [
           "Super mario"
          ],
          [
           "Super mario"
          ],
          [
           "Super mario"
          ],
          [
           "Super mario"
          ],
          [
           "History"
          ],
          [
           "(?)"
          ],
          [
           "(?)"
          ],
          [
           "(?)"
          ],
          [
           "(?)"
          ],
          [
           "(?)"
          ],
          [
           "(?)"
          ],
          [
           "(?)"
          ],
          [
           "(?)"
          ],
          [
           "(?)"
          ],
          [
           "(?)"
          ],
          [
           "(?)"
          ],
          [
           "(?)"
          ],
          [
           "Music"
          ],
          [
           "(?)"
          ],
          [
           "(?)"
          ],
          [
           "(?)"
          ],
          [
           "Home repair or renovation"
          ],
          [
           "(?)"
          ],
          [
           "(?)"
          ],
          [
           "(?)"
          ],
          [
           "(?)"
          ],
          [
           "(?)"
          ],
          [
           "(?)"
          ],
          [
           "(?)"
          ],
          [
           "(?)"
          ],
          [
           "(?)"
          ],
          [
           "(?)"
          ],
          [
           "(?)"
          ],
          [
           "(?)"
          ],
          [
           "(?)"
          ],
          [
           "(?)"
          ],
          [
           "(?)"
          ],
          [
           "Football"
          ],
          [
           "(?)"
          ],
          [
           "(?)"
          ],
          [
           "(?)"
          ],
          [
           "(?)"
          ],
          [
           "(?)"
          ],
          [
           "(?)"
          ],
          [
           "Music"
          ],
          [
           "(?)"
          ],
          [
           "(?)"
          ],
          [
           "Wildlife or animals or nature"
          ],
          [
           "(?)"
          ],
          [
           "(?)"
          ],
          [
           "Religion or spirituality"
          ],
          [
           "(?)"
          ],
          [
           "(?)"
          ],
          [
           "(?)"
          ],
          [
           "(?)"
          ],
          [
           "(?)"
          ],
          [
           "(?)"
          ],
          [
           "(?)"
          ],
          [
           "Religion or spirituality"
          ],
          [
           "(?)"
          ],
          [
           "(?)"
          ],
          [
           "(?)"
          ],
          [
           "(?)"
          ],
          [
           "(?)"
          ],
          [
           "(?)"
          ],
          [
           "(?)"
          ],
          [
           "(?)"
          ],
          [
           "(?)"
          ],
          [
           "(?)"
          ],
          [
           "(?)"
          ],
          [
           "Machine learning"
          ],
          [
           "(?)"
          ],
          [
           "(?)"
          ],
          [
           "(?)"
          ],
          [
           "(?)"
          ],
          [
           "(?)"
          ],
          [
           "(?)"
          ],
          [
           "(?)"
          ],
          [
           "(?)"
          ],
          [
           "(?)"
          ],
          [
           "Geopolitics"
          ],
          [
           "(?)"
          ],
          [
           "Music"
          ],
          [
           "(?)"
          ],
          [
           "(?)"
          ],
          [
           "(?)"
          ],
          [
           "(?)"
          ],
          [
           "(?)"
          ],
          [
           "(?)"
          ],
          [
           "(?)"
          ],
          [
           "(?)"
          ],
          [
           "(?)"
          ],
          [
           "(?)"
          ],
          [
           "(?)"
          ],
          [
           "(?)"
          ],
          [
           "(?)"
          ],
          [
           "(?)"
          ],
          [
           "(?)"
          ],
          [
           "(?)"
          ],
          [
           "(?)"
          ],
          [
           "(?)"
          ],
          [
           "(?)"
          ],
          [
           "(?)"
          ],
          [
           "(?)"
          ],
          [
           "(?)"
          ],
          [
           "(?)"
          ],
          [
           "(?)"
          ],
          [
           "(?)"
          ],
          [
           "(?)"
          ],
          [
           "(?)"
          ],
          [
           "(?)"
          ],
          [
           "(?)"
          ],
          [
           "(?)"
          ],
          [
           "(?)"
          ],
          [
           "(?)"
          ],
          [
           "(?)"
          ]
         ],
         "domain": {
          "x": [
           0,
           1
          ],
          "y": [
           0,
           1
          ]
         },
         "hovertemplate": "<b>%{label}: %{customdata}</b><br># videos: %{value}",
         "ids": [
          "Afghanistan/20",
          "Antarctica/20",
          "Australia/20",
          "Austria/20",
          "Azerbaijan/20",
          "Bangladesh/20",
          "Belarus/20",
          "Belgium/20",
          "Bermuda/20",
          "Brazil/20",
          "Bulgaria/20",
          "Cambodia/20",
          "Canada/20",
          "Chile/20",
          "China/20",
          "Colombia/20",
          "Costa Rica/20",
          "Croatia/20",
          "Cyprus/20",
          "Czechia/20",
          "Denmark/20",
          "Ecuador/20",
          "Egypt/20",
          "Estonia/20",
          "Finland/20",
          "France/20",
          "Germany/20",
          "Ghana/20",
          "Greece/20",
          "Hong Kong/20",
          "Hungary/20",
          "India/20",
          "Indonesia/20",
          "Iraq/20",
          "Ireland/20",
          "Isle of Man/20",
          "Israel/20",
          "Italy/20",
          "Japan/20",
          "Kenya/20",
          "Korea, Republic of/20",
          "Lebanon/20",
          "Lithuania/20",
          "Luxembourg/20",
          "Malaysia/20",
          "Mexico/20",
          "Nepal/20",
          "Netherlands/20",
          "New Zealand/20",
          "Nigeria/20",
          "North Macedonia/20",
          "Norway/20",
          "Pakistan/20",
          "Philippines/20",
          "Poland/20",
          "Portugal/20",
          "Puerto Rico/20",
          "Qatar/20",
          "Romania/20",
          "Russian Federation/20",
          "Saudi Arabia/20",
          "Serbia/20",
          "Singapore/20",
          "Slovakia/20",
          "Slovenia/20",
          "South Africa/20",
          "Spain/20",
          "Sri Lanka/20",
          "Svalbard and Jan Mayen/20",
          "Sweden/20",
          "Switzerland/20",
          "Taiwan, Province of China/20",
          "Thailand/20",
          "Türkiye/20",
          "Uganda/20",
          "Ukraine/20",
          "United Arab Emirates/20",
          "United Kingdom/20",
          "United States/20",
          "United States Minor Outlying Islands/20",
          "Viet Nam/20",
          "Andorra/21",
          "Antarctica/21",
          "Australia/21",
          "Austria/21",
          "Bahamas/21",
          "Bahrain/21",
          "Bangladesh/21",
          "Belgium/21",
          "Bermuda/21",
          "Brazil/21",
          "Bulgaria/21",
          "Canada/21",
          "Chile/21",
          "China/21",
          "Colombia/21",
          "Costa Rica/21",
          "Croatia/21",
          "Cyprus/21",
          "Czechia/21",
          "Denmark/21",
          "Ecuador/21",
          "Egypt/21",
          "Estonia/21",
          "Finland/21",
          "France/21",
          "Germany/21",
          "Ghana/21",
          "Greece/21",
          "Hong Kong/21",
          "Hungary/21",
          "India/21",
          "Indonesia/21",
          "Iran, Islamic Republic of/21",
          "Iraq/21",
          "Ireland/21",
          "Isle of Man/21",
          "Israel/21",
          "Italy/21",
          "Jamaica/21",
          "Japan/21",
          "Jordan/21",
          "Kenya/21",
          "Korea, Republic of/21",
          "Kuwait/21",
          "Latvia/21",
          "Lebanon/21",
          "Lithuania/21",
          "Luxembourg/21",
          "Malaysia/21",
          "Mexico/21",
          "Morocco/21",
          "Nepal/21",
          "Netherlands/21",
          "New Zealand/21",
          "Nigeria/21",
          "North Macedonia/21",
          "Norway/21",
          "Pakistan/21",
          "Philippines/21",
          "Poland/21",
          "Portugal/21",
          "Qatar/21",
          "Romania/21",
          "Russian Federation/21",
          "Saudi Arabia/21",
          "Serbia/21",
          "Singapore/21",
          "Slovakia/21",
          "South Africa/21",
          "Spain/21",
          "Sri Lanka/21",
          "Svalbard and Jan Mayen/21",
          "Sweden/21",
          "Switzerland/21",
          "Taiwan, Province of China/21",
          "Tanzania, United Republic of/21",
          "Thailand/21",
          "Türkiye/21",
          "Uganda/21",
          "Ukraine/21",
          "United Arab Emirates/21",
          "United Kingdom/21",
          "United States/21",
          "Viet Nam/21",
          "Virgin Islands, U.S./21",
          "Zimbabwe/21",
          "Algeria/22",
          "Argentina/22",
          "Australia/22",
          "Austria/22",
          "Bangladesh/22",
          "Belgium/22",
          "Bermuda/22",
          "Brazil/22",
          "Canada/22",
          "Colombia/22",
          "Czechia/22",
          "Denmark/22",
          "Egypt/22",
          "Estonia/22",
          "Finland/22",
          "France/22",
          "Germany/22",
          "Hong Kong/22",
          "Hungary/22",
          "India/22",
          "Indonesia/22",
          "Ireland/22",
          "Israel/22",
          "Italy/22",
          "Japan/22",
          "Kenya/22",
          "Korea, Republic of/22",
          "Lebanon/22",
          "Lithuania/22",
          "Malaysia/22",
          "Netherlands/22",
          "New Zealand/22",
          "Nigeria/22",
          "North Macedonia/22",
          "Norway/22",
          "Pakistan/22",
          "Philippines/22",
          "Poland/22",
          "Portugal/22",
          "Qatar/22",
          "Romania/22",
          "Saudi Arabia/22",
          "Singapore/22",
          "South Africa/22",
          "Spain/22",
          "Sri Lanka/22",
          "Sweden/22",
          "Switzerland/22",
          "Thailand/22",
          "Uganda/22",
          "United Arab Emirates/22",
          "United Kingdom/22",
          "United States/22",
          "Viet Nam/22",
          "Australia/24",
          "Bangladesh/24",
          "Belgium/24",
          "Canada/24",
          "Chile/24",
          "China/24",
          "Croatia/24",
          "Cyprus/24",
          "Finland/24",
          "France/24",
          "Germany/24",
          "Greece/24",
          "Hong Kong/24",
          "India/24",
          "Ireland/24",
          "Israel/24",
          "Italy/24",
          "Jamaica/24",
          "Japan/24",
          "Kenya/24",
          "Korea, Republic of/24",
          "Lebanon/24",
          "Lithuania/24",
          "Malaysia/24",
          "Netherlands/24",
          "New Zealand/24",
          "Nigeria/24",
          "Pakistan/24",
          "Palestine, State of/24",
          "Philippines/24",
          "Qatar/24",
          "Romania/24",
          "Saudi Arabia/24",
          "Serbia/24",
          "Singapore/24",
          "Slovakia/24",
          "South Africa/24",
          "Spain/24",
          "Sri Lanka/24",
          "Sweden/24",
          "Switzerland/24",
          "Uganda/24",
          "United Arab Emirates/24",
          "United Kingdom/24",
          "United States/24",
          "Andorra/25",
          "Australia/25",
          "Bangladesh/25",
          "Belgium/25",
          "Brazil/25",
          "Canada/25",
          "Chile/25",
          "Costa Rica/25",
          "Croatia/25",
          "Cyprus/25",
          "France/25",
          "Germany/25",
          "Hong Kong/25",
          "Hungary/25",
          "India/25",
          "Ireland/25",
          "Israel/25",
          "Italy/25",
          "Japan/25",
          "Kenya/25",
          "Korea, Republic of/25",
          "Luxembourg/25",
          "Malta/25",
          "Mexico/25",
          "Nepal/25",
          "Netherlands/25",
          "New Zealand/25",
          "Pakistan/25",
          "Panama/25",
          "Philippines/25",
          "Portugal/25",
          "Romania/25",
          "Russian Federation/25",
          "Singapore/25",
          "South Africa/25",
          "Spain/25",
          "Sweden/25",
          "Switzerland/25",
          "Thailand/25",
          "Türkiye/25",
          "Ukraine/25",
          "United Arab Emirates/25",
          "United Kingdom/25",
          "United States/25",
          "Algeria/3",
          "Argentina/3",
          "Australia/3",
          "Austria/3",
          "Bangladesh/3",
          "Belgium/3",
          "Brazil/3",
          "Cambodia/3",
          "Canada/3",
          "Chile/3",
          "China/3",
          "Colombia/3",
          "Costa Rica/3",
          "Croatia/3",
          "Czechia/3",
          "Denmark/3",
          "Egypt/3",
          "Estonia/3",
          "Finland/3",
          "France/3",
          "Germany/3",
          "Ghana/3",
          "Greece/3",
          "Hong Kong/3",
          "Hungary/3",
          "India/3",
          "Indonesia/3",
          "Ireland/3",
          "Israel/3",
          "Italy/3",
          "Jamaica/3",
          "Japan/3",
          "Kenya/3",
          "Korea, Republic of/3",
          "Lebanon/3",
          "Malaysia/3",
          "Malta/3",
          "Mexico/3",
          "Morocco/3",
          "Nepal/3",
          "Netherlands/3",
          "New Zealand/3",
          "Nigeria/3",
          "North Macedonia/3",
          "Norway/3",
          "Pakistan/3",
          "Philippines/3",
          "Poland/3",
          "Portugal/3",
          "Qatar/3",
          "Romania/3",
          "Russian Federation/3",
          "Serbia/3",
          "Singapore/3",
          "Slovenia/3",
          "South Africa/3",
          "Spain/3",
          "Sri Lanka/3",
          "Sweden/3",
          "Switzerland/3",
          "Taiwan, Province of China/3",
          "Thailand/3",
          "Türkiye/3",
          "Uganda/3",
          "Ukraine/3",
          "United Arab Emirates/3",
          "United Kingdom/3",
          "United States/3",
          "Viet Nam/3",
          "Virgin Islands, U.S./3",
          "Albania/4",
          "Argentina/4",
          "Australia/4",
          "Austria/4",
          "Bangladesh/4",
          "Belgium/4",
          "Brazil/4",
          "Bulgaria/4",
          "Cambodia/4",
          "Canada/4",
          "Chile/4",
          "Colombia/4",
          "Croatia/4",
          "Cyprus/4",
          "Czechia/4",
          "Denmark/4",
          "Egypt/4",
          "Estonia/4",
          "Finland/4",
          "France/4",
          "Georgia/4",
          "Germany/4",
          "Greece/4",
          "Hong Kong/4",
          "Hungary/4",
          "India/4",
          "Indonesia/4",
          "Iraq/4",
          "Ireland/4",
          "Israel/4",
          "Italy/4",
          "Jamaica/4",
          "Japan/4",
          "Kenya/4",
          "Korea, Republic of/4",
          "Latvia/4",
          "Lebanon/4",
          "Luxembourg/4",
          "Malaysia/4",
          "Malta/4",
          "Mexico/4",
          "Morocco/4",
          "Nepal/4",
          "Netherlands/4",
          "New Zealand/4",
          "Nigeria/4",
          "Norway/4",
          "Oman/4",
          "Pakistan/4",
          "Philippines/4",
          "Poland/4",
          "Portugal/4",
          "Romania/4",
          "Russian Federation/4",
          "Saudi Arabia/4",
          "Serbia/4",
          "Singapore/4",
          "Slovakia/4",
          "South Africa/4",
          "Spain/4",
          "Sri Lanka/4",
          "Sweden/4",
          "Switzerland/4",
          "Taiwan, Province of China/4",
          "Tajikistan/4",
          "Thailand/4",
          "Uganda/4",
          "Ukraine/4",
          "United Arab Emirates/4",
          "United Kingdom/4",
          "United States/4",
          "Algeria/41",
          "Australia/41",
          "Bangladesh/41",
          "Canada/41",
          "China/41",
          "Croatia/41",
          "Denmark/41",
          "Finland/41",
          "France/41",
          "Germany/41",
          "India/41",
          "Indonesia/41",
          "Ireland/41",
          "Israel/41",
          "Italy/41",
          "Korea, Republic of/41",
          "Malaysia/41",
          "Mexico/41",
          "Moldova, Republic of/41",
          "Nepal/41",
          "Netherlands/41",
          "New Zealand/41",
          "Pakistan/41",
          "Philippines/41",
          "Romania/41",
          "Russian Federation/41",
          "Singapore/41",
          "Slovakia/41",
          "South Africa/41",
          "Spain/41",
          "Sweden/41",
          "Switzerland/41",
          "Thailand/41",
          "United Arab Emirates/41",
          "United Kingdom/41",
          "United States/41",
          "Viet Nam/41",
          "Australia/6",
          "Canada/6",
          "France/6",
          "Germany/6",
          "India/6",
          "Kenya/6",
          "Malaysia/6",
          "Uganda/6",
          "United Kingdom/6",
          "United States/6",
          "Andorra/61",
          "Antarctica/61",
          "Australia/61",
          "Austria/61",
          "Bangladesh/61",
          "Belarus/61",
          "Belgium/61",
          "Bermuda/61",
          "Brazil/61",
          "Bulgaria/61",
          "Cambodia/61",
          "Canada/61",
          "China/61",
          "Colombia/61",
          "Costa Rica/61",
          "Croatia/61",
          "Czechia/61",
          "Denmark/61",
          "Ecuador/61",
          "Egypt/61",
          "Estonia/61",
          "Finland/61",
          "France/61",
          "Germany/61",
          "Ghana/61",
          "Greece/61",
          "Hong Kong/61",
          "Hungary/61",
          "India/61",
          "Indonesia/61",
          "Ireland/61",
          "Israel/61",
          "Italy/61",
          "Jamaica/61",
          "Japan/61",
          "Kenya/61",
          "Korea, Republic of/61",
          "Kuwait/61",
          "Lebanon/61",
          "Luxembourg/61",
          "Malaysia/61",
          "Mexico/61",
          "Morocco/61",
          "Nepal/61",
          "Netherlands/61",
          "New Zealand/61",
          "Nigeria/61",
          "Norway/61",
          "Pakistan/61",
          "Philippines/61",
          "Poland/61",
          "Portugal/61",
          "Romania/61",
          "Russian Federation/61",
          "Saudi Arabia/61",
          "Serbia/61",
          "Singapore/61",
          "Slovakia/61",
          "Slovenia/61",
          "South Africa/61",
          "Spain/61",
          "Sri Lanka/61",
          "Sweden/61",
          "Switzerland/61",
          "Taiwan, Province of China/61",
          "Thailand/61",
          "Uganda/61",
          "Ukraine/61",
          "United Arab Emirates/61",
          "United Kingdom/61",
          "United States/61",
          "Viet Nam/61",
          "Antarctica/62",
          "Argentina/62",
          "Australia/62",
          "Austria/62",
          "Bahamas/62",
          "Bangladesh/62",
          "Belgium/62",
          "Brazil/62",
          "Canada/62",
          "China/62",
          "Colombia/62",
          "Croatia/62",
          "Cyprus/62",
          "Czechia/62",
          "Denmark/62",
          "Egypt/62",
          "Estonia/62",
          "Finland/62",
          "France/62",
          "Germany/62",
          "Hong Kong/62",
          "Hungary/62",
          "Iceland/62",
          "India/62",
          "Indonesia/62",
          "Ireland/62",
          "Isle of Man/62",
          "Israel/62",
          "Italy/62",
          "Jamaica/62",
          "Japan/62",
          "Kenya/62",
          "Korea, Republic of/62",
          "Lebanon/62",
          "Malaysia/62",
          "Malta/62",
          "Mexico/62",
          "Morocco/62",
          "Nepal/62",
          "Netherlands/62",
          "New Zealand/62",
          "Nigeria/62",
          "North Macedonia/62",
          "Norway/62",
          "Oman/62",
          "Pakistan/62",
          "Philippines/62",
          "Poland/62",
          "Portugal/62",
          "Qatar/62",
          "Romania/62",
          "Russian Federation/62",
          "Saudi Arabia/62",
          "Serbia/62",
          "Singapore/62",
          "Slovenia/62",
          "South Africa/62",
          "Spain/62",
          "Sri Lanka/62",
          "Sweden/62",
          "Switzerland/62",
          "Taiwan, Province of China/62",
          "Thailand/62",
          "Trinidad and Tobago/62",
          "Türkiye/62",
          "Uganda/62",
          "Ukraine/62",
          "United Arab Emirates/62",
          "United Kingdom/62",
          "United States/62",
          "United States Minor Outlying Islands/62",
          "Viet Nam/62",
          "Zimbabwe/62",
          "Albania/63",
          "Andorra/63",
          "Argentina/63",
          "Australia/63",
          "Austria/63",
          "Azerbaijan/63",
          "Bangladesh/63",
          "Belgium/63",
          "Brazil/63",
          "Bulgaria/63",
          "Canada/63",
          "China/63",
          "Costa Rica/63",
          "Croatia/63",
          "Czechia/63",
          "Denmark/63",
          "Egypt/63",
          "Finland/63",
          "France/63",
          "Germany/63",
          "Greece/63",
          "Hong Kong/63",
          "Hungary/63",
          "India/63",
          "Indonesia/63",
          "Ireland/63",
          "Isle of Man/63",
          "Israel/63",
          "Italy/63",
          "Jamaica/63",
          "Japan/63",
          "Kazakhstan/63",
          "Kenya/63",
          "Korea, Republic of/63",
          "Latvia/63",
          "Lebanon/63",
          "Malaysia/63",
          "Malta/63",
          "Mexico/63",
          "Nepal/63",
          "Netherlands/63",
          "New Zealand/63",
          "Nigeria/63",
          "Norway/63",
          "Pakistan/63",
          "Philippines/63",
          "Poland/63",
          "Portugal/63",
          "Romania/63",
          "Russian Federation/63",
          "Saudi Arabia/63",
          "Serbia/63",
          "Singapore/63",
          "Slovakia/63",
          "Slovenia/63",
          "South Africa/63",
          "Spain/63",
          "Sri Lanka/63",
          "Svalbard and Jan Mayen/63",
          "Sweden/63",
          "Switzerland/63",
          "Taiwan, Province of China/63",
          "Tajikistan/63",
          "Tanzania, United Republic of/63",
          "Thailand/63",
          "Türkiye/63",
          "Uganda/63",
          "Ukraine/63",
          "United Arab Emirates/63",
          "United Kingdom/63",
          "United States/63",
          "Viet Nam/63",
          "Anguilla/65",
          "Argentina/65",
          "Australia/65",
          "Austria/65",
          "Bangladesh/65",
          "Belarus/65",
          "Belgium/65",
          "Bolivia, Plurinational State of/65",
          "Brazil/65",
          "Bulgaria/65",
          "Cambodia/65",
          "Canada/65",
          "Chile/65",
          "China/65",
          "Colombia/65",
          "Croatia/65",
          "Cyprus/65",
          "Czechia/65",
          "Denmark/65",
          "Egypt/65",
          "Estonia/65",
          "Finland/65",
          "France/65",
          "Germany/65",
          "Greece/65",
          "Hong Kong/65",
          "Hungary/65",
          "India/65",
          "Indonesia/65",
          "Iraq/65",
          "Ireland/65",
          "Isle of Man/65",
          "Israel/65",
          "Italy/65",
          "Jamaica/65",
          "Japan/65",
          "Kazakhstan/65",
          "Kenya/65",
          "Korea, Republic of/65",
          "Malaysia/65",
          "Mexico/65",
          "Morocco/65",
          "Nepal/65",
          "Netherlands/65",
          "New Zealand/65",
          "Nigeria/65",
          "North Macedonia/65",
          "Norway/65",
          "Oman/65",
          "Pakistan/65",
          "Philippines/65",
          "Poland/65",
          "Portugal/65",
          "Qatar/65",
          "Romania/65",
          "Russian Federation/65",
          "Serbia/65",
          "Singapore/65",
          "Slovakia/65",
          "Slovenia/65",
          "South Africa/65",
          "Spain/65",
          "Sri Lanka/65",
          "Svalbard and Jan Mayen/65",
          "Sweden/65",
          "Switzerland/65",
          "Taiwan, Province of China/65",
          "Thailand/65",
          "Trinidad and Tobago/65",
          "Türkiye/65",
          "Uganda/65",
          "Ukraine/65",
          "United Arab Emirates/65",
          "United Kingdom/65",
          "United States/65",
          "Viet Nam/65",
          "Virgin Islands, U.S./65",
          "Andorra/7",
          "Anguilla/7",
          "Antarctica/7",
          "Argentina/7",
          "Australia/7",
          "Austria/7",
          "Bahamas/7",
          "Bangladesh/7",
          "Belarus/7",
          "Belgium/7",
          "Brazil/7",
          "Bulgaria/7",
          "Cambodia/7",
          "Canada/7",
          "Chile/7",
          "China/7",
          "Colombia/7",
          "Costa Rica/7",
          "Czechia/7",
          "Denmark/7",
          "Egypt/7",
          "Estonia/7",
          "Finland/7",
          "France/7",
          "Germany/7",
          "Ghana/7",
          "Greece/7",
          "Hong Kong/7",
          "Hungary/7",
          "India/7",
          "Indonesia/7",
          "Iraq/7",
          "Ireland/7",
          "Isle of Man/7",
          "Israel/7",
          "Italy/7",
          "Japan/7",
          "Kenya/7",
          "Korea, Republic of/7",
          "Kuwait/7",
          "Latvia/7",
          "Lebanon/7",
          "Lithuania/7",
          "Malaysia/7",
          "Mexico/7",
          "Morocco/7",
          "Nepal/7",
          "Netherlands/7",
          "New Zealand/7",
          "Nigeria/7",
          "Norway/7",
          "Pakistan/7",
          "Philippines/7",
          "Poland/7",
          "Portugal/7",
          "Romania/7",
          "Russian Federation/7",
          "Saudi Arabia/7",
          "Serbia/7",
          "Singapore/7",
          "Slovakia/7",
          "Slovenia/7",
          "South Africa/7",
          "Spain/7",
          "Sri Lanka/7",
          "Sweden/7",
          "Switzerland/7",
          "Taiwan, Province of China/7",
          "Thailand/7",
          "Uganda/7",
          "Ukraine/7",
          "United Arab Emirates/7",
          "United Kingdom/7",
          "United States/7",
          "Viet Nam/7",
          "Albania/71",
          "Argentina/71",
          "Australia/71",
          "Bangladesh/71",
          "Brazil/71",
          "Bulgaria/71",
          "Canada/71",
          "Czechia/71",
          "Denmark/71",
          "Egypt/71",
          "Falkland Islands (Malvinas)/71",
          "Finland/71",
          "France/71",
          "Germany/71",
          "Hong Kong/71",
          "India/71",
          "Indonesia/71",
          "Iraq/71",
          "Ireland/71",
          "Israel/71",
          "Italy/71",
          "Kenya/71",
          "Korea, Republic of/71",
          "Nepal/71",
          "Netherlands/71",
          "Nigeria/71",
          "Pakistan/71",
          "Philippines/71",
          "Romania/71",
          "Russian Federation/71",
          "Saudi Arabia/71",
          "Slovakia/71",
          "South Africa/71",
          "Spain/71",
          "Sri Lanka/71",
          "Sweden/71",
          "Switzerland/71",
          "Thailand/71",
          "Uganda/71",
          "Ukraine/71",
          "United Arab Emirates/71",
          "United Kingdom/71",
          "United States/71",
          "Argentina/72",
          "Australia/72",
          "Bangladesh/72",
          "Belgium/72",
          "Canada/72",
          "Finland/72",
          "Germany/72",
          "Ghana/72",
          "Hong Kong/72",
          "Hungary/72",
          "India/72",
          "Indonesia/72",
          "Ireland/72",
          "Israel/72",
          "Italy/72",
          "Japan/72",
          "Luxembourg/72",
          "Malaysia/72",
          "Nepal/72",
          "New Zealand/72",
          "Nigeria/72",
          "Pakistan/72",
          "Philippines/72",
          "Romania/72",
          "Singapore/72",
          "Spain/72",
          "Switzerland/72",
          "Taiwan, Province of China/72",
          "Thailand/72",
          "Uganda/72",
          "Ukraine/72",
          "United Kingdom/72",
          "United States/72",
          "Viet Nam/72",
          "Australia/73",
          "Canada/73",
          "Germany/73",
          "India/73",
          "Indonesia/73",
          "Japan/73",
          "New Zealand/73",
          "Pakistan/73",
          "Romania/73",
          "Spain/73",
          "Thailand/73",
          "United Kingdom/73",
          "United States/73",
          "Australia/74",
          "Bangladesh/74",
          "Belgium/74",
          "Canada/74",
          "France/74",
          "Germany/74",
          "Ghana/74",
          "India/74",
          "Ireland/74",
          "Israel/74",
          "Korea, Republic of/74",
          "Nepal/74",
          "New Zealand/74",
          "North Macedonia/74",
          "Pakistan/74",
          "Philippines/74",
          "Romania/74",
          "Saudi Arabia/74",
          "Singapore/74",
          "South Africa/74",
          "Sri Lanka/74",
          "Switzerland/74",
          "Uganda/74",
          "United Arab Emirates/74",
          "United Kingdom/74",
          "United States/74",
          "Australia/75",
          "Canada/75",
          "France/75",
          "Germany/75",
          "India/75",
          "Indonesia/75",
          "Israel/75",
          "Japan/75",
          "Korea, Republic of/75",
          "Netherlands/75",
          "New Zealand/75",
          "Philippines/75",
          "Romania/75",
          "Uganda/75",
          "United Kingdom/75",
          "United States/75",
          "Antarctica/8",
          "Argentina/8",
          "Australia/8",
          "Austria/8",
          "Bahamas/8",
          "Bangladesh/8",
          "Barbados/8",
          "Belgium/8",
          "Brazil/8",
          "Bulgaria/8",
          "Cambodia/8",
          "Canada/8",
          "Chile/8",
          "China/8",
          "Colombia/8",
          "Costa Rica/8",
          "Croatia/8",
          "Cyprus/8",
          "Czechia/8",
          "Denmark/8",
          "Ecuador/8",
          "Egypt/8",
          "Finland/8",
          "France/8",
          "Germany/8",
          "Ghana/8",
          "Greece/8",
          "Guatemala/8",
          "Hong Kong/8",
          "Hungary/8",
          "India/8",
          "Indonesia/8",
          "Ireland/8",
          "Isle of Man/8",
          "Israel/8",
          "Italy/8",
          "Jamaica/8",
          "Japan/8",
          "Kazakhstan/8",
          "Kenya/8",
          "Korea, Republic of/8",
          "Latvia/8",
          "Lebanon/8",
          "Luxembourg/8",
          "Malaysia/8",
          "Malta/8",
          "Mexico/8",
          "Morocco/8",
          "Nepal/8",
          "Netherlands/8",
          "New Zealand/8",
          "Nigeria/8",
          "North Macedonia/8",
          "Norway/8",
          "Pakistan/8",
          "Peru/8",
          "Philippines/8",
          "Poland/8",
          "Portugal/8",
          "Puerto Rico/8",
          "Romania/8",
          "Russian Federation/8",
          "Saudi Arabia/8",
          "Serbia/8",
          "Singapore/8",
          "Slovakia/8",
          "Slovenia/8",
          "South Africa/8",
          "Spain/8",
          "Sri Lanka/8",
          "Sweden/8",
          "Switzerland/8",
          "Taiwan, Province of China/8",
          "Thailand/8",
          "Türkiye/8",
          "Uganda/8",
          "Ukraine/8",
          "United Arab Emirates/8",
          "United Kingdom/8",
          "United States/8",
          "Viet Nam/8",
          "Zimbabwe/8",
          "Australia/81",
          "Canada/81",
          "France/81",
          "Germany/81",
          "Hong Kong/81",
          "India/81",
          "Israel/81",
          "Italy/81",
          "Malaysia/81",
          "Netherlands/81",
          "New Zealand/81",
          "Norway/81",
          "Slovakia/81",
          "Spain/81",
          "United Kingdom/81",
          "United States/81",
          "Australia/82",
          "Bangladesh/82",
          "Bulgaria/82",
          "Canada/82",
          "Colombia/82",
          "Cyprus/82",
          "France/82",
          "Germany/82",
          "Greece/82",
          "India/82",
          "Isle of Man/82",
          "Italy/82",
          "Malaysia/82",
          "Netherlands/82",
          "New Zealand/82",
          "Pakistan/82",
          "Switzerland/82",
          "United Kingdom/82",
          "United States/82",
          "Germany/83",
          "Netherlands/83",
          "United States/83",
          "Australia/84",
          "Canada/84",
          "Germany/84",
          "Netherlands/84",
          "Romania/84",
          "Sweden/84",
          "United Kingdom/84",
          "United States/84",
          "United Kingdom/85",
          "United States/85",
          "Argentina/86",
          "Australia/86",
          "Austria/86",
          "Bangladesh/86",
          "Belgium/86",
          "Brazil/86",
          "Bulgaria/86",
          "Canada/86",
          "Chile/86",
          "China/86",
          "Costa Rica/86",
          "Cyprus/86",
          "Czechia/86",
          "Egypt/86",
          "Finland/86",
          "France/86",
          "Germany/86",
          "India/86",
          "Indonesia/86",
          "Ireland/86",
          "Isle of Man/86",
          "Israel/86",
          "Italy/86",
          "Japan/86",
          "Kenya/86",
          "Korea, Republic of/86",
          "Malaysia/86",
          "Mexico/86",
          "Morocco/86",
          "Nepal/86",
          "Netherlands/86",
          "New Zealand/86",
          "Nigeria/86",
          "Norway/86",
          "Pakistan/86",
          "Philippines/86",
          "Poland/86",
          "Romania/86",
          "Russian Federation/86",
          "Saudi Arabia/86",
          "Singapore/86",
          "South Africa/86",
          "Spain/86",
          "Sri Lanka/86",
          "Sweden/86",
          "Switzerland/86",
          "Tanzania, United Republic of/86",
          "Thailand/86",
          "Uganda/86",
          "Ukraine/86",
          "United Arab Emirates/86",
          "United Kingdom/86",
          "United States/86",
          "Australia/87",
          "Bangladesh/87",
          "Belgium/87",
          "Brazil/87",
          "Bulgaria/87",
          "Canada/87",
          "China/87",
          "Colombia/87",
          "Cyprus/87",
          "Denmark/87",
          "Finland/87",
          "France/87",
          "Germany/87",
          "Ghana/87",
          "Greece/87",
          "Hong Kong/87",
          "Hungary/87",
          "India/87",
          "Ireland/87",
          "Isle of Man/87",
          "Israel/87",
          "Italy/87",
          "Japan/87",
          "Korea, Republic of/87",
          "Latvia/87",
          "Lebanon/87",
          "Malaysia/87",
          "Netherlands/87",
          "New Zealand/87",
          "North Macedonia/87",
          "Norway/87",
          "Pakistan/87",
          "Philippines/87",
          "Poland/87",
          "Portugal/87",
          "Romania/87",
          "Russian Federation/87",
          "Saudi Arabia/87",
          "Singapore/87",
          "Slovakia/87",
          "South Africa/87",
          "Spain/87",
          "Svalbard and Jan Mayen/87",
          "Switzerland/87",
          "Thailand/87",
          "Türkiye/87",
          "United Arab Emirates/87",
          "United Kingdom/87",
          "United States/87",
          "Viet Nam/87",
          "Australia/88",
          "Austria/88",
          "Bahamas/88",
          "Bahrain/88",
          "Bangladesh/88",
          "Brazil/88",
          "Canada/88",
          "Cyprus/88",
          "Czechia/88",
          "Denmark/88",
          "Estonia/88",
          "France/88",
          "Germany/88",
          "Greece/88",
          "Hong Kong/88",
          "Hungary/88",
          "India/88",
          "Indonesia/88",
          "Ireland/88",
          "Italy/88",
          "Japan/88",
          "Kenya/88",
          "Latvia/88",
          "Luxembourg/88",
          "Malaysia/88",
          "Mexico/88",
          "Nepal/88",
          "Netherlands/88",
          "New Zealand/88",
          "Nigeria/88",
          "Pakistan/88",
          "Philippines/88",
          "Poland/88",
          "Portugal/88",
          "Puerto Rico/88",
          "Romania/88",
          "Russian Federation/88",
          "Singapore/88",
          "Slovenia/88",
          "South Africa/88",
          "Spain/88",
          "Switzerland/88",
          "Uganda/88",
          "Ukraine/88",
          "United Kingdom/88",
          "United States/88",
          "Antarctica/9",
          "Australia/9",
          "Austria/9",
          "Bangladesh/9",
          "Belgium/9",
          "Brazil/9",
          "Bulgaria/9",
          "Canada/9",
          "Colombia/9",
          "Croatia/9",
          "Denmark/9",
          "Finland/9",
          "France/9",
          "Germany/9",
          "Greece/9",
          "India/9",
          "Indonesia/9",
          "Iraq/9",
          "Ireland/9",
          "Isle of Man/9",
          "Israel/9",
          "Italy/9",
          "Japan/9",
          "Korea, Republic of/9",
          "Latvia/9",
          "Lithuania/9",
          "Luxembourg/9",
          "Malaysia/9",
          "Mexico/9",
          "Morocco/9",
          "Netherlands/9",
          "New Zealand/9",
          "Nigeria/9",
          "North Macedonia/9",
          "Norway/9",
          "Pakistan/9",
          "Panama/9",
          "Philippines/9",
          "Poland/9",
          "Portugal/9",
          "Romania/9",
          "Russian Federation/9",
          "Serbia/9",
          "Singapore/9",
          "Slovakia/9",
          "South Africa/9",
          "Spain/9",
          "Sri Lanka/9",
          "Sweden/9",
          "Switzerland/9",
          "Thailand/9",
          "Türkiye/9",
          "United Arab Emirates/9",
          "United Kingdom/9",
          "United States/9",
          "United States Minor Outlying Islands/9",
          "Viet Nam/9",
          "Virgin Islands, U.S./9",
          "Australia/90",
          "Austria/90",
          "Brazil/90",
          "Canada/90",
          "Croatia/90",
          "France/90",
          "Germany/90",
          "Hong Kong/90",
          "India/90",
          "Indonesia/90",
          "Israel/90",
          "Latvia/90",
          "Malaysia/90",
          "Netherlands/90",
          "Pakistan/90",
          "Philippines/90",
          "Portugal/90",
          "Singapore/90",
          "Ukraine/90",
          "United Kingdom/90",
          "United States/90",
          "Australia/91",
          "Canada/91",
          "Germany/91",
          "Hong Kong/91",
          "India/91",
          "Ireland/91",
          "Jamaica/91",
          "Malaysia/91",
          "Pakistan/91",
          "Philippines/91",
          "Russian Federation/91",
          "Spain/91",
          "Sweden/91",
          "Thailand/91",
          "United Kingdom/91",
          "United States/91",
          "Australia/92",
          "Austria/92",
          "Bangladesh/92",
          "Brazil/92",
          "Canada/92",
          "France/92",
          "Georgia/92",
          "Germany/92",
          "Greece/92",
          "Hungary/92",
          "India/92",
          "Indonesia/92",
          "Ireland/92",
          "Italy/92",
          "Japan/92",
          "Korea, Republic of/92",
          "Luxembourg/92",
          "Malaysia/92",
          "Mexico/92",
          "Netherlands/92",
          "New Zealand/92",
          "Norway/92",
          "Pakistan/92",
          "Philippines/92",
          "Poland/92",
          "Romania/92",
          "Russian Federation/92",
          "Slovenia/92",
          "South Africa/92",
          "Spain/92",
          "Switzerland/92",
          "Thailand/92",
          "United Kingdom/92",
          "United States/92",
          "Zimbabwe/92",
          "Australia/94",
          "Bangladesh/94",
          "Belgium/94",
          "Cambodia/94",
          "Canada/94",
          "Croatia/94",
          "Germany/94",
          "Greece/94",
          "Hungary/94",
          "India/94",
          "Indonesia/94",
          "Korea, Republic of/94",
          "Luxembourg/94",
          "New Zealand/94",
          "Pakistan/94",
          "Philippines/94",
          "Romania/94",
          "Saudi Arabia/94",
          "Singapore/94",
          "Thailand/94",
          "United Arab Emirates/94",
          "United Kingdom/94",
          "United States/94",
          "Australia/95",
          "Brazil/95",
          "Canada/95",
          "Finland/95",
          "France/95",
          "Germany/95",
          "Ireland/95",
          "Italy/95",
          "Luxembourg/95",
          "Mexico/95",
          "New Zealand/95",
          "Philippines/95",
          "Portugal/95",
          "Romania/95",
          "Singapore/95",
          "Spain/95",
          "Thailand/95",
          "United Kingdom/95",
          "United States/95",
          "Australia/96",
          "Austria/96",
          "Brazil/96",
          "Canada/96",
          "Denmark/96",
          "Finland/96",
          "Germany/96",
          "Greece/96",
          "India/96",
          "Indonesia/96",
          "Ireland/96",
          "Isle of Man/96",
          "Italy/96",
          "New Zealand/96",
          "Pakistan/96",
          "Poland/96",
          "Romania/96",
          "Spain/96",
          "Sweden/96",
          "United Kingdom/96",
          "United States/96",
          "Australia/97",
          "Canada/97",
          "France/97",
          "Germany/97",
          "Greece/97",
          "Hong Kong/97",
          "India/97",
          "Ireland/97",
          "Israel/97",
          "Jamaica/97",
          "Japan/97",
          "Malaysia/97",
          "Netherlands/97",
          "Pakistan/97",
          "Panama/97",
          "Poland/97",
          "Spain/97",
          "Sweden/97",
          "Thailand/97",
          "United Kingdom/97",
          "United States/97",
          "Australia/98",
          "Belgium/98",
          "Brazil/98",
          "Canada/98",
          "Czechia/98",
          "France/98",
          "Germany/98",
          "Hong Kong/98",
          "India/98",
          "Indonesia/98",
          "Ireland/98",
          "Japan/98",
          "Korea, Republic of/98",
          "Luxembourg/98",
          "Malaysia/98",
          "Mexico/98",
          "Netherlands/98",
          "New Zealand/98",
          "Norway/98",
          "Pakistan/98",
          "Panama/98",
          "Philippines/98",
          "Poland/98",
          "Saudi Arabia/98",
          "Serbia/98",
          "Singapore/98",
          "Slovenia/98",
          "South Africa/98",
          "Spain/98",
          "Sri Lanka/98",
          "Sweden/98",
          "Switzerland/98",
          "Thailand/98",
          "United Arab Emirates/98",
          "United Kingdom/98",
          "United States/98",
          "United States Minor Outlying Islands/98",
          "Viet Nam/98",
          "Afghanistan",
          "Albania",
          "Algeria",
          "Andorra",
          "Anguilla",
          "Antarctica",
          "Argentina",
          "Australia",
          "Austria",
          "Azerbaijan",
          "Bahamas",
          "Bahrain",
          "Bangladesh",
          "Barbados",
          "Belarus",
          "Belgium",
          "Bermuda",
          "Bolivia, Plurinational State of",
          "Brazil",
          "Bulgaria",
          "Cambodia",
          "Canada",
          "Chile",
          "China",
          "Colombia",
          "Costa Rica",
          "Croatia",
          "Cyprus",
          "Czechia",
          "Denmark",
          "Ecuador",
          "Egypt",
          "Estonia",
          "Falkland Islands (Malvinas)",
          "Finland",
          "France",
          "Georgia",
          "Germany",
          "Ghana",
          "Greece",
          "Guatemala",
          "Hong Kong",
          "Hungary",
          "Iceland",
          "India",
          "Indonesia",
          "Iran, Islamic Republic of",
          "Iraq",
          "Ireland",
          "Isle of Man",
          "Israel",
          "Italy",
          "Jamaica",
          "Japan",
          "Jordan",
          "Kazakhstan",
          "Kenya",
          "Korea, Republic of",
          "Kuwait",
          "Latvia",
          "Lebanon",
          "Lithuania",
          "Luxembourg",
          "Malaysia",
          "Malta",
          "Mexico",
          "Moldova, Republic of",
          "Morocco",
          "Nepal",
          "Netherlands",
          "New Zealand",
          "Nigeria",
          "North Macedonia",
          "Norway",
          "Oman",
          "Pakistan",
          "Palestine, State of",
          "Panama",
          "Peru",
          "Philippines",
          "Poland",
          "Portugal",
          "Puerto Rico",
          "Qatar",
          "Romania",
          "Russian Federation",
          "Saudi Arabia",
          "Serbia",
          "Singapore",
          "Slovakia",
          "Slovenia",
          "South Africa",
          "Spain",
          "Sri Lanka",
          "Svalbard and Jan Mayen",
          "Sweden",
          "Switzerland",
          "Taiwan, Province of China",
          "Tajikistan",
          "Tanzania, United Republic of",
          "Thailand",
          "Trinidad and Tobago",
          "Türkiye",
          "Uganda",
          "Ukraine",
          "United Arab Emirates",
          "United Kingdom",
          "United States",
          "United States Minor Outlying Islands",
          "Viet Nam",
          "Virgin Islands, U.S.",
          "Zimbabwe"
         ],
         "labels": [
          "20",
          "20",
          "20",
          "20",
          "20",
          "20",
          "20",
          "20",
          "20",
          "20",
          "20",
          "20",
          "20",
          "20",
          "20",
          "20",
          "20",
          "20",
          "20",
          "20",
          "20",
          "20",
          "20",
          "20",
          "20",
          "20",
          "20",
          "20",
          "20",
          "20",
          "20",
          "20",
          "20",
          "20",
          "20",
          "20",
          "20",
          "20",
          "20",
          "20",
          "20",
          "20",
          "20",
          "20",
          "20",
          "20",
          "20",
          "20",
          "20",
          "20",
          "20",
          "20",
          "20",
          "20",
          "20",
          "20",
          "20",
          "20",
          "20",
          "20",
          "20",
          "20",
          "20",
          "20",
          "20",
          "20",
          "20",
          "20",
          "20",
          "20",
          "20",
          "20",
          "20",
          "20",
          "20",
          "20",
          "20",
          "20",
          "20",
          "20",
          "20",
          "21",
          "21",
          "21",
          "21",
          "21",
          "21",
          "21",
          "21",
          "21",
          "21",
          "21",
          "21",
          "21",
          "21",
          "21",
          "21",
          "21",
          "21",
          "21",
          "21",
          "21",
          "21",
          "21",
          "21",
          "21",
          "21",
          "21",
          "21",
          "21",
          "21",
          "21",
          "21",
          "21",
          "21",
          "21",
          "21",
          "21",
          "21",
          "21",
          "21",
          "21",
          "21",
          "21",
          "21",
          "21",
          "21",
          "21",
          "21",
          "21",
          "21",
          "21",
          "21",
          "21",
          "21",
          "21",
          "21",
          "21",
          "21",
          "21",
          "21",
          "21",
          "21",
          "21",
          "21",
          "21",
          "21",
          "21",
          "21",
          "21",
          "21",
          "21",
          "21",
          "21",
          "21",
          "21",
          "21",
          "21",
          "21",
          "21",
          "21",
          "21",
          "21",
          "21",
          "21",
          "21",
          "21",
          "22",
          "22",
          "22",
          "22",
          "22",
          "22",
          "22",
          "22",
          "22",
          "22",
          "22",
          "22",
          "22",
          "22",
          "22",
          "22",
          "22",
          "22",
          "22",
          "22",
          "22",
          "22",
          "22",
          "22",
          "22",
          "22",
          "22",
          "22",
          "22",
          "22",
          "22",
          "22",
          "22",
          "22",
          "22",
          "22",
          "22",
          "22",
          "22",
          "22",
          "22",
          "22",
          "22",
          "22",
          "22",
          "22",
          "22",
          "22",
          "22",
          "22",
          "22",
          "22",
          "22",
          "22",
          "24",
          "24",
          "24",
          "24",
          "24",
          "24",
          "24",
          "24",
          "24",
          "24",
          "24",
          "24",
          "24",
          "24",
          "24",
          "24",
          "24",
          "24",
          "24",
          "24",
          "24",
          "24",
          "24",
          "24",
          "24",
          "24",
          "24",
          "24",
          "24",
          "24",
          "24",
          "24",
          "24",
          "24",
          "24",
          "24",
          "24",
          "24",
          "24",
          "24",
          "24",
          "24",
          "24",
          "24",
          "24",
          "25",
          "25",
          "25",
          "25",
          "25",
          "25",
          "25",
          "25",
          "25",
          "25",
          "25",
          "25",
          "25",
          "25",
          "25",
          "25",
          "25",
          "25",
          "25",
          "25",
          "25",
          "25",
          "25",
          "25",
          "25",
          "25",
          "25",
          "25",
          "25",
          "25",
          "25",
          "25",
          "25",
          "25",
          "25",
          "25",
          "25",
          "25",
          "25",
          "25",
          "25",
          "25",
          "25",
          "25",
          "3",
          "3",
          "3",
          "3",
          "3",
          "3",
          "3",
          "3",
          "3",
          "3",
          "3",
          "3",
          "3",
          "3",
          "3",
          "3",
          "3",
          "3",
          "3",
          "3",
          "3",
          "3",
          "3",
          "3",
          "3",
          "3",
          "3",
          "3",
          "3",
          "3",
          "3",
          "3",
          "3",
          "3",
          "3",
          "3",
          "3",
          "3",
          "3",
          "3",
          "3",
          "3",
          "3",
          "3",
          "3",
          "3",
          "3",
          "3",
          "3",
          "3",
          "3",
          "3",
          "3",
          "3",
          "3",
          "3",
          "3",
          "3",
          "3",
          "3",
          "3",
          "3",
          "3",
          "3",
          "3",
          "3",
          "3",
          "3",
          "3",
          "3",
          "4",
          "4",
          "4",
          "4",
          "4",
          "4",
          "4",
          "4",
          "4",
          "4",
          "4",
          "4",
          "4",
          "4",
          "4",
          "4",
          "4",
          "4",
          "4",
          "4",
          "4",
          "4",
          "4",
          "4",
          "4",
          "4",
          "4",
          "4",
          "4",
          "4",
          "4",
          "4",
          "4",
          "4",
          "4",
          "4",
          "4",
          "4",
          "4",
          "4",
          "4",
          "4",
          "4",
          "4",
          "4",
          "4",
          "4",
          "4",
          "4",
          "4",
          "4",
          "4",
          "4",
          "4",
          "4",
          "4",
          "4",
          "4",
          "4",
          "4",
          "4",
          "4",
          "4",
          "4",
          "4",
          "4",
          "4",
          "4",
          "4",
          "4",
          "4",
          "41",
          "41",
          "41",
          "41",
          "41",
          "41",
          "41",
          "41",
          "41",
          "41",
          "41",
          "41",
          "41",
          "41",
          "41",
          "41",
          "41",
          "41",
          "41",
          "41",
          "41",
          "41",
          "41",
          "41",
          "41",
          "41",
          "41",
          "41",
          "41",
          "41",
          "41",
          "41",
          "41",
          "41",
          "41",
          "41",
          "41",
          "6",
          "6",
          "6",
          "6",
          "6",
          "6",
          "6",
          "6",
          "6",
          "6",
          "61",
          "61",
          "61",
          "61",
          "61",
          "61",
          "61",
          "61",
          "61",
          "61",
          "61",
          "61",
          "61",
          "61",
          "61",
          "61",
          "61",
          "61",
          "61",
          "61",
          "61",
          "61",
          "61",
          "61",
          "61",
          "61",
          "61",
          "61",
          "61",
          "61",
          "61",
          "61",
          "61",
          "61",
          "61",
          "61",
          "61",
          "61",
          "61",
          "61",
          "61",
          "61",
          "61",
          "61",
          "61",
          "61",
          "61",
          "61",
          "61",
          "61",
          "61",
          "61",
          "61",
          "61",
          "61",
          "61",
          "61",
          "61",
          "61",
          "61",
          "61",
          "61",
          "61",
          "61",
          "61",
          "61",
          "61",
          "61",
          "61",
          "61",
          "61",
          "61",
          "62",
          "62",
          "62",
          "62",
          "62",
          "62",
          "62",
          "62",
          "62",
          "62",
          "62",
          "62",
          "62",
          "62",
          "62",
          "62",
          "62",
          "62",
          "62",
          "62",
          "62",
          "62",
          "62",
          "62",
          "62",
          "62",
          "62",
          "62",
          "62",
          "62",
          "62",
          "62",
          "62",
          "62",
          "62",
          "62",
          "62",
          "62",
          "62",
          "62",
          "62",
          "62",
          "62",
          "62",
          "62",
          "62",
          "62",
          "62",
          "62",
          "62",
          "62",
          "62",
          "62",
          "62",
          "62",
          "62",
          "62",
          "62",
          "62",
          "62",
          "62",
          "62",
          "62",
          "62",
          "62",
          "62",
          "62",
          "62",
          "62",
          "62",
          "62",
          "62",
          "62",
          "63",
          "63",
          "63",
          "63",
          "63",
          "63",
          "63",
          "63",
          "63",
          "63",
          "63",
          "63",
          "63",
          "63",
          "63",
          "63",
          "63",
          "63",
          "63",
          "63",
          "63",
          "63",
          "63",
          "63",
          "63",
          "63",
          "63",
          "63",
          "63",
          "63",
          "63",
          "63",
          "63",
          "63",
          "63",
          "63",
          "63",
          "63",
          "63",
          "63",
          "63",
          "63",
          "63",
          "63",
          "63",
          "63",
          "63",
          "63",
          "63",
          "63",
          "63",
          "63",
          "63",
          "63",
          "63",
          "63",
          "63",
          "63",
          "63",
          "63",
          "63",
          "63",
          "63",
          "63",
          "63",
          "63",
          "63",
          "63",
          "63",
          "63",
          "63",
          "63",
          "65",
          "65",
          "65",
          "65",
          "65",
          "65",
          "65",
          "65",
          "65",
          "65",
          "65",
          "65",
          "65",
          "65",
          "65",
          "65",
          "65",
          "65",
          "65",
          "65",
          "65",
          "65",
          "65",
          "65",
          "65",
          "65",
          "65",
          "65",
          "65",
          "65",
          "65",
          "65",
          "65",
          "65",
          "65",
          "65",
          "65",
          "65",
          "65",
          "65",
          "65",
          "65",
          "65",
          "65",
          "65",
          "65",
          "65",
          "65",
          "65",
          "65",
          "65",
          "65",
          "65",
          "65",
          "65",
          "65",
          "65",
          "65",
          "65",
          "65",
          "65",
          "65",
          "65",
          "65",
          "65",
          "65",
          "65",
          "65",
          "65",
          "65",
          "65",
          "65",
          "65",
          "65",
          "65",
          "65",
          "65",
          "7",
          "7",
          "7",
          "7",
          "7",
          "7",
          "7",
          "7",
          "7",
          "7",
          "7",
          "7",
          "7",
          "7",
          "7",
          "7",
          "7",
          "7",
          "7",
          "7",
          "7",
          "7",
          "7",
          "7",
          "7",
          "7",
          "7",
          "7",
          "7",
          "7",
          "7",
          "7",
          "7",
          "7",
          "7",
          "7",
          "7",
          "7",
          "7",
          "7",
          "7",
          "7",
          "7",
          "7",
          "7",
          "7",
          "7",
          "7",
          "7",
          "7",
          "7",
          "7",
          "7",
          "7",
          "7",
          "7",
          "7",
          "7",
          "7",
          "7",
          "7",
          "7",
          "7",
          "7",
          "7",
          "7",
          "7",
          "7",
          "7",
          "7",
          "7",
          "7",
          "7",
          "7",
          "7",
          "71",
          "71",
          "71",
          "71",
          "71",
          "71",
          "71",
          "71",
          "71",
          "71",
          "71",
          "71",
          "71",
          "71",
          "71",
          "71",
          "71",
          "71",
          "71",
          "71",
          "71",
          "71",
          "71",
          "71",
          "71",
          "71",
          "71",
          "71",
          "71",
          "71",
          "71",
          "71",
          "71",
          "71",
          "71",
          "71",
          "71",
          "71",
          "71",
          "71",
          "71",
          "71",
          "71",
          "72",
          "72",
          "72",
          "72",
          "72",
          "72",
          "72",
          "72",
          "72",
          "72",
          "72",
          "72",
          "72",
          "72",
          "72",
          "72",
          "72",
          "72",
          "72",
          "72",
          "72",
          "72",
          "72",
          "72",
          "72",
          "72",
          "72",
          "72",
          "72",
          "72",
          "72",
          "72",
          "72",
          "72",
          "73",
          "73",
          "73",
          "73",
          "73",
          "73",
          "73",
          "73",
          "73",
          "73",
          "73",
          "73",
          "73",
          "74",
          "74",
          "74",
          "74",
          "74",
          "74",
          "74",
          "74",
          "74",
          "74",
          "74",
          "74",
          "74",
          "74",
          "74",
          "74",
          "74",
          "74",
          "74",
          "74",
          "74",
          "74",
          "74",
          "74",
          "74",
          "74",
          "75",
          "75",
          "75",
          "75",
          "75",
          "75",
          "75",
          "75",
          "75",
          "75",
          "75",
          "75",
          "75",
          "75",
          "75",
          "75",
          "8",
          "8",
          "8",
          "8",
          "8",
          "8",
          "8",
          "8",
          "8",
          "8",
          "8",
          "8",
          "8",
          "8",
          "8",
          "8",
          "8",
          "8",
          "8",
          "8",
          "8",
          "8",
          "8",
          "8",
          "8",
          "8",
          "8",
          "8",
          "8",
          "8",
          "8",
          "8",
          "8",
          "8",
          "8",
          "8",
          "8",
          "8",
          "8",
          "8",
          "8",
          "8",
          "8",
          "8",
          "8",
          "8",
          "8",
          "8",
          "8",
          "8",
          "8",
          "8",
          "8",
          "8",
          "8",
          "8",
          "8",
          "8",
          "8",
          "8",
          "8",
          "8",
          "8",
          "8",
          "8",
          "8",
          "8",
          "8",
          "8",
          "8",
          "8",
          "8",
          "8",
          "8",
          "8",
          "8",
          "8",
          "8",
          "8",
          "8",
          "8",
          "8",
          "81",
          "81",
          "81",
          "81",
          "81",
          "81",
          "81",
          "81",
          "81",
          "81",
          "81",
          "81",
          "81",
          "81",
          "81",
          "81",
          "82",
          "82",
          "82",
          "82",
          "82",
          "82",
          "82",
          "82",
          "82",
          "82",
          "82",
          "82",
          "82",
          "82",
          "82",
          "82",
          "82",
          "82",
          "82",
          "83",
          "83",
          "83",
          "84",
          "84",
          "84",
          "84",
          "84",
          "84",
          "84",
          "84",
          "85",
          "85",
          "86",
          "86",
          "86",
          "86",
          "86",
          "86",
          "86",
          "86",
          "86",
          "86",
          "86",
          "86",
          "86",
          "86",
          "86",
          "86",
          "86",
          "86",
          "86",
          "86",
          "86",
          "86",
          "86",
          "86",
          "86",
          "86",
          "86",
          "86",
          "86",
          "86",
          "86",
          "86",
          "86",
          "86",
          "86",
          "86",
          "86",
          "86",
          "86",
          "86",
          "86",
          "86",
          "86",
          "86",
          "86",
          "86",
          "86",
          "86",
          "86",
          "86",
          "86",
          "86",
          "86",
          "87",
          "87",
          "87",
          "87",
          "87",
          "87",
          "87",
          "87",
          "87",
          "87",
          "87",
          "87",
          "87",
          "87",
          "87",
          "87",
          "87",
          "87",
          "87",
          "87",
          "87",
          "87",
          "87",
          "87",
          "87",
          "87",
          "87",
          "87",
          "87",
          "87",
          "87",
          "87",
          "87",
          "87",
          "87",
          "87",
          "87",
          "87",
          "87",
          "87",
          "87",
          "87",
          "87",
          "87",
          "87",
          "87",
          "87",
          "87",
          "87",
          "87",
          "88",
          "88",
          "88",
          "88",
          "88",
          "88",
          "88",
          "88",
          "88",
          "88",
          "88",
          "88",
          "88",
          "88",
          "88",
          "88",
          "88",
          "88",
          "88",
          "88",
          "88",
          "88",
          "88",
          "88",
          "88",
          "88",
          "88",
          "88",
          "88",
          "88",
          "88",
          "88",
          "88",
          "88",
          "88",
          "88",
          "88",
          "88",
          "88",
          "88",
          "88",
          "88",
          "88",
          "88",
          "88",
          "88",
          "9",
          "9",
          "9",
          "9",
          "9",
          "9",
          "9",
          "9",
          "9",
          "9",
          "9",
          "9",
          "9",
          "9",
          "9",
          "9",
          "9",
          "9",
          "9",
          "9",
          "9",
          "9",
          "9",
          "9",
          "9",
          "9",
          "9",
          "9",
          "9",
          "9",
          "9",
          "9",
          "9",
          "9",
          "9",
          "9",
          "9",
          "9",
          "9",
          "9",
          "9",
          "9",
          "9",
          "9",
          "9",
          "9",
          "9",
          "9",
          "9",
          "9",
          "9",
          "9",
          "9",
          "9",
          "9",
          "9",
          "9",
          "9",
          "90",
          "90",
          "90",
          "90",
          "90",
          "90",
          "90",
          "90",
          "90",
          "90",
          "90",
          "90",
          "90",
          "90",
          "90",
          "90",
          "90",
          "90",
          "90",
          "90",
          "90",
          "91",
          "91",
          "91",
          "91",
          "91",
          "91",
          "91",
          "91",
          "91",
          "91",
          "91",
          "91",
          "91",
          "91",
          "91",
          "91",
          "92",
          "92",
          "92",
          "92",
          "92",
          "92",
          "92",
          "92",
          "92",
          "92",
          "92",
          "92",
          "92",
          "92",
          "92",
          "92",
          "92",
          "92",
          "92",
          "92",
          "92",
          "92",
          "92",
          "92",
          "92",
          "92",
          "92",
          "92",
          "92",
          "92",
          "92",
          "92",
          "92",
          "92",
          "92",
          "94",
          "94",
          "94",
          "94",
          "94",
          "94",
          "94",
          "94",
          "94",
          "94",
          "94",
          "94",
          "94",
          "94",
          "94",
          "94",
          "94",
          "94",
          "94",
          "94",
          "94",
          "94",
          "94",
          "95",
          "95",
          "95",
          "95",
          "95",
          "95",
          "95",
          "95",
          "95",
          "95",
          "95",
          "95",
          "95",
          "95",
          "95",
          "95",
          "95",
          "95",
          "95",
          "96",
          "96",
          "96",
          "96",
          "96",
          "96",
          "96",
          "96",
          "96",
          "96",
          "96",
          "96",
          "96",
          "96",
          "96",
          "96",
          "96",
          "96",
          "96",
          "96",
          "96",
          "97",
          "97",
          "97",
          "97",
          "97",
          "97",
          "97",
          "97",
          "97",
          "97",
          "97",
          "97",
          "97",
          "97",
          "97",
          "97",
          "97",
          "97",
          "97",
          "97",
          "97",
          "98",
          "98",
          "98",
          "98",
          "98",
          "98",
          "98",
          "98",
          "98",
          "98",
          "98",
          "98",
          "98",
          "98",
          "98",
          "98",
          "98",
          "98",
          "98",
          "98",
          "98",
          "98",
          "98",
          "98",
          "98",
          "98",
          "98",
          "98",
          "98",
          "98",
          "98",
          "98",
          "98",
          "98",
          "98",
          "98",
          "98",
          "98",
          "Afghanistan",
          "Albania",
          "Algeria",
          "Andorra",
          "Anguilla",
          "Antarctica",
          "Argentina",
          "Australia",
          "Austria",
          "Azerbaijan",
          "Bahamas",
          "Bahrain",
          "Bangladesh",
          "Barbados",
          "Belarus",
          "Belgium",
          "Bermuda",
          "Bolivia, Plurinational State of",
          "Brazil",
          "Bulgaria",
          "Cambodia",
          "Canada",
          "Chile",
          "China",
          "Colombia",
          "Costa Rica",
          "Croatia",
          "Cyprus",
          "Czechia",
          "Denmark",
          "Ecuador",
          "Egypt",
          "Estonia",
          "Falkland Islands (Malvinas)",
          "Finland",
          "France",
          "Georgia",
          "Germany",
          "Ghana",
          "Greece",
          "Guatemala",
          "Hong Kong",
          "Hungary",
          "Iceland",
          "India",
          "Indonesia",
          "Iran, Islamic Republic of",
          "Iraq",
          "Ireland",
          "Isle of Man",
          "Israel",
          "Italy",
          "Jamaica",
          "Japan",
          "Jordan",
          "Kazakhstan",
          "Kenya",
          "Korea, Republic of",
          "Kuwait",
          "Latvia",
          "Lebanon",
          "Lithuania",
          "Luxembourg",
          "Malaysia",
          "Malta",
          "Mexico",
          "Moldova, Republic of",
          "Morocco",
          "Nepal",
          "Netherlands",
          "New Zealand",
          "Nigeria",
          "North Macedonia",
          "Norway",
          "Oman",
          "Pakistan",
          "Palestine, State of",
          "Panama",
          "Peru",
          "Philippines",
          "Poland",
          "Portugal",
          "Puerto Rico",
          "Qatar",
          "Romania",
          "Russian Federation",
          "Saudi Arabia",
          "Serbia",
          "Singapore",
          "Slovakia",
          "Slovenia",
          "South Africa",
          "Spain",
          "Sri Lanka",
          "Svalbard and Jan Mayen",
          "Sweden",
          "Switzerland",
          "Taiwan, Province of China",
          "Tajikistan",
          "Tanzania, United Republic of",
          "Thailand",
          "Trinidad and Tobago",
          "Türkiye",
          "Uganda",
          "Ukraine",
          "United Arab Emirates",
          "United Kingdom",
          "United States",
          "United States Minor Outlying Islands",
          "Viet Nam",
          "Virgin Islands, U.S.",
          "Zimbabwe"
         ],
         "name": "",
         "parents": [
          "Afghanistan",
          "Antarctica",
          "Australia",
          "Austria",
          "Azerbaijan",
          "Bangladesh",
          "Belarus",
          "Belgium",
          "Bermuda",
          "Brazil",
          "Bulgaria",
          "Cambodia",
          "Canada",
          "Chile",
          "China",
          "Colombia",
          "Costa Rica",
          "Croatia",
          "Cyprus",
          "Czechia",
          "Denmark",
          "Ecuador",
          "Egypt",
          "Estonia",
          "Finland",
          "France",
          "Germany",
          "Ghana",
          "Greece",
          "Hong Kong",
          "Hungary",
          "India",
          "Indonesia",
          "Iraq",
          "Ireland",
          "Isle of Man",
          "Israel",
          "Italy",
          "Japan",
          "Kenya",
          "Korea, Republic of",
          "Lebanon",
          "Lithuania",
          "Luxembourg",
          "Malaysia",
          "Mexico",
          "Nepal",
          "Netherlands",
          "New Zealand",
          "Nigeria",
          "North Macedonia",
          "Norway",
          "Pakistan",
          "Philippines",
          "Poland",
          "Portugal",
          "Puerto Rico",
          "Qatar",
          "Romania",
          "Russian Federation",
          "Saudi Arabia",
          "Serbia",
          "Singapore",
          "Slovakia",
          "Slovenia",
          "South Africa",
          "Spain",
          "Sri Lanka",
          "Svalbard and Jan Mayen",
          "Sweden",
          "Switzerland",
          "Taiwan, Province of China",
          "Thailand",
          "Türkiye",
          "Uganda",
          "Ukraine",
          "United Arab Emirates",
          "United Kingdom",
          "United States",
          "United States Minor Outlying Islands",
          "Viet Nam",
          "Andorra",
          "Antarctica",
          "Australia",
          "Austria",
          "Bahamas",
          "Bahrain",
          "Bangladesh",
          "Belgium",
          "Bermuda",
          "Brazil",
          "Bulgaria",
          "Canada",
          "Chile",
          "China",
          "Colombia",
          "Costa Rica",
          "Croatia",
          "Cyprus",
          "Czechia",
          "Denmark",
          "Ecuador",
          "Egypt",
          "Estonia",
          "Finland",
          "France",
          "Germany",
          "Ghana",
          "Greece",
          "Hong Kong",
          "Hungary",
          "India",
          "Indonesia",
          "Iran, Islamic Republic of",
          "Iraq",
          "Ireland",
          "Isle of Man",
          "Israel",
          "Italy",
          "Jamaica",
          "Japan",
          "Jordan",
          "Kenya",
          "Korea, Republic of",
          "Kuwait",
          "Latvia",
          "Lebanon",
          "Lithuania",
          "Luxembourg",
          "Malaysia",
          "Mexico",
          "Morocco",
          "Nepal",
          "Netherlands",
          "New Zealand",
          "Nigeria",
          "North Macedonia",
          "Norway",
          "Pakistan",
          "Philippines",
          "Poland",
          "Portugal",
          "Qatar",
          "Romania",
          "Russian Federation",
          "Saudi Arabia",
          "Serbia",
          "Singapore",
          "Slovakia",
          "South Africa",
          "Spain",
          "Sri Lanka",
          "Svalbard and Jan Mayen",
          "Sweden",
          "Switzerland",
          "Taiwan, Province of China",
          "Tanzania, United Republic of",
          "Thailand",
          "Türkiye",
          "Uganda",
          "Ukraine",
          "United Arab Emirates",
          "United Kingdom",
          "United States",
          "Viet Nam",
          "Virgin Islands, U.S.",
          "Zimbabwe",
          "Algeria",
          "Argentina",
          "Australia",
          "Austria",
          "Bangladesh",
          "Belgium",
          "Bermuda",
          "Brazil",
          "Canada",
          "Colombia",
          "Czechia",
          "Denmark",
          "Egypt",
          "Estonia",
          "Finland",
          "France",
          "Germany",
          "Hong Kong",
          "Hungary",
          "India",
          "Indonesia",
          "Ireland",
          "Israel",
          "Italy",
          "Japan",
          "Kenya",
          "Korea, Republic of",
          "Lebanon",
          "Lithuania",
          "Malaysia",
          "Netherlands",
          "New Zealand",
          "Nigeria",
          "North Macedonia",
          "Norway",
          "Pakistan",
          "Philippines",
          "Poland",
          "Portugal",
          "Qatar",
          "Romania",
          "Saudi Arabia",
          "Singapore",
          "South Africa",
          "Spain",
          "Sri Lanka",
          "Sweden",
          "Switzerland",
          "Thailand",
          "Uganda",
          "United Arab Emirates",
          "United Kingdom",
          "United States",
          "Viet Nam",
          "Australia",
          "Bangladesh",
          "Belgium",
          "Canada",
          "Chile",
          "China",
          "Croatia",
          "Cyprus",
          "Finland",
          "France",
          "Germany",
          "Greece",
          "Hong Kong",
          "India",
          "Ireland",
          "Israel",
          "Italy",
          "Jamaica",
          "Japan",
          "Kenya",
          "Korea, Republic of",
          "Lebanon",
          "Lithuania",
          "Malaysia",
          "Netherlands",
          "New Zealand",
          "Nigeria",
          "Pakistan",
          "Palestine, State of",
          "Philippines",
          "Qatar",
          "Romania",
          "Saudi Arabia",
          "Serbia",
          "Singapore",
          "Slovakia",
          "South Africa",
          "Spain",
          "Sri Lanka",
          "Sweden",
          "Switzerland",
          "Uganda",
          "United Arab Emirates",
          "United Kingdom",
          "United States",
          "Andorra",
          "Australia",
          "Bangladesh",
          "Belgium",
          "Brazil",
          "Canada",
          "Chile",
          "Costa Rica",
          "Croatia",
          "Cyprus",
          "France",
          "Germany",
          "Hong Kong",
          "Hungary",
          "India",
          "Ireland",
          "Israel",
          "Italy",
          "Japan",
          "Kenya",
          "Korea, Republic of",
          "Luxembourg",
          "Malta",
          "Mexico",
          "Nepal",
          "Netherlands",
          "New Zealand",
          "Pakistan",
          "Panama",
          "Philippines",
          "Portugal",
          "Romania",
          "Russian Federation",
          "Singapore",
          "South Africa",
          "Spain",
          "Sweden",
          "Switzerland",
          "Thailand",
          "Türkiye",
          "Ukraine",
          "United Arab Emirates",
          "United Kingdom",
          "United States",
          "Algeria",
          "Argentina",
          "Australia",
          "Austria",
          "Bangladesh",
          "Belgium",
          "Brazil",
          "Cambodia",
          "Canada",
          "Chile",
          "China",
          "Colombia",
          "Costa Rica",
          "Croatia",
          "Czechia",
          "Denmark",
          "Egypt",
          "Estonia",
          "Finland",
          "France",
          "Germany",
          "Ghana",
          "Greece",
          "Hong Kong",
          "Hungary",
          "India",
          "Indonesia",
          "Ireland",
          "Israel",
          "Italy",
          "Jamaica",
          "Japan",
          "Kenya",
          "Korea, Republic of",
          "Lebanon",
          "Malaysia",
          "Malta",
          "Mexico",
          "Morocco",
          "Nepal",
          "Netherlands",
          "New Zealand",
          "Nigeria",
          "North Macedonia",
          "Norway",
          "Pakistan",
          "Philippines",
          "Poland",
          "Portugal",
          "Qatar",
          "Romania",
          "Russian Federation",
          "Serbia",
          "Singapore",
          "Slovenia",
          "South Africa",
          "Spain",
          "Sri Lanka",
          "Sweden",
          "Switzerland",
          "Taiwan, Province of China",
          "Thailand",
          "Türkiye",
          "Uganda",
          "Ukraine",
          "United Arab Emirates",
          "United Kingdom",
          "United States",
          "Viet Nam",
          "Virgin Islands, U.S.",
          "Albania",
          "Argentina",
          "Australia",
          "Austria",
          "Bangladesh",
          "Belgium",
          "Brazil",
          "Bulgaria",
          "Cambodia",
          "Canada",
          "Chile",
          "Colombia",
          "Croatia",
          "Cyprus",
          "Czechia",
          "Denmark",
          "Egypt",
          "Estonia",
          "Finland",
          "France",
          "Georgia",
          "Germany",
          "Greece",
          "Hong Kong",
          "Hungary",
          "India",
          "Indonesia",
          "Iraq",
          "Ireland",
          "Israel",
          "Italy",
          "Jamaica",
          "Japan",
          "Kenya",
          "Korea, Republic of",
          "Latvia",
          "Lebanon",
          "Luxembourg",
          "Malaysia",
          "Malta",
          "Mexico",
          "Morocco",
          "Nepal",
          "Netherlands",
          "New Zealand",
          "Nigeria",
          "Norway",
          "Oman",
          "Pakistan",
          "Philippines",
          "Poland",
          "Portugal",
          "Romania",
          "Russian Federation",
          "Saudi Arabia",
          "Serbia",
          "Singapore",
          "Slovakia",
          "South Africa",
          "Spain",
          "Sri Lanka",
          "Sweden",
          "Switzerland",
          "Taiwan, Province of China",
          "Tajikistan",
          "Thailand",
          "Uganda",
          "Ukraine",
          "United Arab Emirates",
          "United Kingdom",
          "United States",
          "Algeria",
          "Australia",
          "Bangladesh",
          "Canada",
          "China",
          "Croatia",
          "Denmark",
          "Finland",
          "France",
          "Germany",
          "India",
          "Indonesia",
          "Ireland",
          "Israel",
          "Italy",
          "Korea, Republic of",
          "Malaysia",
          "Mexico",
          "Moldova, Republic of",
          "Nepal",
          "Netherlands",
          "New Zealand",
          "Pakistan",
          "Philippines",
          "Romania",
          "Russian Federation",
          "Singapore",
          "Slovakia",
          "South Africa",
          "Spain",
          "Sweden",
          "Switzerland",
          "Thailand",
          "United Arab Emirates",
          "United Kingdom",
          "United States",
          "Viet Nam",
          "Australia",
          "Canada",
          "France",
          "Germany",
          "India",
          "Kenya",
          "Malaysia",
          "Uganda",
          "United Kingdom",
          "United States",
          "Andorra",
          "Antarctica",
          "Australia",
          "Austria",
          "Bangladesh",
          "Belarus",
          "Belgium",
          "Bermuda",
          "Brazil",
          "Bulgaria",
          "Cambodia",
          "Canada",
          "China",
          "Colombia",
          "Costa Rica",
          "Croatia",
          "Czechia",
          "Denmark",
          "Ecuador",
          "Egypt",
          "Estonia",
          "Finland",
          "France",
          "Germany",
          "Ghana",
          "Greece",
          "Hong Kong",
          "Hungary",
          "India",
          "Indonesia",
          "Ireland",
          "Israel",
          "Italy",
          "Jamaica",
          "Japan",
          "Kenya",
          "Korea, Republic of",
          "Kuwait",
          "Lebanon",
          "Luxembourg",
          "Malaysia",
          "Mexico",
          "Morocco",
          "Nepal",
          "Netherlands",
          "New Zealand",
          "Nigeria",
          "Norway",
          "Pakistan",
          "Philippines",
          "Poland",
          "Portugal",
          "Romania",
          "Russian Federation",
          "Saudi Arabia",
          "Serbia",
          "Singapore",
          "Slovakia",
          "Slovenia",
          "South Africa",
          "Spain",
          "Sri Lanka",
          "Sweden",
          "Switzerland",
          "Taiwan, Province of China",
          "Thailand",
          "Uganda",
          "Ukraine",
          "United Arab Emirates",
          "United Kingdom",
          "United States",
          "Viet Nam",
          "Antarctica",
          "Argentina",
          "Australia",
          "Austria",
          "Bahamas",
          "Bangladesh",
          "Belgium",
          "Brazil",
          "Canada",
          "China",
          "Colombia",
          "Croatia",
          "Cyprus",
          "Czechia",
          "Denmark",
          "Egypt",
          "Estonia",
          "Finland",
          "France",
          "Germany",
          "Hong Kong",
          "Hungary",
          "Iceland",
          "India",
          "Indonesia",
          "Ireland",
          "Isle of Man",
          "Israel",
          "Italy",
          "Jamaica",
          "Japan",
          "Kenya",
          "Korea, Republic of",
          "Lebanon",
          "Malaysia",
          "Malta",
          "Mexico",
          "Morocco",
          "Nepal",
          "Netherlands",
          "New Zealand",
          "Nigeria",
          "North Macedonia",
          "Norway",
          "Oman",
          "Pakistan",
          "Philippines",
          "Poland",
          "Portugal",
          "Qatar",
          "Romania",
          "Russian Federation",
          "Saudi Arabia",
          "Serbia",
          "Singapore",
          "Slovenia",
          "South Africa",
          "Spain",
          "Sri Lanka",
          "Sweden",
          "Switzerland",
          "Taiwan, Province of China",
          "Thailand",
          "Trinidad and Tobago",
          "Türkiye",
          "Uganda",
          "Ukraine",
          "United Arab Emirates",
          "United Kingdom",
          "United States",
          "United States Minor Outlying Islands",
          "Viet Nam",
          "Zimbabwe",
          "Albania",
          "Andorra",
          "Argentina",
          "Australia",
          "Austria",
          "Azerbaijan",
          "Bangladesh",
          "Belgium",
          "Brazil",
          "Bulgaria",
          "Canada",
          "China",
          "Costa Rica",
          "Croatia",
          "Czechia",
          "Denmark",
          "Egypt",
          "Finland",
          "France",
          "Germany",
          "Greece",
          "Hong Kong",
          "Hungary",
          "India",
          "Indonesia",
          "Ireland",
          "Isle of Man",
          "Israel",
          "Italy",
          "Jamaica",
          "Japan",
          "Kazakhstan",
          "Kenya",
          "Korea, Republic of",
          "Latvia",
          "Lebanon",
          "Malaysia",
          "Malta",
          "Mexico",
          "Nepal",
          "Netherlands",
          "New Zealand",
          "Nigeria",
          "Norway",
          "Pakistan",
          "Philippines",
          "Poland",
          "Portugal",
          "Romania",
          "Russian Federation",
          "Saudi Arabia",
          "Serbia",
          "Singapore",
          "Slovakia",
          "Slovenia",
          "South Africa",
          "Spain",
          "Sri Lanka",
          "Svalbard and Jan Mayen",
          "Sweden",
          "Switzerland",
          "Taiwan, Province of China",
          "Tajikistan",
          "Tanzania, United Republic of",
          "Thailand",
          "Türkiye",
          "Uganda",
          "Ukraine",
          "United Arab Emirates",
          "United Kingdom",
          "United States",
          "Viet Nam",
          "Anguilla",
          "Argentina",
          "Australia",
          "Austria",
          "Bangladesh",
          "Belarus",
          "Belgium",
          "Bolivia, Plurinational State of",
          "Brazil",
          "Bulgaria",
          "Cambodia",
          "Canada",
          "Chile",
          "China",
          "Colombia",
          "Croatia",
          "Cyprus",
          "Czechia",
          "Denmark",
          "Egypt",
          "Estonia",
          "Finland",
          "France",
          "Germany",
          "Greece",
          "Hong Kong",
          "Hungary",
          "India",
          "Indonesia",
          "Iraq",
          "Ireland",
          "Isle of Man",
          "Israel",
          "Italy",
          "Jamaica",
          "Japan",
          "Kazakhstan",
          "Kenya",
          "Korea, Republic of",
          "Malaysia",
          "Mexico",
          "Morocco",
          "Nepal",
          "Netherlands",
          "New Zealand",
          "Nigeria",
          "North Macedonia",
          "Norway",
          "Oman",
          "Pakistan",
          "Philippines",
          "Poland",
          "Portugal",
          "Qatar",
          "Romania",
          "Russian Federation",
          "Serbia",
          "Singapore",
          "Slovakia",
          "Slovenia",
          "South Africa",
          "Spain",
          "Sri Lanka",
          "Svalbard and Jan Mayen",
          "Sweden",
          "Switzerland",
          "Taiwan, Province of China",
          "Thailand",
          "Trinidad and Tobago",
          "Türkiye",
          "Uganda",
          "Ukraine",
          "United Arab Emirates",
          "United Kingdom",
          "United States",
          "Viet Nam",
          "Virgin Islands, U.S.",
          "Andorra",
          "Anguilla",
          "Antarctica",
          "Argentina",
          "Australia",
          "Austria",
          "Bahamas",
          "Bangladesh",
          "Belarus",
          "Belgium",
          "Brazil",
          "Bulgaria",
          "Cambodia",
          "Canada",
          "Chile",
          "China",
          "Colombia",
          "Costa Rica",
          "Czechia",
          "Denmark",
          "Egypt",
          "Estonia",
          "Finland",
          "France",
          "Germany",
          "Ghana",
          "Greece",
          "Hong Kong",
          "Hungary",
          "India",
          "Indonesia",
          "Iraq",
          "Ireland",
          "Isle of Man",
          "Israel",
          "Italy",
          "Japan",
          "Kenya",
          "Korea, Republic of",
          "Kuwait",
          "Latvia",
          "Lebanon",
          "Lithuania",
          "Malaysia",
          "Mexico",
          "Morocco",
          "Nepal",
          "Netherlands",
          "New Zealand",
          "Nigeria",
          "Norway",
          "Pakistan",
          "Philippines",
          "Poland",
          "Portugal",
          "Romania",
          "Russian Federation",
          "Saudi Arabia",
          "Serbia",
          "Singapore",
          "Slovakia",
          "Slovenia",
          "South Africa",
          "Spain",
          "Sri Lanka",
          "Sweden",
          "Switzerland",
          "Taiwan, Province of China",
          "Thailand",
          "Uganda",
          "Ukraine",
          "United Arab Emirates",
          "United Kingdom",
          "United States",
          "Viet Nam",
          "Albania",
          "Argentina",
          "Australia",
          "Bangladesh",
          "Brazil",
          "Bulgaria",
          "Canada",
          "Czechia",
          "Denmark",
          "Egypt",
          "Falkland Islands (Malvinas)",
          "Finland",
          "France",
          "Germany",
          "Hong Kong",
          "India",
          "Indonesia",
          "Iraq",
          "Ireland",
          "Israel",
          "Italy",
          "Kenya",
          "Korea, Republic of",
          "Nepal",
          "Netherlands",
          "Nigeria",
          "Pakistan",
          "Philippines",
          "Romania",
          "Russian Federation",
          "Saudi Arabia",
          "Slovakia",
          "South Africa",
          "Spain",
          "Sri Lanka",
          "Sweden",
          "Switzerland",
          "Thailand",
          "Uganda",
          "Ukraine",
          "United Arab Emirates",
          "United Kingdom",
          "United States",
          "Argentina",
          "Australia",
          "Bangladesh",
          "Belgium",
          "Canada",
          "Finland",
          "Germany",
          "Ghana",
          "Hong Kong",
          "Hungary",
          "India",
          "Indonesia",
          "Ireland",
          "Israel",
          "Italy",
          "Japan",
          "Luxembourg",
          "Malaysia",
          "Nepal",
          "New Zealand",
          "Nigeria",
          "Pakistan",
          "Philippines",
          "Romania",
          "Singapore",
          "Spain",
          "Switzerland",
          "Taiwan, Province of China",
          "Thailand",
          "Uganda",
          "Ukraine",
          "United Kingdom",
          "United States",
          "Viet Nam",
          "Australia",
          "Canada",
          "Germany",
          "India",
          "Indonesia",
          "Japan",
          "New Zealand",
          "Pakistan",
          "Romania",
          "Spain",
          "Thailand",
          "United Kingdom",
          "United States",
          "Australia",
          "Bangladesh",
          "Belgium",
          "Canada",
          "France",
          "Germany",
          "Ghana",
          "India",
          "Ireland",
          "Israel",
          "Korea, Republic of",
          "Nepal",
          "New Zealand",
          "North Macedonia",
          "Pakistan",
          "Philippines",
          "Romania",
          "Saudi Arabia",
          "Singapore",
          "South Africa",
          "Sri Lanka",
          "Switzerland",
          "Uganda",
          "United Arab Emirates",
          "United Kingdom",
          "United States",
          "Australia",
          "Canada",
          "France",
          "Germany",
          "India",
          "Indonesia",
          "Israel",
          "Japan",
          "Korea, Republic of",
          "Netherlands",
          "New Zealand",
          "Philippines",
          "Romania",
          "Uganda",
          "United Kingdom",
          "United States",
          "Antarctica",
          "Argentina",
          "Australia",
          "Austria",
          "Bahamas",
          "Bangladesh",
          "Barbados",
          "Belgium",
          "Brazil",
          "Bulgaria",
          "Cambodia",
          "Canada",
          "Chile",
          "China",
          "Colombia",
          "Costa Rica",
          "Croatia",
          "Cyprus",
          "Czechia",
          "Denmark",
          "Ecuador",
          "Egypt",
          "Finland",
          "France",
          "Germany",
          "Ghana",
          "Greece",
          "Guatemala",
          "Hong Kong",
          "Hungary",
          "India",
          "Indonesia",
          "Ireland",
          "Isle of Man",
          "Israel",
          "Italy",
          "Jamaica",
          "Japan",
          "Kazakhstan",
          "Kenya",
          "Korea, Republic of",
          "Latvia",
          "Lebanon",
          "Luxembourg",
          "Malaysia",
          "Malta",
          "Mexico",
          "Morocco",
          "Nepal",
          "Netherlands",
          "New Zealand",
          "Nigeria",
          "North Macedonia",
          "Norway",
          "Pakistan",
          "Peru",
          "Philippines",
          "Poland",
          "Portugal",
          "Puerto Rico",
          "Romania",
          "Russian Federation",
          "Saudi Arabia",
          "Serbia",
          "Singapore",
          "Slovakia",
          "Slovenia",
          "South Africa",
          "Spain",
          "Sri Lanka",
          "Sweden",
          "Switzerland",
          "Taiwan, Province of China",
          "Thailand",
          "Türkiye",
          "Uganda",
          "Ukraine",
          "United Arab Emirates",
          "United Kingdom",
          "United States",
          "Viet Nam",
          "Zimbabwe",
          "Australia",
          "Canada",
          "France",
          "Germany",
          "Hong Kong",
          "India",
          "Israel",
          "Italy",
          "Malaysia",
          "Netherlands",
          "New Zealand",
          "Norway",
          "Slovakia",
          "Spain",
          "United Kingdom",
          "United States",
          "Australia",
          "Bangladesh",
          "Bulgaria",
          "Canada",
          "Colombia",
          "Cyprus",
          "France",
          "Germany",
          "Greece",
          "India",
          "Isle of Man",
          "Italy",
          "Malaysia",
          "Netherlands",
          "New Zealand",
          "Pakistan",
          "Switzerland",
          "United Kingdom",
          "United States",
          "Germany",
          "Netherlands",
          "United States",
          "Australia",
          "Canada",
          "Germany",
          "Netherlands",
          "Romania",
          "Sweden",
          "United Kingdom",
          "United States",
          "United Kingdom",
          "United States",
          "Argentina",
          "Australia",
          "Austria",
          "Bangladesh",
          "Belgium",
          "Brazil",
          "Bulgaria",
          "Canada",
          "Chile",
          "China",
          "Costa Rica",
          "Cyprus",
          "Czechia",
          "Egypt",
          "Finland",
          "France",
          "Germany",
          "India",
          "Indonesia",
          "Ireland",
          "Isle of Man",
          "Israel",
          "Italy",
          "Japan",
          "Kenya",
          "Korea, Republic of",
          "Malaysia",
          "Mexico",
          "Morocco",
          "Nepal",
          "Netherlands",
          "New Zealand",
          "Nigeria",
          "Norway",
          "Pakistan",
          "Philippines",
          "Poland",
          "Romania",
          "Russian Federation",
          "Saudi Arabia",
          "Singapore",
          "South Africa",
          "Spain",
          "Sri Lanka",
          "Sweden",
          "Switzerland",
          "Tanzania, United Republic of",
          "Thailand",
          "Uganda",
          "Ukraine",
          "United Arab Emirates",
          "United Kingdom",
          "United States",
          "Australia",
          "Bangladesh",
          "Belgium",
          "Brazil",
          "Bulgaria",
          "Canada",
          "China",
          "Colombia",
          "Cyprus",
          "Denmark",
          "Finland",
          "France",
          "Germany",
          "Ghana",
          "Greece",
          "Hong Kong",
          "Hungary",
          "India",
          "Ireland",
          "Isle of Man",
          "Israel",
          "Italy",
          "Japan",
          "Korea, Republic of",
          "Latvia",
          "Lebanon",
          "Malaysia",
          "Netherlands",
          "New Zealand",
          "North Macedonia",
          "Norway",
          "Pakistan",
          "Philippines",
          "Poland",
          "Portugal",
          "Romania",
          "Russian Federation",
          "Saudi Arabia",
          "Singapore",
          "Slovakia",
          "South Africa",
          "Spain",
          "Svalbard and Jan Mayen",
          "Switzerland",
          "Thailand",
          "Türkiye",
          "United Arab Emirates",
          "United Kingdom",
          "United States",
          "Viet Nam",
          "Australia",
          "Austria",
          "Bahamas",
          "Bahrain",
          "Bangladesh",
          "Brazil",
          "Canada",
          "Cyprus",
          "Czechia",
          "Denmark",
          "Estonia",
          "France",
          "Germany",
          "Greece",
          "Hong Kong",
          "Hungary",
          "India",
          "Indonesia",
          "Ireland",
          "Italy",
          "Japan",
          "Kenya",
          "Latvia",
          "Luxembourg",
          "Malaysia",
          "Mexico",
          "Nepal",
          "Netherlands",
          "New Zealand",
          "Nigeria",
          "Pakistan",
          "Philippines",
          "Poland",
          "Portugal",
          "Puerto Rico",
          "Romania",
          "Russian Federation",
          "Singapore",
          "Slovenia",
          "South Africa",
          "Spain",
          "Switzerland",
          "Uganda",
          "Ukraine",
          "United Kingdom",
          "United States",
          "Antarctica",
          "Australia",
          "Austria",
          "Bangladesh",
          "Belgium",
          "Brazil",
          "Bulgaria",
          "Canada",
          "Colombia",
          "Croatia",
          "Denmark",
          "Finland",
          "France",
          "Germany",
          "Greece",
          "India",
          "Indonesia",
          "Iraq",
          "Ireland",
          "Isle of Man",
          "Israel",
          "Italy",
          "Japan",
          "Korea, Republic of",
          "Latvia",
          "Lithuania",
          "Luxembourg",
          "Malaysia",
          "Mexico",
          "Morocco",
          "Netherlands",
          "New Zealand",
          "Nigeria",
          "North Macedonia",
          "Norway",
          "Pakistan",
          "Panama",
          "Philippines",
          "Poland",
          "Portugal",
          "Romania",
          "Russian Federation",
          "Serbia",
          "Singapore",
          "Slovakia",
          "South Africa",
          "Spain",
          "Sri Lanka",
          "Sweden",
          "Switzerland",
          "Thailand",
          "Türkiye",
          "United Arab Emirates",
          "United Kingdom",
          "United States",
          "United States Minor Outlying Islands",
          "Viet Nam",
          "Virgin Islands, U.S.",
          "Australia",
          "Austria",
          "Brazil",
          "Canada",
          "Croatia",
          "France",
          "Germany",
          "Hong Kong",
          "India",
          "Indonesia",
          "Israel",
          "Latvia",
          "Malaysia",
          "Netherlands",
          "Pakistan",
          "Philippines",
          "Portugal",
          "Singapore",
          "Ukraine",
          "United Kingdom",
          "United States",
          "Australia",
          "Canada",
          "Germany",
          "Hong Kong",
          "India",
          "Ireland",
          "Jamaica",
          "Malaysia",
          "Pakistan",
          "Philippines",
          "Russian Federation",
          "Spain",
          "Sweden",
          "Thailand",
          "United Kingdom",
          "United States",
          "Australia",
          "Austria",
          "Bangladesh",
          "Brazil",
          "Canada",
          "France",
          "Georgia",
          "Germany",
          "Greece",
          "Hungary",
          "India",
          "Indonesia",
          "Ireland",
          "Italy",
          "Japan",
          "Korea, Republic of",
          "Luxembourg",
          "Malaysia",
          "Mexico",
          "Netherlands",
          "New Zealand",
          "Norway",
          "Pakistan",
          "Philippines",
          "Poland",
          "Romania",
          "Russian Federation",
          "Slovenia",
          "South Africa",
          "Spain",
          "Switzerland",
          "Thailand",
          "United Kingdom",
          "United States",
          "Zimbabwe",
          "Australia",
          "Bangladesh",
          "Belgium",
          "Cambodia",
          "Canada",
          "Croatia",
          "Germany",
          "Greece",
          "Hungary",
          "India",
          "Indonesia",
          "Korea, Republic of",
          "Luxembourg",
          "New Zealand",
          "Pakistan",
          "Philippines",
          "Romania",
          "Saudi Arabia",
          "Singapore",
          "Thailand",
          "United Arab Emirates",
          "United Kingdom",
          "United States",
          "Australia",
          "Brazil",
          "Canada",
          "Finland",
          "France",
          "Germany",
          "Ireland",
          "Italy",
          "Luxembourg",
          "Mexico",
          "New Zealand",
          "Philippines",
          "Portugal",
          "Romania",
          "Singapore",
          "Spain",
          "Thailand",
          "United Kingdom",
          "United States",
          "Australia",
          "Austria",
          "Brazil",
          "Canada",
          "Denmark",
          "Finland",
          "Germany",
          "Greece",
          "India",
          "Indonesia",
          "Ireland",
          "Isle of Man",
          "Italy",
          "New Zealand",
          "Pakistan",
          "Poland",
          "Romania",
          "Spain",
          "Sweden",
          "United Kingdom",
          "United States",
          "Australia",
          "Canada",
          "France",
          "Germany",
          "Greece",
          "Hong Kong",
          "India",
          "Ireland",
          "Israel",
          "Jamaica",
          "Japan",
          "Malaysia",
          "Netherlands",
          "Pakistan",
          "Panama",
          "Poland",
          "Spain",
          "Sweden",
          "Thailand",
          "United Kingdom",
          "United States",
          "Australia",
          "Belgium",
          "Brazil",
          "Canada",
          "Czechia",
          "France",
          "Germany",
          "Hong Kong",
          "India",
          "Indonesia",
          "Ireland",
          "Japan",
          "Korea, Republic of",
          "Luxembourg",
          "Malaysia",
          "Mexico",
          "Netherlands",
          "New Zealand",
          "Norway",
          "Pakistan",
          "Panama",
          "Philippines",
          "Poland",
          "Saudi Arabia",
          "Serbia",
          "Singapore",
          "Slovenia",
          "South Africa",
          "Spain",
          "Sri Lanka",
          "Sweden",
          "Switzerland",
          "Thailand",
          "United Arab Emirates",
          "United Kingdom",
          "United States",
          "United States Minor Outlying Islands",
          "Viet Nam",
          "",
          "",
          "",
          "",
          "",
          "",
          "",
          "",
          "",
          "",
          "",
          "",
          "",
          "",
          "",
          "",
          "",
          "",
          "",
          "",
          "",
          "",
          "",
          "",
          "",
          "",
          "",
          "",
          "",
          "",
          "",
          "",
          "",
          "",
          "",
          "",
          "",
          "",
          "",
          "",
          "",
          "",
          "",
          "",
          "",
          "",
          "",
          "",
          "",
          "",
          "",
          "",
          "",
          "",
          "",
          "",
          "",
          "",
          "",
          "",
          "",
          "",
          "",
          "",
          "",
          "",
          "",
          "",
          "",
          "",
          "",
          "",
          "",
          "",
          "",
          "",
          "",
          "",
          "",
          "",
          "",
          "",
          "",
          "",
          "",
          "",
          "",
          "",
          "",
          "",
          "",
          "",
          "",
          "",
          "",
          "",
          "",
          "",
          "",
          "",
          "",
          "",
          "",
          "",
          "",
          "",
          "",
          "",
          "",
          "",
          "",
          ""
         ],
         "type": "sunburst",
         "values": [
          1,
          1,
          768,
          81,
          1,
          47,
          1,
          104,
          1,
          25,
          2,
          39,
          2436,
          13,
          1,
          20,
          13,
          24,
          2,
          16,
          2184,
          11,
          176,
          8,
          88,
          91,
          316,
          20,
          82,
          31,
          24,
          5962,
          47,
          6,
          86,
          81,
          1791,
          10,
          79,
          3,
          30,
          1,
          26,
          6,
          34,
          7,
          10,
          227,
          89,
          10,
          1,
          37,
          1704,
          77,
          12,
          19,
          1,
          1,
          179,
          11,
          13,
          11,
          37,
          15,
          3,
          569,
          35,
          24,
          7,
          307,
          132,
          1,
          58,
          3,
          4,
          20,
          45,
          6388,
          32006,
          1,
          31,
          1,
          1,
          4088,
          8,
          30,
          7,
          429,
          6,
          63,
          8,
          6,
          11420,
          13,
          3,
          1,
          418,
          14,
          3,
          3,
          78,
          2,
          196,
          165,
          8,
          118,
          2015,
          42,
          6,
          19,
          81,
          28801,
          775,
          15,
          19,
          164,
          7,
          1186,
          84,
          10,
          36,
          1,
          20,
          41,
          6,
          7,
          17,
          96,
          2,
          2050,
          3,
          6,
          15,
          71,
          69,
          2156,
          3,
          139,
          10867,
          1130,
          180,
          18,
          171,
          73,
          140,
          1829,
          38,
          83,
          4,
          1211,
          133,
          772,
          1,
          358,
          110,
          1,
          734,
          26,
          4,
          63,
          6,
          3019,
          28705,
          122380,
          1,
          1,
          720,
          1,
          1,
          173,
          1,
          1,
          2,
          2,
          1,
          427,
          2,
          1,
          17,
          5,
          1,
          64,
          9,
          15,
          6,
          5,
          1264,
          2,
          27,
          15,
          3,
          5,
          4,
          6,
          1,
          1,
          4,
          40,
          10,
          2,
          1,
          4,
          379,
          5,
          2,
          2,
          1,
          18,
          1,
          5,
          7,
          40,
          2,
          45,
          603,
          1,
          4,
          6,
          2618,
          11536,
          1,
          148,
          17,
          4,
          502,
          1,
          6,
          2,
          14,
          4,
          49,
          55,
          1,
          6,
          187,
          65,
          14,
          41,
          2,
          6,
          4,
          2,
          1,
          1,
          8,
          17,
          5,
          2,
          51,
          2,
          1,
          2,
          12,
          15,
          1,
          21,
          6,
          42,
          2,
          5,
          3,
          9,
          32,
          9,
          889,
          1567,
          1,
          95,
          8,
          4,
          3,
          2952,
          33,
          1,
          1,
          112,
          6,
          35,
          2,
          7,
          2551,
          32,
          45,
          319,
          3,
          7,
          1,
          2,
          4,
          341,
          1,
          143,
          2,
          82,
          29,
          20,
          224,
          16,
          2,
          594,
          3,
          8,
          1,
          29,
          2,
          1,
          58,
          723,
          1617,
          14808,
          8,
          1,
          915,
          6,
          76,
          51,
          5,
          1,
          1875,
          1,
          1,
          1,
          25,
          2,
          40,
          91,
          2,
          10,
          49,
          39,
          453,
          1,
          2,
          7,
          6,
          2255,
          50,
          24,
          47,
          16,
          2,
          232,
          20,
          35,
          251,
          41,
          1,
          13,
          2,
          1,
          23,
          17,
          1,
          2,
          115,
          380,
          63,
          78,
          46,
          2,
          7,
          3,
          7,
          26,
          3,
          24,
          198,
          23,
          60,
          40,
          5,
          12,
          1,
          17,
          6,
          11,
          3659,
          21272,
          9,
          4,
          100,
          1,
          1797,
          167,
          828,
          131,
          3,
          34,
          3,
          3452,
          11,
          46,
          2,
          17,
          98,
          798,
          15,
          1,
          38,
          110,
          274,
          1896,
          670,
          3,
          36,
          24904,
          340,
          40,
          8,
          40,
          9,
          2,
          282,
          440,
          8,
          1,
          6,
          1,
          10,
          1,
          3,
          458,
          112,
          437,
          243,
          7,
          60,
          118,
          1035,
          30,
          80,
          328,
          31,
          110,
          23,
          3,
          73,
          175,
          410,
          9,
          7,
          531,
          87,
          1,
          1,
          11,
          1,
          2,
          27,
          8228,
          33809,
          6,
          42,
          60,
          115,
          1,
          8,
          5,
          1,
          2,
          9,
          842,
          2,
          20,
          3,
          1,
          4,
          2,
          1,
          1,
          2,
          8,
          2,
          73,
          2,
          1,
          5,
          5,
          1,
          3,
          6,
          5,
          11,
          10,
          14,
          565,
          2651,
          2,
          2,
          2,
          9,
          44,
          68,
          27,
          1,
          1,
          6,
          831,
          1,
          3,
          1263,
          4,
          88,
          1,
          4,
          3,
          30,
          237,
          5,
          2240,
          4,
          1,
          4,
          12,
          7,
          9,
          1,
          2,
          4,
          83,
          82,
          193,
          2,
          2,
          16,
          9,
          9355,
          10,
          45,
          73,
          14,
          1,
          57,
          6,
          64,
          1,
          14,
          1,
          23,
          5,
          4,
          1,
          162,
          78,
          3,
          15,
          2598,
          114,
          16,
          3,
          17,
          18,
          3,
          4,
          29,
          6,
          1,
          51,
          47,
          49,
          222,
          36,
          2,
          2,
          21,
          14,
          3,
          3046,
          27709,
          4,
          2,
          5,
          1082,
          5,
          3,
          26,
          17,
          36,
          2717,
          1,
          7,
          45,
          174,
          23,
          9,
          2,
          1,
          4,
          52,
          120,
          5,
          5,
          1,
          1631,
          44,
          23,
          2,
          10,
          12,
          2,
          37,
          15,
          10,
          2,
          18,
          1,
          8,
          1,
          5,
          29,
          60,
          6,
          1,
          11,
          2,
          365,
          38,
          9,
          11,
          2,
          63,
          8,
          5,
          3,
          107,
          8,
          80,
          66,
          11,
          7,
          7,
          4,
          72,
          1,
          2,
          30,
          29,
          9,
          1802,
          13866,
          1,
          6,
          1,
          1,
          2,
          47,
          1802,
          9,
          14,
          439,
          125,
          845,
          1,
          3894,
          60,
          1,
          1,
          3,
          12,
          1411,
          47,
          1483,
          4997,
          276,
          443,
          9,
          18236,
          134,
          121,
          8,
          231,
          1758,
          6,
          2836,
          58,
          24,
          1958,
          1,
          76,
          480,
          102,
          18,
          29,
          568,
          228,
          1,
          37,
          2745,
          71,
          400,
          140,
          15,
          1419,
          151,
          2,
          701,
          224,
          2,
          2,
          2198,
          1,
          2,
          94,
          1408,
          589,
          1,
          1,
          352,
          359,
          1,
          253,
          334,
          15396,
          27975,
          31,
          1,
          1,
          523,
          10,
          422,
          1,
          16,
          3,
          7,
          1,
          18,
          2592,
          2,
          8,
          109,
          11,
          1,
          5,
          17,
          1,
          48,
          45,
          143,
          218,
          3,
          3,
          1,
          6801,
          33,
          8,
          3,
          1,
          55,
          5,
          2,
          10,
          2,
          4,
          134,
          6,
          9,
          47,
          8,
          166,
          76,
          44,
          82,
          18,
          19,
          431,
          35,
          29,
          4,
          27,
          37,
          60,
          15,
          96,
          1,
          1,
          7,
          286,
          17,
          1,
          103,
          185,
          113,
          4,
          3,
          19,
          8,
          171,
          7,
          2811,
          24269,
          6,
          1,
          1,
          1,
          1,
          12,
          822,
          114,
          331,
          17,
          1,
          4,
          11,
          4,
          1,
          3245,
          1,
          8,
          1,
          33,
          5,
          5,
          1,
          37,
          14,
          75,
          107,
          10,
          21,
          62,
          2,
          5099,
          24,
          1,
          35,
          2,
          65,
          102,
          127,
          18,
          19,
          1,
          2,
          146,
          8,
          32,
          6,
          2,
          121,
          791,
          69,
          4,
          13,
          78,
          268,
          23,
          14,
          35,
          2,
          3,
          5,
          84,
          1,
          11,
          161,
          50,
          102,
          39,
          87,
          3,
          67,
          137,
          7,
          26,
          4526,
          32019,
          150,
          1,
          1,
          20,
          7,
          1,
          1,
          55,
          1,
          1,
          1,
          1,
          1,
          14,
          44,
          13,
          239,
          2,
          1,
          2,
          1,
          4,
          4,
          9,
          3,
          7,
          4,
          11,
          2,
          4,
          2,
          1,
          2,
          12,
          2,
          2,
          3,
          17,
          4,
          14,
          1,
          3,
          163,
          903,
          5,
          27,
          2,
          1,
          107,
          1,
          5,
          1,
          3,
          1,
          43,
          9,
          1,
          9,
          2,
          1,
          1,
          2,
          5,
          8,
          1,
          4,
          11,
          4,
          7,
          3,
          5,
          1,
          3,
          11,
          2,
          47,
          3047,
          1,
          3,
          33,
          3,
          5,
          1,
          2,
          1,
          2,
          2,
          1,
          5,
          10,
          1180,
          44,
          21,
          2,
          24,
          1,
          20,
          1,
          895,
          5,
          2,
          6,
          2,
          7,
          1,
          109,
          1,
          3,
          23,
          3,
          1,
          5,
          1,
          19,
          4,
          80,
          319,
          6,
          59,
          1,
          1,
          10,
          1,
          2,
          4,
          1,
          2,
          2,
          1,
          1,
          1,
          19,
          1179,
          1,
          17,
          1088,
          35,
          6,
          56,
          1,
          26,
          28,
          320,
          2,
          4813,
          2,
          3,
          63,
          2,
          7,
          45,
          18,
          55,
          1,
          10,
          30,
          263,
          876,
          2,
          1051,
          5,
          13,
          356,
          1957,
          30,
          10,
          2198,
          96,
          90,
          10,
          79,
          1,
          13,
          34,
          43,
          3,
          1,
          4880,
          10,
          18,
          2,
          14,
          783,
          476,
          56,
          3,
          91,
          298,
          1,
          49,
          20,
          15,
          6,
          90,
          5,
          92,
          17,
          154,
          6,
          9,
          194,
          273,
          1,
          88,
          472,
          14,
          6,
          44,
          101,
          1,
          26,
          12603,
          38631,
          1,
          1,
          257,
          96,
          4,
          72,
          1,
          860,
          6,
          1,
          212,
          11,
          2,
          21,
          113,
          404,
          461,
          4459,
          3,
          18,
          2,
          269,
          1,
          2,
          187,
          74,
          242,
          24,
          6,
          1,
          1,
          3,
          43,
          9,
          8,
          1592,
          525,
          220,
          91,
          99,
          1,
          14,
          4,
          1,
          1,
          1,
          3,
          46,
          1,
          294,
          42,
          395,
          3,
          12,
          38,
          8,
          1,
          488,
          1,
          1,
          3,
          1,
          1,
          1,
          10,
          15,
          75,
          419,
          51,
          5,
          3,
          2,
          24,
          8,
          2,
          1,
          455,
          7,
          2,
          18,
          47,
          13,
          23,
          9,
          201,
          12,
          12,
          10,
          66,
          25,
          12,
          67,
          7,
          2,
          2,
          14,
          1,
          9,
          8,
          1,
          19,
          1707,
          5585,
          518,
          22,
          2,
          4,
          3,
          545,
          1,
          3,
          1,
          8,
          7,
          31,
          302,
          1,
          3,
          21,
          1,
          121,
          5,
          10,
          10,
          37,
          2,
          1,
          1,
          1,
          75,
          14,
          10,
          1,
          27,
          7,
          4,
          9,
          1,
          7,
          2,
          2,
          14,
          6,
          12,
          195,
          1,
          57,
          1,
          1,
          1,
          911,
          4279,
          1,
          186,
          2,
          2,
          1,
          2,
          1,
          80,
          2,
          25,
          25,
          3,
          18,
          341,
          122,
          1,
          2,
          710,
          50,
          2,
          19,
          1,
          1,
          30,
          1,
          15,
          2,
          2,
          22,
          8,
          1,
          3,
          48,
          3,
          1,
          1,
          2,
          1,
          58,
          1,
          1,
          832,
          1404,
          3,
          11,
          344,
          2653,
          1,
          282,
          5,
          6,
          57,
          21,
          1,
          801,
          3,
          3,
          8,
          12,
          18,
          357,
          5,
          258,
          74,
          1,
          13,
          5,
          5,
          25,
          24,
          1,
          1,
          1,
          8,
          86,
          18,
          1,
          108,
          14,
          1,
          1,
          1,
          27,
          13,
          5,
          3,
          12,
          15,
          4,
          5,
          6,
          1,
          15,
          169,
          1,
          25,
          20,
          64,
          7,
          8,
          706,
          4402,
          5,
          1,
          1,
          257,
          12,
          1,
          33,
          184,
          4,
          1844,
          1,
          83,
          2,
          2,
          906,
          2,
          7,
          1,
          2,
          1,
          3,
          1,
          631,
          3494,
          5,
          21,
          1,
          1,
          12,
          3,
          1,
          39,
          2,
          2,
          1,
          2,
          1,
          4,
          108,
          211,
          275,
          7,
          5,
          10,
          80,
          1,
          1,
          654,
          6,
          2,
          101,
          1,
          1,
          5,
          1,
          1,
          4,
          50,
          17,
          3,
          13,
          1,
          4,
          1,
          22,
          1,
          2,
          5,
          2,
          4,
          4,
          49,
          516,
          1226,
          4,
          3,
          2,
          3,
          1,
          5,
          2,
          1,
          5,
          1,
          358,
          5,
          1,
          1,
          1,
          27,
          1,
          1,
          2,
          1,
          3,
          3,
          8,
          86,
          4,
          3,
          127,
          1,
          3,
          7,
          1,
          1,
          1,
          5,
          8,
          2,
          2,
          3,
          3,
          5,
          1,
          8,
          274,
          7,
          2,
          2,
          18,
          1,
          1,
          669,
          18,
          10,
          1,
          4,
          1,
          9,
          2,
          3,
          1,
          1,
          6,
          1,
          26,
          690,
          8,
          119,
          2,
          123,
          1,
          1,
          9,
          2,
          1,
          1,
          1,
          10,
          6,
          1,
          2,
          1,
          87,
          1,
          4,
          35,
          690,
          35,
          10,
          6,
          163,
          2,
          4,
          4,
          1,
          61,
          5,
          12,
          31,
          9,
          1,
          72,
          2,
          7,
          3,
          2,
          7,
          1,
          1,
          2,
          1,
          2,
          5,
          1,
          1,
          23,
          1,
          8,
          11,
          17,
          1,
          67,
          736,
          1,
          5,
          1,
          102,
          15,
          6,
          2,
          10,
          133,
          16944,
          471,
          15,
          372,
          8,
          2611,
          1,
          4,
          607,
          69,
          3,
          1059,
          613,
          70,
          45819,
          78,
          98,
          258,
          500,
          318,
          374,
          248,
          3323,
          15,
          1823,
          278,
          1,
          508,
          2834,
          275,
          16170,
          80,
          2516,
          5,
          659,
          548,
          1,
          114131,
          1693,
          15,
          76,
          719,
          2324,
          3711,
          2592,
          39,
          3864,
          1,
          61,
          612,
          2376,
          8,
          992,
          519,
          133,
          30,
          8608,
          119,
          483,
          1,
          525,
          349,
          3794,
          1559,
          2322,
          96,
          601,
          139,
          21504,
          2,
          45,
          1,
          1996,
          902,
          841,
          8,
          206,
          649,
          1861,
          2189,
          113,
          2127,
          561,
          45,
          2875,
          5091,
          1025,
          12,
          1905,
          4757,
          734,
          2,
          736,
          787,
          4,
          441,
          476,
          583,
          4298,
          100302,
          441706,
          8,
          250,
          7,
          726
         ]
        }
       ],
       "layout": {
        "autosize": true,
        "legend": {
         "tracegroupgap": 0
        },
        "margin": {
         "t": 60
        },
        "template": {
         "data": {
          "bar": [
           {
            "error_x": {
             "color": "#2a3f5f"
            },
            "error_y": {
             "color": "#2a3f5f"
            },
            "marker": {
             "line": {
              "color": "#E5ECF6",
              "width": 0.5
             },
             "pattern": {
              "fillmode": "overlay",
              "size": 10,
              "solidity": 0.2
             }
            },
            "type": "bar"
           }
          ],
          "barpolar": [
           {
            "marker": {
             "line": {
              "color": "#E5ECF6",
              "width": 0.5
             },
             "pattern": {
              "fillmode": "overlay",
              "size": 10,
              "solidity": 0.2
             }
            },
            "type": "barpolar"
           }
          ],
          "carpet": [
           {
            "aaxis": {
             "endlinecolor": "#2a3f5f",
             "gridcolor": "white",
             "linecolor": "white",
             "minorgridcolor": "white",
             "startlinecolor": "#2a3f5f"
            },
            "baxis": {
             "endlinecolor": "#2a3f5f",
             "gridcolor": "white",
             "linecolor": "white",
             "minorgridcolor": "white",
             "startlinecolor": "#2a3f5f"
            },
            "type": "carpet"
           }
          ],
          "choropleth": [
           {
            "colorbar": {
             "outlinewidth": 0,
             "ticks": ""
            },
            "type": "choropleth"
           }
          ],
          "contour": [
           {
            "colorbar": {
             "outlinewidth": 0,
             "ticks": ""
            },
            "colorscale": [
             [
              0,
              "#0d0887"
             ],
             [
              0.1111111111111111,
              "#46039f"
             ],
             [
              0.2222222222222222,
              "#7201a8"
             ],
             [
              0.3333333333333333,
              "#9c179e"
             ],
             [
              0.4444444444444444,
              "#bd3786"
             ],
             [
              0.5555555555555556,
              "#d8576b"
             ],
             [
              0.6666666666666666,
              "#ed7953"
             ],
             [
              0.7777777777777778,
              "#fb9f3a"
             ],
             [
              0.8888888888888888,
              "#fdca26"
             ],
             [
              1,
              "#f0f921"
             ]
            ],
            "type": "contour"
           }
          ],
          "contourcarpet": [
           {
            "colorbar": {
             "outlinewidth": 0,
             "ticks": ""
            },
            "type": "contourcarpet"
           }
          ],
          "heatmap": [
           {
            "colorbar": {
             "outlinewidth": 0,
             "ticks": ""
            },
            "colorscale": [
             [
              0,
              "#0d0887"
             ],
             [
              0.1111111111111111,
              "#46039f"
             ],
             [
              0.2222222222222222,
              "#7201a8"
             ],
             [
              0.3333333333333333,
              "#9c179e"
             ],
             [
              0.4444444444444444,
              "#bd3786"
             ],
             [
              0.5555555555555556,
              "#d8576b"
             ],
             [
              0.6666666666666666,
              "#ed7953"
             ],
             [
              0.7777777777777778,
              "#fb9f3a"
             ],
             [
              0.8888888888888888,
              "#fdca26"
             ],
             [
              1,
              "#f0f921"
             ]
            ],
            "type": "heatmap"
           }
          ],
          "heatmapgl": [
           {
            "colorbar": {
             "outlinewidth": 0,
             "ticks": ""
            },
            "colorscale": [
             [
              0,
              "#0d0887"
             ],
             [
              0.1111111111111111,
              "#46039f"
             ],
             [
              0.2222222222222222,
              "#7201a8"
             ],
             [
              0.3333333333333333,
              "#9c179e"
             ],
             [
              0.4444444444444444,
              "#bd3786"
             ],
             [
              0.5555555555555556,
              "#d8576b"
             ],
             [
              0.6666666666666666,
              "#ed7953"
             ],
             [
              0.7777777777777778,
              "#fb9f3a"
             ],
             [
              0.8888888888888888,
              "#fdca26"
             ],
             [
              1,
              "#f0f921"
             ]
            ],
            "type": "heatmapgl"
           }
          ],
          "histogram": [
           {
            "marker": {
             "pattern": {
              "fillmode": "overlay",
              "size": 10,
              "solidity": 0.2
             }
            },
            "type": "histogram"
           }
          ],
          "histogram2d": [
           {
            "colorbar": {
             "outlinewidth": 0,
             "ticks": ""
            },
            "colorscale": [
             [
              0,
              "#0d0887"
             ],
             [
              0.1111111111111111,
              "#46039f"
             ],
             [
              0.2222222222222222,
              "#7201a8"
             ],
             [
              0.3333333333333333,
              "#9c179e"
             ],
             [
              0.4444444444444444,
              "#bd3786"
             ],
             [
              0.5555555555555556,
              "#d8576b"
             ],
             [
              0.6666666666666666,
              "#ed7953"
             ],
             [
              0.7777777777777778,
              "#fb9f3a"
             ],
             [
              0.8888888888888888,
              "#fdca26"
             ],
             [
              1,
              "#f0f921"
             ]
            ],
            "type": "histogram2d"
           }
          ],
          "histogram2dcontour": [
           {
            "colorbar": {
             "outlinewidth": 0,
             "ticks": ""
            },
            "colorscale": [
             [
              0,
              "#0d0887"
             ],
             [
              0.1111111111111111,
              "#46039f"
             ],
             [
              0.2222222222222222,
              "#7201a8"
             ],
             [
              0.3333333333333333,
              "#9c179e"
             ],
             [
              0.4444444444444444,
              "#bd3786"
             ],
             [
              0.5555555555555556,
              "#d8576b"
             ],
             [
              0.6666666666666666,
              "#ed7953"
             ],
             [
              0.7777777777777778,
              "#fb9f3a"
             ],
             [
              0.8888888888888888,
              "#fdca26"
             ],
             [
              1,
              "#f0f921"
             ]
            ],
            "type": "histogram2dcontour"
           }
          ],
          "mesh3d": [
           {
            "colorbar": {
             "outlinewidth": 0,
             "ticks": ""
            },
            "type": "mesh3d"
           }
          ],
          "parcoords": [
           {
            "line": {
             "colorbar": {
              "outlinewidth": 0,
              "ticks": ""
             }
            },
            "type": "parcoords"
           }
          ],
          "pie": [
           {
            "automargin": true,
            "type": "pie"
           }
          ],
          "scatter": [
           {
            "fillpattern": {
             "fillmode": "overlay",
             "size": 10,
             "solidity": 0.2
            },
            "type": "scatter"
           }
          ],
          "scatter3d": [
           {
            "line": {
             "colorbar": {
              "outlinewidth": 0,
              "ticks": ""
             }
            },
            "marker": {
             "colorbar": {
              "outlinewidth": 0,
              "ticks": ""
             }
            },
            "type": "scatter3d"
           }
          ],
          "scattercarpet": [
           {
            "marker": {
             "colorbar": {
              "outlinewidth": 0,
              "ticks": ""
             }
            },
            "type": "scattercarpet"
           }
          ],
          "scattergeo": [
           {
            "marker": {
             "colorbar": {
              "outlinewidth": 0,
              "ticks": ""
             }
            },
            "type": "scattergeo"
           }
          ],
          "scattergl": [
           {
            "marker": {
             "colorbar": {
              "outlinewidth": 0,
              "ticks": ""
             }
            },
            "type": "scattergl"
           }
          ],
          "scattermapbox": [
           {
            "marker": {
             "colorbar": {
              "outlinewidth": 0,
              "ticks": ""
             }
            },
            "type": "scattermapbox"
           }
          ],
          "scatterpolar": [
           {
            "marker": {
             "colorbar": {
              "outlinewidth": 0,
              "ticks": ""
             }
            },
            "type": "scatterpolar"
           }
          ],
          "scatterpolargl": [
           {
            "marker": {
             "colorbar": {
              "outlinewidth": 0,
              "ticks": ""
             }
            },
            "type": "scatterpolargl"
           }
          ],
          "scatterternary": [
           {
            "marker": {
             "colorbar": {
              "outlinewidth": 0,
              "ticks": ""
             }
            },
            "type": "scatterternary"
           }
          ],
          "surface": [
           {
            "colorbar": {
             "outlinewidth": 0,
             "ticks": ""
            },
            "colorscale": [
             [
              0,
              "#0d0887"
             ],
             [
              0.1111111111111111,
              "#46039f"
             ],
             [
              0.2222222222222222,
              "#7201a8"
             ],
             [
              0.3333333333333333,
              "#9c179e"
             ],
             [
              0.4444444444444444,
              "#bd3786"
             ],
             [
              0.5555555555555556,
              "#d8576b"
             ],
             [
              0.6666666666666666,
              "#ed7953"
             ],
             [
              0.7777777777777778,
              "#fb9f3a"
             ],
             [
              0.8888888888888888,
              "#fdca26"
             ],
             [
              1,
              "#f0f921"
             ]
            ],
            "type": "surface"
           }
          ],
          "table": [
           {
            "cells": {
             "fill": {
              "color": "#EBF0F8"
             },
             "line": {
              "color": "white"
             }
            },
            "header": {
             "fill": {
              "color": "#C8D4E3"
             },
             "line": {
              "color": "white"
             }
            },
            "type": "table"
           }
          ]
         },
         "layout": {
          "annotationdefaults": {
           "arrowcolor": "#2a3f5f",
           "arrowhead": 0,
           "arrowwidth": 1
          },
          "autotypenumbers": "strict",
          "coloraxis": {
           "colorbar": {
            "outlinewidth": 0,
            "ticks": ""
           }
          },
          "colorscale": {
           "diverging": [
            [
             0,
             "#8e0152"
            ],
            [
             0.1,
             "#c51b7d"
            ],
            [
             0.2,
             "#de77ae"
            ],
            [
             0.3,
             "#f1b6da"
            ],
            [
             0.4,
             "#fde0ef"
            ],
            [
             0.5,
             "#f7f7f7"
            ],
            [
             0.6,
             "#e6f5d0"
            ],
            [
             0.7,
             "#b8e186"
            ],
            [
             0.8,
             "#7fbc41"
            ],
            [
             0.9,
             "#4d9221"
            ],
            [
             1,
             "#276419"
            ]
           ],
           "sequential": [
            [
             0,
             "#0d0887"
            ],
            [
             0.1111111111111111,
             "#46039f"
            ],
            [
             0.2222222222222222,
             "#7201a8"
            ],
            [
             0.3333333333333333,
             "#9c179e"
            ],
            [
             0.4444444444444444,
             "#bd3786"
            ],
            [
             0.5555555555555556,
             "#d8576b"
            ],
            [
             0.6666666666666666,
             "#ed7953"
            ],
            [
             0.7777777777777778,
             "#fb9f3a"
            ],
            [
             0.8888888888888888,
             "#fdca26"
            ],
            [
             1,
             "#f0f921"
            ]
           ],
           "sequentialminus": [
            [
             0,
             "#0d0887"
            ],
            [
             0.1111111111111111,
             "#46039f"
            ],
            [
             0.2222222222222222,
             "#7201a8"
            ],
            [
             0.3333333333333333,
             "#9c179e"
            ],
            [
             0.4444444444444444,
             "#bd3786"
            ],
            [
             0.5555555555555556,
             "#d8576b"
            ],
            [
             0.6666666666666666,
             "#ed7953"
            ],
            [
             0.7777777777777778,
             "#fb9f3a"
            ],
            [
             0.8888888888888888,
             "#fdca26"
            ],
            [
             1,
             "#f0f921"
            ]
           ]
          },
          "colorway": [
           "#636efa",
           "#EF553B",
           "#00cc96",
           "#ab63fa",
           "#FFA15A",
           "#19d3f3",
           "#FF6692",
           "#B6E880",
           "#FF97FF",
           "#FECB52"
          ],
          "font": {
           "color": "#2a3f5f"
          },
          "geo": {
           "bgcolor": "white",
           "lakecolor": "white",
           "landcolor": "#E5ECF6",
           "showlakes": true,
           "showland": true,
           "subunitcolor": "white"
          },
          "hoverlabel": {
           "align": "left"
          },
          "hovermode": "closest",
          "mapbox": {
           "style": "light"
          },
          "paper_bgcolor": "white",
          "plot_bgcolor": "#E5ECF6",
          "polar": {
           "angularaxis": {
            "gridcolor": "white",
            "linecolor": "white",
            "ticks": ""
           },
           "bgcolor": "#E5ECF6",
           "radialaxis": {
            "gridcolor": "white",
            "linecolor": "white",
            "ticks": ""
           }
          },
          "scene": {
           "xaxis": {
            "backgroundcolor": "#E5ECF6",
            "gridcolor": "white",
            "gridwidth": 2,
            "linecolor": "white",
            "showbackground": true,
            "ticks": "",
            "zerolinecolor": "white"
           },
           "yaxis": {
            "backgroundcolor": "#E5ECF6",
            "gridcolor": "white",
            "gridwidth": 2,
            "linecolor": "white",
            "showbackground": true,
            "ticks": "",
            "zerolinecolor": "white"
           },
           "zaxis": {
            "backgroundcolor": "#E5ECF6",
            "gridcolor": "white",
            "gridwidth": 2,
            "linecolor": "white",
            "showbackground": true,
            "ticks": "",
            "zerolinecolor": "white"
           }
          },
          "shapedefaults": {
           "line": {
            "color": "#2a3f5f"
           }
          },
          "ternary": {
           "aaxis": {
            "gridcolor": "white",
            "linecolor": "white",
            "ticks": ""
           },
           "baxis": {
            "gridcolor": "white",
            "linecolor": "white",
            "ticks": ""
           },
           "bgcolor": "#E5ECF6",
           "caxis": {
            "gridcolor": "white",
            "linecolor": "white",
            "ticks": ""
           }
          },
          "title": {
           "x": 0.05
          },
          "xaxis": {
           "automargin": true,
           "gridcolor": "white",
           "linecolor": "white",
           "ticks": "",
           "title": {
            "standoff": 15
           },
           "zerolinecolor": "white",
           "zerolinewidth": 2
          },
          "yaxis": {
           "automargin": true,
           "gridcolor": "white",
           "linecolor": "white",
           "ticks": "",
           "title": {
            "standoff": 15
           },
           "zerolinecolor": "white",
           "zerolinewidth": 2
          }
         }
        }
       }
      }
     },
     "metadata": {},
     "output_type": "display_data"
    }
   ],
   "source": [
    "country_category = pd.read_csv(op.join(path_deriv, 'country_category.csv'), index_col=0)\n",
    "country_category = edu.groupby(['country', 'category']).count().reset_index()[['country', 'category', 'channel']].rename(columns = {'channel': '# videos'})\n",
    "country_category['subcategory'] = country_category.category.apply(lambda x: content_categories[x].capitalize())\n",
    "country_category['country_name'] = country_category.country.apply(get_country_fullname)\n",
    "fig = px.sunburst(\n",
    "    country_category,\n",
    "    custom_data='subcategory',\n",
    "    path=['country_name', 'category'],  # Specify the hierarchy\n",
    "    values='# videos',  # Values determine the size of each slice\n",
    ")\n",
    "fig.update_traces(\n",
    "    hovertemplate=\"<b>%{label}: %{customdata}</b><br># videos: %{value}\"\n",
    ")\n",
    "\n",
    "fig.update_layout(autosize=True)\n",
    "fig.show()\n",
    "\n",
    "#fig.write_html(op.join(path_country_fig,'country_sunburst.html'), auto_open=True)"
   ]
  },
  {
   "cell_type": "markdown",
   "metadata": {},
   "source": [
    "### Pieplots of big countries"
   ]
  },
  {
   "cell_type": "code",
   "execution_count": 58,
   "metadata": {},
   "outputs": [
    {
     "data": {
      "application/vnd.plotly.v1+json": {
       "config": {
        "plotlyServerURL": "https://plot.ly"
       },
       "data": [
        {
         "customdata": [
          "73",
          "86",
          "75",
          "72",
          "96",
          "90",
          "87",
          "74",
          "25",
          "88",
          "84",
          "6",
          "3",
          "71",
          "63",
          "9",
          "24",
          "82",
          "20",
          "65",
          "95",
          "41",
          "92",
          "8",
          "22",
          "81",
          "98",
          "4",
          "94",
          "21",
          "91",
          "61",
          "7",
          "97",
          "85",
          "83",
          "62"
         ],
         "domain": {
          "x": [
           0,
           0.45
          ],
          "y": [
           0.625,
           1
          ]
         },
         "hole": 0.1,
         "hovertemplate": "<b>%{label}: %{customdata}</b><br># videos: %{value}<br> Count: %{value}<br> <extra></extra>",
         "labels": [
          "American football",
          "Artists 2010",
          "Baseball",
          "Basketball",
          "Call of duty",
          "Chess",
          "Classical music",
          "Cricket",
          "Cryptocurrency",
          "Dances",
          "Drums tutorial",
          "Edutainment",
          "Food or cooking",
          "Football",
          "Foreign language or language proficiency",
          "Gaming",
          "Geopolitics",
          "Guitar tutorial",
          "History",
          "Home repair or renovation",
          "League of legends",
          "Machine learning",
          "Minecraft",
          "Music",
          "Phylosophy or ethics",
          "Piano tutorial",
          "Pokemon",
          "Programming",
          "Pubg",
          "Religion or spirituality",
          "Roblox",
          "Science and tech",
          "Sports",
          "Super mario",
          "Ukulele tutorial",
          "Violin tutorial",
          "Wildlife or animals or nature"
         ],
         "name": "IN",
         "text": [
          "73",
          "86",
          "75",
          "72",
          "96",
          "90",
          "87",
          "74",
          "25",
          "88",
          "84",
          "6",
          "3",
          "71",
          "63",
          "9",
          "24",
          "82",
          "20",
          "65",
          "95",
          "41",
          "92",
          "8",
          "22",
          "81",
          "98",
          "4",
          "94",
          "21",
          "91",
          "61",
          "7",
          "97",
          "85",
          "83",
          "62"
         ],
         "textinfo": "text",
         "type": "pie",
         "values": [
          5,
          419,
          10,
          43,
          10,
          83,
          121,
          895,
          2551,
          710,
          null,
          68,
          2255,
          239,
          18236,
          258,
          187,
          24,
          5962,
          6801,
          null,
          842,
          101,
          1957,
          1264,
          860,
          61,
          24904,
          358,
          28801,
          12,
          9355,
          5099,
          9,
          null,
          null,
          1631
         ]
        },
        {
         "customdata": [
          "73",
          "86",
          "75",
          "72",
          "96",
          "90",
          "87",
          "74",
          "25",
          "88",
          "84",
          "6",
          "3",
          "71",
          "63",
          "9",
          "24",
          "82",
          "20",
          "65",
          "95",
          "41",
          "92",
          "8",
          "22",
          "81",
          "98",
          "4",
          "94",
          "21",
          "91",
          "61",
          "7",
          "97",
          "85",
          "83",
          "62"
         ],
         "domain": {
          "x": [
           0.55,
           1
          ],
          "y": [
           0.625,
           1
          ]
         },
         "hole": 0.1,
         "hovertemplate": "<b>%{label}: %{customdata}</b><br># videos: %{value}<br> Count: %{value}<br> <extra></extra>",
         "labels": [
          "American football",
          "Artists 2010",
          "Baseball",
          "Basketball",
          "Call of duty",
          "Chess",
          "Classical music",
          "Cricket",
          "Cryptocurrency",
          "Dances",
          "Drums tutorial",
          "Edutainment",
          "Food or cooking",
          "Football",
          "Foreign language or language proficiency",
          "Gaming",
          "Geopolitics",
          "Guitar tutorial",
          "History",
          "Home repair or renovation",
          "League of legends",
          "Machine learning",
          "Minecraft",
          "Music",
          "Phylosophy or ethics",
          "Piano tutorial",
          "Pokemon",
          "Programming",
          "Pubg",
          "Religion or spirituality",
          "Roblox",
          "Science and tech",
          "Sports",
          "Super mario",
          "Ukulele tutorial",
          "Violin tutorial",
          "Wildlife or animals or nature"
         ],
         "name": "GB",
         "text": [
          "73",
          "86",
          "75",
          "72",
          "96",
          "90",
          "87",
          "74",
          "25",
          "88",
          "84",
          "6",
          "3",
          "71",
          "63",
          "9",
          "24",
          "82",
          "20",
          "65",
          "95",
          "41",
          "92",
          "8",
          "22",
          "81",
          "98",
          "4",
          "94",
          "21",
          "91",
          "61",
          "7",
          "97",
          "85",
          "83",
          "62"
         ],
         "textinfo": "text",
         "type": "pie",
         "values": [
          10,
          1707,
          19,
          47,
          26,
          631,
          911,
          80,
          1617,
          344,
          3,
          6,
          3659,
          163,
          15396,
          706,
          889,
          1592,
          6388,
          2811,
          8,
          565,
          516,
          12603,
          2618,
          461,
          67,
          8228,
          8,
          28705,
          108,
          3046,
          4526,
          35,
          1,
          null,
          1802
         ]
        },
        {
         "customdata": [
          "73",
          "86",
          "75",
          "72",
          "96",
          "90",
          "87",
          "74",
          "25",
          "88",
          "84",
          "6",
          "3",
          "71",
          "63",
          "9",
          "24",
          "82",
          "20",
          "65",
          "95",
          "41",
          "92",
          "8",
          "22",
          "81",
          "98",
          "4",
          "94",
          "21",
          "91",
          "61",
          "7",
          "97",
          "85",
          "83",
          "62"
         ],
         "domain": {
          "x": [
           0,
           0.45
          ],
          "y": [
           0,
           0.375
          ]
         },
         "hole": 0.1,
         "hovertemplate": "<b>%{label}: %{customdata}</b><br># videos: %{value}<br> Count: %{value}<br> <extra></extra>",
         "labels": [
          "American football",
          "Artists 2010",
          "Baseball",
          "Basketball",
          "Call of duty",
          "Chess",
          "Classical music",
          "Cricket",
          "Cryptocurrency",
          "Dances",
          "Drums tutorial",
          "Edutainment",
          "Food or cooking",
          "Football",
          "Foreign language or language proficiency",
          "Gaming",
          "Geopolitics",
          "Guitar tutorial",
          "History",
          "Home repair or renovation",
          "League of legends",
          "Machine learning",
          "Minecraft",
          "Music",
          "Phylosophy or ethics",
          "Piano tutorial",
          "Pokemon",
          "Programming",
          "Pubg",
          "Religion or spirituality",
          "Roblox",
          "Science and tech",
          "Sports",
          "Super mario",
          "Ukulele tutorial",
          "Violin tutorial",
          "Wildlife or animals or nature"
         ],
         "name": "CA",
         "text": [
          "73",
          "86",
          "75",
          "72",
          "96",
          "90",
          "87",
          "74",
          "25",
          "88",
          "84",
          "6",
          "3",
          "71",
          "63",
          "9",
          "24",
          "82",
          "20",
          "65",
          "95",
          "41",
          "92",
          "8",
          "22",
          "81",
          "98",
          "4",
          "94",
          "21",
          "91",
          "61",
          "7",
          "97",
          "85",
          "83",
          "62"
         ],
         "textinfo": "text",
         "type": "pie",
         "values": [
          33,
          488,
          59,
          107,
          18,
          33,
          545,
          24,
          2952,
          80,
          14,
          2,
          1875,
          55,
          3894,
          801,
          502,
          269,
          2436,
          2592,
          127,
          115,
          80,
          4813,
          427,
          96,
          163,
          3452,
          5,
          11420,
          21,
          2240,
          3245,
          119,
          null,
          null,
          2717
         ]
        },
        {
         "customdata": [
          "73",
          "86",
          "75",
          "72",
          "96",
          "90",
          "87",
          "74",
          "25",
          "88",
          "84",
          "6",
          "3",
          "71",
          "63",
          "9",
          "24",
          "82",
          "20",
          "65",
          "95",
          "41",
          "92",
          "8",
          "22",
          "81",
          "98",
          "4",
          "94",
          "21",
          "91",
          "61",
          "7",
          "97",
          "85",
          "83",
          "62"
         ],
         "domain": {
          "x": [
           0.55,
           1
          ],
          "y": [
           0,
           0.375
          ]
         },
         "hole": 0.1,
         "hovertemplate": "<b>%{label}: %{customdata}</b><br># videos: %{value}<br> Count: %{value}<br> <extra></extra>",
         "labels": [
          "American football",
          "Artists 2010",
          "Baseball",
          "Basketball",
          "Call of duty",
          "Chess",
          "Classical music",
          "Cricket",
          "Cryptocurrency",
          "Dances",
          "Drums tutorial",
          "Edutainment",
          "Food or cooking",
          "Football",
          "Foreign language or language proficiency",
          "Gaming",
          "Geopolitics",
          "Guitar tutorial",
          "History",
          "Home repair or renovation",
          "League of legends",
          "Machine learning",
          "Minecraft",
          "Music",
          "Phylosophy or ethics",
          "Piano tutorial",
          "Pokemon",
          "Programming",
          "Pubg",
          "Religion or spirituality",
          "Roblox",
          "Science and tech",
          "Sports",
          "Super mario",
          "Ukulele tutorial",
          "Violin tutorial",
          "Wildlife or animals or nature"
         ],
         "name": "US",
         "text": [
          "73",
          "86",
          "75",
          "72",
          "96",
          "90",
          "87",
          "74",
          "25",
          "88",
          "84",
          "6",
          "3",
          "71",
          "63",
          "9",
          "24",
          "82",
          "20",
          "65",
          "95",
          "41",
          "92",
          "8",
          "22",
          "81",
          "98",
          "4",
          "94",
          "21",
          "91",
          "61",
          "7",
          "97",
          "85",
          "83",
          "62"
         ],
         "textinfo": "text",
         "type": "pie",
         "values": [
          1180,
          5585,
          1179,
          3047,
          690,
          3494,
          4279,
          319,
          14808,
          2653,
          46,
          831,
          21272,
          903,
          27975,
          4402,
          1567,
          525,
          32006,
          24269,
          274,
          2651,
          1226,
          38631,
          11536,
          4459,
          736,
          33809,
          86,
          122380,
          211,
          27709,
          32019,
          690,
          294,
          99,
          13866
         ]
        }
       ],
       "layout": {
        "annotations": [
         {
          "font": {
           "size": 16
          },
          "showarrow": false,
          "text": "India",
          "x": 0.225,
          "xanchor": "center",
          "xref": "paper",
          "y": 1,
          "yanchor": "bottom",
          "yref": "paper"
         },
         {
          "font": {
           "size": 16
          },
          "showarrow": false,
          "text": "United Kingdom",
          "x": 0.775,
          "xanchor": "center",
          "xref": "paper",
          "y": 1,
          "yanchor": "bottom",
          "yref": "paper"
         },
         {
          "font": {
           "size": 16
          },
          "showarrow": false,
          "text": "Canada",
          "x": 0.225,
          "xanchor": "center",
          "xref": "paper",
          "y": 0.375,
          "yanchor": "bottom",
          "yref": "paper"
         },
         {
          "font": {
           "size": 16
          },
          "showarrow": false,
          "text": "United States",
          "x": 0.775,
          "xanchor": "center",
          "xref": "paper",
          "y": 0.375,
          "yanchor": "bottom",
          "yref": "paper"
         }
        ],
        "height": 1000,
        "showlegend": false,
        "template": {
         "data": {
          "bar": [
           {
            "error_x": {
             "color": "#2a3f5f"
            },
            "error_y": {
             "color": "#2a3f5f"
            },
            "marker": {
             "line": {
              "color": "#E5ECF6",
              "width": 0.5
             },
             "pattern": {
              "fillmode": "overlay",
              "size": 10,
              "solidity": 0.2
             }
            },
            "type": "bar"
           }
          ],
          "barpolar": [
           {
            "marker": {
             "line": {
              "color": "#E5ECF6",
              "width": 0.5
             },
             "pattern": {
              "fillmode": "overlay",
              "size": 10,
              "solidity": 0.2
             }
            },
            "type": "barpolar"
           }
          ],
          "carpet": [
           {
            "aaxis": {
             "endlinecolor": "#2a3f5f",
             "gridcolor": "white",
             "linecolor": "white",
             "minorgridcolor": "white",
             "startlinecolor": "#2a3f5f"
            },
            "baxis": {
             "endlinecolor": "#2a3f5f",
             "gridcolor": "white",
             "linecolor": "white",
             "minorgridcolor": "white",
             "startlinecolor": "#2a3f5f"
            },
            "type": "carpet"
           }
          ],
          "choropleth": [
           {
            "colorbar": {
             "outlinewidth": 0,
             "ticks": ""
            },
            "type": "choropleth"
           }
          ],
          "contour": [
           {
            "colorbar": {
             "outlinewidth": 0,
             "ticks": ""
            },
            "colorscale": [
             [
              0,
              "#0d0887"
             ],
             [
              0.1111111111111111,
              "#46039f"
             ],
             [
              0.2222222222222222,
              "#7201a8"
             ],
             [
              0.3333333333333333,
              "#9c179e"
             ],
             [
              0.4444444444444444,
              "#bd3786"
             ],
             [
              0.5555555555555556,
              "#d8576b"
             ],
             [
              0.6666666666666666,
              "#ed7953"
             ],
             [
              0.7777777777777778,
              "#fb9f3a"
             ],
             [
              0.8888888888888888,
              "#fdca26"
             ],
             [
              1,
              "#f0f921"
             ]
            ],
            "type": "contour"
           }
          ],
          "contourcarpet": [
           {
            "colorbar": {
             "outlinewidth": 0,
             "ticks": ""
            },
            "type": "contourcarpet"
           }
          ],
          "heatmap": [
           {
            "colorbar": {
             "outlinewidth": 0,
             "ticks": ""
            },
            "colorscale": [
             [
              0,
              "#0d0887"
             ],
             [
              0.1111111111111111,
              "#46039f"
             ],
             [
              0.2222222222222222,
              "#7201a8"
             ],
             [
              0.3333333333333333,
              "#9c179e"
             ],
             [
              0.4444444444444444,
              "#bd3786"
             ],
             [
              0.5555555555555556,
              "#d8576b"
             ],
             [
              0.6666666666666666,
              "#ed7953"
             ],
             [
              0.7777777777777778,
              "#fb9f3a"
             ],
             [
              0.8888888888888888,
              "#fdca26"
             ],
             [
              1,
              "#f0f921"
             ]
            ],
            "type": "heatmap"
           }
          ],
          "heatmapgl": [
           {
            "colorbar": {
             "outlinewidth": 0,
             "ticks": ""
            },
            "colorscale": [
             [
              0,
              "#0d0887"
             ],
             [
              0.1111111111111111,
              "#46039f"
             ],
             [
              0.2222222222222222,
              "#7201a8"
             ],
             [
              0.3333333333333333,
              "#9c179e"
             ],
             [
              0.4444444444444444,
              "#bd3786"
             ],
             [
              0.5555555555555556,
              "#d8576b"
             ],
             [
              0.6666666666666666,
              "#ed7953"
             ],
             [
              0.7777777777777778,
              "#fb9f3a"
             ],
             [
              0.8888888888888888,
              "#fdca26"
             ],
             [
              1,
              "#f0f921"
             ]
            ],
            "type": "heatmapgl"
           }
          ],
          "histogram": [
           {
            "marker": {
             "pattern": {
              "fillmode": "overlay",
              "size": 10,
              "solidity": 0.2
             }
            },
            "type": "histogram"
           }
          ],
          "histogram2d": [
           {
            "colorbar": {
             "outlinewidth": 0,
             "ticks": ""
            },
            "colorscale": [
             [
              0,
              "#0d0887"
             ],
             [
              0.1111111111111111,
              "#46039f"
             ],
             [
              0.2222222222222222,
              "#7201a8"
             ],
             [
              0.3333333333333333,
              "#9c179e"
             ],
             [
              0.4444444444444444,
              "#bd3786"
             ],
             [
              0.5555555555555556,
              "#d8576b"
             ],
             [
              0.6666666666666666,
              "#ed7953"
             ],
             [
              0.7777777777777778,
              "#fb9f3a"
             ],
             [
              0.8888888888888888,
              "#fdca26"
             ],
             [
              1,
              "#f0f921"
             ]
            ],
            "type": "histogram2d"
           }
          ],
          "histogram2dcontour": [
           {
            "colorbar": {
             "outlinewidth": 0,
             "ticks": ""
            },
            "colorscale": [
             [
              0,
              "#0d0887"
             ],
             [
              0.1111111111111111,
              "#46039f"
             ],
             [
              0.2222222222222222,
              "#7201a8"
             ],
             [
              0.3333333333333333,
              "#9c179e"
             ],
             [
              0.4444444444444444,
              "#bd3786"
             ],
             [
              0.5555555555555556,
              "#d8576b"
             ],
             [
              0.6666666666666666,
              "#ed7953"
             ],
             [
              0.7777777777777778,
              "#fb9f3a"
             ],
             [
              0.8888888888888888,
              "#fdca26"
             ],
             [
              1,
              "#f0f921"
             ]
            ],
            "type": "histogram2dcontour"
           }
          ],
          "mesh3d": [
           {
            "colorbar": {
             "outlinewidth": 0,
             "ticks": ""
            },
            "type": "mesh3d"
           }
          ],
          "parcoords": [
           {
            "line": {
             "colorbar": {
              "outlinewidth": 0,
              "ticks": ""
             }
            },
            "type": "parcoords"
           }
          ],
          "pie": [
           {
            "automargin": true,
            "type": "pie"
           }
          ],
          "scatter": [
           {
            "fillpattern": {
             "fillmode": "overlay",
             "size": 10,
             "solidity": 0.2
            },
            "type": "scatter"
           }
          ],
          "scatter3d": [
           {
            "line": {
             "colorbar": {
              "outlinewidth": 0,
              "ticks": ""
             }
            },
            "marker": {
             "colorbar": {
              "outlinewidth": 0,
              "ticks": ""
             }
            },
            "type": "scatter3d"
           }
          ],
          "scattercarpet": [
           {
            "marker": {
             "colorbar": {
              "outlinewidth": 0,
              "ticks": ""
             }
            },
            "type": "scattercarpet"
           }
          ],
          "scattergeo": [
           {
            "marker": {
             "colorbar": {
              "outlinewidth": 0,
              "ticks": ""
             }
            },
            "type": "scattergeo"
           }
          ],
          "scattergl": [
           {
            "marker": {
             "colorbar": {
              "outlinewidth": 0,
              "ticks": ""
             }
            },
            "type": "scattergl"
           }
          ],
          "scattermapbox": [
           {
            "marker": {
             "colorbar": {
              "outlinewidth": 0,
              "ticks": ""
             }
            },
            "type": "scattermapbox"
           }
          ],
          "scatterpolar": [
           {
            "marker": {
             "colorbar": {
              "outlinewidth": 0,
              "ticks": ""
             }
            },
            "type": "scatterpolar"
           }
          ],
          "scatterpolargl": [
           {
            "marker": {
             "colorbar": {
              "outlinewidth": 0,
              "ticks": ""
             }
            },
            "type": "scatterpolargl"
           }
          ],
          "scatterternary": [
           {
            "marker": {
             "colorbar": {
              "outlinewidth": 0,
              "ticks": ""
             }
            },
            "type": "scatterternary"
           }
          ],
          "surface": [
           {
            "colorbar": {
             "outlinewidth": 0,
             "ticks": ""
            },
            "colorscale": [
             [
              0,
              "#0d0887"
             ],
             [
              0.1111111111111111,
              "#46039f"
             ],
             [
              0.2222222222222222,
              "#7201a8"
             ],
             [
              0.3333333333333333,
              "#9c179e"
             ],
             [
              0.4444444444444444,
              "#bd3786"
             ],
             [
              0.5555555555555556,
              "#d8576b"
             ],
             [
              0.6666666666666666,
              "#ed7953"
             ],
             [
              0.7777777777777778,
              "#fb9f3a"
             ],
             [
              0.8888888888888888,
              "#fdca26"
             ],
             [
              1,
              "#f0f921"
             ]
            ],
            "type": "surface"
           }
          ],
          "table": [
           {
            "cells": {
             "fill": {
              "color": "#EBF0F8"
             },
             "line": {
              "color": "white"
             }
            },
            "header": {
             "fill": {
              "color": "#C8D4E3"
             },
             "line": {
              "color": "white"
             }
            },
            "type": "table"
           }
          ]
         },
         "layout": {
          "annotationdefaults": {
           "arrowcolor": "#2a3f5f",
           "arrowhead": 0,
           "arrowwidth": 1
          },
          "autotypenumbers": "strict",
          "coloraxis": {
           "colorbar": {
            "outlinewidth": 0,
            "ticks": ""
           }
          },
          "colorscale": {
           "diverging": [
            [
             0,
             "#8e0152"
            ],
            [
             0.1,
             "#c51b7d"
            ],
            [
             0.2,
             "#de77ae"
            ],
            [
             0.3,
             "#f1b6da"
            ],
            [
             0.4,
             "#fde0ef"
            ],
            [
             0.5,
             "#f7f7f7"
            ],
            [
             0.6,
             "#e6f5d0"
            ],
            [
             0.7,
             "#b8e186"
            ],
            [
             0.8,
             "#7fbc41"
            ],
            [
             0.9,
             "#4d9221"
            ],
            [
             1,
             "#276419"
            ]
           ],
           "sequential": [
            [
             0,
             "#0d0887"
            ],
            [
             0.1111111111111111,
             "#46039f"
            ],
            [
             0.2222222222222222,
             "#7201a8"
            ],
            [
             0.3333333333333333,
             "#9c179e"
            ],
            [
             0.4444444444444444,
             "#bd3786"
            ],
            [
             0.5555555555555556,
             "#d8576b"
            ],
            [
             0.6666666666666666,
             "#ed7953"
            ],
            [
             0.7777777777777778,
             "#fb9f3a"
            ],
            [
             0.8888888888888888,
             "#fdca26"
            ],
            [
             1,
             "#f0f921"
            ]
           ],
           "sequentialminus": [
            [
             0,
             "#0d0887"
            ],
            [
             0.1111111111111111,
             "#46039f"
            ],
            [
             0.2222222222222222,
             "#7201a8"
            ],
            [
             0.3333333333333333,
             "#9c179e"
            ],
            [
             0.4444444444444444,
             "#bd3786"
            ],
            [
             0.5555555555555556,
             "#d8576b"
            ],
            [
             0.6666666666666666,
             "#ed7953"
            ],
            [
             0.7777777777777778,
             "#fb9f3a"
            ],
            [
             0.8888888888888888,
             "#fdca26"
            ],
            [
             1,
             "#f0f921"
            ]
           ]
          },
          "colorway": [
           "#636efa",
           "#EF553B",
           "#00cc96",
           "#ab63fa",
           "#FFA15A",
           "#19d3f3",
           "#FF6692",
           "#B6E880",
           "#FF97FF",
           "#FECB52"
          ],
          "font": {
           "color": "#2a3f5f"
          },
          "geo": {
           "bgcolor": "white",
           "lakecolor": "white",
           "landcolor": "#E5ECF6",
           "showlakes": true,
           "showland": true,
           "subunitcolor": "white"
          },
          "hoverlabel": {
           "align": "left"
          },
          "hovermode": "closest",
          "mapbox": {
           "style": "light"
          },
          "paper_bgcolor": "white",
          "plot_bgcolor": "#E5ECF6",
          "polar": {
           "angularaxis": {
            "gridcolor": "white",
            "linecolor": "white",
            "ticks": ""
           },
           "bgcolor": "#E5ECF6",
           "radialaxis": {
            "gridcolor": "white",
            "linecolor": "white",
            "ticks": ""
           }
          },
          "scene": {
           "xaxis": {
            "backgroundcolor": "#E5ECF6",
            "gridcolor": "white",
            "gridwidth": 2,
            "linecolor": "white",
            "showbackground": true,
            "ticks": "",
            "zerolinecolor": "white"
           },
           "yaxis": {
            "backgroundcolor": "#E5ECF6",
            "gridcolor": "white",
            "gridwidth": 2,
            "linecolor": "white",
            "showbackground": true,
            "ticks": "",
            "zerolinecolor": "white"
           },
           "zaxis": {
            "backgroundcolor": "#E5ECF6",
            "gridcolor": "white",
            "gridwidth": 2,
            "linecolor": "white",
            "showbackground": true,
            "ticks": "",
            "zerolinecolor": "white"
           }
          },
          "shapedefaults": {
           "line": {
            "color": "#2a3f5f"
           }
          },
          "ternary": {
           "aaxis": {
            "gridcolor": "white",
            "linecolor": "white",
            "ticks": ""
           },
           "baxis": {
            "gridcolor": "white",
            "linecolor": "white",
            "ticks": ""
           },
           "bgcolor": "#E5ECF6",
           "caxis": {
            "gridcolor": "white",
            "linecolor": "white",
            "ticks": ""
           }
          },
          "title": {
           "x": 0.05
          },
          "xaxis": {
           "automargin": true,
           "gridcolor": "white",
           "linecolor": "white",
           "ticks": "",
           "title": {
            "standoff": 15
           },
           "zerolinecolor": "white",
           "zerolinewidth": 2
          },
          "yaxis": {
           "automargin": true,
           "gridcolor": "white",
           "linecolor": "white",
           "ticks": "",
           "title": {
            "standoff": 15
           },
           "zerolinecolor": "white",
           "zerolinewidth": 2
          }
         }
        }
       }
      }
     },
     "metadata": {},
     "output_type": "display_data"
    }
   ],
   "source": [
    "from country_analysis import plot_category_pie\n",
    "\n",
    "anglophone = ['IN','GB','CA','US']\n",
    "fig = plot_category_pie(anglophone, [get_country_fullname(x) for x in anglophone], edu, rows=2)\n",
    "\n",
    "#fig.write_html(op.join(path_country_fig,'country_pie_EN.html'), auto_open=True)\n",
    "fig.show()"
   ]
  },
  {
   "cell_type": "code",
   "execution_count": 59,
   "metadata": {},
   "outputs": [
    {
     "data": {
      "application/vnd.plotly.v1+json": {
       "config": {
        "plotlyServerURL": "https://plot.ly"
       },
       "data": [
        {
         "customdata": [
          "73",
          "86",
          "75",
          "72",
          "96",
          "90",
          "87",
          "74",
          "25",
          "88",
          "84",
          "6",
          "3",
          "71",
          "63",
          "9",
          "24",
          "82",
          "20",
          "65",
          "95",
          "41",
          "92",
          "8",
          "22",
          "81",
          "98",
          "4",
          "94",
          "21",
          "91",
          "61",
          "7",
          "97",
          "83",
          "62"
         ],
         "domain": {
          "x": [
           0,
           0.45
          ],
          "y": [
           0.625,
           1
          ]
         },
         "hole": 0.1,
         "hovertemplate": "<b>%{label}: %{customdata}</b><br># videos: %{value}<br> Count: %{value}<br> ",
         "labels": [
          "American football",
          "Artists 2010",
          "Baseball",
          "Basketball",
          "Call of duty",
          "Chess",
          "Classical music",
          "Cricket",
          "Cryptocurrency",
          "Dances",
          "Drums tutorial",
          "Edutainment",
          "Food or cooking",
          "Football",
          "Foreign language or language proficiency",
          "Gaming",
          "Geopolitics",
          "Guitar tutorial",
          "History",
          "Home repair or renovation",
          "League of legends",
          "Machine learning",
          "Minecraft",
          "Music",
          "Phylosophy or ethics",
          "Piano tutorial",
          "Pokemon",
          "Programming",
          "Pubg",
          "Religion or spirituality",
          "Roblox",
          "Science and tech",
          "Sports",
          "Super mario",
          "Violin tutorial",
          "Wildlife or animals or nature"
         ],
         "name": "AU",
         "text": [
          "73",
          "86",
          "75",
          "72",
          "96",
          "90",
          "87",
          "74",
          "25",
          "88",
          "84",
          "6",
          "3",
          "71",
          "63",
          "9",
          "24",
          "82",
          "20",
          "65",
          "95",
          "41",
          "92",
          "8",
          "22",
          "81",
          "98",
          "4",
          "94",
          "21",
          "91",
          "61",
          "7",
          "97",
          "83",
          "62"
         ],
         "textinfo": "text",
         "type": "pie",
         "values": [
          3,
          395,
          6,
          27,
          7,
          257,
          518,
          44,
          95,
          186,
          1,
          2,
          915,
          20,
          1802,
          282,
          148,
          3,
          768,
          523,
          4,
          42,
          275,
          1088,
          173,
          257,
          35,
          1797,
          3,
          4088,
          5,
          1263,
          822,
          8,
          null,
          1082
         ]
        },
        {
         "customdata": [
          "73",
          "86",
          "75",
          "72",
          "96",
          "90",
          "87",
          "74",
          "25",
          "88",
          "84",
          "6",
          "3",
          "71",
          "63",
          "9",
          "24",
          "82",
          "20",
          "65",
          "95",
          "41",
          "92",
          "8",
          "22",
          "81",
          "98",
          "4",
          "94",
          "21",
          "91",
          "61",
          "7",
          "97",
          "83",
          "62"
         ],
         "domain": {
          "x": [
           0.55,
           1
          ],
          "y": [
           0.625,
           1
          ]
         },
         "hole": 0.1,
         "hovertemplate": "<b>%{label}: %{customdata}</b><br># videos: %{value}<br> Count: %{value}<br> ",
         "labels": [
          "American football",
          "Artists 2010",
          "Baseball",
          "Basketball",
          "Call of duty",
          "Chess",
          "Classical music",
          "Cricket",
          "Cryptocurrency",
          "Dances",
          "Drums tutorial",
          "Edutainment",
          "Food or cooking",
          "Football",
          "Foreign language or language proficiency",
          "Gaming",
          "Geopolitics",
          "Guitar tutorial",
          "History",
          "Home repair or renovation",
          "League of legends",
          "Machine learning",
          "Minecraft",
          "Music",
          "Phylosophy or ethics",
          "Piano tutorial",
          "Pokemon",
          "Programming",
          "Pubg",
          "Religion or spirituality",
          "Roblox",
          "Science and tech",
          "Sports",
          "Super mario",
          "Violin tutorial",
          "Wildlife or animals or nature"
         ],
         "name": "DE",
         "text": [
          "73",
          "86",
          "75",
          "72",
          "96",
          "90",
          "87",
          "74",
          "25",
          "88",
          "84",
          "6",
          "3",
          "71",
          "63",
          "9",
          "24",
          "82",
          "20",
          "65",
          "95",
          "41",
          "92",
          "8",
          "22",
          "81",
          "98",
          "4",
          "94",
          "21",
          "91",
          "61",
          "7",
          "97",
          "83",
          "62"
         ],
         "textinfo": "text",
         "type": "pie",
         "values": [
          3,
          75,
          1,
          5,
          669,
          1844,
          302,
          20,
          35,
          341,
          4,
          44,
          453,
          44,
          4997,
          357,
          55,
          74,
          316,
          218,
          7,
          9,
          654,
          876,
          15,
          72,
          4,
          1896,
          1,
          2015,
          1,
          193,
          107,
          123,
          220,
          120
         ]
        },
        {
         "customdata": [
          "73",
          "86",
          "75",
          "72",
          "96",
          "90",
          "87",
          "74",
          "25",
          "88",
          "84",
          "6",
          "3",
          "71",
          "63",
          "9",
          "24",
          "82",
          "20",
          "65",
          "95",
          "41",
          "92",
          "8",
          "22",
          "81",
          "98",
          "4",
          "94",
          "21",
          "91",
          "61",
          "7",
          "97",
          "83",
          "62"
         ],
         "domain": {
          "x": [
           0,
           0.45
          ],
          "y": [
           0,
           0.375
          ]
         },
         "hole": 0.1,
         "hovertemplate": "<b>%{label}: %{customdata}</b><br># videos: %{value}<br> Count: %{value}<br> ",
         "labels": [
          "American football",
          "Artists 2010",
          "Baseball",
          "Basketball",
          "Call of duty",
          "Chess",
          "Classical music",
          "Cricket",
          "Cryptocurrency",
          "Dances",
          "Drums tutorial",
          "Edutainment",
          "Food or cooking",
          "Football",
          "Foreign language or language proficiency",
          "Gaming",
          "Geopolitics",
          "Guitar tutorial",
          "History",
          "Home repair or renovation",
          "League of legends",
          "Machine learning",
          "Minecraft",
          "Music",
          "Phylosophy or ethics",
          "Piano tutorial",
          "Pokemon",
          "Programming",
          "Pubg",
          "Religion or spirituality",
          "Roblox",
          "Science and tech",
          "Sports",
          "Super mario",
          "Violin tutorial",
          "Wildlife or animals or nature"
         ],
         "name": "PK",
         "text": [
          "73",
          "86",
          "75",
          "72",
          "96",
          "90",
          "87",
          "74",
          "25",
          "88",
          "84",
          "6",
          "3",
          "71",
          "63",
          "9",
          "24",
          "82",
          "20",
          "65",
          "95",
          "41",
          "92",
          "8",
          "22",
          "81",
          "98",
          "4",
          "94",
          "21",
          "91",
          "61",
          "7",
          "97",
          "83",
          "62"
         ],
         "textinfo": "text",
         "type": "pie",
         "values": [
          2,
          201,
          null,
          4,
          3,
          1,
          7,
          109,
          82,
          3,
          null,
          null,
          380,
          11,
          2745,
          27,
          51,
          9,
          1704,
          431,
          null,
          73,
          4,
          298,
          379,
          null,
          7,
          1035,
          27,
          10867,
          2,
          2598,
          78,
          1,
          null,
          365
         ]
        },
        {
         "customdata": [
          "73",
          "86",
          "75",
          "72",
          "96",
          "90",
          "87",
          "74",
          "25",
          "88",
          "84",
          "6",
          "3",
          "71",
          "63",
          "9",
          "24",
          "82",
          "20",
          "65",
          "95",
          "41",
          "92",
          "8",
          "22",
          "81",
          "98",
          "4",
          "94",
          "21",
          "91",
          "61",
          "7",
          "97",
          "83",
          "62"
         ],
         "domain": {
          "x": [
           0.55,
           1
          ],
          "y": [
           0,
           0.375
          ]
         },
         "hole": 0.1,
         "hovertemplate": "<b>%{label}: %{customdata}</b><br># videos: %{value}<br> Count: %{value}<br> ",
         "labels": [
          "American football",
          "Artists 2010",
          "Baseball",
          "Basketball",
          "Call of duty",
          "Chess",
          "Classical music",
          "Cricket",
          "Cryptocurrency",
          "Dances",
          "Drums tutorial",
          "Edutainment",
          "Food or cooking",
          "Football",
          "Foreign language or language proficiency",
          "Gaming",
          "Geopolitics",
          "Guitar tutorial",
          "History",
          "Home repair or renovation",
          "League of legends",
          "Machine learning",
          "Minecraft",
          "Music",
          "Phylosophy or ethics",
          "Piano tutorial",
          "Pokemon",
          "Programming",
          "Pubg",
          "Religion or spirituality",
          "Roblox",
          "Science and tech",
          "Sports",
          "Super mario",
          "Violin tutorial",
          "Wildlife or animals or nature"
         ],
         "name": "JP",
         "text": [
          "73",
          "86",
          "75",
          "72",
          "96",
          "90",
          "87",
          "74",
          "25",
          "88",
          "84",
          "6",
          "3",
          "71",
          "63",
          "9",
          "24",
          "82",
          "20",
          "65",
          "95",
          "41",
          "92",
          "8",
          "22",
          "81",
          "98",
          "4",
          "94",
          "21",
          "91",
          "61",
          "7",
          "97",
          "83",
          "62"
         ],
         "textinfo": "text",
         "type": "pie",
         "values": [
          2,
          8,
          4,
          1,
          null,
          null,
          2,
          null,
          3,
          1,
          null,
          null,
          232,
          null,
          2836,
          24,
          6,
          null,
          79,
          10,
          null,
          null,
          1,
          79,
          5,
          null,
          31,
          282,
          null,
          36,
          null,
          57,
          127,
          1,
          null,
          37
         ]
        }
       ],
       "layout": {
        "annotations": [
         {
          "font": {
           "size": 16
          },
          "showarrow": false,
          "text": "Australia",
          "x": 0.225,
          "xanchor": "center",
          "xref": "paper",
          "y": 1,
          "yanchor": "bottom",
          "yref": "paper"
         },
         {
          "font": {
           "size": 16
          },
          "showarrow": false,
          "text": "Germany",
          "x": 0.775,
          "xanchor": "center",
          "xref": "paper",
          "y": 1,
          "yanchor": "bottom",
          "yref": "paper"
         },
         {
          "font": {
           "size": 16
          },
          "showarrow": false,
          "text": "Pakistan",
          "x": 0.225,
          "xanchor": "center",
          "xref": "paper",
          "y": 0.375,
          "yanchor": "bottom",
          "yref": "paper"
         },
         {
          "font": {
           "size": 16
          },
          "showarrow": false,
          "text": "Japan",
          "x": 0.775,
          "xanchor": "center",
          "xref": "paper",
          "y": 0.375,
          "yanchor": "bottom",
          "yref": "paper"
         }
        ],
        "height": 1000,
        "showlegend": false,
        "template": {
         "data": {
          "bar": [
           {
            "error_x": {
             "color": "#2a3f5f"
            },
            "error_y": {
             "color": "#2a3f5f"
            },
            "marker": {
             "line": {
              "color": "#E5ECF6",
              "width": 0.5
             },
             "pattern": {
              "fillmode": "overlay",
              "size": 10,
              "solidity": 0.2
             }
            },
            "type": "bar"
           }
          ],
          "barpolar": [
           {
            "marker": {
             "line": {
              "color": "#E5ECF6",
              "width": 0.5
             },
             "pattern": {
              "fillmode": "overlay",
              "size": 10,
              "solidity": 0.2
             }
            },
            "type": "barpolar"
           }
          ],
          "carpet": [
           {
            "aaxis": {
             "endlinecolor": "#2a3f5f",
             "gridcolor": "white",
             "linecolor": "white",
             "minorgridcolor": "white",
             "startlinecolor": "#2a3f5f"
            },
            "baxis": {
             "endlinecolor": "#2a3f5f",
             "gridcolor": "white",
             "linecolor": "white",
             "minorgridcolor": "white",
             "startlinecolor": "#2a3f5f"
            },
            "type": "carpet"
           }
          ],
          "choropleth": [
           {
            "colorbar": {
             "outlinewidth": 0,
             "ticks": ""
            },
            "type": "choropleth"
           }
          ],
          "contour": [
           {
            "colorbar": {
             "outlinewidth": 0,
             "ticks": ""
            },
            "colorscale": [
             [
              0,
              "#0d0887"
             ],
             [
              0.1111111111111111,
              "#46039f"
             ],
             [
              0.2222222222222222,
              "#7201a8"
             ],
             [
              0.3333333333333333,
              "#9c179e"
             ],
             [
              0.4444444444444444,
              "#bd3786"
             ],
             [
              0.5555555555555556,
              "#d8576b"
             ],
             [
              0.6666666666666666,
              "#ed7953"
             ],
             [
              0.7777777777777778,
              "#fb9f3a"
             ],
             [
              0.8888888888888888,
              "#fdca26"
             ],
             [
              1,
              "#f0f921"
             ]
            ],
            "type": "contour"
           }
          ],
          "contourcarpet": [
           {
            "colorbar": {
             "outlinewidth": 0,
             "ticks": ""
            },
            "type": "contourcarpet"
           }
          ],
          "heatmap": [
           {
            "colorbar": {
             "outlinewidth": 0,
             "ticks": ""
            },
            "colorscale": [
             [
              0,
              "#0d0887"
             ],
             [
              0.1111111111111111,
              "#46039f"
             ],
             [
              0.2222222222222222,
              "#7201a8"
             ],
             [
              0.3333333333333333,
              "#9c179e"
             ],
             [
              0.4444444444444444,
              "#bd3786"
             ],
             [
              0.5555555555555556,
              "#d8576b"
             ],
             [
              0.6666666666666666,
              "#ed7953"
             ],
             [
              0.7777777777777778,
              "#fb9f3a"
             ],
             [
              0.8888888888888888,
              "#fdca26"
             ],
             [
              1,
              "#f0f921"
             ]
            ],
            "type": "heatmap"
           }
          ],
          "heatmapgl": [
           {
            "colorbar": {
             "outlinewidth": 0,
             "ticks": ""
            },
            "colorscale": [
             [
              0,
              "#0d0887"
             ],
             [
              0.1111111111111111,
              "#46039f"
             ],
             [
              0.2222222222222222,
              "#7201a8"
             ],
             [
              0.3333333333333333,
              "#9c179e"
             ],
             [
              0.4444444444444444,
              "#bd3786"
             ],
             [
              0.5555555555555556,
              "#d8576b"
             ],
             [
              0.6666666666666666,
              "#ed7953"
             ],
             [
              0.7777777777777778,
              "#fb9f3a"
             ],
             [
              0.8888888888888888,
              "#fdca26"
             ],
             [
              1,
              "#f0f921"
             ]
            ],
            "type": "heatmapgl"
           }
          ],
          "histogram": [
           {
            "marker": {
             "pattern": {
              "fillmode": "overlay",
              "size": 10,
              "solidity": 0.2
             }
            },
            "type": "histogram"
           }
          ],
          "histogram2d": [
           {
            "colorbar": {
             "outlinewidth": 0,
             "ticks": ""
            },
            "colorscale": [
             [
              0,
              "#0d0887"
             ],
             [
              0.1111111111111111,
              "#46039f"
             ],
             [
              0.2222222222222222,
              "#7201a8"
             ],
             [
              0.3333333333333333,
              "#9c179e"
             ],
             [
              0.4444444444444444,
              "#bd3786"
             ],
             [
              0.5555555555555556,
              "#d8576b"
             ],
             [
              0.6666666666666666,
              "#ed7953"
             ],
             [
              0.7777777777777778,
              "#fb9f3a"
             ],
             [
              0.8888888888888888,
              "#fdca26"
             ],
             [
              1,
              "#f0f921"
             ]
            ],
            "type": "histogram2d"
           }
          ],
          "histogram2dcontour": [
           {
            "colorbar": {
             "outlinewidth": 0,
             "ticks": ""
            },
            "colorscale": [
             [
              0,
              "#0d0887"
             ],
             [
              0.1111111111111111,
              "#46039f"
             ],
             [
              0.2222222222222222,
              "#7201a8"
             ],
             [
              0.3333333333333333,
              "#9c179e"
             ],
             [
              0.4444444444444444,
              "#bd3786"
             ],
             [
              0.5555555555555556,
              "#d8576b"
             ],
             [
              0.6666666666666666,
              "#ed7953"
             ],
             [
              0.7777777777777778,
              "#fb9f3a"
             ],
             [
              0.8888888888888888,
              "#fdca26"
             ],
             [
              1,
              "#f0f921"
             ]
            ],
            "type": "histogram2dcontour"
           }
          ],
          "mesh3d": [
           {
            "colorbar": {
             "outlinewidth": 0,
             "ticks": ""
            },
            "type": "mesh3d"
           }
          ],
          "parcoords": [
           {
            "line": {
             "colorbar": {
              "outlinewidth": 0,
              "ticks": ""
             }
            },
            "type": "parcoords"
           }
          ],
          "pie": [
           {
            "automargin": true,
            "type": "pie"
           }
          ],
          "scatter": [
           {
            "fillpattern": {
             "fillmode": "overlay",
             "size": 10,
             "solidity": 0.2
            },
            "type": "scatter"
           }
          ],
          "scatter3d": [
           {
            "line": {
             "colorbar": {
              "outlinewidth": 0,
              "ticks": ""
             }
            },
            "marker": {
             "colorbar": {
              "outlinewidth": 0,
              "ticks": ""
             }
            },
            "type": "scatter3d"
           }
          ],
          "scattercarpet": [
           {
            "marker": {
             "colorbar": {
              "outlinewidth": 0,
              "ticks": ""
             }
            },
            "type": "scattercarpet"
           }
          ],
          "scattergeo": [
           {
            "marker": {
             "colorbar": {
              "outlinewidth": 0,
              "ticks": ""
             }
            },
            "type": "scattergeo"
           }
          ],
          "scattergl": [
           {
            "marker": {
             "colorbar": {
              "outlinewidth": 0,
              "ticks": ""
             }
            },
            "type": "scattergl"
           }
          ],
          "scattermapbox": [
           {
            "marker": {
             "colorbar": {
              "outlinewidth": 0,
              "ticks": ""
             }
            },
            "type": "scattermapbox"
           }
          ],
          "scatterpolar": [
           {
            "marker": {
             "colorbar": {
              "outlinewidth": 0,
              "ticks": ""
             }
            },
            "type": "scatterpolar"
           }
          ],
          "scatterpolargl": [
           {
            "marker": {
             "colorbar": {
              "outlinewidth": 0,
              "ticks": ""
             }
            },
            "type": "scatterpolargl"
           }
          ],
          "scatterternary": [
           {
            "marker": {
             "colorbar": {
              "outlinewidth": 0,
              "ticks": ""
             }
            },
            "type": "scatterternary"
           }
          ],
          "surface": [
           {
            "colorbar": {
             "outlinewidth": 0,
             "ticks": ""
            },
            "colorscale": [
             [
              0,
              "#0d0887"
             ],
             [
              0.1111111111111111,
              "#46039f"
             ],
             [
              0.2222222222222222,
              "#7201a8"
             ],
             [
              0.3333333333333333,
              "#9c179e"
             ],
             [
              0.4444444444444444,
              "#bd3786"
             ],
             [
              0.5555555555555556,
              "#d8576b"
             ],
             [
              0.6666666666666666,
              "#ed7953"
             ],
             [
              0.7777777777777778,
              "#fb9f3a"
             ],
             [
              0.8888888888888888,
              "#fdca26"
             ],
             [
              1,
              "#f0f921"
             ]
            ],
            "type": "surface"
           }
          ],
          "table": [
           {
            "cells": {
             "fill": {
              "color": "#EBF0F8"
             },
             "line": {
              "color": "white"
             }
            },
            "header": {
             "fill": {
              "color": "#C8D4E3"
             },
             "line": {
              "color": "white"
             }
            },
            "type": "table"
           }
          ]
         },
         "layout": {
          "annotationdefaults": {
           "arrowcolor": "#2a3f5f",
           "arrowhead": 0,
           "arrowwidth": 1
          },
          "autotypenumbers": "strict",
          "coloraxis": {
           "colorbar": {
            "outlinewidth": 0,
            "ticks": ""
           }
          },
          "colorscale": {
           "diverging": [
            [
             0,
             "#8e0152"
            ],
            [
             0.1,
             "#c51b7d"
            ],
            [
             0.2,
             "#de77ae"
            ],
            [
             0.3,
             "#f1b6da"
            ],
            [
             0.4,
             "#fde0ef"
            ],
            [
             0.5,
             "#f7f7f7"
            ],
            [
             0.6,
             "#e6f5d0"
            ],
            [
             0.7,
             "#b8e186"
            ],
            [
             0.8,
             "#7fbc41"
            ],
            [
             0.9,
             "#4d9221"
            ],
            [
             1,
             "#276419"
            ]
           ],
           "sequential": [
            [
             0,
             "#0d0887"
            ],
            [
             0.1111111111111111,
             "#46039f"
            ],
            [
             0.2222222222222222,
             "#7201a8"
            ],
            [
             0.3333333333333333,
             "#9c179e"
            ],
            [
             0.4444444444444444,
             "#bd3786"
            ],
            [
             0.5555555555555556,
             "#d8576b"
            ],
            [
             0.6666666666666666,
             "#ed7953"
            ],
            [
             0.7777777777777778,
             "#fb9f3a"
            ],
            [
             0.8888888888888888,
             "#fdca26"
            ],
            [
             1,
             "#f0f921"
            ]
           ],
           "sequentialminus": [
            [
             0,
             "#0d0887"
            ],
            [
             0.1111111111111111,
             "#46039f"
            ],
            [
             0.2222222222222222,
             "#7201a8"
            ],
            [
             0.3333333333333333,
             "#9c179e"
            ],
            [
             0.4444444444444444,
             "#bd3786"
            ],
            [
             0.5555555555555556,
             "#d8576b"
            ],
            [
             0.6666666666666666,
             "#ed7953"
            ],
            [
             0.7777777777777778,
             "#fb9f3a"
            ],
            [
             0.8888888888888888,
             "#fdca26"
            ],
            [
             1,
             "#f0f921"
            ]
           ]
          },
          "colorway": [
           "#636efa",
           "#EF553B",
           "#00cc96",
           "#ab63fa",
           "#FFA15A",
           "#19d3f3",
           "#FF6692",
           "#B6E880",
           "#FF97FF",
           "#FECB52"
          ],
          "font": {
           "color": "#2a3f5f"
          },
          "geo": {
           "bgcolor": "white",
           "lakecolor": "white",
           "landcolor": "#E5ECF6",
           "showlakes": true,
           "showland": true,
           "subunitcolor": "white"
          },
          "hoverlabel": {
           "align": "left"
          },
          "hovermode": "closest",
          "mapbox": {
           "style": "light"
          },
          "paper_bgcolor": "white",
          "plot_bgcolor": "#E5ECF6",
          "polar": {
           "angularaxis": {
            "gridcolor": "white",
            "linecolor": "white",
            "ticks": ""
           },
           "bgcolor": "#E5ECF6",
           "radialaxis": {
            "gridcolor": "white",
            "linecolor": "white",
            "ticks": ""
           }
          },
          "scene": {
           "xaxis": {
            "backgroundcolor": "#E5ECF6",
            "gridcolor": "white",
            "gridwidth": 2,
            "linecolor": "white",
            "showbackground": true,
            "ticks": "",
            "zerolinecolor": "white"
           },
           "yaxis": {
            "backgroundcolor": "#E5ECF6",
            "gridcolor": "white",
            "gridwidth": 2,
            "linecolor": "white",
            "showbackground": true,
            "ticks": "",
            "zerolinecolor": "white"
           },
           "zaxis": {
            "backgroundcolor": "#E5ECF6",
            "gridcolor": "white",
            "gridwidth": 2,
            "linecolor": "white",
            "showbackground": true,
            "ticks": "",
            "zerolinecolor": "white"
           }
          },
          "shapedefaults": {
           "line": {
            "color": "#2a3f5f"
           }
          },
          "ternary": {
           "aaxis": {
            "gridcolor": "white",
            "linecolor": "white",
            "ticks": ""
           },
           "baxis": {
            "gridcolor": "white",
            "linecolor": "white",
            "ticks": ""
           },
           "bgcolor": "#E5ECF6",
           "caxis": {
            "gridcolor": "white",
            "linecolor": "white",
            "ticks": ""
           }
          },
          "title": {
           "x": 0.05
          },
          "xaxis": {
           "automargin": true,
           "gridcolor": "white",
           "linecolor": "white",
           "ticks": "",
           "title": {
            "standoff": 15
           },
           "zerolinecolor": "white",
           "zerolinewidth": 2
          },
          "yaxis": {
           "automargin": true,
           "gridcolor": "white",
           "linecolor": "white",
           "ticks": "",
           "title": {
            "standoff": 15
           },
           "zerolinecolor": "white",
           "zerolinewidth": 2
          }
         }
        }
       }
      }
     },
     "metadata": {},
     "output_type": "display_data"
    }
   ],
   "source": [
    "mezz0 = ['AU', 'DE', 'PK', 'JP']\n",
    "fig = plot_category_pie(mezz0, [get_country_fullname(x) for x in mezz0], edu, rows=2)\n",
    "\n",
    "# fig.write_html(op.join(path_country_fig,'country_pie_mezzo.html'), auto_open=True)\n",
    "fig.show()"
   ]
  },
  {
   "cell_type": "code",
   "execution_count": 56,
   "metadata": {},
   "outputs": [
    {
     "data": {
      "application/vnd.plotly.v1+json": {
       "config": {
        "plotlyServerURL": "https://plot.ly"
       },
       "data": [
        {
         "customdata": [
          "86",
          "72",
          "87",
          "74",
          "25",
          "88",
          "3",
          "71",
          "63",
          "9",
          "24",
          "82",
          "20",
          "65",
          "41",
          "92",
          "8",
          "22",
          "98",
          "4",
          "21",
          "61",
          "7",
          "62"
         ],
         "domain": {
          "x": [
           0,
           0.45
          ],
          "y": [
           0,
           1
          ]
         },
         "hole": 0.1,
         "hovertemplate": "<b>%{label}: %{customdata}</b><br># videos: %{value}",
         "labels": [
          "Artists 2010",
          "Basketball",
          "Classical music",
          "Cricket",
          "Cryptocurrency",
          "Dances",
          "Food or cooking",
          "Football",
          "Foreign language or language proficiency",
          "Gaming",
          "Geopolitics",
          "Guitar tutorial",
          "History",
          "Home repair or renovation",
          "Machine learning",
          "Minecraft",
          "Music",
          "Phylosophy or ethics",
          "Pokemon",
          "Programming",
          "Religion or spirituality",
          "Science and tech",
          "Sports",
          "Wildlife or animals or nature"
         ],
         "name": "CH",
         "text": [
          "86",
          "72",
          "87",
          "74",
          "25",
          "88",
          "3",
          "71",
          "63",
          "9",
          "24",
          "82",
          "20",
          "65",
          "41",
          "92",
          "8",
          "22",
          "98",
          "4",
          "21",
          "61",
          "7",
          "62"
         ],
         "textinfo": "text",
         "type": "pie",
         "values": [
          14,
          5,
          57,
          1,
          29,
          1404,
          40,
          17,
          1408,
          20,
          9,
          8,
          132,
          185,
          11,
          4,
          472,
          603,
          11,
          87,
          110,
          36,
          87,
          7
         ]
        },
        {
         "customdata": [
          "86",
          "72",
          "87",
          "74",
          "25",
          "88",
          "3",
          "71",
          "63",
          "9",
          "24",
          "82",
          "20",
          "65",
          "41",
          "92",
          "8",
          "22",
          "98",
          "4",
          "21",
          "61",
          "7",
          "62"
         ],
         "domain": {
          "x": [
           0.55,
           1
          ],
          "y": [
           0,
           1
          ]
         },
         "hole": 0.1,
         "hovertemplate": "<b>%{label}: %{customdata}</b><br># videos: %{value}",
         "labels": [
          "Artists 2010",
          "Basketball",
          "Classical music",
          "Cricket",
          "Cryptocurrency",
          "Dances",
          "Food or cooking",
          "Football",
          "Foreign language or language proficiency",
          "Gaming",
          "Geopolitics",
          "Guitar tutorial",
          "History",
          "Home repair or renovation",
          "Machine learning",
          "Minecraft",
          "Music",
          "Phylosophy or ethics",
          "Pokemon",
          "Programming",
          "Religion or spirituality",
          "Science and tech",
          "Sports",
          "Wildlife or animals or nature"
         ],
         "name": "ZA",
         "text": [
          "86",
          "72",
          "87",
          "74",
          "25",
          "88",
          "3",
          "71",
          "63",
          "9",
          "24",
          "82",
          "20",
          "65",
          "41",
          "92",
          "8",
          "22",
          "98",
          "4",
          "21",
          "61",
          "7",
          "62"
         ],
         "textinfo": "text",
         "type": "pie",
         "values": [
          67,
          null,
          12,
          1,
          3,
          1,
          24,
          12,
          2,
          15,
          42,
          null,
          569,
          7,
          3,
          2,
          194,
          7,
          1,
          410,
          1211,
          51,
          161,
          80
         ]
        }
       ],
       "layout": {
        "annotations": [
         {
          "font": {
           "size": 16
          },
          "showarrow": false,
          "text": "Switzerland",
          "x": 0.225,
          "xanchor": "center",
          "xref": "paper",
          "y": 1,
          "yanchor": "bottom",
          "yref": "paper"
         },
         {
          "font": {
           "size": 16
          },
          "showarrow": false,
          "text": "South Africa",
          "x": 0.775,
          "xanchor": "center",
          "xref": "paper",
          "y": 1,
          "yanchor": "bottom",
          "yref": "paper"
         }
        ],
        "height": 500,
        "showlegend": false,
        "template": {
         "data": {
          "bar": [
           {
            "error_x": {
             "color": "#2a3f5f"
            },
            "error_y": {
             "color": "#2a3f5f"
            },
            "marker": {
             "line": {
              "color": "#E5ECF6",
              "width": 0.5
             },
             "pattern": {
              "fillmode": "overlay",
              "size": 10,
              "solidity": 0.2
             }
            },
            "type": "bar"
           }
          ],
          "barpolar": [
           {
            "marker": {
             "line": {
              "color": "#E5ECF6",
              "width": 0.5
             },
             "pattern": {
              "fillmode": "overlay",
              "size": 10,
              "solidity": 0.2
             }
            },
            "type": "barpolar"
           }
          ],
          "carpet": [
           {
            "aaxis": {
             "endlinecolor": "#2a3f5f",
             "gridcolor": "white",
             "linecolor": "white",
             "minorgridcolor": "white",
             "startlinecolor": "#2a3f5f"
            },
            "baxis": {
             "endlinecolor": "#2a3f5f",
             "gridcolor": "white",
             "linecolor": "white",
             "minorgridcolor": "white",
             "startlinecolor": "#2a3f5f"
            },
            "type": "carpet"
           }
          ],
          "choropleth": [
           {
            "colorbar": {
             "outlinewidth": 0,
             "ticks": ""
            },
            "type": "choropleth"
           }
          ],
          "contour": [
           {
            "colorbar": {
             "outlinewidth": 0,
             "ticks": ""
            },
            "colorscale": [
             [
              0,
              "#0d0887"
             ],
             [
              0.1111111111111111,
              "#46039f"
             ],
             [
              0.2222222222222222,
              "#7201a8"
             ],
             [
              0.3333333333333333,
              "#9c179e"
             ],
             [
              0.4444444444444444,
              "#bd3786"
             ],
             [
              0.5555555555555556,
              "#d8576b"
             ],
             [
              0.6666666666666666,
              "#ed7953"
             ],
             [
              0.7777777777777778,
              "#fb9f3a"
             ],
             [
              0.8888888888888888,
              "#fdca26"
             ],
             [
              1,
              "#f0f921"
             ]
            ],
            "type": "contour"
           }
          ],
          "contourcarpet": [
           {
            "colorbar": {
             "outlinewidth": 0,
             "ticks": ""
            },
            "type": "contourcarpet"
           }
          ],
          "heatmap": [
           {
            "colorbar": {
             "outlinewidth": 0,
             "ticks": ""
            },
            "colorscale": [
             [
              0,
              "#0d0887"
             ],
             [
              0.1111111111111111,
              "#46039f"
             ],
             [
              0.2222222222222222,
              "#7201a8"
             ],
             [
              0.3333333333333333,
              "#9c179e"
             ],
             [
              0.4444444444444444,
              "#bd3786"
             ],
             [
              0.5555555555555556,
              "#d8576b"
             ],
             [
              0.6666666666666666,
              "#ed7953"
             ],
             [
              0.7777777777777778,
              "#fb9f3a"
             ],
             [
              0.8888888888888888,
              "#fdca26"
             ],
             [
              1,
              "#f0f921"
             ]
            ],
            "type": "heatmap"
           }
          ],
          "heatmapgl": [
           {
            "colorbar": {
             "outlinewidth": 0,
             "ticks": ""
            },
            "colorscale": [
             [
              0,
              "#0d0887"
             ],
             [
              0.1111111111111111,
              "#46039f"
             ],
             [
              0.2222222222222222,
              "#7201a8"
             ],
             [
              0.3333333333333333,
              "#9c179e"
             ],
             [
              0.4444444444444444,
              "#bd3786"
             ],
             [
              0.5555555555555556,
              "#d8576b"
             ],
             [
              0.6666666666666666,
              "#ed7953"
             ],
             [
              0.7777777777777778,
              "#fb9f3a"
             ],
             [
              0.8888888888888888,
              "#fdca26"
             ],
             [
              1,
              "#f0f921"
             ]
            ],
            "type": "heatmapgl"
           }
          ],
          "histogram": [
           {
            "marker": {
             "pattern": {
              "fillmode": "overlay",
              "size": 10,
              "solidity": 0.2
             }
            },
            "type": "histogram"
           }
          ],
          "histogram2d": [
           {
            "colorbar": {
             "outlinewidth": 0,
             "ticks": ""
            },
            "colorscale": [
             [
              0,
              "#0d0887"
             ],
             [
              0.1111111111111111,
              "#46039f"
             ],
             [
              0.2222222222222222,
              "#7201a8"
             ],
             [
              0.3333333333333333,
              "#9c179e"
             ],
             [
              0.4444444444444444,
              "#bd3786"
             ],
             [
              0.5555555555555556,
              "#d8576b"
             ],
             [
              0.6666666666666666,
              "#ed7953"
             ],
             [
              0.7777777777777778,
              "#fb9f3a"
             ],
             [
              0.8888888888888888,
              "#fdca26"
             ],
             [
              1,
              "#f0f921"
             ]
            ],
            "type": "histogram2d"
           }
          ],
          "histogram2dcontour": [
           {
            "colorbar": {
             "outlinewidth": 0,
             "ticks": ""
            },
            "colorscale": [
             [
              0,
              "#0d0887"
             ],
             [
              0.1111111111111111,
              "#46039f"
             ],
             [
              0.2222222222222222,
              "#7201a8"
             ],
             [
              0.3333333333333333,
              "#9c179e"
             ],
             [
              0.4444444444444444,
              "#bd3786"
             ],
             [
              0.5555555555555556,
              "#d8576b"
             ],
             [
              0.6666666666666666,
              "#ed7953"
             ],
             [
              0.7777777777777778,
              "#fb9f3a"
             ],
             [
              0.8888888888888888,
              "#fdca26"
             ],
             [
              1,
              "#f0f921"
             ]
            ],
            "type": "histogram2dcontour"
           }
          ],
          "mesh3d": [
           {
            "colorbar": {
             "outlinewidth": 0,
             "ticks": ""
            },
            "type": "mesh3d"
           }
          ],
          "parcoords": [
           {
            "line": {
             "colorbar": {
              "outlinewidth": 0,
              "ticks": ""
             }
            },
            "type": "parcoords"
           }
          ],
          "pie": [
           {
            "automargin": true,
            "type": "pie"
           }
          ],
          "scatter": [
           {
            "fillpattern": {
             "fillmode": "overlay",
             "size": 10,
             "solidity": 0.2
            },
            "type": "scatter"
           }
          ],
          "scatter3d": [
           {
            "line": {
             "colorbar": {
              "outlinewidth": 0,
              "ticks": ""
             }
            },
            "marker": {
             "colorbar": {
              "outlinewidth": 0,
              "ticks": ""
             }
            },
            "type": "scatter3d"
           }
          ],
          "scattercarpet": [
           {
            "marker": {
             "colorbar": {
              "outlinewidth": 0,
              "ticks": ""
             }
            },
            "type": "scattercarpet"
           }
          ],
          "scattergeo": [
           {
            "marker": {
             "colorbar": {
              "outlinewidth": 0,
              "ticks": ""
             }
            },
            "type": "scattergeo"
           }
          ],
          "scattergl": [
           {
            "marker": {
             "colorbar": {
              "outlinewidth": 0,
              "ticks": ""
             }
            },
            "type": "scattergl"
           }
          ],
          "scattermapbox": [
           {
            "marker": {
             "colorbar": {
              "outlinewidth": 0,
              "ticks": ""
             }
            },
            "type": "scattermapbox"
           }
          ],
          "scatterpolar": [
           {
            "marker": {
             "colorbar": {
              "outlinewidth": 0,
              "ticks": ""
             }
            },
            "type": "scatterpolar"
           }
          ],
          "scatterpolargl": [
           {
            "marker": {
             "colorbar": {
              "outlinewidth": 0,
              "ticks": ""
             }
            },
            "type": "scatterpolargl"
           }
          ],
          "scatterternary": [
           {
            "marker": {
             "colorbar": {
              "outlinewidth": 0,
              "ticks": ""
             }
            },
            "type": "scatterternary"
           }
          ],
          "surface": [
           {
            "colorbar": {
             "outlinewidth": 0,
             "ticks": ""
            },
            "colorscale": [
             [
              0,
              "#0d0887"
             ],
             [
              0.1111111111111111,
              "#46039f"
             ],
             [
              0.2222222222222222,
              "#7201a8"
             ],
             [
              0.3333333333333333,
              "#9c179e"
             ],
             [
              0.4444444444444444,
              "#bd3786"
             ],
             [
              0.5555555555555556,
              "#d8576b"
             ],
             [
              0.6666666666666666,
              "#ed7953"
             ],
             [
              0.7777777777777778,
              "#fb9f3a"
             ],
             [
              0.8888888888888888,
              "#fdca26"
             ],
             [
              1,
              "#f0f921"
             ]
            ],
            "type": "surface"
           }
          ],
          "table": [
           {
            "cells": {
             "fill": {
              "color": "#EBF0F8"
             },
             "line": {
              "color": "white"
             }
            },
            "header": {
             "fill": {
              "color": "#C8D4E3"
             },
             "line": {
              "color": "white"
             }
            },
            "type": "table"
           }
          ]
         },
         "layout": {
          "annotationdefaults": {
           "arrowcolor": "#2a3f5f",
           "arrowhead": 0,
           "arrowwidth": 1
          },
          "autotypenumbers": "strict",
          "coloraxis": {
           "colorbar": {
            "outlinewidth": 0,
            "ticks": ""
           }
          },
          "colorscale": {
           "diverging": [
            [
             0,
             "#8e0152"
            ],
            [
             0.1,
             "#c51b7d"
            ],
            [
             0.2,
             "#de77ae"
            ],
            [
             0.3,
             "#f1b6da"
            ],
            [
             0.4,
             "#fde0ef"
            ],
            [
             0.5,
             "#f7f7f7"
            ],
            [
             0.6,
             "#e6f5d0"
            ],
            [
             0.7,
             "#b8e186"
            ],
            [
             0.8,
             "#7fbc41"
            ],
            [
             0.9,
             "#4d9221"
            ],
            [
             1,
             "#276419"
            ]
           ],
           "sequential": [
            [
             0,
             "#0d0887"
            ],
            [
             0.1111111111111111,
             "#46039f"
            ],
            [
             0.2222222222222222,
             "#7201a8"
            ],
            [
             0.3333333333333333,
             "#9c179e"
            ],
            [
             0.4444444444444444,
             "#bd3786"
            ],
            [
             0.5555555555555556,
             "#d8576b"
            ],
            [
             0.6666666666666666,
             "#ed7953"
            ],
            [
             0.7777777777777778,
             "#fb9f3a"
            ],
            [
             0.8888888888888888,
             "#fdca26"
            ],
            [
             1,
             "#f0f921"
            ]
           ],
           "sequentialminus": [
            [
             0,
             "#0d0887"
            ],
            [
             0.1111111111111111,
             "#46039f"
            ],
            [
             0.2222222222222222,
             "#7201a8"
            ],
            [
             0.3333333333333333,
             "#9c179e"
            ],
            [
             0.4444444444444444,
             "#bd3786"
            ],
            [
             0.5555555555555556,
             "#d8576b"
            ],
            [
             0.6666666666666666,
             "#ed7953"
            ],
            [
             0.7777777777777778,
             "#fb9f3a"
            ],
            [
             0.8888888888888888,
             "#fdca26"
            ],
            [
             1,
             "#f0f921"
            ]
           ]
          },
          "colorway": [
           "#636efa",
           "#EF553B",
           "#00cc96",
           "#ab63fa",
           "#FFA15A",
           "#19d3f3",
           "#FF6692",
           "#B6E880",
           "#FF97FF",
           "#FECB52"
          ],
          "font": {
           "color": "#2a3f5f"
          },
          "geo": {
           "bgcolor": "white",
           "lakecolor": "white",
           "landcolor": "#E5ECF6",
           "showlakes": true,
           "showland": true,
           "subunitcolor": "white"
          },
          "hoverlabel": {
           "align": "left"
          },
          "hovermode": "closest",
          "mapbox": {
           "style": "light"
          },
          "paper_bgcolor": "white",
          "plot_bgcolor": "#E5ECF6",
          "polar": {
           "angularaxis": {
            "gridcolor": "white",
            "linecolor": "white",
            "ticks": ""
           },
           "bgcolor": "#E5ECF6",
           "radialaxis": {
            "gridcolor": "white",
            "linecolor": "white",
            "ticks": ""
           }
          },
          "scene": {
           "xaxis": {
            "backgroundcolor": "#E5ECF6",
            "gridcolor": "white",
            "gridwidth": 2,
            "linecolor": "white",
            "showbackground": true,
            "ticks": "",
            "zerolinecolor": "white"
           },
           "yaxis": {
            "backgroundcolor": "#E5ECF6",
            "gridcolor": "white",
            "gridwidth": 2,
            "linecolor": "white",
            "showbackground": true,
            "ticks": "",
            "zerolinecolor": "white"
           },
           "zaxis": {
            "backgroundcolor": "#E5ECF6",
            "gridcolor": "white",
            "gridwidth": 2,
            "linecolor": "white",
            "showbackground": true,
            "ticks": "",
            "zerolinecolor": "white"
           }
          },
          "shapedefaults": {
           "line": {
            "color": "#2a3f5f"
           }
          },
          "ternary": {
           "aaxis": {
            "gridcolor": "white",
            "linecolor": "white",
            "ticks": ""
           },
           "baxis": {
            "gridcolor": "white",
            "linecolor": "white",
            "ticks": ""
           },
           "bgcolor": "#E5ECF6",
           "caxis": {
            "gridcolor": "white",
            "linecolor": "white",
            "ticks": ""
           }
          },
          "title": {
           "x": 0.05
          },
          "xaxis": {
           "automargin": true,
           "gridcolor": "white",
           "linecolor": "white",
           "ticks": "",
           "title": {
            "standoff": 15
           },
           "zerolinecolor": "white",
           "zerolinewidth": 2
          },
          "yaxis": {
           "automargin": true,
           "gridcolor": "white",
           "linecolor": "white",
           "ticks": "",
           "title": {
            "standoff": 15
           },
           "zerolinecolor": "white",
           "zerolinewidth": 2
          }
         }
        }
       }
      }
     },
     "metadata": {},
     "output_type": "display_data"
    }
   ],
   "source": [
    "last = ['CH', 'ZA']\n",
    "fig = plot_category_pie(last, [get_country_fullname(x) for x in last], edu, rows=1)\n",
    "\n",
    "# fig.write_html(op.join(path_country_fig,'country_pie_CH.html'), auto_open=True)\n",
    "fig.show()"
   ]
  },
  {
   "cell_type": "markdown",
   "metadata": {},
   "source": [
    "# Numerical data "
   ]
  },
  {
   "cell_type": "code",
   "execution_count": 13,
   "metadata": {},
   "outputs": [],
   "source": [
    "numericals = edu.copy()[['country', 'duration', 'like_count','dislike_count', 'view_count' ,'subscribers_cc', 'videos_cc']]\n",
    "numericals['like_per_view'] = numericals['like_count'] / numericals['view_count']\n",
    "numericals['dislike_per_view'] = numericals['dislike_count'] / numericals['view_count']\n",
    "\n",
    "nb_channels = edu.groupby(['country']).display_id.nunique().reset_index().rename(columns={'display_id': '# videos'})\n",
    "numericals = numericals.groupby(['country']).agg({\n",
    "    'view_count': 'median',  \n",
    "    'like_count': 'sum',\n",
    "    'dislike_count': 'sum',\n",
    "    'duration': 'median',\n",
    "    'subscribers_cc': 'median',\n",
    "    'videos_cc': 'median',\n",
    "    'like_per_view': 'median',   \n",
    "    'dislike_per_view': 'median',\n",
    "})\n",
    "\n",
    "numericals = numericals.reset_index()\n",
    "numericals = numericals.merge(nb_channels, on='country')\n",
    "# filter out countries that have too few videos\n",
    "numericals.to_csv(op.join(path_deriv, 'country_numericals.csv'))"
   ]
  },
  {
   "cell_type": "code",
   "execution_count": 14,
   "metadata": {},
   "outputs": [
    {
     "data": {
      "image/png": "[encoded data removed]",
      "text/plain": [
       "<Figure size 2500x500 with 1 Axes>"
      ]
     },
     "metadata": {},
     "output_type": "display_data"
    }
   ],
   "source": [
    "numericals = pd.read_csv(op.join(path_deriv, 'country_numericals.csv'), index_col=0)\n",
    "quantile_threshold = numericals['# videos'].quantile(0.25)\n",
    "\n",
    "fig, ax = plt.subplots(1, 1, figsize=(25,5))\n",
    "numericals.sort_values(by = '# videos').plot(kind='scatter', y='# videos', x='country', logy=True, figsize=(25,5), title='Number of videos per country', ax=ax)\n",
    "ax.plot([0, len(numericals)], [quantile_threshold, quantile_threshold], 'r--', label=f'Threshold = {quantile_threshold} videos')\n",
    "ax.set_xlabel('Country')\n",
    "ax.set_ylabel('# videos (log scale)')\n",
    "plt.legend()\n",
    "# filter at 25% quantile\n",
    "numericals = numericals[numericals['# videos'] > quantile_threshold]"
   ]
  },
  {
   "cell_type": "code",
   "execution_count": 158,
   "metadata": {},
   "outputs": [],
   "source": [
    "from country_analysis import get_region, custom_color_map\n",
    "numericals['like_per_view_per_video'] = numericals['like_per_view'] / numericals['# videos']\n",
    "numericals['dislike_per_view_per_video'] = numericals['dislike_per_view'] / numericals['# videos']\n",
    "numericals['like_per_vid'] = numericals['like_count'] / numericals['# videos']\n",
    "numericals['dislike_per_vid'] = numericals['dislike_count'] / numericals['# videos']\n",
    "numericals['country_name'] = numericals.country.apply(get_country_fullname)\n",
    "numericals['Region'] = numericals.country_name.apply(get_region)\n",
    "numericals.Region = numericals.Region.apply(lambda x: 'Oceania' if x == 'Australia and New Zealand' else x)"
   ]
  },
  {
   "cell_type": "code",
   "execution_count": 169,
   "metadata": {},
   "outputs": [
    {
     "data": {
      "application/vnd.plotly.v1+json": {
       "config": {
        "plotlyServerURL": "https://plot.ly"
       },
       "data": [
        {
         "customdata": [
          [
           "Andorra",
           72
          ],
          [
           "Albania",
           175
          ],
          [
           "Cyprus",
           3047
          ],
          [
           "Spain",
           11424
          ],
          [
           "Greece",
           2807
          ],
          [
           "Croatia",
           676
          ],
          [
           "Italy",
           8095
          ],
          [
           "North Macedonia",
           245
          ],
          [
           "Malta",
           179
          ],
          [
           "Portugal",
           1851
          ],
          [
           "Slovenia",
           272
          ]
         ],
         "hoverlabel": {
          "font": {
           "size": 12
          }
         },
         "hovertemplate": "<b>%{customdata[0]}</b><br> Likes per video: %{x:.0f} <br> Dislikes per video: %{y:.0f}<br> Median Views: %{marker.size:.0f} <br> # videos: %{customdata[1]:,.0f}",
         "hovertext": [
          "Andorra",
          "Albania",
          "Cyprus",
          "Spain",
          "Greece",
          "Croatia",
          "Italy",
          "North Macedonia",
          "Malta",
          "Portugal",
          "Slovenia"
         ],
         "legendgroup": "Southern Europe",
         "marker": {
          "color": "#FFA07A",
          "size": [
           1273,
           8620,
           150,
           3010,
           1443,
           4888.5,
           2399,
           2143,
           4135,
           4954,
           10665.5
          ],
          "sizemode": "area",
          "sizeref": 14.5008,
          "symbol": "circle"
         },
         "mode": "markers+text",
         "name": "Southern Europe",
         "orientation": "v",
         "showlegend": true,
         "text": [
          "AD",
          "AL",
          "CY",
          "ES",
          "GR",
          "HR",
          "IT",
          "MK",
          "MT",
          "PT",
          "SI"
         ],
         "textfont": {
          "color": "white",
          "size": 12
         },
         "textposition": "middle center",
         "type": "scatter",
         "x": [
          1152.4166666666667,
          113.82285714285715,
          10.662947161142107,
          699.8147759103641,
          452.5211970074813,
          618.2085798816568,
          334.6253242742434,
          656.4204081632653,
          208.91061452513966,
          745.5078336034576,
          2197.5588235294117
         ],
         "xaxis": "x",
         "y": [
          147.77777777777777,
          2.5828571428571427,
          0.9744010502133246,
          87.20815826330532,
          16.344495903099393,
          58.624260355029584,
          19.435577516985795,
          53.583673469387755,
          9.061452513966481,
          30.260399783900596,
          63.463235294117645
         ],
         "yaxis": "y"
        },
        {
         "customdata": [
          [
           "United Arab Emirates",
           8923
          ],
          [
           "Georgia",
           292
          ],
          [
           "Israel",
           10384
          ],
          [
           "Iraq",
           151
          ],
          [
           "Lebanon",
           2807
          ],
          [
           "Oman",
           570
          ],
          [
           "Qatar",
           413
          ],
          [
           "Saudi Arabia",
           3535
          ],
          [
           "Türkiye",
           659
          ]
         ],
         "hoverlabel": {
          "font": {
           "size": 12
          }
         },
         "hovertemplate": "<b>%{customdata[0]}</b><br> Likes per video: %{x:.0f} <br> Dislikes per video: %{y:.0f}<br> Median Views: %{marker.size:.0f} <br> # videos: %{customdata[1]:,.0f}",
         "hovertext": [
          "United Arab Emirates",
          "Georgia",
          "Israel",
          "Iraq",
          "Lebanon",
          "Oman",
          "Qatar",
          "Saudi Arabia",
          "Türkiye"
         ],
         "legendgroup": "Western Asia",
         "marker": {
          "color": "#87CEEB",
          "size": [
           5539.5,
           1379.5,
           1165,
           6147,
           257,
           3631,
           1584,
           1767,
           6210
          ],
          "sizemode": "area",
          "sizeref": 14.5008,
          "symbol": "circle"
         },
         "mode": "markers+text",
         "name": "Western Asia",
         "orientation": "v",
         "showlegend": true,
         "text": [
          "AE",
          "GE",
          "IL",
          "IQ",
          "LB",
          "OM",
          "QA",
          "SA",
          "TR"
         ],
         "textfont": {
          "color": "white",
          "size": 12
         },
         "textposition": "middle center",
         "type": "scatter",
         "x": [
          1423.4923232096828,
          373.26027397260276,
          176.99027349768875,
          998.3509933774834,
          10.27324545778411,
          79.7701754385965,
          96.1138014527845,
          361.4758132956153,
          718.0637329286798
         ],
         "xaxis": "x",
         "y": [
          189.48246105569876,
          8.976027397260275,
          46.97265023112481,
          86.3841059602649,
          0.7221232632703954,
          4.635087719298245,
          3.929782082324455,
          23.401414427157,
          93.57056145675266
         ],
         "yaxis": "y"
        },
        {
         "customdata": [
          [
           "Antarctica",
           187
          ]
         ],
         "hoverlabel": {
          "font": {
           "size": 12
          }
         },
         "hovertemplate": "<b>%{customdata[0]}</b><br> Likes per video: %{x:.0f} <br> Dislikes per video: %{y:.0f}<br> Median Views: %{marker.size:.0f} <br> # videos: %{customdata[1]:,.0f}",
         "hovertext": [
          "Antarctica"
         ],
         "legendgroup": "Antarctica",
         "marker": {
          "color": "#ADD8E6",
          "size": [
           799
          ],
          "sizemode": "area",
          "sizeref": 14.5008,
          "symbol": "circle"
         },
         "mode": "markers+text",
         "name": "Antarctica",
         "orientation": "v",
         "showlegend": true,
         "text": [
          "AQ"
         ],
         "textfont": {
          "color": "white",
          "size": 12
         },
         "textposition": "middle center",
         "type": "scatter",
         "x": [
          260.26737967914437
         ],
         "xaxis": "x",
         "y": [
          29.83957219251337
         ],
         "yaxis": "y"
        },
        {
         "customdata": [
          [
           "Argentina",
           416
          ],
          [
           "Brazil",
           2867
          ],
          [
           "Chile",
           685
          ],
          [
           "Colombia",
           711
          ],
          [
           "Falkland Islands (Malvinas)",
           90
          ]
         ],
         "hoverlabel": {
          "font": {
           "size": 12
          }
         },
         "hovertemplate": "<b>%{customdata[0]}</b><br> Likes per video: %{x:.0f} <br> Dislikes per video: %{y:.0f}<br> Median Views: %{marker.size:.0f} <br> # videos: %{customdata[1]:,.0f}",
         "hovertext": [
          "Argentina",
          "Brazil",
          "Chile",
          "Colombia",
          "Falkland Islands (Malvinas)"
         ],
         "legendgroup": "South America",
         "marker": {
          "color": "#32CD32",
          "size": [
           3465,
           5005,
           3632,
           24702,
           1164
          ],
          "sizemode": "area",
          "sizeref": 14.5008,
          "symbol": "circle"
         },
         "mode": "markers+text",
         "name": "South America",
         "orientation": "v",
         "showlegend": true,
         "text": [
          "AR",
          "BR",
          "CL",
          "CO",
          "FK"
         ],
         "textfont": {
          "color": "white",
          "size": 12
         },
         "textposition": "middle center",
         "type": "scatter",
         "x": [
          2093.4927884615386,
          677.1614928496687,
          585.6321167883211,
          1789.196905766526,
          108.74444444444444
         ],
         "xaxis": "x",
         "y": [
          74.15384615384616,
          144.74258807115453,
          29.388321167883213,
          54.251758087201125,
          0.45555555555555555
         ],
         "yaxis": "y"
        },
        {
         "customdata": [
          [
           "Austria",
           1441
          ],
          [
           "Belgium",
           3677
          ],
          [
           "Switzerland",
           9247
          ],
          [
           "Germany",
           30125
          ],
          [
           "France",
           8665
          ],
          [
           "Luxembourg",
           138
          ],
          [
           "Netherlands",
           12539
          ]
         ],
         "hoverlabel": {
          "font": {
           "size": 12
          }
         },
         "hovertemplate": "<b>%{customdata[0]}</b><br> Likes per video: %{x:.0f} <br> Dislikes per video: %{y:.0f}<br> Median Views: %{marker.size:.0f} <br> # videos: %{customdata[1]:,.0f}",
         "hovertext": [
          "Austria",
          "Belgium",
          "Switzerland",
          "Germany",
          "France",
          "Luxembourg",
          "Netherlands"
         ],
         "legendgroup": "Western Europe",
         "marker": {
          "color": "#FA8072",
          "size": [
           36252,
           3488,
           1053,
           3585,
           3469,
           3524,
           3065
          ],
          "sizemode": "area",
          "sizeref": 14.5008,
          "symbol": "circle"
         },
         "mode": "markers+text",
         "name": "Western Europe",
         "orientation": "v",
         "showlegend": true,
         "text": [
          "AT",
          "BE",
          "CH",
          "DE",
          "FR",
          "LU",
          "NL"
         ],
         "textfont": {
          "color": "white",
          "size": 12
         },
         "textposition": "middle center",
         "type": "scatter",
         "x": [
          3148.1075641915336,
          961.0938264889855,
          361.4691251216611,
          1361.9749045643155,
          739.9883439122908,
          1438.0144927536232,
          414.9381928383444
         ],
         "xaxis": "x",
         "y": [
          111.764746703678,
          52.6581452270873,
          18.264518222126096,
          39.29931950207469,
          53.68817080207732,
          423.28985507246375,
          26.908126644868013
         ],
         "yaxis": "y"
        },
        {
         "customdata": [
          [
           "Australia",
           67716
          ],
          [
           "New Zealand",
           6227
          ]
         ],
         "hoverlabel": {
          "font": {
           "size": 12
          }
         },
         "hovertemplate": "<b>%{customdata[0]}</b><br> Likes per video: %{x:.0f} <br> Dislikes per video: %{y:.0f}<br> Median Views: %{marker.size:.0f} <br> # videos: %{customdata[1]:,.0f}",
         "hovertext": [
          "Australia",
          "New Zealand"
         ],
         "legendgroup": "Oceania",
         "marker": {
          "color": "#FFD700",
          "size": [
           2006,
           5363
          ],
          "sizemode": "area",
          "sizeref": 14.5008,
          "symbol": "circle"
         },
         "mode": "markers+text",
         "name": "Oceania",
         "orientation": "v",
         "showlegend": true,
         "text": [
          "AU",
          "NZ"
         ],
         "textfont": {
          "color": "white",
          "size": 12
         },
         "textposition": "middle center",
         "type": "scatter",
         "x": [
          838.3440545808967,
          726.9380118837321
         ],
         "xaxis": "x",
         "y": [
          87.60679898399196,
          57.72635297896258
         ],
         "yaxis": "y"
        },
        {
         "customdata": [
          [
           "Bangladesh",
           11671
          ],
          [
           "India",
           656960
          ],
          [
           "Sri Lanka",
           3831
          ],
          [
           "Nepal",
           1638
          ],
          [
           "Pakistan",
           79553
          ]
         ],
         "hoverlabel": {
          "font": {
           "size": 12
          }
         },
         "hovertemplate": "<b>%{customdata[0]}</b><br> Likes per video: %{x:.0f} <br> Dislikes per video: %{y:.0f}<br> Median Views: %{marker.size:.0f} <br> # videos: %{customdata[1]:,.0f}",
         "hovertext": [
          "Bangladesh",
          "India",
          "Sri Lanka",
          "Nepal",
          "Pakistan"
         ],
         "legendgroup": "Southern Asia",
         "marker": {
          "color": "#4682B4",
          "size": [
           4462,
           3427,
           2271,
           5155,
           826
          ],
          "sizemode": "area",
          "sizeref": 14.5008,
          "symbol": "circle"
         },
         "mode": "markers+text",
         "name": "Southern Asia",
         "orientation": "v",
         "showlegend": true,
         "text": [
          "BD",
          "IN",
          "LK",
          "NP",
          "PK"
         ],
         "textfont": {
          "color": "white",
          "size": 12
         },
         "textposition": "middle center",
         "type": "scatter",
         "x": [
          671.2389683831719,
          1012.1093765221627,
          283.68050117462803,
          632.1001221001221,
          769.2385579425037
         ],
         "xaxis": "x",
         "y": [
          50.77594036500728,
          138.27092364831952,
          18.26337770817019,
          78.62820512820512,
          52.1849081744246
         ],
         "yaxis": "y"
        },
        {
         "customdata": [
          [
           "Bulgaria",
           2061
          ],
          [
           "Czechia",
           906
          ],
          [
           "Hungary",
           1371
          ],
          [
           "Poland",
           3042
          ],
          [
           "Romania",
           3192
          ],
          [
           "Serbia",
           1004
          ],
          [
           "Russian Federation",
           4285
          ],
          [
           "Slovakia",
           1663
          ],
          [
           "Ukraine",
           2622
          ]
         ],
         "hoverlabel": {
          "font": {
           "size": 12
          }
         },
         "hovertemplate": "<b>%{customdata[0]}</b><br> Likes per video: %{x:.0f} <br> Dislikes per video: %{y:.0f}<br> Median Views: %{marker.size:.0f} <br> # videos: %{customdata[1]:,.0f}",
         "hovertext": [
          "Bulgaria",
          "Czechia",
          "Hungary",
          "Poland",
          "Romania",
          "Serbia",
          "Russian Federation",
          "Slovakia",
          "Ukraine"
         ],
         "legendgroup": "Eastern Europe",
         "marker": {
          "color": "#E9967A",
          "size": [
           1014,
           6215,
           6780,
           4685.5,
           5097,
           4356,
           4788,
           2970,
           1273.5
          ],
          "sizemode": "area",
          "sizeref": 14.5008,
          "symbol": "circle"
         },
         "mode": "markers+text",
         "name": "Eastern Europe",
         "orientation": "v",
         "showlegend": true,
         "text": [
          "BG",
          "CZ",
          "HU",
          "PL",
          "RO",
          "RS",
          "RU",
          "SK",
          "UA"
         ],
         "textfont": {
          "color": "white",
          "size": 12
         },
         "textposition": "middle center",
         "type": "scatter",
         "x": [
          171.1678796700631,
          1216.6986754966888,
          1153.112326768782,
          1147.0811965811965,
          3693.441102756892,
          1617.9820717131474,
          440.1169194865811,
          326.52675886951295,
          578.4138062547673
         ],
         "xaxis": "x",
         "y": [
          5.028626880155264,
          141.58278145695365,
          85.57622173595915,
          117.95036160420776,
          114.94360902255639,
          578.0368525896414,
          100.38343057176196,
          18.06013229104029,
          231.18993135011442
         ],
         "yaxis": "y"
        },
        {
         "customdata": [
          [
           "Bermuda",
           84
          ],
          [
           "Canada",
           145610
          ],
          [
           "United States",
           1673605
          ]
         ],
         "hoverlabel": {
          "font": {
           "size": 12
          }
         },
         "hovertemplate": "<b>%{customdata[0]}</b><br> Likes per video: %{x:.0f} <br> Dislikes per video: %{y:.0f}<br> Median Views: %{marker.size:.0f} <br> # videos: %{customdata[1]:,.0f}",
         "hovertext": [
          "Bermuda",
          "Canada",
          "United States"
         ],
         "legendgroup": "Northern America",
         "marker": {
          "color": " #2E8B57",
          "size": [
           1411.5,
           2316,
           2625
          ],
          "sizemode": "area",
          "sizeref": 14.5008,
          "symbol": "circle"
         },
         "mode": "markers+text",
         "name": "Northern America",
         "orientation": "v",
         "showlegend": true,
         "text": [
          "BM",
          "CA",
          "US"
         ],
         "textfont": {
          "color": "white",
          "size": 12
         },
         "textposition": "middle center",
         "type": "scatter",
         "x": [
          70.19047619047619,
          991.0191813749055,
          796.2506152885537
         ],
         "xaxis": "x",
         "y": [
          11.773809523809524,
          146.59952613144702,
          121.58727477511121
         ],
         "yaxis": "y"
        },
        {
         "customdata": [
          [
           "Bahamas",
           479
          ],
          [
           "Jamaica",
           774
          ]
         ],
         "hoverlabel": {
          "font": {
           "size": 12
          }
         },
         "hovertemplate": "<b>%{customdata[0]}</b><br> Likes per video: %{x:.0f} <br> Dislikes per video: %{y:.0f}<br> Median Views: %{marker.size:.0f} <br> # videos: %{customdata[1]:,.0f}",
         "hovertext": [
          "Bahamas",
          "Jamaica"
         ],
         "legendgroup": "Caribbean",
         "marker": {
          "color": "#66CDAA",
          "size": [
           919,
           1686.5
          ],
          "sizemode": "area",
          "sizeref": 14.5008,
          "symbol": "circle"
         },
         "mode": "markers+text",
         "name": "Caribbean",
         "orientation": "v",
         "showlegend": true,
         "text": [
          "BS",
          "JM"
         ],
         "textfont": {
          "color": "white",
          "size": 12
         },
         "textposition": "middle center",
         "type": "scatter",
         "x": [
          54.839248434237994,
          110.4186046511628
         ],
         "xaxis": "x",
         "y": [
          2.210855949895616,
          6.125322997416021
         ],
         "yaxis": "y"
        },
        {
         "customdata": [
          [
           "Belize",
           408
          ],
          [
           "Costa Rica",
           699
          ],
          [
           "Mexico",
           1196
          ],
          [
           "Panama",
           70
          ]
         ],
         "hoverlabel": {
          "font": {
           "size": 12
          }
         },
         "hovertemplate": "<b>%{customdata[0]}</b><br> Likes per video: %{x:.0f} <br> Dislikes per video: %{y:.0f}<br> Median Views: %{marker.size:.0f} <br> # videos: %{customdata[1]:,.0f}",
         "hovertext": [
          "Belize",
          "Costa Rica",
          "Mexico",
          "Panama"
         ],
         "legendgroup": "Central America",
         "marker": {
          "color": "#20B2AA",
          "size": [
           4150,
           4732,
           7445,
           2711
          ],
          "sizemode": "area",
          "sizeref": 14.5008,
          "symbol": "circle"
         },
         "mode": "markers+text",
         "name": "Central America",
         "orientation": "v",
         "showlegend": true,
         "text": [
          "BZ",
          "CR",
          "MX",
          "PA"
         ],
         "textfont": {
          "color": "white",
          "size": 12
         },
         "textposition": "middle center",
         "type": "scatter",
         "x": [
          62.64705882352941,
          295.2961373390558,
          796.4515050167224,
          103.21428571428571
         ],
         "xaxis": "x",
         "y": [
          8.144607843137255,
          11.94277539341917,
          35.770066889632105,
          12.414285714285715
         ],
         "yaxis": "y"
        },
        {
         "customdata": [
          [
           "China",
           667
          ],
          [
           "Hong Kong",
           2131
          ],
          [
           "Japan",
           7677
          ],
          [
           "Korea, Republic of",
           9100
          ],
          [
           "Taiwan, Province of China",
           1152
          ]
         ],
         "hoverlabel": {
          "font": {
           "size": 12
          }
         },
         "hovertemplate": "<b>%{customdata[0]}</b><br> Likes per video: %{x:.0f} <br> Dislikes per video: %{y:.0f}<br> Median Views: %{marker.size:.0f} <br> # videos: %{customdata[1]:,.0f}",
         "hovertext": [
          "China",
          "Hong Kong",
          "Japan",
          "Korea, Republic of",
          "Taiwan, Province of China"
         ],
         "legendgroup": "Eastern Asia",
         "marker": {
          "color": "#1E90FF",
          "size": [
           1717,
           4626,
           15093,
           22876,
           10234.5
          ],
          "sizemode": "area",
          "sizeref": 14.5008,
          "symbol": "circle"
         },
         "mode": "markers+text",
         "name": "Eastern Asia",
         "orientation": "v",
         "showlegend": true,
         "text": [
          "CN",
          "HK",
          "JP",
          "KR",
          "TW"
         ],
         "textfont": {
          "color": "white",
          "size": 12
         },
         "textposition": "middle center",
         "type": "scatter",
         "x": [
          98.74212893553224,
          881.7498826841859,
          3042.050931353393,
          1269.8997802197803,
          2539.879340277778
         ],
         "xaxis": "x",
         "y": [
          3.6116941529235382,
          49.315344908493664,
          254.73804871694674,
          330.847032967033,
          104.40538194444444
         ],
         "yaxis": "y"
        },
        {
         "customdata": [
          [
           "Denmark",
           5012
          ],
          [
           "Estonia",
           821
          ],
          [
           "Finland",
           2047
          ],
          [
           "United Kingdom",
           284427
          ],
          [
           "Ireland",
           3494
          ],
          [
           "Isle of Man",
           2823
          ],
          [
           "Lithuania",
           317
          ],
          [
           "Latvia",
           1095
          ],
          [
           "Norway",
           2553
          ],
          [
           "Sweden",
           5242
          ],
          [
           "Svalbard and Jan Mayen",
           105
          ]
         ],
         "hoverlabel": {
          "font": {
           "size": 12
          }
         },
         "hovertemplate": "<b>%{customdata[0]}</b><br> Likes per video: %{x:.0f} <br> Dislikes per video: %{y:.0f}<br> Median Views: %{marker.size:.0f} <br> # videos: %{customdata[1]:,.0f}",
         "hovertext": [
          "Denmark",
          "Estonia",
          "Finland",
          "United Kingdom",
          "Ireland",
          "Isle of Man",
          "Lithuania",
          "Latvia",
          "Norway",
          "Sweden",
          "Svalbard and Jan Mayen"
         ],
         "legendgroup": "Northern Europe",
         "marker": {
          "color": "#F08080",
          "size": [
           2034,
           10445,
           2692,
           2526,
           3442,
           1204,
           929,
           2326,
           5262,
           4329.5,
           4505
          ],
          "sizemode": "area",
          "sizeref": 14.5008,
          "symbol": "circle"
         },
         "mode": "markers+text",
         "name": "Northern Europe",
         "orientation": "v",
         "showlegend": true,
         "text": [
          "DK",
          "EE",
          "FI",
          "GB",
          "IE",
          "IM",
          "LT",
          "LV",
          "NO",
          "SE",
          "SJ"
         ],
         "textfont": {
          "color": "white",
          "size": 12
         },
         "textposition": "middle center",
         "type": "scatter",
         "x": [
          508.4104150039904,
          889.5883069427528,
          355.3507572056668,
          597.0026614913493,
          640.8955352032054,
          116.94899043570669,
          115.801261829653,
          108.45844748858447,
          978.9259694477086,
          837.09042350248,
          65.35238095238095
         ],
         "xaxis": "x",
         "y": [
          25.94832402234637,
          27.962241169305724,
          13.035173424523693,
          48.91579561715308,
          39.868345735546654,
          8.639744952178534,
          25.67192429022082,
          9.547945205479452,
          37.70701135918527,
          49.02556276230447,
          4.866666666666666
         ],
         "yaxis": "y"
        },
        {
         "customdata": [
          [
           "Algeria",
           171
          ],
          [
           "Egypt",
           2761
          ],
          [
           "Morocco",
           893
          ]
         ],
         "hoverlabel": {
          "font": {
           "size": 12
          }
         },
         "hovertemplate": "<b>%{customdata[0]}</b><br> Likes per video: %{x:.0f} <br> Dislikes per video: %{y:.0f}<br> Median Views: %{marker.size:.0f} <br> # videos: %{customdata[1]:,.0f}",
         "hovertext": [
          "Algeria",
          "Egypt",
          "Morocco"
         ],
         "legendgroup": "Northern Africa",
         "marker": {
          "color": "#BDB76B",
          "size": [
           6820,
           2340,
           2818
          ],
          "sizemode": "area",
          "sizeref": 14.5008,
          "symbol": "circle"
         },
         "mode": "markers+text",
         "name": "Northern Africa",
         "orientation": "v",
         "showlegend": true,
         "text": [
          "DZ",
          "EG",
          "MA"
         ],
         "textfont": {
          "color": "white",
          "size": 12
         },
         "textposition": "middle center",
         "type": "scatter",
         "x": [
          1730.8830409356726,
          312.6019558131112,
          142.30459126539753
         ],
         "xaxis": "x",
         "y": [
          45.30409356725146,
          69.59000362187614,
          11.096304591265397
         ],
         "yaxis": "y"
        },
        {
         "customdata": [
          [
           "Ghana",
           3035
          ],
          [
           "Nigeria",
           4933
          ]
         ],
         "hoverlabel": {
          "font": {
           "size": 12
          }
         },
         "hovertemplate": "<b>%{customdata[0]}</b><br> Likes per video: %{x:.0f} <br> Dislikes per video: %{y:.0f}<br> Median Views: %{marker.size:.0f} <br> # videos: %{customdata[1]:,.0f}",
         "hovertext": [
          "Ghana",
          "Nigeria"
         ],
         "legendgroup": "Western Africa",
         "marker": {
          "color": "#DAA520",
          "size": [
           369,
           3795
          ],
          "sizemode": "area",
          "sizeref": 14.5008,
          "symbol": "circle"
         },
         "mode": "markers+text",
         "name": "Western Africa",
         "orientation": "v",
         "showlegend": true,
         "text": [
          "GH",
          "NG"
         ],
         "textfont": {
          "color": "white",
          "size": 12
         },
         "textposition": "middle center",
         "type": "scatter",
         "x": [
          22.49884678747941,
          270.038313399554
         ],
         "xaxis": "x",
         "y": [
          0.5654036243822076,
          11.069126292317048
         ],
         "yaxis": "y"
        },
        {
         "customdata": [
          [
           "Indonesia",
           6994
          ],
          [
           "Cambodia",
           2009
          ],
          [
           "Malaysia",
           15675
          ],
          [
           "Philippines",
           8797
          ],
          [
           "Singapore",
           8940
          ],
          [
           "Thailand",
           3098
          ],
          [
           "Viet Nam",
           871
          ]
         ],
         "hoverlabel": {
          "font": {
           "size": 12
          }
         },
         "hovertemplate": "<b>%{customdata[0]}</b><br> Likes per video: %{x:.0f} <br> Dislikes per video: %{y:.0f}<br> Median Views: %{marker.size:.0f} <br> # videos: %{customdata[1]:,.0f}",
         "hovertext": [
          "Indonesia",
          "Cambodia",
          "Malaysia",
          "Philippines",
          "Singapore",
          "Thailand",
          "Viet Nam"
         ],
         "legendgroup": "South-Eastern Asia",
         "marker": {
          "color": "#19d3f3",
          "size": [
           2891.5,
           16049,
           458,
           4344,
           3489.5,
           7052,
           2685
          ],
          "sizemode": "area",
          "sizeref": 14.5008,
          "symbol": "circle"
         },
         "mode": "markers+text",
         "name": "South-Eastern Asia",
         "orientation": "v",
         "showlegend": true,
         "text": [
          "ID",
          "KH",
          "MY",
          "PH",
          "SG",
          "TH",
          "VN"
         ],
         "textfont": {
          "color": "white",
          "size": 12
         },
         "textposition": "middle center",
         "type": "scatter",
         "x": [
          472.95653417214754,
          810.2822299651568,
          225.63802232854866,
          773.735478003865,
          397.9421700223714,
          393.1491284699806,
          966.6211251435132
         ],
         "xaxis": "x",
         "y": [
          29.95710609093509,
          81.99701343952215,
          16.19993620414673,
          34.378538138001595,
          48.54395973154362,
          18.920271142672693,
          365.7921928817451
         ],
         "yaxis": "y"
        },
        {
         "customdata": [
          [
           "Kenya",
           4813
          ],
          [
           "Tanzania, United Republic of",
           2395
          ],
          [
           "Uganda",
           8613
          ],
          [
           "Zimbabwe",
           835
          ]
         ],
         "hoverlabel": {
          "font": {
           "size": 12
          }
         },
         "hovertemplate": "<b>%{customdata[0]}</b><br> Likes per video: %{x:.0f} <br> Dislikes per video: %{y:.0f}<br> Median Views: %{marker.size:.0f} <br> # videos: %{customdata[1]:,.0f}",
         "hovertext": [
          "Kenya",
          "Tanzania, United Republic of",
          "Uganda",
          "Zimbabwe"
         ],
         "legendgroup": "Eastern Africa",
         "marker": {
          "color": "#FF6692",
          "size": [
           284,
           980,
           60,
           4675
          ],
          "sizemode": "area",
          "sizeref": 14.5008,
          "symbol": "circle"
         },
         "mode": "markers+text",
         "name": "Eastern Africa",
         "orientation": "v",
         "showlegend": true,
         "text": [
          "KE",
          "TZ",
          "UG",
          "ZW"
         ],
         "textfont": {
          "color": "white",
          "size": 12
         },
         "textposition": "middle center",
         "type": "scatter",
         "x": [
          22.2019530438396,
          45.69937369519833,
          7.351793800069662,
          288.7065868263473
         ],
         "xaxis": "x",
         "y": [
          2.399750675254519,
          5.747807933194155,
          0.7640775571810055,
          10.962874251497006
         ],
         "yaxis": "y"
        },
        {
         "customdata": [
          [
           "Kazakhstan",
           144
          ]
         ],
         "hoverlabel": {
          "font": {
           "size": 12
          }
         },
         "hovertemplate": "<b>%{customdata[0]}</b><br> Likes per video: %{x:.0f} <br> Dislikes per video: %{y:.0f}<br> Median Views: %{marker.size:.0f} <br> # videos: %{customdata[1]:,.0f}",
         "hovertext": [
          "Kazakhstan"
         ],
         "legendgroup": "Central Asia",
         "marker": {
          "color": "#B6E880",
          "size": [
           3537.5
          ],
          "sizemode": "area",
          "sizeref": 14.5008,
          "symbol": "circle"
         },
         "mode": "markers+text",
         "name": "Central Asia",
         "orientation": "v",
         "showlegend": true,
         "text": [
          "KZ"
         ],
         "textfont": {
          "color": "white",
          "size": 12
         },
         "textposition": "middle center",
         "type": "scatter",
         "x": [
          329.9791666666667
         ],
         "xaxis": "x",
         "y": [
          70.48611111111111
         ],
         "yaxis": "y"
        },
        {
         "customdata": [
          [
           "South Africa",
           14714
          ]
         ],
         "hoverlabel": {
          "font": {
           "size": 12
          }
         },
         "hovertemplate": "<b>%{customdata[0]}</b><br> Likes per video: %{x:.0f} <br> Dislikes per video: %{y:.0f}<br> Median Views: %{marker.size:.0f} <br> # videos: %{customdata[1]:,.0f}",
         "hovertext": [
          "South Africa"
         ],
         "legendgroup": "Southern Africa",
         "marker": {
          "color": "#FF97FF",
          "size": [
           208
          ],
          "sizemode": "area",
          "sizeref": 14.5008,
          "symbol": "circle"
         },
         "mode": "markers+text",
         "name": "Southern Africa",
         "orientation": "v",
         "showlegend": true,
         "text": [
          "ZA"
         ],
         "textfont": {
          "color": "white",
          "size": 12
         },
         "textposition": "middle center",
         "type": "scatter",
         "x": [
          63.824045127089846
         ],
         "xaxis": "x",
         "y": [
          2.7152371890716323
         ],
         "yaxis": "y"
        },
        {
         "line": {
          "dash": "dash"
         },
         "mode": "lines",
         "name": "1/2",
         "type": "scatter",
         "x": [
          0,
          10
         ],
         "y": [
          0,
          5
         ]
        },
        {
         "line": {
          "dash": "dash"
         },
         "mode": "lines",
         "name": "1/3",
         "type": "scatter",
         "x": [
          0,
          10
         ],
         "y": [
          0,
          3.3000000000000003
         ]
        }
       ],
       "layout": {
        "legend": {
         "font": {
          "size": 11
         },
         "itemsizing": "constant",
         "title": {
          "text": "Region"
         },
         "tracegroupgap": 0
        },
        "margin": {
         "t": 60
        },
        "paper_bgcolor": "white",
        "showlegend": true,
        "template": {
         "data": {
          "bar": [
           {
            "error_x": {
             "color": "#2a3f5f"
            },
            "error_y": {
             "color": "#2a3f5f"
            },
            "marker": {
             "line": {
              "color": "#E5ECF6",
              "width": 0.5
             },
             "pattern": {
              "fillmode": "overlay",
              "size": 10,
              "solidity": 0.2
             }
            },
            "type": "bar"
           }
          ],
          "barpolar": [
           {
            "marker": {
             "line": {
              "color": "#E5ECF6",
              "width": 0.5
             },
             "pattern": {
              "fillmode": "overlay",
              "size": 10,
              "solidity": 0.2
             }
            },
            "type": "barpolar"
           }
          ],
          "carpet": [
           {
            "aaxis": {
             "endlinecolor": "#2a3f5f",
             "gridcolor": "white",
             "linecolor": "white",
             "minorgridcolor": "white",
             "startlinecolor": "#2a3f5f"
            },
            "baxis": {
             "endlinecolor": "#2a3f5f",
             "gridcolor": "white",
             "linecolor": "white",
             "minorgridcolor": "white",
             "startlinecolor": "#2a3f5f"
            },
            "type": "carpet"
           }
          ],
          "choropleth": [
           {
            "colorbar": {
             "outlinewidth": 0,
             "ticks": ""
            },
            "type": "choropleth"
           }
          ],
          "contour": [
           {
            "colorbar": {
             "outlinewidth": 0,
             "ticks": ""
            },
            "colorscale": [
             [
              0,
              "#0d0887"
             ],
             [
              0.1111111111111111,
              "#46039f"
             ],
             [
              0.2222222222222222,
              "#7201a8"
             ],
             [
              0.3333333333333333,
              "#9c179e"
             ],
             [
              0.4444444444444444,
              "#bd3786"
             ],
             [
              0.5555555555555556,
              "#d8576b"
             ],
             [
              0.6666666666666666,
              "#ed7953"
             ],
             [
              0.7777777777777778,
              "#fb9f3a"
             ],
             [
              0.8888888888888888,
              "#fdca26"
             ],
             [
              1,
              "#f0f921"
             ]
            ],
            "type": "contour"
           }
          ],
          "contourcarpet": [
           {
            "colorbar": {
             "outlinewidth": 0,
             "ticks": ""
            },
            "type": "contourcarpet"
           }
          ],
          "heatmap": [
           {
            "colorbar": {
             "outlinewidth": 0,
             "ticks": ""
            },
            "colorscale": [
             [
              0,
              "#0d0887"
             ],
             [
              0.1111111111111111,
              "#46039f"
             ],
             [
              0.2222222222222222,
              "#7201a8"
             ],
             [
              0.3333333333333333,
              "#9c179e"
             ],
             [
              0.4444444444444444,
              "#bd3786"
             ],
             [
              0.5555555555555556,
              "#d8576b"
             ],
             [
              0.6666666666666666,
              "#ed7953"
             ],
             [
              0.7777777777777778,
              "#fb9f3a"
             ],
             [
              0.8888888888888888,
              "#fdca26"
             ],
             [
              1,
              "#f0f921"
             ]
            ],
            "type": "heatmap"
           }
          ],
          "heatmapgl": [
           {
            "colorbar": {
             "outlinewidth": 0,
             "ticks": ""
            },
            "colorscale": [
             [
              0,
              "#0d0887"
             ],
             [
              0.1111111111111111,
              "#46039f"
             ],
             [
              0.2222222222222222,
              "#7201a8"
             ],
             [
              0.3333333333333333,
              "#9c179e"
             ],
             [
              0.4444444444444444,
              "#bd3786"
             ],
             [
              0.5555555555555556,
              "#d8576b"
             ],
             [
              0.6666666666666666,
              "#ed7953"
             ],
             [
              0.7777777777777778,
              "#fb9f3a"
             ],
             [
              0.8888888888888888,
              "#fdca26"
             ],
             [
              1,
              "#f0f921"
             ]
            ],
            "type": "heatmapgl"
           }
          ],
          "histogram": [
           {
            "marker": {
             "pattern": {
              "fillmode": "overlay",
              "size": 10,
              "solidity": 0.2
             }
            },
            "type": "histogram"
           }
          ],
          "histogram2d": [
           {
            "colorbar": {
             "outlinewidth": 0,
             "ticks": ""
            },
            "colorscale": [
             [
              0,
              "#0d0887"
             ],
             [
              0.1111111111111111,
              "#46039f"
             ],
             [
              0.2222222222222222,
              "#7201a8"
             ],
             [
              0.3333333333333333,
              "#9c179e"
             ],
             [
              0.4444444444444444,
              "#bd3786"
             ],
             [
              0.5555555555555556,
              "#d8576b"
             ],
             [
              0.6666666666666666,
              "#ed7953"
             ],
             [
              0.7777777777777778,
              "#fb9f3a"
             ],
             [
              0.8888888888888888,
              "#fdca26"
             ],
             [
              1,
              "#f0f921"
             ]
            ],
            "type": "histogram2d"
           }
          ],
          "histogram2dcontour": [
           {
            "colorbar": {
             "outlinewidth": 0,
             "ticks": ""
            },
            "colorscale": [
             [
              0,
              "#0d0887"
             ],
             [
              0.1111111111111111,
              "#46039f"
             ],
             [
              0.2222222222222222,
              "#7201a8"
             ],
             [
              0.3333333333333333,
              "#9c179e"
             ],
             [
              0.4444444444444444,
              "#bd3786"
             ],
             [
              0.5555555555555556,
              "#d8576b"
             ],
             [
              0.6666666666666666,
              "#ed7953"
             ],
             [
              0.7777777777777778,
              "#fb9f3a"
             ],
             [
              0.8888888888888888,
              "#fdca26"
             ],
             [
              1,
              "#f0f921"
             ]
            ],
            "type": "histogram2dcontour"
           }
          ],
          "mesh3d": [
           {
            "colorbar": {
             "outlinewidth": 0,
             "ticks": ""
            },
            "type": "mesh3d"
           }
          ],
          "parcoords": [
           {
            "line": {
             "colorbar": {
              "outlinewidth": 0,
              "ticks": ""
             }
            },
            "type": "parcoords"
           }
          ],
          "pie": [
           {
            "automargin": true,
            "type": "pie"
           }
          ],
          "scatter": [
           {
            "fillpattern": {
             "fillmode": "overlay",
             "size": 10,
             "solidity": 0.2
            },
            "type": "scatter"
           }
          ],
          "scatter3d": [
           {
            "line": {
             "colorbar": {
              "outlinewidth": 0,
              "ticks": ""
             }
            },
            "marker": {
             "colorbar": {
              "outlinewidth": 0,
              "ticks": ""
             }
            },
            "type": "scatter3d"
           }
          ],
          "scattercarpet": [
           {
            "marker": {
             "colorbar": {
              "outlinewidth": 0,
              "ticks": ""
             }
            },
            "type": "scattercarpet"
           }
          ],
          "scattergeo": [
           {
            "marker": {
             "colorbar": {
              "outlinewidth": 0,
              "ticks": ""
             }
            },
            "type": "scattergeo"
           }
          ],
          "scattergl": [
           {
            "marker": {
             "colorbar": {
              "outlinewidth": 0,
              "ticks": ""
             }
            },
            "type": "scattergl"
           }
          ],
          "scattermapbox": [
           {
            "marker": {
             "colorbar": {
              "outlinewidth": 0,
              "ticks": ""
             }
            },
            "type": "scattermapbox"
           }
          ],
          "scatterpolar": [
           {
            "marker": {
             "colorbar": {
              "outlinewidth": 0,
              "ticks": ""
             }
            },
            "type": "scatterpolar"
           }
          ],
          "scatterpolargl": [
           {
            "marker": {
             "colorbar": {
              "outlinewidth": 0,
              "ticks": ""
             }
            },
            "type": "scatterpolargl"
           }
          ],
          "scatterternary": [
           {
            "marker": {
             "colorbar": {
              "outlinewidth": 0,
              "ticks": ""
             }
            },
            "type": "scatterternary"
           }
          ],
          "surface": [
           {
            "colorbar": {
             "outlinewidth": 0,
             "ticks": ""
            },
            "colorscale": [
             [
              0,
              "#0d0887"
             ],
             [
              0.1111111111111111,
              "#46039f"
             ],
             [
              0.2222222222222222,
              "#7201a8"
             ],
             [
              0.3333333333333333,
              "#9c179e"
             ],
             [
              0.4444444444444444,
              "#bd3786"
             ],
             [
              0.5555555555555556,
              "#d8576b"
             ],
             [
              0.6666666666666666,
              "#ed7953"
             ],
             [
              0.7777777777777778,
              "#fb9f3a"
             ],
             [
              0.8888888888888888,
              "#fdca26"
             ],
             [
              1,
              "#f0f921"
             ]
            ],
            "type": "surface"
           }
          ],
          "table": [
           {
            "cells": {
             "fill": {
              "color": "#EBF0F8"
             },
             "line": {
              "color": "white"
             }
            },
            "header": {
             "fill": {
              "color": "#C8D4E3"
             },
             "line": {
              "color": "white"
             }
            },
            "type": "table"
           }
          ]
         },
         "layout": {
          "annotationdefaults": {
           "arrowcolor": "#2a3f5f",
           "arrowhead": 0,
           "arrowwidth": 1
          },
          "autotypenumbers": "strict",
          "coloraxis": {
           "colorbar": {
            "outlinewidth": 0,
            "ticks": ""
           }
          },
          "colorscale": {
           "diverging": [
            [
             0,
             "#8e0152"
            ],
            [
             0.1,
             "#c51b7d"
            ],
            [
             0.2,
             "#de77ae"
            ],
            [
             0.3,
             "#f1b6da"
            ],
            [
             0.4,
             "#fde0ef"
            ],
            [
             0.5,
             "#f7f7f7"
            ],
            [
             0.6,
             "#e6f5d0"
            ],
            [
             0.7,
             "#b8e186"
            ],
            [
             0.8,
             "#7fbc41"
            ],
            [
             0.9,
             "#4d9221"
            ],
            [
             1,
             "#276419"
            ]
           ],
           "sequential": [
            [
             0,
             "#0d0887"
            ],
            [
             0.1111111111111111,
             "#46039f"
            ],
            [
             0.2222222222222222,
             "#7201a8"
            ],
            [
             0.3333333333333333,
             "#9c179e"
            ],
            [
             0.4444444444444444,
             "#bd3786"
            ],
            [
             0.5555555555555556,
             "#d8576b"
            ],
            [
             0.6666666666666666,
             "#ed7953"
            ],
            [
             0.7777777777777778,
             "#fb9f3a"
            ],
            [
             0.8888888888888888,
             "#fdca26"
            ],
            [
             1,
             "#f0f921"
            ]
           ],
           "sequentialminus": [
            [
             0,
             "#0d0887"
            ],
            [
             0.1111111111111111,
             "#46039f"
            ],
            [
             0.2222222222222222,
             "#7201a8"
            ],
            [
             0.3333333333333333,
             "#9c179e"
            ],
            [
             0.4444444444444444,
             "#bd3786"
            ],
            [
             0.5555555555555556,
             "#d8576b"
            ],
            [
             0.6666666666666666,
             "#ed7953"
            ],
            [
             0.7777777777777778,
             "#fb9f3a"
            ],
            [
             0.8888888888888888,
             "#fdca26"
            ],
            [
             1,
             "#f0f921"
            ]
           ]
          },
          "colorway": [
           "#636efa",
           "#EF553B",
           "#00cc96",
           "#ab63fa",
           "#FFA15A",
           "#19d3f3",
           "#FF6692",
           "#B6E880",
           "#FF97FF",
           "#FECB52"
          ],
          "font": {
           "color": "#2a3f5f"
          },
          "geo": {
           "bgcolor": "white",
           "lakecolor": "white",
           "landcolor": "#E5ECF6",
           "showlakes": true,
           "showland": true,
           "subunitcolor": "white"
          },
          "hoverlabel": {
           "align": "left"
          },
          "hovermode": "closest",
          "mapbox": {
           "style": "light"
          },
          "paper_bgcolor": "white",
          "plot_bgcolor": "#E5ECF6",
          "polar": {
           "angularaxis": {
            "gridcolor": "white",
            "linecolor": "white",
            "ticks": ""
           },
           "bgcolor": "#E5ECF6",
           "radialaxis": {
            "gridcolor": "white",
            "linecolor": "white",
            "ticks": ""
           }
          },
          "scene": {
           "xaxis": {
            "backgroundcolor": "#E5ECF6",
            "gridcolor": "white",
            "gridwidth": 2,
            "linecolor": "white",
            "showbackground": true,
            "ticks": "",
            "zerolinecolor": "white"
           },
           "yaxis": {
            "backgroundcolor": "#E5ECF6",
            "gridcolor": "white",
            "gridwidth": 2,
            "linecolor": "white",
            "showbackground": true,
            "ticks": "",
            "zerolinecolor": "white"
           },
           "zaxis": {
            "backgroundcolor": "#E5ECF6",
            "gridcolor": "white",
            "gridwidth": 2,
            "linecolor": "white",
            "showbackground": true,
            "ticks": "",
            "zerolinecolor": "white"
           }
          },
          "shapedefaults": {
           "line": {
            "color": "#2a3f5f"
           }
          },
          "ternary": {
           "aaxis": {
            "gridcolor": "white",
            "linecolor": "white",
            "ticks": ""
           },
           "baxis": {
            "gridcolor": "white",
            "linecolor": "white",
            "ticks": ""
           },
           "bgcolor": "#E5ECF6",
           "caxis": {
            "gridcolor": "white",
            "linecolor": "white",
            "ticks": ""
           }
          },
          "title": {
           "x": 0.05
          },
          "xaxis": {
           "automargin": true,
           "gridcolor": "white",
           "linecolor": "white",
           "ticks": "",
           "title": {
            "standoff": 15
           },
           "zerolinecolor": "white",
           "zerolinewidth": 2
          },
          "yaxis": {
           "automargin": true,
           "gridcolor": "white",
           "linecolor": "white",
           "ticks": "",
           "title": {
            "standoff": 15
           },
           "zerolinecolor": "white",
           "zerolinewidth": 2
          }
         }
        },
        "xaxis": {
         "anchor": "y",
         "domain": [
          0,
          1
         ],
         "tickformat": ".1s",
         "title": {
          "text": "Likes per video"
         }
        },
        "yaxis": {
         "anchor": "x",
         "domain": [
          0,
          1
         ],
         "tickformat": ".1s",
         "title": {
          "text": "Dislikes per video"
         }
        }
       }
      }
     },
     "metadata": {},
     "output_type": "display_data"
    }
   ],
   "source": [
    "numericals['color'] = numericals['region'].map(custom_color_map)\n",
    "\n",
    "fig = px.scatter(numericals, x=\"like_per_vid\", y=\"dislike_per_vid\",\n",
    "\t         size=\"view_count\", color=\"Region\",\n",
    "                 hover_name=\"country_name\", \n",
    "                 color_discrete_map = custom_color_map,\n",
    "                 log_x = False, log_y=False, \n",
    "                 custom_data=['country_name', '# videos'],\n",
    "                 size_max=50,\n",
    "                 text=\"country\",\n",
    "    )\n",
    "\n",
    "fig.update_layout(\n",
    "    xaxis=dict(title=\"Likes per video\",tickformat=\".1s\"),\n",
    "    yaxis=dict(title=\"Dislikes per video\",tickformat=\".1s\"),\n",
    "    #plot_bgcolor=\"lightgray\", \n",
    "    paper_bgcolor=\"white\", \n",
    "    showlegend=True ,\n",
    "    legend=dict(font=dict(size=11)),\n",
    ")\n",
    "fig.update_traces( # change text inside bubbles\n",
    "    textfont=dict(size=12, color='white'),\n",
    "    textposition='middle center',\n",
    "    hovertemplate=\"<b>%{customdata[0]}</b><br> Likes per video: %{x:.0f} <br> Dislikes per video: %{y:.0f}<br> Median Views: %{marker.size:.0f} <br> # videos: %{customdata[1]:,.0f}\",\n",
    "    hoverlabel=dict(font=dict(size=12)),\n",
    "    \n",
    ")\n",
    "\n",
    "lines = [\n",
    "    {\"slope\": 0.5, \"intercept\": 0, \"name\": \"1/2\"},\n",
    "    {\"slope\": 0.33, \"intercept\": 0, \"name\": \"1/3\"}\n",
    "]\n",
    "\n",
    "# Add lines to the plot\n",
    "for line in lines:\n",
    "    x_vals = np.array([0, 10])  # Define the x-range for the line\n",
    "    y_vals = line[\"slope\"] * x_vals + line[\"intercept\"]  # Calculate y = mx + b\n",
    "    fig.add_trace(\n",
    "        go.Scatter(\n",
    "            x=x_vals, \n",
    "            y=y_vals, \n",
    "            mode=\"lines\", \n",
    "            name=line[\"name\"], \n",
    "            line=dict(dash=\"dash\")  # Optional: make the lines dashed\n",
    "        )\n",
    "    )\n",
    "    \n",
    "# fig.write_html(op.join(path_country_fig,'country_likes_dislikes.html'), auto_open=True)\n",
    "fig.show()"
   ]
  },
  {
   "cell_type": "code",
   "execution_count": 155,
   "metadata": {},
   "outputs": [
    {
     "data": {
      "application/vnd.plotly.v1+json": {
       "config": {
        "plotlyServerURL": "https://plot.ly"
       },
       "data": [
        {
         "customdata": [
          [
           "Andorra"
          ]
         ],
         "hovertemplate": "<b>%{customdata}</b><br> Likes per video: %{x:.0f} <br> Dislikes per video: %{y:.0f}<br> Median Views: %{marker.size:.0f}",
         "hovertext": [
          "Andorra"
         ],
         "legendgroup": "AD",
         "marker": {
          "color": "#636efa",
          "size": [
           1273
          ],
          "sizemode": "area",
          "sizeref": 14.5008,
          "symbol": "circle"
         },
         "mode": "markers+text",
         "name": "AD",
         "orientation": "v",
         "showlegend": true,
         "text": [
          "AD"
         ],
         "textfont": {
          "color": "white",
          "size": 12
         },
         "textposition": "middle center",
         "type": "scatter",
         "x": [
          0.00023336907348363008
         ],
         "xaxis": "x",
         "y": [
          0.0000127036746137097
         ],
         "yaxis": "y"
        },
        {
         "customdata": [
          [
           "United Arab Emirates"
          ]
         ],
         "hovertemplate": "<b>%{customdata}</b><br> Likes per video: %{x:.0f} <br> Dislikes per video: %{y:.0f}<br> Median Views: %{marker.size:.0f}",
         "hovertext": [
          "United Arab Emirates"
         ],
         "legendgroup": "AE",
         "marker": {
          "color": "#EF553B",
          "size": [
           5539.5
          ],
          "sizemode": "area",
          "sizeref": 14.5008,
          "symbol": "circle"
         },
         "mode": "markers+text",
         "name": "AE",
         "orientation": "v",
         "showlegend": true,
         "text": [
          "AE"
         ],
         "textfont": {
          "color": "white",
          "size": 12
         },
         "textposition": "middle center",
         "type": "scatter",
         "x": [
          0.000002086009648191162
         ],
         "xaxis": "x",
         "y": [
          1.2842644744077008e-7
         ],
         "yaxis": "y"
        },
        {
         "customdata": [
          [
           "Albania"
          ]
         ],
         "hovertemplate": "<b>%{customdata}</b><br> Likes per video: %{x:.0f} <br> Dislikes per video: %{y:.0f}<br> Median Views: %{marker.size:.0f}",
         "hovertext": [
          "Albania"
         ],
         "legendgroup": "AL",
         "marker": {
          "color": "#00cc96",
          "size": [
           8620
          ],
          "sizemode": "area",
          "sizeref": 14.5008,
          "symbol": "circle"
         },
         "mode": "markers+text",
         "name": "AL",
         "orientation": "v",
         "showlegend": true,
         "text": [
          "AL"
         ],
         "textfont": {
          "color": "white",
          "size": 12
         },
         "textposition": "middle center",
         "type": "scatter",
         "x": [
          0.00005930779918296249
         ],
         "xaxis": "x",
         "y": [
          4.0117142054800014e-7
         ],
         "yaxis": "y"
        },
        {
         "customdata": [
          [
           "Antarctica"
          ]
         ],
         "hovertemplate": "<b>%{customdata}</b><br> Likes per video: %{x:.0f} <br> Dislikes per video: %{y:.0f}<br> Median Views: %{marker.size:.0f}",
         "hovertext": [
          "Antarctica"
         ],
         "legendgroup": "AQ",
         "marker": {
          "color": "#ab63fa",
          "size": [
           799
          ],
          "sizemode": "area",
          "sizeref": 14.5008,
          "symbol": "circle"
         },
         "mode": "markers+text",
         "name": "AQ",
         "orientation": "v",
         "showlegend": true,
         "text": [
          "AQ"
         ],
         "textfont": {
          "color": "white",
          "size": 12
         },
         "textposition": "middle center",
         "type": "scatter",
         "x": [
          0.00023725483417938475
         ],
         "xaxis": "x",
         "y": [
          0.00001365291004690133
         ],
         "yaxis": "y"
        },
        {
         "customdata": [
          [
           "Argentina"
          ]
         ],
         "hovertemplate": "<b>%{customdata}</b><br> Likes per video: %{x:.0f} <br> Dislikes per video: %{y:.0f}<br> Median Views: %{marker.size:.0f}",
         "hovertext": [
          "Argentina"
         ],
         "legendgroup": "AR",
         "marker": {
          "color": "#FFA15A",
          "size": [
           3465
          ],
          "sizemode": "area",
          "sizeref": 14.5008,
          "symbol": "circle"
         },
         "mode": "markers+text",
         "name": "AR",
         "orientation": "v",
         "showlegend": true,
         "text": [
          "AR"
         ],
         "textfont": {
          "color": "white",
          "size": 12
         },
         "textposition": "middle center",
         "type": "scatter",
         "x": [
          0.00002635398142419569
         ],
         "xaxis": "x",
         "y": [
          6.502298629090551e-7
         ],
         "yaxis": "y"
        },
        {
         "customdata": [
          [
           "Austria"
          ]
         ],
         "hovertemplate": "<b>%{customdata}</b><br> Likes per video: %{x:.0f} <br> Dislikes per video: %{y:.0f}<br> Median Views: %{marker.size:.0f}",
         "hovertext": [
          "Austria"
         ],
         "legendgroup": "AT",
         "marker": {
          "color": "#19d3f3",
          "size": [
           36252
          ],
          "sizemode": "area",
          "sizeref": 14.5008,
          "symbol": "circle"
         },
         "mode": "markers+text",
         "name": "AT",
         "orientation": "v",
         "showlegend": true,
         "text": [
          "AT"
         ],
         "textfont": {
          "color": "white",
          "size": 12
         },
         "textposition": "middle center",
         "type": "scatter",
         "x": [
          0.00002144660984703853
         ],
         "xaxis": "x",
         "y": [
          3.7666806263651917e-7
         ],
         "yaxis": "y"
        },
        {
         "customdata": [
          [
           "Australia"
          ]
         ],
         "hovertemplate": "<b>%{customdata}</b><br> Likes per video: %{x:.0f} <br> Dislikes per video: %{y:.0f}<br> Median Views: %{marker.size:.0f}",
         "hovertext": [
          "Australia"
         ],
         "legendgroup": "AU",
         "marker": {
          "color": "#FF6692",
          "size": [
           2006
          ],
          "sizemode": "area",
          "sizeref": 14.5008,
          "symbol": "circle"
         },
         "mode": "markers+text",
         "name": "AU",
         "orientation": "v",
         "showlegend": true,
         "text": [
          "AU"
         ],
         "textfont": {
          "color": "white",
          "size": 12
         },
         "textposition": "middle center",
         "type": "scatter",
         "x": [
          1.5038672484650764e-7
         ],
         "xaxis": "x",
         "y": [
          4.089528106341917e-9
         ],
         "yaxis": "y"
        },
        {
         "customdata": [
          [
           "Bangladesh"
          ]
         ],
         "hovertemplate": "<b>%{customdata}</b><br> Likes per video: %{x:.0f} <br> Dislikes per video: %{y:.0f}<br> Median Views: %{marker.size:.0f}",
         "hovertext": [
          "Bangladesh"
         ],
         "legendgroup": "BD",
         "marker": {
          "color": "#B6E880",
          "size": [
           4462
          ],
          "sizemode": "area",
          "sizeref": 14.5008,
          "symbol": "circle"
         },
         "mode": "markers+text",
         "name": "BD",
         "orientation": "v",
         "showlegend": true,
         "text": [
          "BD"
         ],
         "textfont": {
          "color": "white",
          "size": 12
         },
         "textposition": "middle center",
         "type": "scatter",
         "x": [
          0.0000015841237994612952
         ],
         "xaxis": "x",
         "y": [
          6.209265229082823e-8
         ],
         "yaxis": "y"
        },
        {
         "customdata": [
          [
           "Belgium"
          ]
         ],
         "hovertemplate": "<b>%{customdata}</b><br> Likes per video: %{x:.0f} <br> Dislikes per video: %{y:.0f}<br> Median Views: %{marker.size:.0f}",
         "hovertext": [
          "Belgium"
         ],
         "legendgroup": "BE",
         "marker": {
          "color": "#FF97FF",
          "size": [
           3488
          ],
          "sizemode": "area",
          "sizeref": 14.5008,
          "symbol": "circle"
         },
         "mode": "markers+text",
         "name": "BE",
         "orientation": "v",
         "showlegend": true,
         "text": [
          "BE"
         ],
         "textfont": {
          "color": "white",
          "size": 12
         },
         "textposition": "middle center",
         "type": "scatter",
         "x": [
          0.0000033334803534286246
         ],
         "xaxis": "x",
         "y": [
          1.2296982598762747e-7
         ],
         "yaxis": "y"
        },
        {
         "customdata": [
          [
           "Bulgaria"
          ]
         ],
         "hovertemplate": "<b>%{customdata}</b><br> Likes per video: %{x:.0f} <br> Dislikes per video: %{y:.0f}<br> Median Views: %{marker.size:.0f}",
         "hovertext": [
          "Bulgaria"
         ],
         "legendgroup": "BG",
         "marker": {
          "color": "#FECB52",
          "size": [
           1014
          ],
          "sizemode": "area",
          "sizeref": 14.5008,
          "symbol": "circle"
         },
         "mode": "markers+text",
         "name": "BG",
         "orientation": "v",
         "showlegend": true,
         "text": [
          "BG"
         ],
         "textfont": {
          "color": "white",
          "size": 12
         },
         "textposition": "middle center",
         "type": "scatter",
         "x": [
          0.000008397960221015081
         ],
         "xaxis": "x",
         "y": [
          3.1703763334606354e-8
         ],
         "yaxis": "y"
        },
        {
         "customdata": [
          [
           "Bermuda"
          ]
         ],
         "hovertemplate": "<b>%{customdata}</b><br> Likes per video: %{x:.0f} <br> Dislikes per video: %{y:.0f}<br> Median Views: %{marker.size:.0f}",
         "hovertext": [
          "Bermuda"
         ],
         "legendgroup": "BM",
         "marker": {
          "color": "#636efa",
          "size": [
           1411.5
          ],
          "sizemode": "area",
          "sizeref": 14.5008,
          "symbol": "circle"
         },
         "mode": "markers+text",
         "name": "BM",
         "orientation": "v",
         "showlegend": true,
         "text": [
          "BM"
         ],
         "textfont": {
          "color": "white",
          "size": 12
         },
         "textposition": "middle center",
         "type": "scatter",
         "x": [
          0.0003714099994145778
         ],
         "xaxis": "x",
         "y": [
          0.00001880565697134975
         ],
         "yaxis": "y"
        },
        {
         "customdata": [
          [
           "Brazil"
          ]
         ],
         "hovertemplate": "<b>%{customdata}</b><br> Likes per video: %{x:.0f} <br> Dislikes per video: %{y:.0f}<br> Median Views: %{marker.size:.0f}",
         "hovertext": [
          "Brazil"
         ],
         "legendgroup": "BR",
         "marker": {
          "color": "#EF553B",
          "size": [
           5005
          ],
          "sizemode": "area",
          "sizeref": 14.5008,
          "symbol": "circle"
         },
         "mode": "markers+text",
         "name": "BR",
         "orientation": "v",
         "showlegend": true,
         "text": [
          "BR"
         ],
         "textfont": {
          "color": "white",
          "size": 12
         },
         "textposition": "middle center",
         "type": "scatter",
         "x": [
          0.000008940363610711584
         ],
         "xaxis": "x",
         "y": [
          1.5424948659022448e-7
         ],
         "yaxis": "y"
        },
        {
         "customdata": [
          [
           "Bahamas"
          ]
         ],
         "hovertemplate": "<b>%{customdata}</b><br> Likes per video: %{x:.0f} <br> Dislikes per video: %{y:.0f}<br> Median Views: %{marker.size:.0f}",
         "hovertext": [
          "Bahamas"
         ],
         "legendgroup": "BS",
         "marker": {
          "color": "#00cc96",
          "size": [
           919
          ],
          "sizemode": "area",
          "sizeref": 14.5008,
          "symbol": "circle"
         },
         "mode": "markers+text",
         "name": "BS",
         "orientation": "v",
         "showlegend": true,
         "text": [
          "BS"
         ],
         "textfont": {
          "color": "white",
          "size": 12
         },
         "textposition": "middle center",
         "type": "scatter",
         "x": [
          0.00003006778083263993
         ],
         "xaxis": "x",
         "y": [
          0
         ],
         "yaxis": "y"
        },
        {
         "customdata": [
          [
           "Belize"
          ]
         ],
         "hovertemplate": "<b>%{customdata}</b><br> Likes per video: %{x:.0f} <br> Dislikes per video: %{y:.0f}<br> Median Views: %{marker.size:.0f}",
         "hovertext": [
          "Belize"
         ],
         "legendgroup": "BZ",
         "marker": {
          "color": "#ab63fa",
          "size": [
           4150
          ],
          "sizemode": "area",
          "sizeref": 14.5008,
          "symbol": "circle"
         },
         "mode": "markers+text",
         "name": "BZ",
         "orientation": "v",
         "showlegend": true,
         "text": [
          "BZ"
         ],
         "textfont": {
          "color": "white",
          "size": 12
         },
         "textposition": "middle center",
         "type": "scatter",
         "x": [
          0.000014384199349311128
         ],
         "xaxis": "x",
         "y": [
          0.0000015621289943638385
         ],
         "yaxis": "y"
        },
        {
         "customdata": [
          [
           "Canada"
          ]
         ],
         "hovertemplate": "<b>%{customdata}</b><br> Likes per video: %{x:.0f} <br> Dislikes per video: %{y:.0f}<br> Median Views: %{marker.size:.0f}",
         "hovertext": [
          "Canada"
         ],
         "legendgroup": "CA",
         "marker": {
          "color": "#FFA15A",
          "size": [
           2316
          ],
          "sizemode": "area",
          "sizeref": 14.5008,
          "symbol": "circle"
         },
         "mode": "markers+text",
         "name": "CA",
         "orientation": "v",
         "showlegend": true,
         "text": [
          "CA"
         ],
         "textfont": {
          "color": "white",
          "size": 12
         },
         "textposition": "middle center",
         "type": "scatter",
         "x": [
          1.3167575559994757e-7
         ],
         "xaxis": "x",
         "y": [
          3.0361008789451322e-9
         ],
         "yaxis": "y"
        },
        {
         "customdata": [
          [
           "Switzerland"
          ]
         ],
         "hovertemplate": "<b>%{customdata}</b><br> Likes per video: %{x:.0f} <br> Dislikes per video: %{y:.0f}<br> Median Views: %{marker.size:.0f}",
         "hovertext": [
          "Switzerland"
         ],
         "legendgroup": "CH",
         "marker": {
          "color": "#19d3f3",
          "size": [
           1053
          ],
          "sizemode": "area",
          "sizeref": 14.5008,
          "symbol": "circle"
         },
         "mode": "markers+text",
         "name": "CH",
         "orientation": "v",
         "showlegend": true,
         "text": [
          "CH"
         ],
         "textfont": {
          "color": "white",
          "size": 12
         },
         "textposition": "middle center",
         "type": "scatter",
         "x": [
          7.603360521585853e-7
         ],
         "xaxis": "x",
         "y": [
          0
         ],
         "yaxis": "y"
        },
        {
         "customdata": [
          [
           "Chile"
          ]
         ],
         "hovertemplate": "<b>%{customdata}</b><br> Likes per video: %{x:.0f} <br> Dislikes per video: %{y:.0f}<br> Median Views: %{marker.size:.0f}",
         "hovertext": [
          "Chile"
         ],
         "legendgroup": "CL",
         "marker": {
          "color": "#FF6692",
          "size": [
           3632
          ],
          "sizemode": "area",
          "sizeref": 14.5008,
          "symbol": "circle"
         },
         "mode": "markers+text",
         "name": "CL",
         "orientation": "v",
         "showlegend": true,
         "text": [
          "CL"
         ],
         "textfont": {
          "color": "white",
          "size": 12
         },
         "textposition": "middle center",
         "type": "scatter",
         "x": [
          0.000039979208731547296
         ],
         "xaxis": "x",
         "y": [
          0.0000021384612157526086
         ],
         "yaxis": "y"
        },
        {
         "customdata": [
          [
           "China"
          ]
         ],
         "hovertemplate": "<b>%{customdata}</b><br> Likes per video: %{x:.0f} <br> Dislikes per video: %{y:.0f}<br> Median Views: %{marker.size:.0f}",
         "hovertext": [
          "China"
         ],
         "legendgroup": "CN",
         "marker": {
          "color": "#B6E880",
          "size": [
           1717
          ],
          "sizemode": "area",
          "sizeref": 14.5008,
          "symbol": "circle"
         },
         "mode": "markers+text",
         "name": "CN",
         "orientation": "v",
         "showlegend": true,
         "text": [
          "CN"
         ],
         "textfont": {
          "color": "white",
          "size": 12
         },
         "textposition": "middle center",
         "type": "scatter",
         "x": [
          0.000017559841414289737
         ],
         "xaxis": "x",
         "y": [
          2.4509569638917664e-7
         ],
         "yaxis": "y"
        },
        {
         "customdata": [
          [
           "Colombia"
          ]
         ],
         "hovertemplate": "<b>%{customdata}</b><br> Likes per video: %{x:.0f} <br> Dislikes per video: %{y:.0f}<br> Median Views: %{marker.size:.0f}",
         "hovertext": [
          "Colombia"
         ],
         "legendgroup": "CO",
         "marker": {
          "color": "#FF97FF",
          "size": [
           24702
          ],
          "sizemode": "area",
          "sizeref": 14.5008,
          "symbol": "circle"
         },
         "mode": "markers+text",
         "name": "CO",
         "orientation": "v",
         "showlegend": true,
         "text": [
          "CO"
         ],
         "textfont": {
          "color": "white",
          "size": 12
         },
         "textposition": "middle center",
         "type": "scatter",
         "x": [
          0.000027757177741929473
         ],
         "xaxis": "x",
         "y": [
          8.207958962966271e-7
         ],
         "yaxis": "y"
        },
        {
         "customdata": [
          [
           "Costa Rica"
          ]
         ],
         "hovertemplate": "<b>%{customdata}</b><br> Likes per video: %{x:.0f} <br> Dislikes per video: %{y:.0f}<br> Median Views: %{marker.size:.0f}",
         "hovertext": [
          "Costa Rica"
         ],
         "legendgroup": "CR",
         "marker": {
          "color": "#FECB52",
          "size": [
           4732
          ],
          "sizemode": "area",
          "sizeref": 14.5008,
          "symbol": "circle"
         },
         "mode": "markers+text",
         "name": "CR",
         "orientation": "v",
         "showlegend": true,
         "text": [
          "CR"
         ],
         "textfont": {
          "color": "white",
          "size": 12
         },
         "textposition": "middle center",
         "type": "scatter",
         "x": [
          0.00004697114854482522
         ],
         "xaxis": "x",
         "y": [
          0.0000011569875976714467
         ],
         "yaxis": "y"
        },
        {
         "customdata": [
          [
           "Cyprus"
          ]
         ],
         "hovertemplate": "<b>%{customdata}</b><br> Likes per video: %{x:.0f} <br> Dislikes per video: %{y:.0f}<br> Median Views: %{marker.size:.0f}",
         "hovertext": [
          "Cyprus"
         ],
         "legendgroup": "CY",
         "marker": {
          "color": "#636efa",
          "size": [
           150
          ],
          "sizemode": "area",
          "sizeref": 14.5008,
          "symbol": "circle"
         },
         "mode": "markers+text",
         "name": "CY",
         "orientation": "v",
         "showlegend": true,
         "text": [
          "CY"
         ],
         "textfont": {
          "color": "white",
          "size": 12
         },
         "textposition": "middle center",
         "type": "scatter",
         "x": [
          0.0000018647253632485007
         ],
         "xaxis": "x",
         "y": [
          0
         ],
         "yaxis": "y"
        },
        {
         "customdata": [
          [
           "Czechia"
          ]
         ],
         "hovertemplate": "<b>%{customdata}</b><br> Likes per video: %{x:.0f} <br> Dislikes per video: %{y:.0f}<br> Median Views: %{marker.size:.0f}",
         "hovertext": [
          "Czechia"
         ],
         "legendgroup": "CZ",
         "marker": {
          "color": "#EF553B",
          "size": [
           6215
          ],
          "sizemode": "area",
          "sizeref": 14.5008,
          "symbol": "circle"
         },
         "mode": "markers+text",
         "name": "CZ",
         "orientation": "v",
         "showlegend": true,
         "text": [
          "CZ"
         ],
         "textfont": {
          "color": "white",
          "size": 12
         },
         "textposition": "middle center",
         "type": "scatter",
         "x": [
          0.0000064233992433663385
         ],
         "xaxis": "x",
         "y": [
          4.80096467426735e-7
         ],
         "yaxis": "y"
        },
        {
         "customdata": [
          [
           "Germany"
          ]
         ],
         "hovertemplate": "<b>%{customdata}</b><br> Likes per video: %{x:.0f} <br> Dislikes per video: %{y:.0f}<br> Median Views: %{marker.size:.0f}",
         "hovertext": [
          "Germany"
         ],
         "legendgroup": "DE",
         "marker": {
          "color": "#00cc96",
          "size": [
           3585
          ],
          "sizemode": "area",
          "sizeref": 14.5008,
          "symbol": "circle"
         },
         "mode": "markers+text",
         "name": "DE",
         "orientation": "v",
         "showlegend": true,
         "text": [
          "DE"
         ],
         "textfont": {
          "color": "white",
          "size": 12
         },
         "textposition": "middle center",
         "type": "scatter",
         "x": [
          6.274922250309229e-7
         ],
         "xaxis": "x",
         "y": [
          1.2371783675832671e-8
         ],
         "yaxis": "y"
        },
        {
         "customdata": [
          [
           "Denmark"
          ]
         ],
         "hovertemplate": "<b>%{customdata}</b><br> Likes per video: %{x:.0f} <br> Dislikes per video: %{y:.0f}<br> Median Views: %{marker.size:.0f}",
         "hovertext": [
          "Denmark"
         ],
         "legendgroup": "DK",
         "marker": {
          "color": "#ab63fa",
          "size": [
           2034
          ],
          "sizemode": "area",
          "sizeref": 14.5008,
          "symbol": "circle"
         },
         "mode": "markers+text",
         "name": "DK",
         "orientation": "v",
         "showlegend": true,
         "text": [
          "DK"
         ],
         "textfont": {
          "color": "white",
          "size": 12
         },
         "textposition": "middle center",
         "type": "scatter",
         "x": [
          0.000004503489862428713
         ],
         "xaxis": "x",
         "y": [
          7.64546503373393e-8
         ],
         "yaxis": "y"
        },
        {
         "customdata": [
          [
           "Algeria"
          ]
         ],
         "hovertemplate": "<b>%{customdata}</b><br> Likes per video: %{x:.0f} <br> Dislikes per video: %{y:.0f}<br> Median Views: %{marker.size:.0f}",
         "hovertext": [
          "Algeria"
         ],
         "legendgroup": "DZ",
         "marker": {
          "color": "#FFA15A",
          "size": [
           6820
          ],
          "sizemode": "area",
          "sizeref": 14.5008,
          "symbol": "circle"
         },
         "mode": "markers+text",
         "name": "DZ",
         "orientation": "v",
         "showlegend": true,
         "text": [
          "DZ"
         ],
         "textfont": {
          "color": "white",
          "size": 12
         },
         "textposition": "middle center",
         "type": "scatter",
         "x": [
          0.0001949317738791423
         ],
         "xaxis": "x",
         "y": [
          0.0000043527750028837135
         ],
         "yaxis": "y"
        },
        {
         "customdata": [
          [
           "Estonia"
          ]
         ],
         "hovertemplate": "<b>%{customdata}</b><br> Likes per video: %{x:.0f} <br> Dislikes per video: %{y:.0f}<br> Median Views: %{marker.size:.0f}",
         "hovertext": [
          "Estonia"
         ],
         "legendgroup": "EE",
         "marker": {
          "color": "#19d3f3",
          "size": [
           10445
          ],
          "sizemode": "area",
          "sizeref": 14.5008,
          "symbol": "circle"
         },
         "mode": "markers+text",
         "name": "EE",
         "orientation": "v",
         "showlegend": true,
         "text": [
          "EE"
         ],
         "textfont": {
          "color": "white",
          "size": 12
         },
         "textposition": "middle center",
         "type": "scatter",
         "x": [
          0.00003295017613281293
         ],
         "xaxis": "x",
         "y": [
          8.701572606211878e-7
         ],
         "yaxis": "y"
        },
        {
         "customdata": [
          [
           "Egypt"
          ]
         ],
         "hovertemplate": "<b>%{customdata}</b><br> Likes per video: %{x:.0f} <br> Dislikes per video: %{y:.0f}<br> Median Views: %{marker.size:.0f}",
         "hovertext": [
          "Egypt"
         ],
         "legendgroup": "EG",
         "marker": {
          "color": "#FF6692",
          "size": [
           2340
          ],
          "sizemode": "area",
          "sizeref": 14.5008,
          "symbol": "circle"
         },
         "mode": "markers+text",
         "name": "EG",
         "orientation": "v",
         "showlegend": true,
         "text": [
          "EG"
         ],
         "textfont": {
          "color": "white",
          "size": 12
         },
         "textposition": "middle center",
         "type": "scatter",
         "x": [
          0.000008849833082314919
         ],
         "xaxis": "x",
         "y": [
          2.1616688342800904e-7
         ],
         "yaxis": "y"
        },
        {
         "customdata": [
          [
           "Spain"
          ]
         ],
         "hovertemplate": "<b>%{customdata}</b><br> Likes per video: %{x:.0f} <br> Dislikes per video: %{y:.0f}<br> Median Views: %{marker.size:.0f}",
         "hovertext": [
          "Spain"
         ],
         "legendgroup": "ES",
         "marker": {
          "color": "#B6E880",
          "size": [
           3010
          ],
          "sizemode": "area",
          "sizeref": 14.5008,
          "symbol": "circle"
         },
         "mode": "markers+text",
         "name": "ES",
         "orientation": "v",
         "showlegend": true,
         "text": [
          "ES"
         ],
         "textfont": {
          "color": "white",
          "size": 12
         },
         "textposition": "middle center",
         "type": "scatter",
         "x": [
          8.636181809037702e-7
         ],
         "xaxis": "x",
         "y": [
          3.4877209645680794e-8
         ],
         "yaxis": "y"
        },
        {
         "customdata": [
          [
           "Finland"
          ]
         ],
         "hovertemplate": "<b>%{customdata}</b><br> Likes per video: %{x:.0f} <br> Dislikes per video: %{y:.0f}<br> Median Views: %{marker.size:.0f}",
         "hovertext": [
          "Finland"
         ],
         "legendgroup": "FI",
         "marker": {
          "color": "#FF97FF",
          "size": [
           2692
          ],
          "sizemode": "area",
          "sizeref": 14.5008,
          "symbol": "circle"
         },
         "mode": "markers+text",
         "name": "FI",
         "orientation": "v",
         "showlegend": true,
         "text": [
          "FI"
         ],
         "textfont": {
          "color": "white",
          "size": 12
         },
         "textposition": "middle center",
         "type": "scatter",
         "x": [
          0.000005799370867776678
         ],
         "xaxis": "x",
         "y": [
          1.3579424184886575e-7
         ],
         "yaxis": "y"
        },
        {
         "customdata": [
          [
           "Falkland Islands (Malvinas)"
          ]
         ],
         "hovertemplate": "<b>%{customdata}</b><br> Likes per video: %{x:.0f} <br> Dislikes per video: %{y:.0f}<br> Median Views: %{marker.size:.0f}",
         "hovertext": [
          "Falkland Islands (Malvinas)"
         ],
         "legendgroup": "FK",
         "marker": {
          "color": "#FECB52",
          "size": [
           1164
          ],
          "sizemode": "area",
          "sizeref": 14.5008,
          "symbol": "circle"
         },
         "mode": "markers+text",
         "name": "FK",
         "orientation": "v",
         "showlegend": true,
         "text": [
          "FK"
         ],
         "textfont": {
          "color": "white",
          "size": 12
         },
         "textposition": "middle center",
         "type": "scatter",
         "x": [
          0.00024468023800166926
         ],
         "xaxis": "x",
         "y": [
          0
         ],
         "yaxis": "y"
        },
        {
         "customdata": [
          [
           "France"
          ]
         ],
         "hovertemplate": "<b>%{customdata}</b><br> Likes per video: %{x:.0f} <br> Dislikes per video: %{y:.0f}<br> Median Views: %{marker.size:.0f}",
         "hovertext": [
          "France"
         ],
         "legendgroup": "FR",
         "marker": {
          "color": "#636efa",
          "size": [
           3469
          ],
          "sizemode": "area",
          "sizeref": 14.5008,
          "symbol": "circle"
         },
         "mode": "markers+text",
         "name": "FR",
         "orientation": "v",
         "showlegend": true,
         "text": [
          "FR"
         ],
         "textfont": {
          "color": "white",
          "size": 12
         },
         "textposition": "middle center",
         "type": "scatter",
         "x": [
          0.000001049256500825277
         ],
         "xaxis": "x",
         "y": [
          2.9561936370898e-8
         ],
         "yaxis": "y"
        },
        {
         "customdata": [
          [
           "United Kingdom"
          ]
         ],
         "hovertemplate": "<b>%{customdata}</b><br> Likes per video: %{x:.0f} <br> Dislikes per video: %{y:.0f}<br> Median Views: %{marker.size:.0f}",
         "hovertext": [
          "United Kingdom"
         ],
         "legendgroup": "GB",
         "marker": {
          "color": "#EF553B",
          "size": [
           2526
          ],
          "sizemode": "area",
          "sizeref": 14.5008,
          "symbol": "circle"
         },
         "mode": "markers+text",
         "name": "GB",
         "orientation": "v",
         "showlegend": true,
         "text": [
          "GB"
         ],
         "textfont": {
          "color": "white",
          "size": 12
         },
         "textposition": "middle center",
         "type": "scatter",
         "x": [
          5.183827721282759e-8
         ],
         "xaxis": "x",
         "y": [
          1.0694796851530773e-9
         ],
         "yaxis": "y"
        },
        {
         "customdata": [
          [
           "Georgia"
          ]
         ],
         "hovertemplate": "<b>%{customdata}</b><br> Likes per video: %{x:.0f} <br> Dislikes per video: %{y:.0f}<br> Median Views: %{marker.size:.0f}",
         "hovertext": [
          "Georgia"
         ],
         "legendgroup": "GE",
         "marker": {
          "color": "#00cc96",
          "size": [
           1379.5
          ],
          "sizemode": "area",
          "sizeref": 14.5008,
          "symbol": "circle"
         },
         "mode": "markers+text",
         "name": "GE",
         "orientation": "v",
         "showlegend": true,
         "text": [
          "GE"
         ],
         "textfont": {
          "color": "white",
          "size": 12
         },
         "textposition": "middle center",
         "type": "scatter",
         "x": [
          0.00010859948816652464
         ],
         "xaxis": "x",
         "y": [
          6.297670816141381e-7
         ],
         "yaxis": "y"
        },
        {
         "customdata": [
          [
           "Ghana"
          ]
         ],
         "hovertemplate": "<b>%{customdata}</b><br> Likes per video: %{x:.0f} <br> Dislikes per video: %{y:.0f}<br> Median Views: %{marker.size:.0f}",
         "hovertext": [
          "Ghana"
         ],
         "legendgroup": "GH",
         "marker": {
          "color": "#ab63fa",
          "size": [
           369
          ],
          "sizemode": "area",
          "sizeref": 14.5008,
          "symbol": "circle"
         },
         "mode": "markers+text",
         "name": "GH",
         "orientation": "v",
         "showlegend": true,
         "text": [
          "GH"
         ],
         "textfont": {
          "color": "white",
          "size": 12
         },
         "textposition": "middle center",
         "type": "scatter",
         "x": [
          0.0000016139906181734613
         ],
         "xaxis": "x",
         "y": [
          0
         ],
         "yaxis": "y"
        },
        {
         "customdata": [
          [
           "Greece"
          ]
         ],
         "hovertemplate": "<b>%{customdata}</b><br> Likes per video: %{x:.0f} <br> Dislikes per video: %{y:.0f}<br> Median Views: %{marker.size:.0f}",
         "hovertext": [
          "Greece"
         ],
         "legendgroup": "GR",
         "marker": {
          "color": "#FFA15A",
          "size": [
           1443
          ],
          "sizemode": "area",
          "sizeref": 14.5008,
          "symbol": "circle"
         },
         "mode": "markers+text",
         "name": "GR",
         "orientation": "v",
         "showlegend": true,
         "text": [
          "GR"
         ],
         "textfont": {
          "color": "white",
          "size": 12
         },
         "textposition": "middle center",
         "type": "scatter",
         "x": [
          0.000006361646903150287
         ],
         "xaxis": "x",
         "y": [
          5.8936708537182247e-8
         ],
         "yaxis": "y"
        },
        {
         "customdata": [
          [
           "Hong Kong"
          ]
         ],
         "hovertemplate": "<b>%{customdata}</b><br> Likes per video: %{x:.0f} <br> Dislikes per video: %{y:.0f}<br> Median Views: %{marker.size:.0f}",
         "hovertext": [
          "Hong Kong"
         ],
         "legendgroup": "HK",
         "marker": {
          "color": "#19d3f3",
          "size": [
           4626
          ],
          "sizemode": "area",
          "sizeref": 14.5008,
          "symbol": "circle"
         },
         "mode": "markers+text",
         "name": "HK",
         "orientation": "v",
         "showlegend": true,
         "text": [
          "HK"
         ],
         "textfont": {
          "color": "white",
          "size": 12
         },
         "textposition": "middle center",
         "type": "scatter",
         "x": [
          0.000008105115580991766
         ],
         "xaxis": "x",
         "y": [
          2.0407951972815334e-7
         ],
         "yaxis": "y"
        },
        {
         "customdata": [
          [
           "Croatia"
          ]
         ],
         "hovertemplate": "<b>%{customdata}</b><br> Likes per video: %{x:.0f} <br> Dislikes per video: %{y:.0f}<br> Median Views: %{marker.size:.0f}",
         "hovertext": [
          "Croatia"
         ],
         "legendgroup": "HR",
         "marker": {
          "color": "#FF6692",
          "size": [
           4888.5
          ],
          "sizemode": "area",
          "sizeref": 14.5008,
          "symbol": "circle"
         },
         "mode": "markers+text",
         "name": "HR",
         "orientation": "v",
         "showlegend": true,
         "text": [
          "HR"
         ],
         "textfont": {
          "color": "white",
          "size": 12
         },
         "textposition": "middle center",
         "type": "scatter",
         "x": [
          0.00003949273405697035
         ],
         "xaxis": "x",
         "y": [
          7.7531004518676e-7
         ],
         "yaxis": "y"
        },
        {
         "customdata": [
          [
           "Hungary"
          ]
         ],
         "hovertemplate": "<b>%{customdata}</b><br> Likes per video: %{x:.0f} <br> Dislikes per video: %{y:.0f}<br> Median Views: %{marker.size:.0f}",
         "hovertext": [
          "Hungary"
         ],
         "legendgroup": "HU",
         "marker": {
          "color": "#B6E880",
          "size": [
           6780
          ],
          "sizemode": "area",
          "sizeref": 14.5008,
          "symbol": "circle"
         },
         "mode": "markers+text",
         "name": "HU",
         "orientation": "v",
         "showlegend": true,
         "text": [
          "HU"
         ],
         "textfont": {
          "color": "white",
          "size": 12
         },
         "textposition": "middle center",
         "type": "scatter",
         "x": [
          0.000013413417567510846
         ],
         "xaxis": "x",
         "y": [
          3.35992678901561e-7
         ],
         "yaxis": "y"
        },
        {
         "customdata": [
          [
           "Indonesia"
          ]
         ],
         "hovertemplate": "<b>%{customdata}</b><br> Likes per video: %{x:.0f} <br> Dislikes per video: %{y:.0f}<br> Median Views: %{marker.size:.0f}",
         "hovertext": [
          "Indonesia"
         ],
         "legendgroup": "ID",
         "marker": {
          "color": "#FF97FF",
          "size": [
           2891.5
          ],
          "sizemode": "area",
          "sizeref": 14.5008,
          "symbol": "circle"
         },
         "mode": "markers+text",
         "name": "ID",
         "orientation": "v",
         "showlegend": true,
         "text": [
          "ID"
         ],
         "textfont": {
          "color": "white",
          "size": 12
         },
         "textposition": "middle center",
         "type": "scatter",
         "x": [
          0.0000025059657645296477
         ],
         "xaxis": "x",
         "y": [
          4.779805228785598e-8
         ],
         "yaxis": "y"
        },
        {
         "customdata": [
          [
           "Ireland"
          ]
         ],
         "hovertemplate": "<b>%{customdata}</b><br> Likes per video: %{x:.0f} <br> Dislikes per video: %{y:.0f}<br> Median Views: %{marker.size:.0f}",
         "hovertext": [
          "Ireland"
         ],
         "legendgroup": "IE",
         "marker": {
          "color": "#FECB52",
          "size": [
           3442
          ],
          "sizemode": "area",
          "sizeref": 14.5008,
          "symbol": "circle"
         },
         "mode": "markers+text",
         "name": "IE",
         "orientation": "v",
         "showlegend": true,
         "text": [
          "IE"
         ],
         "textfont": {
          "color": "white",
          "size": 12
         },
         "textposition": "middle center",
         "type": "scatter",
         "x": [
          0.00000611573293894224
         ],
         "xaxis": "x",
         "y": [
          1.4499494004121395e-7
         ],
         "yaxis": "y"
        },
        {
         "customdata": [
          [
           "Israel"
          ]
         ],
         "hovertemplate": "<b>%{customdata}</b><br> Likes per video: %{x:.0f} <br> Dislikes per video: %{y:.0f}<br> Median Views: %{marker.size:.0f}",
         "hovertext": [
          "Israel"
         ],
         "legendgroup": "IL",
         "marker": {
          "color": "#636efa",
          "size": [
           1165
          ],
          "sizemode": "area",
          "sizeref": 14.5008,
          "symbol": "circle"
         },
         "mode": "markers+text",
         "name": "IL",
         "orientation": "v",
         "showlegend": true,
         "text": [
          "IL"
         ],
         "textfont": {
          "color": "white",
          "size": 12
         },
         "textposition": "middle center",
         "type": "scatter",
         "x": [
          4.564075975434318e-7
         ],
         "xaxis": "x",
         "y": [
          2.8952813171419644e-8
         ],
         "yaxis": "y"
        },
        {
         "customdata": [
          [
           "Isle of Man"
          ]
         ],
         "hovertemplate": "<b>%{customdata}</b><br> Likes per video: %{x:.0f} <br> Dislikes per video: %{y:.0f}<br> Median Views: %{marker.size:.0f}",
         "hovertext": [
          "Isle of Man"
         ],
         "legendgroup": "IM",
         "marker": {
          "color": "#EF553B",
          "size": [
           1204
          ],
          "sizemode": "area",
          "sizeref": 14.5008,
          "symbol": "circle"
         },
         "mode": "markers+text",
         "name": "IM",
         "orientation": "v",
         "showlegend": true,
         "text": [
          "IM"
         ],
         "textfont": {
          "color": "white",
          "size": 12
         },
         "textposition": "middle center",
         "type": "scatter",
         "x": [
          0.000003350138686925484
         ],
         "xaxis": "x",
         "y": [
          0
         ],
         "yaxis": "y"
        },
        {
         "customdata": [
          [
           "India"
          ]
         ],
         "hovertemplate": "<b>%{customdata}</b><br> Likes per video: %{x:.0f} <br> Dislikes per video: %{y:.0f}<br> Median Views: %{marker.size:.0f}",
         "hovertext": [
          "India"
         ],
         "legendgroup": "IN",
         "marker": {
          "color": "#00cc96",
          "size": [
           3427
          ],
          "sizemode": "area",
          "sizeref": 14.5008,
          "symbol": "circle"
         },
         "mode": "markers+text",
         "name": "IN",
         "orientation": "v",
         "showlegend": true,
         "text": [
          "IN"
         ],
         "textfont": {
          "color": "white",
          "size": 12
         },
         "textposition": "middle center",
         "type": "scatter",
         "x": [
          2.2860568689882084e-8
         ],
         "xaxis": "x",
         "y": [
          1.0494055075823327e-9
         ],
         "yaxis": "y"
        },
        {
         "customdata": [
          [
           "Iraq"
          ]
         ],
         "hovertemplate": "<b>%{customdata}</b><br> Likes per video: %{x:.0f} <br> Dislikes per video: %{y:.0f}<br> Median Views: %{marker.size:.0f}",
         "hovertext": [
          "Iraq"
         ],
         "legendgroup": "IQ",
         "marker": {
          "color": "#ab63fa",
          "size": [
           6147
          ],
          "sizemode": "area",
          "sizeref": 14.5008,
          "symbol": "circle"
         },
         "mode": "markers+text",
         "name": "IQ",
         "orientation": "v",
         "showlegend": true,
         "text": [
          "IQ"
         ],
         "textfont": {
          "color": "white",
          "size": 12
         },
         "textposition": "middle center",
         "type": "scatter",
         "x": [
          0.00018517896470316672
         ],
         "xaxis": "x",
         "y": [
          0.0000059171122463513605
         ],
         "yaxis": "y"
        },
        {
         "customdata": [
          [
           "Italy"
          ]
         ],
         "hovertemplate": "<b>%{customdata}</b><br> Likes per video: %{x:.0f} <br> Dislikes per video: %{y:.0f}<br> Median Views: %{marker.size:.0f}",
         "hovertext": [
          "Italy"
         ],
         "legendgroup": "IT",
         "marker": {
          "color": "#FFA15A",
          "size": [
           2399
          ],
          "sizemode": "area",
          "sizeref": 14.5008,
          "symbol": "circle"
         },
         "mode": "markers+text",
         "name": "IT",
         "orientation": "v",
         "showlegend": true,
         "text": [
          "IT"
         ],
         "textfont": {
          "color": "white",
          "size": 12
         },
         "textposition": "middle center",
         "type": "scatter",
         "x": [
          0.0000015637094315134362
         ],
         "xaxis": "x",
         "y": [
          4.132603155337877e-8
         ],
         "yaxis": "y"
        },
        {
         "customdata": [
          [
           "Jamaica"
          ]
         ],
         "hovertemplate": "<b>%{customdata}</b><br> Likes per video: %{x:.0f} <br> Dislikes per video: %{y:.0f}<br> Median Views: %{marker.size:.0f}",
         "hovertext": [
          "Jamaica"
         ],
         "legendgroup": "JM",
         "marker": {
          "color": "#19d3f3",
          "size": [
           1686.5
          ],
          "sizemode": "area",
          "sizeref": 14.5008,
          "symbol": "circle"
         },
         "mode": "markers+text",
         "name": "JM",
         "orientation": "v",
         "showlegend": true,
         "text": [
          "JM"
         ],
         "textfont": {
          "color": "white",
          "size": 12
         },
         "textposition": "middle center",
         "type": "scatter",
         "x": [
          0.000025724914507062796
         ],
         "xaxis": "x",
         "y": [
          6.092007660778731e-7
         ],
         "yaxis": "y"
        },
        {
         "customdata": [
          [
           "Japan"
          ]
         ],
         "hovertemplate": "<b>%{customdata}</b><br> Likes per video: %{x:.0f} <br> Dislikes per video: %{y:.0f}<br> Median Views: %{marker.size:.0f}",
         "hovertext": [
          "Japan"
         ],
         "legendgroup": "JP",
         "marker": {
          "color": "#FF6692",
          "size": [
           15093
          ],
          "sizemode": "area",
          "sizeref": 14.5008,
          "symbol": "circle"
         },
         "mode": "markers+text",
         "name": "JP",
         "orientation": "v",
         "showlegend": true,
         "text": [
          "JP"
         ],
         "textfont": {
          "color": "white",
          "size": 12
         },
         "textposition": "middle center",
         "type": "scatter",
         "x": [
          0.0000018388706691880706
         ],
         "xaxis": "x",
         "y": [
          4.550473151769418e-8
         ],
         "yaxis": "y"
        },
        {
         "customdata": [
          [
           "Kenya"
          ]
         ],
         "hovertemplate": "<b>%{customdata}</b><br> Likes per video: %{x:.0f} <br> Dislikes per video: %{y:.0f}<br> Median Views: %{marker.size:.0f}",
         "hovertext": [
          "Kenya"
         ],
         "legendgroup": "KE",
         "marker": {
          "color": "#B6E880",
          "size": [
           284
          ],
          "sizemode": "area",
          "sizeref": 14.5008,
          "symbol": "circle"
         },
         "mode": "markers+text",
         "name": "KE",
         "orientation": "v",
         "showlegend": true,
         "text": [
          "KE"
         ],
         "textfont": {
          "color": "white",
          "size": 12
         },
         "textposition": "middle center",
         "type": "scatter",
         "x": [
          0.0000010864541459377818
         ],
         "xaxis": "x",
         "y": [
          0
         ],
         "yaxis": "y"
        },
        {
         "customdata": [
          [
           "Cambodia"
          ]
         ],
         "hovertemplate": "<b>%{customdata}</b><br> Likes per video: %{x:.0f} <br> Dislikes per video: %{y:.0f}<br> Median Views: %{marker.size:.0f}",
         "hovertext": [
          "Cambodia"
         ],
         "legendgroup": "KH",
         "marker": {
          "color": "#FF97FF",
          "size": [
           16049
          ],
          "sizemode": "area",
          "sizeref": 14.5008,
          "symbol": "circle"
         },
         "mode": "markers+text",
         "name": "KH",
         "orientation": "v",
         "showlegend": true,
         "text": [
          "KH"
         ],
         "textfont": {
          "color": "white",
          "size": 12
         },
         "textposition": "middle center",
         "type": "scatter",
         "x": [
          0.00000518790638200643
         ],
         "xaxis": "x",
         "y": [
          2.667365723522726e-7
         ],
         "yaxis": "y"
        },
        {
         "customdata": [
          [
           "Korea, Republic of"
          ]
         ],
         "hovertemplate": "<b>%{customdata}</b><br> Likes per video: %{x:.0f} <br> Dislikes per video: %{y:.0f}<br> Median Views: %{marker.size:.0f}",
         "hovertext": [
          "Korea, Republic of"
         ],
         "legendgroup": "KR",
         "marker": {
          "color": "#FECB52",
          "size": [
           22876
          ],
          "sizemode": "area",
          "sizeref": 14.5008,
          "symbol": "circle"
         },
         "mode": "markers+text",
         "name": "KR",
         "orientation": "v",
         "showlegend": true,
         "text": [
          "KR"
         ],
         "textfont": {
          "color": "white",
          "size": 12
         },
         "textposition": "middle center",
         "type": "scatter",
         "x": [
          7.123230287216107e-7
         ],
         "xaxis": "x",
         "y": [
          5.937016073693943e-8
         ],
         "yaxis": "y"
        },
        {
         "customdata": [
          [
           "Kazakhstan"
          ]
         ],
         "hovertemplate": "<b>%{customdata}</b><br> Likes per video: %{x:.0f} <br> Dislikes per video: %{y:.0f}<br> Median Views: %{marker.size:.0f}",
         "hovertext": [
          "Kazakhstan"
         ],
         "legendgroup": "KZ",
         "marker": {
          "color": "#636efa",
          "size": [
           3537.5
          ],
          "sizemode": "area",
          "sizeref": 14.5008,
          "symbol": "circle"
         },
         "mode": "markers+text",
         "name": "KZ",
         "orientation": "v",
         "showlegend": true,
         "text": [
          "KZ"
         ],
         "textfont": {
          "color": "white",
          "size": 12
         },
         "textposition": "middle center",
         "type": "scatter",
         "x": [
          0.00009161889765677995
         ],
         "xaxis": "x",
         "y": [
          0.0000022860623227171543
         ],
         "yaxis": "y"
        },
        {
         "customdata": [
          [
           "Lebanon"
          ]
         ],
         "hovertemplate": "<b>%{customdata}</b><br> Likes per video: %{x:.0f} <br> Dislikes per video: %{y:.0f}<br> Median Views: %{marker.size:.0f}",
         "hovertext": [
          "Lebanon"
         ],
         "legendgroup": "LB",
         "marker": {
          "color": "#EF553B",
          "size": [
           257
          ],
          "sizemode": "area",
          "sizeref": 14.5008,
          "symbol": "circle"
         },
         "mode": "markers+text",
         "name": "LB",
         "orientation": "v",
         "showlegend": true,
         "text": [
          "LB"
         ],
         "textfont": {
          "color": "white",
          "size": 12
         },
         "textposition": "middle center",
         "type": "scatter",
         "x": [
          0
         ],
         "xaxis": "x",
         "y": [
          0
         ],
         "yaxis": "y"
        },
        {
         "customdata": [
          [
           "Sri Lanka"
          ]
         ],
         "hovertemplate": "<b>%{customdata}</b><br> Likes per video: %{x:.0f} <br> Dislikes per video: %{y:.0f}<br> Median Views: %{marker.size:.0f}",
         "hovertext": [
          "Sri Lanka"
         ],
         "legendgroup": "LK",
         "marker": {
          "color": "#00cc96",
          "size": [
           2271
          ],
          "sizemode": "area",
          "sizeref": 14.5008,
          "symbol": "circle"
         },
         "mode": "markers+text",
         "name": "LK",
         "orientation": "v",
         "showlegend": true,
         "text": [
          "LK"
         ],
         "textfont": {
          "color": "white",
          "size": 12
         },
         "textposition": "middle center",
         "type": "scatter",
         "x": [
          0.0000040194598602552024
         ],
         "xaxis": "x",
         "y": [
          1.4170925738397342e-7
         ],
         "yaxis": "y"
        },
        {
         "customdata": [
          [
           "Lithuania"
          ]
         ],
         "hovertemplate": "<b>%{customdata}</b><br> Likes per video: %{x:.0f} <br> Dislikes per video: %{y:.0f}<br> Median Views: %{marker.size:.0f}",
         "hovertext": [
          "Lithuania"
         ],
         "legendgroup": "LT",
         "marker": {
          "color": "#ab63fa",
          "size": [
           929
          ],
          "sizemode": "area",
          "sizeref": 14.5008,
          "symbol": "circle"
         },
         "mode": "markers+text",
         "name": "LT",
         "orientation": "v",
         "showlegend": true,
         "text": [
          "LT"
         ],
         "textfont": {
          "color": "white",
          "size": 12
         },
         "textposition": "middle center",
         "type": "scatter",
         "x": [
          0.00009845502123116687
         ],
         "xaxis": "x",
         "y": [
          0.000010412591453782863
         ],
         "yaxis": "y"
        },
        {
         "customdata": [
          [
           "Luxembourg"
          ]
         ],
         "hovertemplate": "<b>%{customdata}</b><br> Likes per video: %{x:.0f} <br> Dislikes per video: %{y:.0f}<br> Median Views: %{marker.size:.0f}",
         "hovertext": [
          "Luxembourg"
         ],
         "legendgroup": "LU",
         "marker": {
          "color": "#FFA15A",
          "size": [
           3524
          ],
          "sizemode": "area",
          "sizeref": 14.5008,
          "symbol": "circle"
         },
         "mode": "markers+text",
         "name": "LU",
         "orientation": "v",
         "showlegend": true,
         "text": [
          "LU"
         ],
         "textfont": {
          "color": "white",
          "size": 12
         },
         "textposition": "middle center",
         "type": "scatter",
         "x": [
          0.00007275504758328084
         ],
         "xaxis": "x",
         "y": [
          0.000010683482326104972
         ],
         "yaxis": "y"
        },
        {
         "customdata": [
          [
           "Latvia"
          ]
         ],
         "hovertemplate": "<b>%{customdata}</b><br> Likes per video: %{x:.0f} <br> Dislikes per video: %{y:.0f}<br> Median Views: %{marker.size:.0f}",
         "hovertext": [
          "Latvia"
         ],
         "legendgroup": "LV",
         "marker": {
          "color": "#19d3f3",
          "size": [
           2326
          ],
          "sizemode": "area",
          "sizeref": 14.5008,
          "symbol": "circle"
         },
         "mode": "markers+text",
         "name": "LV",
         "orientation": "v",
         "showlegend": true,
         "text": [
          "LV"
         ],
         "textfont": {
          "color": "white",
          "size": 12
         },
         "textposition": "middle center",
         "type": "scatter",
         "x": [
          0.000010377750103777502
         ],
         "xaxis": "x",
         "y": [
          3.2732688499369896e-7
         ],
         "yaxis": "y"
        },
        {
         "customdata": [
          [
           "Morocco"
          ]
         ],
         "hovertemplate": "<b>%{customdata}</b><br> Likes per video: %{x:.0f} <br> Dislikes per video: %{y:.0f}<br> Median Views: %{marker.size:.0f}",
         "hovertext": [
          "Morocco"
         ],
         "legendgroup": "MA",
         "marker": {
          "color": "#FF6692",
          "size": [
           2818
          ],
          "sizemode": "area",
          "sizeref": 14.5008,
          "symbol": "circle"
         },
         "mode": "markers+text",
         "name": "MA",
         "orientation": "v",
         "showlegend": true,
         "text": [
          "MA"
         ],
         "textfont": {
          "color": "white",
          "size": 12
         },
         "textposition": "middle center",
         "type": "scatter",
         "x": [
          0.000007028393287472554
         ],
         "xaxis": "x",
         "y": [
          3.1182487822690034e-7
         ],
         "yaxis": "y"
        },
        {
         "customdata": [
          [
           "North Macedonia"
          ]
         ],
         "hovertemplate": "<b>%{customdata}</b><br> Likes per video: %{x:.0f} <br> Dislikes per video: %{y:.0f}<br> Median Views: %{marker.size:.0f}",
         "hovertext": [
          "North Macedonia"
         ],
         "legendgroup": "MK",
         "marker": {
          "color": "#B6E880",
          "size": [
           2143
          ],
          "sizemode": "area",
          "sizeref": 14.5008,
          "symbol": "circle"
         },
         "mode": "markers+text",
         "name": "MK",
         "orientation": "v",
         "showlegend": true,
         "text": [
          "MK"
         ],
         "textfont": {
          "color": "white",
          "size": 12
         },
         "textposition": "middle center",
         "type": "scatter",
         "x": [
          0.00008749213659976571
         ],
         "xaxis": "x",
         "y": [
          0.0000034452879657814
         ],
         "yaxis": "y"
        },
        {
         "customdata": [
          [
           "Malta"
          ]
         ],
         "hovertemplate": "<b>%{customdata}</b><br> Likes per video: %{x:.0f} <br> Dislikes per video: %{y:.0f}<br> Median Views: %{marker.size:.0f}",
         "hovertext": [
          "Malta"
         ],
         "legendgroup": "MT",
         "marker": {
          "color": "#FF97FF",
          "size": [
           4135
          ],
          "sizemode": "area",
          "sizeref": 14.5008,
          "symbol": "circle"
         },
         "mode": "markers+text",
         "name": "MT",
         "orientation": "v",
         "showlegend": true,
         "text": [
          "MT"
         ],
         "textfont": {
          "color": "white",
          "size": 12
         },
         "textposition": "middle center",
         "type": "scatter",
         "x": [
          0.00005943183168905266
         ],
         "xaxis": "x",
         "y": [
          0.0000022391151017118036
         ],
         "yaxis": "y"
        },
        {
         "customdata": [
          [
           "Mexico"
          ]
         ],
         "hovertemplate": "<b>%{customdata}</b><br> Likes per video: %{x:.0f} <br> Dislikes per video: %{y:.0f}<br> Median Views: %{marker.size:.0f}",
         "hovertext": [
          "Mexico"
         ],
         "legendgroup": "MX",
         "marker": {
          "color": "#FECB52",
          "size": [
           7445
          ],
          "sizemode": "area",
          "sizeref": 14.5008,
          "symbol": "circle"
         },
         "mode": "markers+text",
         "name": "MX",
         "orientation": "v",
         "showlegend": true,
         "text": [
          "MX"
         ],
         "textfont": {
          "color": "white",
          "size": 12
         },
         "textposition": "middle center",
         "type": "scatter",
         "x": [
          0.000014878783793070991
         ],
         "xaxis": "x",
         "y": [
          7.943797816828374e-7
         ],
         "yaxis": "y"
        },
        {
         "customdata": [
          [
           "Malaysia"
          ]
         ],
         "hovertemplate": "<b>%{customdata}</b><br> Likes per video: %{x:.0f} <br> Dislikes per video: %{y:.0f}<br> Median Views: %{marker.size:.0f}",
         "hovertext": [
          "Malaysia"
         ],
         "legendgroup": "MY",
         "marker": {
          "color": "#636efa",
          "size": [
           458
          ],
          "sizemode": "area",
          "sizeref": 14.5008,
          "symbol": "circle"
         },
         "mode": "markers+text",
         "name": "MY",
         "orientation": "v",
         "showlegend": true,
         "text": [
          "MY"
         ],
         "textfont": {
          "color": "white",
          "size": 12
         },
         "textposition": "middle center",
         "type": "scatter",
         "x": [
          0.0000013333166567885037
         ],
         "xaxis": "x",
         "y": [
          0
         ],
         "yaxis": "y"
        },
        {
         "customdata": [
          [
           "Nigeria"
          ]
         ],
         "hovertemplate": "<b>%{customdata}</b><br> Likes per video: %{x:.0f} <br> Dislikes per video: %{y:.0f}<br> Median Views: %{marker.size:.0f}",
         "hovertext": [
          "Nigeria"
         ],
         "legendgroup": "NG",
         "marker": {
          "color": "#EF553B",
          "size": [
           3795
          ],
          "sizemode": "area",
          "sizeref": 14.5008,
          "symbol": "circle"
         },
         "mode": "markers+text",
         "name": "NG",
         "orientation": "v",
         "showlegend": true,
         "text": [
          "NG"
         ],
         "textfont": {
          "color": "white",
          "size": 12
         },
         "textposition": "middle center",
         "type": "scatter",
         "x": [
          0.000003966847792717171
         ],
         "xaxis": "x",
         "y": [
          1.1512820638604019e-7
         ],
         "yaxis": "y"
        },
        {
         "customdata": [
          [
           "Netherlands"
          ]
         ],
         "hovertemplate": "<b>%{customdata}</b><br> Likes per video: %{x:.0f} <br> Dislikes per video: %{y:.0f}<br> Median Views: %{marker.size:.0f}",
         "hovertext": [
          "Netherlands"
         ],
         "legendgroup": "NL",
         "marker": {
          "color": "#00cc96",
          "size": [
           3065
          ],
          "sizemode": "area",
          "sizeref": 14.5008,
          "symbol": "circle"
         },
         "mode": "markers+text",
         "name": "NL",
         "orientation": "v",
         "showlegend": true,
         "text": [
          "NL"
         ],
         "textfont": {
          "color": "white",
          "size": 12
         },
         "textposition": "middle center",
         "type": "scatter",
         "x": [
          0.000001011400976791274
         ],
         "xaxis": "x",
         "y": [
          1.9977097993585253e-8
         ],
         "yaxis": "y"
        },
        {
         "customdata": [
          [
           "Norway"
          ]
         ],
         "hovertemplate": "<b>%{customdata}</b><br> Likes per video: %{x:.0f} <br> Dislikes per video: %{y:.0f}<br> Median Views: %{marker.size:.0f}",
         "hovertext": [
          "Norway"
         ],
         "legendgroup": "NO",
         "marker": {
          "color": "#ab63fa",
          "size": [
           5262
          ],
          "sizemode": "area",
          "sizeref": 14.5008,
          "symbol": "circle"
         },
         "mode": "markers+text",
         "name": "NO",
         "orientation": "v",
         "showlegend": true,
         "text": [
          "NO"
         ],
         "textfont": {
          "color": "white",
          "size": 12
         },
         "textposition": "middle center",
         "type": "scatter",
         "x": [
          0.000005178302079575199
         ],
         "xaxis": "x",
         "y": [
          1.6646665697830723e-7
         ],
         "yaxis": "y"
        },
        {
         "customdata": [
          [
           "Nepal"
          ]
         ],
         "hovertemplate": "<b>%{customdata}</b><br> Likes per video: %{x:.0f} <br> Dislikes per video: %{y:.0f}<br> Median Views: %{marker.size:.0f}",
         "hovertext": [
          "Nepal"
         ],
         "legendgroup": "NP",
         "marker": {
          "color": "#FFA15A",
          "size": [
           5155
          ],
          "sizemode": "area",
          "sizeref": 14.5008,
          "symbol": "circle"
         },
         "mode": "markers+text",
         "name": "NP",
         "orientation": "v",
         "showlegend": true,
         "text": [
          "NP"
         ],
         "textfont": {
          "color": "white",
          "size": 12
         },
         "textposition": "middle center",
         "type": "scatter",
         "x": [
          0.000010605886301444163
         ],
         "xaxis": "x",
         "y": [
          6.021777155839757e-7
         ],
         "yaxis": "y"
        },
        {
         "customdata": [
          [
           "New Zealand"
          ]
         ],
         "hovertemplate": "<b>%{customdata}</b><br> Likes per video: %{x:.0f} <br> Dislikes per video: %{y:.0f}<br> Median Views: %{marker.size:.0f}",
         "hovertext": [
          "New Zealand"
         ],
         "legendgroup": "NZ",
         "marker": {
          "color": "#19d3f3",
          "size": [
           5363
          ],
          "sizemode": "area",
          "sizeref": 14.5008,
          "symbol": "circle"
         },
         "mode": "markers+text",
         "name": "NZ",
         "orientation": "v",
         "showlegend": true,
         "text": [
          "NZ"
         ],
         "textfont": {
          "color": "white",
          "size": 12
         },
         "textposition": "middle center",
         "type": "scatter",
         "x": [
          0.0000010823256534591372
         ],
         "xaxis": "x",
         "y": [
          4.94837025908665e-8
         ],
         "yaxis": "y"
        },
        {
         "customdata": [
          [
           "Oman"
          ]
         ],
         "hovertemplate": "<b>%{customdata}</b><br> Likes per video: %{x:.0f} <br> Dislikes per video: %{y:.0f}<br> Median Views: %{marker.size:.0f}",
         "hovertext": [
          "Oman"
         ],
         "legendgroup": "OM",
         "marker": {
          "color": "#FF6692",
          "size": [
           3631
          ],
          "sizemode": "area",
          "sizeref": 14.5008,
          "symbol": "circle"
         },
         "mode": "markers+text",
         "name": "OM",
         "orientation": "v",
         "showlegend": true,
         "text": [
          "OM"
         ],
         "textfont": {
          "color": "white",
          "size": 12
         },
         "textposition": "middle center",
         "type": "scatter",
         "x": [
          0.000015681662256199157
         ],
         "xaxis": "x",
         "y": [
          3.2685346342101175e-7
         ],
         "yaxis": "y"
        },
        {
         "customdata": [
          [
           "Panama"
          ]
         ],
         "hovertemplate": "<b>%{customdata}</b><br> Likes per video: %{x:.0f} <br> Dislikes per video: %{y:.0f}<br> Median Views: %{marker.size:.0f}",
         "hovertext": [
          "Panama"
         ],
         "legendgroup": "PA",
         "marker": {
          "color": "#B6E880",
          "size": [
           2711
          ],
          "sizemode": "area",
          "sizeref": 14.5008,
          "symbol": "circle"
         },
         "mode": "markers+text",
         "name": "PA",
         "orientation": "v",
         "showlegend": true,
         "text": [
          "PA"
         ],
         "textfont": {
          "color": "white",
          "size": 12
         },
         "textposition": "middle center",
         "type": "scatter",
         "x": [
          0.00019022770875364505
         ],
         "xaxis": "x",
         "y": [
          0.000012730713804737615
         ],
         "yaxis": "y"
        },
        {
         "customdata": [
          [
           "Philippines"
          ]
         ],
         "hovertemplate": "<b>%{customdata}</b><br> Likes per video: %{x:.0f} <br> Dislikes per video: %{y:.0f}<br> Median Views: %{marker.size:.0f}",
         "hovertext": [
          "Philippines"
         ],
         "legendgroup": "PH",
         "marker": {
          "color": "#FF97FF",
          "size": [
           4344
          ],
          "sizemode": "area",
          "sizeref": 14.5008,
          "symbol": "circle"
         },
         "mode": "markers+text",
         "name": "PH",
         "orientation": "v",
         "showlegend": true,
         "text": [
          "PH"
         ],
         "textfont": {
          "color": "white",
          "size": 12
         },
         "textposition": "middle center",
         "type": "scatter",
         "x": [
          0.0000016947028928232594
         ],
         "xaxis": "x",
         "y": [
          4.0978093983752824e-8
         ],
         "yaxis": "y"
        },
        {
         "customdata": [
          [
           "Pakistan"
          ]
         ],
         "hovertemplate": "<b>%{customdata}</b><br> Likes per video: %{x:.0f} <br> Dislikes per video: %{y:.0f}<br> Median Views: %{marker.size:.0f}",
         "hovertext": [
          "Pakistan"
         ],
         "legendgroup": "PK",
         "marker": {
          "color": "#FECB52",
          "size": [
           826
          ],
          "sizemode": "area",
          "sizeref": 14.5008,
          "symbol": "circle"
         },
         "mode": "markers+text",
         "name": "PK",
         "orientation": "v",
         "showlegend": true,
         "text": [
          "PK"
         ],
         "textfont": {
          "color": "white",
          "size": 12
         },
         "textposition": "middle center",
         "type": "scatter",
         "x": [
          1.4679217465700685e-7
         ],
         "xaxis": "x",
         "y": [
          1.7499980780646107e-9
         ],
         "yaxis": "y"
        },
        {
         "customdata": [
          [
           "Poland"
          ]
         ],
         "hovertemplate": "<b>%{customdata}</b><br> Likes per video: %{x:.0f} <br> Dislikes per video: %{y:.0f}<br> Median Views: %{marker.size:.0f}",
         "hovertext": [
          "Poland"
         ],
         "legendgroup": "PL",
         "marker": {
          "color": "#636efa",
          "size": [
           4685.5
          ],
          "sizemode": "area",
          "sizeref": 14.5008,
          "symbol": "circle"
         },
         "mode": "markers+text",
         "name": "PL",
         "orientation": "v",
         "showlegend": true,
         "text": [
          "PL"
         ],
         "textfont": {
          "color": "white",
          "size": 12
         },
         "textposition": "middle center",
         "type": "scatter",
         "x": [
          0.0000038138237879568874
         ],
         "xaxis": "x",
         "y": [
          1.1523523260913631e-7
         ],
         "yaxis": "y"
        },
        {
         "customdata": [
          [
           "Portugal"
          ]
         ],
         "hovertemplate": "<b>%{customdata}</b><br> Likes per video: %{x:.0f} <br> Dislikes per video: %{y:.0f}<br> Median Views: %{marker.size:.0f}",
         "hovertext": [
          "Portugal"
         ],
         "legendgroup": "PT",
         "marker": {
          "color": "#EF553B",
          "size": [
           4954
          ],
          "sizemode": "area",
          "sizeref": 14.5008,
          "symbol": "circle"
         },
         "mode": "markers+text",
         "name": "PT",
         "orientation": "v",
         "showlegend": true,
         "text": [
          "PT"
         ],
         "textfont": {
          "color": "white",
          "size": 12
         },
         "textposition": "middle center",
         "type": "scatter",
         "x": [
          0.000013296124277381678
         ],
         "xaxis": "x",
         "y": [
          2.7803906793638473e-7
         ],
         "yaxis": "y"
        },
        {
         "customdata": [
          [
           "Qatar"
          ]
         ],
         "hovertemplate": "<b>%{customdata}</b><br> Likes per video: %{x:.0f} <br> Dislikes per video: %{y:.0f}<br> Median Views: %{marker.size:.0f}",
         "hovertext": [
          "Qatar"
         ],
         "legendgroup": "QA",
         "marker": {
          "color": "#00cc96",
          "size": [
           1584
          ],
          "sizemode": "area",
          "sizeref": 14.5008,
          "symbol": "circle"
         },
         "mode": "markers+text",
         "name": "QA",
         "orientation": "v",
         "showlegend": true,
         "text": [
          "QA"
         ],
         "textfont": {
          "color": "white",
          "size": 12
         },
         "textposition": "middle center",
         "type": "scatter",
         "x": [
          0.00006085540571192526
         ],
         "xaxis": "x",
         "y": [
          9.650488266453842e-7
         ],
         "yaxis": "y"
        },
        {
         "customdata": [
          [
           "Romania"
          ]
         ],
         "hovertemplate": "<b>%{customdata}</b><br> Likes per video: %{x:.0f} <br> Dislikes per video: %{y:.0f}<br> Median Views: %{marker.size:.0f}",
         "hovertext": [
          "Romania"
         ],
         "legendgroup": "RO",
         "marker": {
          "color": "#ab63fa",
          "size": [
           5097
          ],
          "sizemode": "area",
          "sizeref": 14.5008,
          "symbol": "circle"
         },
         "mode": "markers+text",
         "name": "RO",
         "orientation": "v",
         "showlegend": true,
         "text": [
          "RO"
         ],
         "textfont": {
          "color": "white",
          "size": 12
         },
         "textposition": "middle center",
         "type": "scatter",
         "x": [
          0.0000057783347257031465
         ],
         "xaxis": "x",
         "y": [
          1.7806252587248499e-7
         ],
         "yaxis": "y"
        },
        {
         "customdata": [
          [
           "Serbia"
          ]
         ],
         "hovertemplate": "<b>%{customdata}</b><br> Likes per video: %{x:.0f} <br> Dislikes per video: %{y:.0f}<br> Median Views: %{marker.size:.0f}",
         "hovertext": [
          "Serbia"
         ],
         "legendgroup": "RS",
         "marker": {
          "color": "#FFA15A",
          "size": [
           4356
          ],
          "sizemode": "area",
          "sizeref": 14.5008,
          "symbol": "circle"
         },
         "mode": "markers+text",
         "name": "RS",
         "orientation": "v",
         "showlegend": true,
         "text": [
          "RS"
         ],
         "textfont": {
          "color": "white",
          "size": 12
         },
         "textposition": "middle center",
         "type": "scatter",
         "x": [
          0.000008123282264098708
         ],
         "xaxis": "x",
         "y": [
          2.9978200419429106e-7
         ],
         "yaxis": "y"
        },
        {
         "customdata": [
          [
           "Russian Federation"
          ]
         ],
         "hovertemplate": "<b>%{customdata}</b><br> Likes per video: %{x:.0f} <br> Dislikes per video: %{y:.0f}<br> Median Views: %{marker.size:.0f}",
         "hovertext": [
          "Russian Federation"
         ],
         "legendgroup": "RU",
         "marker": {
          "color": "#19d3f3",
          "size": [
           4788
          ],
          "sizemode": "area",
          "sizeref": 14.5008,
          "symbol": "circle"
         },
         "mode": "markers+text",
         "name": "RU",
         "orientation": "v",
         "showlegend": true,
         "text": [
          "RU"
         ],
         "textfont": {
          "color": "white",
          "size": 12
         },
         "textposition": "middle center",
         "type": "scatter",
         "x": [
          0.0000031906359393232206
         ],
         "xaxis": "x",
         "y": [
          9.574245280196272e-8
         ],
         "yaxis": "y"
        },
        {
         "customdata": [
          [
           "Saudi Arabia"
          ]
         ],
         "hovertemplate": "<b>%{customdata}</b><br> Likes per video: %{x:.0f} <br> Dislikes per video: %{y:.0f}<br> Median Views: %{marker.size:.0f}",
         "hovertext": [
          "Saudi Arabia"
         ],
         "legendgroup": "SA",
         "marker": {
          "color": "#FF6692",
          "size": [
           1767
          ],
          "sizemode": "area",
          "sizeref": 14.5008,
          "symbol": "circle"
         },
         "mode": "markers+text",
         "name": "SA",
         "orientation": "v",
         "showlegend": true,
         "text": [
          "SA"
         ],
         "textfont": {
          "color": "white",
          "size": 12
         },
         "textposition": "middle center",
         "type": "scatter",
         "x": [
          0.000009341394068772923
         ],
         "xaxis": "x",
         "y": [
          2.2013573933196832e-7
         ],
         "yaxis": "y"
        },
        {
         "customdata": [
          [
           "Sweden"
          ]
         ],
         "hovertemplate": "<b>%{customdata}</b><br> Likes per video: %{x:.0f} <br> Dislikes per video: %{y:.0f}<br> Median Views: %{marker.size:.0f}",
         "hovertext": [
          "Sweden"
         ],
         "legendgroup": "SE",
         "marker": {
          "color": "#B6E880",
          "size": [
           4329.5
          ],
          "sizemode": "area",
          "sizeref": 14.5008,
          "symbol": "circle"
         },
         "mode": "markers+text",
         "name": "SE",
         "orientation": "v",
         "showlegend": true,
         "text": [
          "SE"
         ],
         "textfont": {
          "color": "white",
          "size": 12
         },
         "textposition": "middle center",
         "type": "scatter",
         "x": [
          0.00000456100627125744
         ],
         "xaxis": "x",
         "y": [
          7.22895212376385e-8
         ],
         "yaxis": "y"
        },
        {
         "customdata": [
          [
           "Singapore"
          ]
         ],
         "hovertemplate": "<b>%{customdata}</b><br> Likes per video: %{x:.0f} <br> Dislikes per video: %{y:.0f}<br> Median Views: %{marker.size:.0f}",
         "hovertext": [
          "Singapore"
         ],
         "legendgroup": "SG",
         "marker": {
          "color": "#FF97FF",
          "size": [
           3489.5
          ],
          "sizemode": "area",
          "sizeref": 14.5008,
          "symbol": "circle"
         },
         "mode": "markers+text",
         "name": "SG",
         "orientation": "v",
         "showlegend": true,
         "text": [
          "SG"
         ],
         "textfont": {
          "color": "white",
          "size": 12
         },
         "textposition": "middle center",
         "type": "scatter",
         "x": [
          8.625526157095583e-7
         ],
         "xaxis": "x",
         "y": [
          4.4475874062115004e-8
         ],
         "yaxis": "y"
        },
        {
         "customdata": [
          [
           "Slovenia"
          ]
         ],
         "hovertemplate": "<b>%{customdata}</b><br> Likes per video: %{x:.0f} <br> Dislikes per video: %{y:.0f}<br> Median Views: %{marker.size:.0f}",
         "hovertext": [
          "Slovenia"
         ],
         "legendgroup": "SI",
         "marker": {
          "color": "#FECB52",
          "size": [
           10665.5
          ],
          "sizemode": "area",
          "sizeref": 14.5008,
          "symbol": "circle"
         },
         "mode": "markers+text",
         "name": "SI",
         "orientation": "v",
         "showlegend": true,
         "text": [
          "SI"
         ],
         "textfont": {
          "color": "white",
          "size": 12
         },
         "textposition": "middle center",
         "type": "scatter",
         "x": [
          0.00010635504201680672
         ],
         "xaxis": "x",
         "y": [
          0.000001697191600485623
         ],
         "yaxis": "y"
        },
        {
         "customdata": [
          [
           "Svalbard and Jan Mayen"
          ]
         ],
         "hovertemplate": "<b>%{customdata}</b><br> Likes per video: %{x:.0f} <br> Dislikes per video: %{y:.0f}<br> Median Views: %{marker.size:.0f}",
         "hovertext": [
          "Svalbard and Jan Mayen"
         ],
         "legendgroup": "SJ",
         "marker": {
          "color": "#636efa",
          "size": [
           4505
          ],
          "sizemode": "area",
          "sizeref": 14.5008,
          "symbol": "circle"
         },
         "mode": "markers+text",
         "name": "SJ",
         "orientation": "v",
         "showlegend": true,
         "text": [
          "SJ"
         ],
         "textfont": {
          "color": "white",
          "size": 12
         },
         "textposition": "middle center",
         "type": "scatter",
         "x": [
          0.00008959865074972989
         ],
         "xaxis": "x",
         "y": [
          0.000005495562333415766
         ],
         "yaxis": "y"
        },
        {
         "customdata": [
          [
           "Slovakia"
          ]
         ],
         "hovertemplate": "<b>%{customdata}</b><br> Likes per video: %{x:.0f} <br> Dislikes per video: %{y:.0f}<br> Median Views: %{marker.size:.0f}",
         "hovertext": [
          "Slovakia"
         ],
         "legendgroup": "SK",
         "marker": {
          "color": "#EF553B",
          "size": [
           2970
          ],
          "sizemode": "area",
          "sizeref": 14.5008,
          "symbol": "circle"
         },
         "mode": "markers+text",
         "name": "SK",
         "orientation": "v",
         "showlegend": true,
         "text": [
          "SK"
         ],
         "textfont": {
          "color": "white",
          "size": 12
         },
         "textposition": "middle center",
         "type": "scatter",
         "x": [
          0.000007779697051183412
         ],
         "xaxis": "x",
         "y": [
          3.521657171095079e-7
         ],
         "yaxis": "y"
        },
        {
         "customdata": [
          [
           "Thailand"
          ]
         ],
         "hovertemplate": "<b>%{customdata}</b><br> Likes per video: %{x:.0f} <br> Dislikes per video: %{y:.0f}<br> Median Views: %{marker.size:.0f}",
         "hovertext": [
          "Thailand"
         ],
         "legendgroup": "TH",
         "marker": {
          "color": "#00cc96",
          "size": [
           7052
          ],
          "sizemode": "area",
          "sizeref": 14.5008,
          "symbol": "circle"
         },
         "mode": "markers+text",
         "name": "TH",
         "orientation": "v",
         "showlegend": true,
         "text": [
          "TH"
         ],
         "textfont": {
          "color": "white",
          "size": 12
         },
         "textposition": "middle center",
         "type": "scatter",
         "x": [
          0.000004453420486536332
         ],
         "xaxis": "x",
         "y": [
          1.6837508663131686e-7
         ],
         "yaxis": "y"
        },
        {
         "customdata": [
          [
           "Türkiye"
          ]
         ],
         "hovertemplate": "<b>%{customdata}</b><br> Likes per video: %{x:.0f} <br> Dislikes per video: %{y:.0f}<br> Median Views: %{marker.size:.0f}",
         "hovertext": [
          "Türkiye"
         ],
         "legendgroup": "TR",
         "marker": {
          "color": "#ab63fa",
          "size": [
           6210
          ],
          "sizemode": "area",
          "sizeref": 14.5008,
          "symbol": "circle"
         },
         "mode": "markers+text",
         "name": "TR",
         "orientation": "v",
         "showlegend": true,
         "text": [
          "TR"
         ],
         "textfont": {
          "color": "white",
          "size": 12
         },
         "textposition": "middle center",
         "type": "scatter",
         "x": [
          0.00002274236464020335
         ],
         "xaxis": "x",
         "y": [
          7.180740722348487e-7
         ],
         "yaxis": "y"
        },
        {
         "customdata": [
          [
           "Taiwan, Province of China"
          ]
         ],
         "hovertemplate": "<b>%{customdata}</b><br> Likes per video: %{x:.0f} <br> Dislikes per video: %{y:.0f}<br> Median Views: %{marker.size:.0f}",
         "hovertext": [
          "Taiwan, Province of China"
         ],
         "legendgroup": "TW",
         "marker": {
          "color": "#FFA15A",
          "size": [
           10234.5
          ],
          "sizemode": "area",
          "sizeref": 14.5008,
          "symbol": "circle"
         },
         "mode": "markers+text",
         "name": "TW",
         "orientation": "v",
         "showlegend": true,
         "text": [
          "TW"
         ],
         "textfont": {
          "color": "white",
          "size": 12
         },
         "textposition": "middle center",
         "type": "scatter",
         "x": [
          0.00001565160690760517
         ],
         "xaxis": "x",
         "y": [
          4.0934944495910334e-7
         ],
         "yaxis": "y"
        },
        {
         "customdata": [
          [
           "Tanzania, United Republic of"
          ]
         ],
         "hovertemplate": "<b>%{customdata}</b><br> Likes per video: %{x:.0f} <br> Dislikes per video: %{y:.0f}<br> Median Views: %{marker.size:.0f}",
         "hovertext": [
          "Tanzania, United Republic of"
         ],
         "legendgroup": "TZ",
         "marker": {
          "color": "#19d3f3",
          "size": [
           980
          ],
          "sizemode": "area",
          "sizeref": 14.5008,
          "symbol": "circle"
         },
         "mode": "markers+text",
         "name": "TZ",
         "orientation": "v",
         "showlegend": true,
         "text": [
          "TZ"
         ],
         "textfont": {
          "color": "white",
          "size": 12
         },
         "textposition": "middle center",
         "type": "scatter",
         "x": [
          0.000005824561848509252
         ],
         "xaxis": "x",
         "y": [
          2.3894340591296177e-7
         ],
         "yaxis": "y"
        },
        {
         "customdata": [
          [
           "Ukraine"
          ]
         ],
         "hovertemplate": "<b>%{customdata}</b><br> Likes per video: %{x:.0f} <br> Dislikes per video: %{y:.0f}<br> Median Views: %{marker.size:.0f}",
         "hovertext": [
          "Ukraine"
         ],
         "legendgroup": "UA",
         "marker": {
          "color": "#FF6692",
          "size": [
           1273.5
          ],
          "sizemode": "area",
          "sizeref": 14.5008,
          "symbol": "circle"
         },
         "mode": "markers+text",
         "name": "UA",
         "orientation": "v",
         "showlegend": true,
         "text": [
          "UA"
         ],
         "textfont": {
          "color": "white",
          "size": 12
         },
         "textposition": "middle center",
         "type": "scatter",
         "x": [
          0.000007328550040519585
         ],
         "xaxis": "x",
         "y": [
          1.122561034932325e-7
         ],
         "yaxis": "y"
        },
        {
         "customdata": [
          [
           "Uganda"
          ]
         ],
         "hovertemplate": "<b>%{customdata}</b><br> Likes per video: %{x:.0f} <br> Dislikes per video: %{y:.0f}<br> Median Views: %{marker.size:.0f}",
         "hovertext": [
          "Uganda"
         ],
         "legendgroup": "UG",
         "marker": {
          "color": "#B6E880",
          "size": [
           60
          ],
          "sizemode": "area",
          "sizeref": 14.5008,
          "symbol": "circle"
         },
         "mode": "markers+text",
         "name": "UG",
         "orientation": "v",
         "showlegend": true,
         "text": [
          "UG"
         ],
         "textfont": {
          "color": "white",
          "size": 12
         },
         "textposition": "middle center",
         "type": "scatter",
         "x": [
          0
         ],
         "xaxis": "x",
         "y": [
          0
         ],
         "yaxis": "y"
        },
        {
         "customdata": [
          [
           "United States"
          ]
         ],
         "hovertemplate": "<b>%{customdata}</b><br> Likes per video: %{x:.0f} <br> Dislikes per video: %{y:.0f}<br> Median Views: %{marker.size:.0f}",
         "hovertext": [
          "United States"
         ],
         "legendgroup": "US",
         "marker": {
          "color": "#FF97FF",
          "size": [
           2625
          ],
          "sizemode": "area",
          "sizeref": 14.5008,
          "symbol": "circle"
         },
         "mode": "markers+text",
         "name": "US",
         "orientation": "v",
         "showlegend": true,
         "text": [
          "US"
         ],
         "textfont": {
          "color": "white",
          "size": 12
         },
         "textposition": "middle center",
         "type": "scatter",
         "x": [
          8.298785489341205e-9
         ],
         "xaxis": "x",
         "y": [
          2.2061832334259164e-10
         ],
         "yaxis": "y"
        },
        {
         "customdata": [
          [
           "Viet Nam"
          ]
         ],
         "hovertemplate": "<b>%{customdata}</b><br> Likes per video: %{x:.0f} <br> Dislikes per video: %{y:.0f}<br> Median Views: %{marker.size:.0f}",
         "hovertext": [
          "Viet Nam"
         ],
         "legendgroup": "VN",
         "marker": {
          "color": "#FECB52",
          "size": [
           2685
          ],
          "sizemode": "area",
          "sizeref": 14.5008,
          "symbol": "circle"
         },
         "mode": "markers+text",
         "name": "VN",
         "orientation": "v",
         "showlegend": true,
         "text": [
          "VN"
         ],
         "textfont": {
          "color": "white",
          "size": 12
         },
         "textposition": "middle center",
         "type": "scatter",
         "x": [
          0.000011812520967862328
         ],
         "xaxis": "x",
         "y": [
          6.867384206718093e-7
         ],
         "yaxis": "y"
        },
        {
         "customdata": [
          [
           "South Africa"
          ]
         ],
         "hovertemplate": "<b>%{customdata}</b><br> Likes per video: %{x:.0f} <br> Dislikes per video: %{y:.0f}<br> Median Views: %{marker.size:.0f}",
         "hovertext": [
          "South Africa"
         ],
         "legendgroup": "ZA",
         "marker": {
          "color": "#636efa",
          "size": [
           208
          ],
          "sizemode": "area",
          "sizeref": 14.5008,
          "symbol": "circle"
         },
         "mode": "markers+text",
         "name": "ZA",
         "orientation": "v",
         "showlegend": true,
         "text": [
          "ZA"
         ],
         "textfont": {
          "color": "white",
          "size": 12
         },
         "textposition": "middle center",
         "type": "scatter",
         "x": [
          3.788321332689016e-8
         ],
         "xaxis": "x",
         "y": [
          0
         ],
         "yaxis": "y"
        },
        {
         "customdata": [
          [
           "Zimbabwe"
          ]
         ],
         "hovertemplate": "<b>%{customdata}</b><br> Likes per video: %{x:.0f} <br> Dislikes per video: %{y:.0f}<br> Median Views: %{marker.size:.0f}",
         "hovertext": [
          "Zimbabwe"
         ],
         "legendgroup": "ZW",
         "marker": {
          "color": "#EF553B",
          "size": [
           4675
          ],
          "sizemode": "area",
          "sizeref": 14.5008,
          "symbol": "circle"
         },
         "mode": "markers+text",
         "name": "ZW",
         "orientation": "v",
         "showlegend": true,
         "text": [
          "ZW"
         ],
         "textfont": {
          "color": "white",
          "size": 12
         },
         "textposition": "middle center",
         "type": "scatter",
         "x": [
          0.000013149586470316049
         ],
         "xaxis": "x",
         "y": [
          2.5825290190177437e-7
         ],
         "yaxis": "y"
        }
       ],
       "layout": {
        "legend": {
         "itemsizing": "constant",
         "title": {
          "text": "country"
         },
         "tracegroupgap": 0
        },
        "margin": {
         "t": 60
        },
        "paper_bgcolor": "white",
        "showlegend": true,
        "template": {
         "data": {
          "bar": [
           {
            "error_x": {
             "color": "#2a3f5f"
            },
            "error_y": {
             "color": "#2a3f5f"
            },
            "marker": {
             "line": {
              "color": "#E5ECF6",
              "width": 0.5
             },
             "pattern": {
              "fillmode": "overlay",
              "size": 10,
              "solidity": 0.2
             }
            },
            "type": "bar"
           }
          ],
          "barpolar": [
           {
            "marker": {
             "line": {
              "color": "#E5ECF6",
              "width": 0.5
             },
             "pattern": {
              "fillmode": "overlay",
              "size": 10,
              "solidity": 0.2
             }
            },
            "type": "barpolar"
           }
          ],
          "carpet": [
           {
            "aaxis": {
             "endlinecolor": "#2a3f5f",
             "gridcolor": "white",
             "linecolor": "white",
             "minorgridcolor": "white",
             "startlinecolor": "#2a3f5f"
            },
            "baxis": {
             "endlinecolor": "#2a3f5f",
             "gridcolor": "white",
             "linecolor": "white",
             "minorgridcolor": "white",
             "startlinecolor": "#2a3f5f"
            },
            "type": "carpet"
           }
          ],
          "choropleth": [
           {
            "colorbar": {
             "outlinewidth": 0,
             "ticks": ""
            },
            "type": "choropleth"
           }
          ],
          "contour": [
           {
            "colorbar": {
             "outlinewidth": 0,
             "ticks": ""
            },
            "colorscale": [
             [
              0,
              "#0d0887"
             ],
             [
              0.1111111111111111,
              "#46039f"
             ],
             [
              0.2222222222222222,
              "#7201a8"
             ],
             [
              0.3333333333333333,
              "#9c179e"
             ],
             [
              0.4444444444444444,
              "#bd3786"
             ],
             [
              0.5555555555555556,
              "#d8576b"
             ],
             [
              0.6666666666666666,
              "#ed7953"
             ],
             [
              0.7777777777777778,
              "#fb9f3a"
             ],
             [
              0.8888888888888888,
              "#fdca26"
             ],
             [
              1,
              "#f0f921"
             ]
            ],
            "type": "contour"
           }
          ],
          "contourcarpet": [
           {
            "colorbar": {
             "outlinewidth": 0,
             "ticks": ""
            },
            "type": "contourcarpet"
           }
          ],
          "heatmap": [
           {
            "colorbar": {
             "outlinewidth": 0,
             "ticks": ""
            },
            "colorscale": [
             [
              0,
              "#0d0887"
             ],
             [
              0.1111111111111111,
              "#46039f"
             ],
             [
              0.2222222222222222,
              "#7201a8"
             ],
             [
              0.3333333333333333,
              "#9c179e"
             ],
             [
              0.4444444444444444,
              "#bd3786"
             ],
             [
              0.5555555555555556,
              "#d8576b"
             ],
             [
              0.6666666666666666,
              "#ed7953"
             ],
             [
              0.7777777777777778,
              "#fb9f3a"
             ],
             [
              0.8888888888888888,
              "#fdca26"
             ],
             [
              1,
              "#f0f921"
             ]
            ],
            "type": "heatmap"
           }
          ],
          "heatmapgl": [
           {
            "colorbar": {
             "outlinewidth": 0,
             "ticks": ""
            },
            "colorscale": [
             [
              0,
              "#0d0887"
             ],
             [
              0.1111111111111111,
              "#46039f"
             ],
             [
              0.2222222222222222,
              "#7201a8"
             ],
             [
              0.3333333333333333,
              "#9c179e"
             ],
             [
              0.4444444444444444,
              "#bd3786"
             ],
             [
              0.5555555555555556,
              "#d8576b"
             ],
             [
              0.6666666666666666,
              "#ed7953"
             ],
             [
              0.7777777777777778,
              "#fb9f3a"
             ],
             [
              0.8888888888888888,
              "#fdca26"
             ],
             [
              1,
              "#f0f921"
             ]
            ],
            "type": "heatmapgl"
           }
          ],
          "histogram": [
           {
            "marker": {
             "pattern": {
              "fillmode": "overlay",
              "size": 10,
              "solidity": 0.2
             }
            },
            "type": "histogram"
           }
          ],
          "histogram2d": [
           {
            "colorbar": {
             "outlinewidth": 0,
             "ticks": ""
            },
            "colorscale": [
             [
              0,
              "#0d0887"
             ],
             [
              0.1111111111111111,
              "#46039f"
             ],
             [
              0.2222222222222222,
              "#7201a8"
             ],
             [
              0.3333333333333333,
              "#9c179e"
             ],
             [
              0.4444444444444444,
              "#bd3786"
             ],
             [
              0.5555555555555556,
              "#d8576b"
             ],
             [
              0.6666666666666666,
              "#ed7953"
             ],
             [
              0.7777777777777778,
              "#fb9f3a"
             ],
             [
              0.8888888888888888,
              "#fdca26"
             ],
             [
              1,
              "#f0f921"
             ]
            ],
            "type": "histogram2d"
           }
          ],
          "histogram2dcontour": [
           {
            "colorbar": {
             "outlinewidth": 0,
             "ticks": ""
            },
            "colorscale": [
             [
              0,
              "#0d0887"
             ],
             [
              0.1111111111111111,
              "#46039f"
             ],
             [
              0.2222222222222222,
              "#7201a8"
             ],
             [
              0.3333333333333333,
              "#9c179e"
             ],
             [
              0.4444444444444444,
              "#bd3786"
             ],
             [
              0.5555555555555556,
              "#d8576b"
             ],
             [
              0.6666666666666666,
              "#ed7953"
             ],
             [
              0.7777777777777778,
              "#fb9f3a"
             ],
             [
              0.8888888888888888,
              "#fdca26"
             ],
             [
              1,
              "#f0f921"
             ]
            ],
            "type": "histogram2dcontour"
           }
          ],
          "mesh3d": [
           {
            "colorbar": {
             "outlinewidth": 0,
             "ticks": ""
            },
            "type": "mesh3d"
           }
          ],
          "parcoords": [
           {
            "line": {
             "colorbar": {
              "outlinewidth": 0,
              "ticks": ""
             }
            },
            "type": "parcoords"
           }
          ],
          "pie": [
           {
            "automargin": true,
            "type": "pie"
           }
          ],
          "scatter": [
           {
            "fillpattern": {
             "fillmode": "overlay",
             "size": 10,
             "solidity": 0.2
            },
            "type": "scatter"
           }
          ],
          "scatter3d": [
           {
            "line": {
             "colorbar": {
              "outlinewidth": 0,
              "ticks": ""
             }
            },
            "marker": {
             "colorbar": {
              "outlinewidth": 0,
              "ticks": ""
             }
            },
            "type": "scatter3d"
           }
          ],
          "scattercarpet": [
           {
            "marker": {
             "colorbar": {
              "outlinewidth": 0,
              "ticks": ""
             }
            },
            "type": "scattercarpet"
           }
          ],
          "scattergeo": [
           {
            "marker": {
             "colorbar": {
              "outlinewidth": 0,
              "ticks": ""
             }
            },
            "type": "scattergeo"
           }
          ],
          "scattergl": [
           {
            "marker": {
             "colorbar": {
              "outlinewidth": 0,
              "ticks": ""
             }
            },
            "type": "scattergl"
           }
          ],
          "scattermapbox": [
           {
            "marker": {
             "colorbar": {
              "outlinewidth": 0,
              "ticks": ""
             }
            },
            "type": "scattermapbox"
           }
          ],
          "scatterpolar": [
           {
            "marker": {
             "colorbar": {
              "outlinewidth": 0,
              "ticks": ""
             }
            },
            "type": "scatterpolar"
           }
          ],
          "scatterpolargl": [
           {
            "marker": {
             "colorbar": {
              "outlinewidth": 0,
              "ticks": ""
             }
            },
            "type": "scatterpolargl"
           }
          ],
          "scatterternary": [
           {
            "marker": {
             "colorbar": {
              "outlinewidth": 0,
              "ticks": ""
             }
            },
            "type": "scatterternary"
           }
          ],
          "surface": [
           {
            "colorbar": {
             "outlinewidth": 0,
             "ticks": ""
            },
            "colorscale": [
             [
              0,
              "#0d0887"
             ],
             [
              0.1111111111111111,
              "#46039f"
             ],
             [
              0.2222222222222222,
              "#7201a8"
             ],
             [
              0.3333333333333333,
              "#9c179e"
             ],
             [
              0.4444444444444444,
              "#bd3786"
             ],
             [
              0.5555555555555556,
              "#d8576b"
             ],
             [
              0.6666666666666666,
              "#ed7953"
             ],
             [
              0.7777777777777778,
              "#fb9f3a"
             ],
             [
              0.8888888888888888,
              "#fdca26"
             ],
             [
              1,
              "#f0f921"
             ]
            ],
            "type": "surface"
           }
          ],
          "table": [
           {
            "cells": {
             "fill": {
              "color": "#EBF0F8"
             },
             "line": {
              "color": "white"
             }
            },
            "header": {
             "fill": {
              "color": "#C8D4E3"
             },
             "line": {
              "color": "white"
             }
            },
            "type": "table"
           }
          ]
         },
         "layout": {
          "annotationdefaults": {
           "arrowcolor": "#2a3f5f",
           "arrowhead": 0,
           "arrowwidth": 1
          },
          "autotypenumbers": "strict",
          "coloraxis": {
           "colorbar": {
            "outlinewidth": 0,
            "ticks": ""
           }
          },
          "colorscale": {
           "diverging": [
            [
             0,
             "#8e0152"
            ],
            [
             0.1,
             "#c51b7d"
            ],
            [
             0.2,
             "#de77ae"
            ],
            [
             0.3,
             "#f1b6da"
            ],
            [
             0.4,
             "#fde0ef"
            ],
            [
             0.5,
             "#f7f7f7"
            ],
            [
             0.6,
             "#e6f5d0"
            ],
            [
             0.7,
             "#b8e186"
            ],
            [
             0.8,
             "#7fbc41"
            ],
            [
             0.9,
             "#4d9221"
            ],
            [
             1,
             "#276419"
            ]
           ],
           "sequential": [
            [
             0,
             "#0d0887"
            ],
            [
             0.1111111111111111,
             "#46039f"
            ],
            [
             0.2222222222222222,
             "#7201a8"
            ],
            [
             0.3333333333333333,
             "#9c179e"
            ],
            [
             0.4444444444444444,
             "#bd3786"
            ],
            [
             0.5555555555555556,
             "#d8576b"
            ],
            [
             0.6666666666666666,
             "#ed7953"
            ],
            [
             0.7777777777777778,
             "#fb9f3a"
            ],
            [
             0.8888888888888888,
             "#fdca26"
            ],
            [
             1,
             "#f0f921"
            ]
           ],
           "sequentialminus": [
            [
             0,
             "#0d0887"
            ],
            [
             0.1111111111111111,
             "#46039f"
            ],
            [
             0.2222222222222222,
             "#7201a8"
            ],
            [
             0.3333333333333333,
             "#9c179e"
            ],
            [
             0.4444444444444444,
             "#bd3786"
            ],
            [
             0.5555555555555556,
             "#d8576b"
            ],
            [
             0.6666666666666666,
             "#ed7953"
            ],
            [
             0.7777777777777778,
             "#fb9f3a"
            ],
            [
             0.8888888888888888,
             "#fdca26"
            ],
            [
             1,
             "#f0f921"
            ]
           ]
          },
          "colorway": [
           "#636efa",
           "#EF553B",
           "#00cc96",
           "#ab63fa",
           "#FFA15A",
           "#19d3f3",
           "#FF6692",
           "#B6E880",
           "#FF97FF",
           "#FECB52"
          ],
          "font": {
           "color": "#2a3f5f"
          },
          "geo": {
           "bgcolor": "white",
           "lakecolor": "white",
           "landcolor": "#E5ECF6",
           "showlakes": true,
           "showland": true,
           "subunitcolor": "white"
          },
          "hoverlabel": {
           "align": "left"
          },
          "hovermode": "closest",
          "mapbox": {
           "style": "light"
          },
          "paper_bgcolor": "white",
          "plot_bgcolor": "#E5ECF6",
          "polar": {
           "angularaxis": {
            "gridcolor": "white",
            "linecolor": "white",
            "ticks": ""
           },
           "bgcolor": "#E5ECF6",
           "radialaxis": {
            "gridcolor": "white",
            "linecolor": "white",
            "ticks": ""
           }
          },
          "scene": {
           "xaxis": {
            "backgroundcolor": "#E5ECF6",
            "gridcolor": "white",
            "gridwidth": 2,
            "linecolor": "white",
            "showbackground": true,
            "ticks": "",
            "zerolinecolor": "white"
           },
           "yaxis": {
            "backgroundcolor": "#E5ECF6",
            "gridcolor": "white",
            "gridwidth": 2,
            "linecolor": "white",
            "showbackground": true,
            "ticks": "",
            "zerolinecolor": "white"
           },
           "zaxis": {
            "backgroundcolor": "#E5ECF6",
            "gridcolor": "white",
            "gridwidth": 2,
            "linecolor": "white",
            "showbackground": true,
            "ticks": "",
            "zerolinecolor": "white"
           }
          },
          "shapedefaults": {
           "line": {
            "color": "#2a3f5f"
           }
          },
          "ternary": {
           "aaxis": {
            "gridcolor": "white",
            "linecolor": "white",
            "ticks": ""
           },
           "baxis": {
            "gridcolor": "white",
            "linecolor": "white",
            "ticks": ""
           },
           "bgcolor": "#E5ECF6",
           "caxis": {
            "gridcolor": "white",
            "linecolor": "white",
            "ticks": ""
           }
          },
          "title": {
           "x": 0.05
          },
          "xaxis": {
           "automargin": true,
           "gridcolor": "white",
           "linecolor": "white",
           "ticks": "",
           "title": {
            "standoff": 15
           },
           "zerolinecolor": "white",
           "zerolinewidth": 2
          },
          "yaxis": {
           "automargin": true,
           "gridcolor": "white",
           "linecolor": "white",
           "ticks": "",
           "title": {
            "standoff": 15
           },
           "zerolinecolor": "white",
           "zerolinewidth": 2
          }
         }
        },
        "xaxis": {
         "anchor": "y",
         "domain": [
          0,
          1
         ],
         "tickformat": ".1s",
         "title": {
          "text": "Like Count (log scale)"
         }
        },
        "yaxis": {
         "anchor": "x",
         "domain": [
          0,
          1
         ],
         "tickformat": ".1s",
         "title": {
          "text": "Dislike Count"
         }
        }
       }
      }
     },
     "metadata": {},
     "output_type": "display_data"
    }
   ],
   "source": [
    "# We wanted to check if this was more intuitive but it's not\n",
    "fig = px.scatter(numericals, x=\"like_per_view_per_video\", y=\"dislike_per_view_per_video\",\n",
    "\t         size=\"view_count\", color=\"country\",\n",
    "                 hover_name=\"country_name\", \n",
    "                 log_x = False,log_y=False, \n",
    "                 custom_data='country_name',\n",
    "                 size_max=50,\n",
    "                 text=\"country\",\n",
    "    )\n",
    "\n",
    "fig.update_layout(\n",
    "    xaxis=dict(title=\"Like Count (log scale)\",tickformat=\".1s\"),\n",
    "    yaxis=dict(title=\"Dislike Count\",tickformat=\".1s\"),\n",
    "    paper_bgcolor=\"white\",    \n",
    "    showlegend=True \n",
    ")\n",
    "fig.update_traces( # change text inside bubbles\n",
    "    textfont=dict(size=12, color='white'),\n",
    "    textposition='middle center',\n",
    "    hovertemplate=\"<b>%{customdata}</b><br> Likes per video: %{x:.0f} <br> Dislikes per video: %{y:.0f}<br> Median Views: %{marker.size:.0f}\",\n",
    ")\n",
    "\n",
    "#fig.write_html(op.join(path_country_fig,'country_likes_dislikes.html'), auto_open=True)\n",
    "fig.show()"
   ]
  },
  {
   "cell_type": "code",
   "execution_count": 174,
   "metadata": {},
   "outputs": [
    {
     "data": {
      "text/html": [
       "<div>\n",
       "<style scoped>\n",
       "    .dataframe tbody tr th:only-of-type {\n",
       "        vertical-align: middle;\n",
       "    }\n",
       "\n",
       "    .dataframe tbody tr th {\n",
       "        vertical-align: top;\n",
       "    }\n",
       "\n",
       "    .dataframe thead th {\n",
       "        text-align: right;\n",
       "    }\n",
       "</style>\n",
       "<table border=\"1\" class=\"dataframe\">\n",
       "  <thead>\n",
       "    <tr style=\"text-align: right;\">\n",
       "      <th></th>\n",
       "      <th>country_name</th>\n",
       "      <th>dislike_like_ratio</th>\n",
       "    </tr>\n",
       "  </thead>\n",
       "  <tbody>\n",
       "    <tr>\n",
       "      <th>40</th>\n",
       "      <td>Falkland Islands (Malvinas)</td>\n",
       "      <td>0.004189</td>\n",
       "    </tr>\n",
       "    <tr>\n",
       "      <th>4</th>\n",
       "      <td>Albania</td>\n",
       "      <td>0.022692</td>\n",
       "    </tr>\n",
       "    <tr>\n",
       "      <th>43</th>\n",
       "      <td>Georgia</td>\n",
       "      <td>0.024048</td>\n",
       "    </tr>\n",
       "    <tr>\n",
       "      <th>44</th>\n",
       "      <td>Ghana</td>\n",
       "      <td>0.025130</td>\n",
       "    </tr>\n",
       "    <tr>\n",
       "      <th>34</th>\n",
       "      <td>Algeria</td>\n",
       "      <td>0.026174</td>\n",
       "    </tr>\n",
       "    <tr>\n",
       "      <th>...</th>\n",
       "      <td>...</td>\n",
       "      <td>...</td>\n",
       "    </tr>\n",
       "    <tr>\n",
       "      <th>52</th>\n",
       "      <td>Israel</td>\n",
       "      <td>0.265397</td>\n",
       "    </tr>\n",
       "    <tr>\n",
       "      <th>70</th>\n",
       "      <td>Luxembourg</td>\n",
       "      <td>0.294357</td>\n",
       "    </tr>\n",
       "    <tr>\n",
       "      <th>95</th>\n",
       "      <td>Serbia</td>\n",
       "      <td>0.357258</td>\n",
       "    </tr>\n",
       "    <tr>\n",
       "      <th>120</th>\n",
       "      <td>Viet Nam</td>\n",
       "      <td>0.378424</td>\n",
       "    </tr>\n",
       "    <tr>\n",
       "      <th>113</th>\n",
       "      <td>Ukraine</td>\n",
       "      <td>0.399696</td>\n",
       "    </tr>\n",
       "  </tbody>\n",
       "</table>\n",
       "<p>92 rows × 2 columns</p>\n",
       "</div>"
      ],
      "text/plain": [
       "                    country_name  dislike_like_ratio\n",
       "40   Falkland Islands (Malvinas)            0.004189\n",
       "4                        Albania            0.022692\n",
       "43                       Georgia            0.024048\n",
       "44                         Ghana            0.025130\n",
       "34                       Algeria            0.026174\n",
       "..                           ...                 ...\n",
       "52                        Israel            0.265397\n",
       "70                    Luxembourg            0.294357\n",
       "95                        Serbia            0.357258\n",
       "120                     Viet Nam            0.378424\n",
       "113                      Ukraine            0.399696\n",
       "\n",
       "[92 rows x 2 columns]"
      ]
     },
     "execution_count": 174,
     "metadata": {},
     "output_type": "execute_result"
    }
   ],
   "source": [
    "# compute like dislike ratio\n",
    "numericals['dislike_like_ratio'] = numericals['dislike_count'] / numericals['like_count']\n",
    "numericals.sort_values(by='dislike_like_ratio', ascending=True)[['country_name', 'dislike_like_ratio']]"
   ]
  },
  {
   "cell_type": "code",
   "execution_count": 177,
   "metadata": {},
   "outputs": [
    {
     "data": {
      "text/html": [
       "<div>\n",
       "<style scoped>\n",
       "    .dataframe tbody tr th:only-of-type {\n",
       "        vertical-align: middle;\n",
       "    }\n",
       "\n",
       "    .dataframe tbody tr th {\n",
       "        vertical-align: top;\n",
       "    }\n",
       "\n",
       "    .dataframe thead th {\n",
       "        text-align: right;\n",
       "    }\n",
       "</style>\n",
       "<table border=\"1\" class=\"dataframe\">\n",
       "  <thead>\n",
       "    <tr style=\"text-align: right;\">\n",
       "      <th></th>\n",
       "      <th>country_name</th>\n",
       "      <th>dislike_like_ratio</th>\n",
       "    </tr>\n",
       "  </thead>\n",
       "  <tbody>\n",
       "    <tr>\n",
       "      <th>120</th>\n",
       "      <td>Viet Nam</td>\n",
       "      <td>0.378424</td>\n",
       "    </tr>\n",
       "    <tr>\n",
       "      <th>95</th>\n",
       "      <td>Serbia</td>\n",
       "      <td>0.357258</td>\n",
       "    </tr>\n",
       "    <tr>\n",
       "      <th>70</th>\n",
       "      <td>Luxembourg</td>\n",
       "      <td>0.294357</td>\n",
       "    </tr>\n",
       "    <tr>\n",
       "      <th>64</th>\n",
       "      <td>Korea, Republic of</td>\n",
       "      <td>0.260530</td>\n",
       "    </tr>\n",
       "    <tr>\n",
       "      <th>61</th>\n",
       "      <td>Japan</td>\n",
       "      <td>0.083739</td>\n",
       "    </tr>\n",
       "    <tr>\n",
       "      <th>111</th>\n",
       "      <td>Taiwan, Province of China</td>\n",
       "      <td>0.041106</td>\n",
       "    </tr>\n",
       "    <tr>\n",
       "      <th>8</th>\n",
       "      <td>Austria</td>\n",
       "      <td>0.035502</td>\n",
       "    </tr>\n",
       "    <tr>\n",
       "      <th>94</th>\n",
       "      <td>Romania</td>\n",
       "      <td>0.031121</td>\n",
       "    </tr>\n",
       "  </tbody>\n",
       "</table>\n",
       "</div>"
      ],
      "text/plain": [
       "                  country_name  dislike_like_ratio\n",
       "120                   Viet Nam            0.378424\n",
       "95                      Serbia            0.357258\n",
       "70                  Luxembourg            0.294357\n",
       "64          Korea, Republic of            0.260530\n",
       "61                       Japan            0.083739\n",
       "111  Taiwan, Province of China            0.041106\n",
       "8                      Austria            0.035502\n",
       "94                     Romania            0.031121"
      ]
     },
     "execution_count": 177,
     "metadata": {},
     "output_type": "execute_result"
    }
   ],
   "source": [
    "numericals[numericals.country.isin(['AT', 'JP', 'TW', 'RO', 'RS', 'LU', 'VN','KR'])][['country_name',  'dislike_like_ratio']].sort_values(by='dislike_like_ratio', ascending=False)"
   ]
  },
  {
   "cell_type": "markdown",
   "metadata": {},
   "source": [
    "# TOOLS"
   ]
  },
  {
   "cell_type": "code",
   "execution_count": 30,
   "metadata": {},
   "outputs": [],
   "source": [
    "pd.set_option(\"display.max_rows\", 11)"
   ]
  }
 ],
 "metadata": {
  "kernelspec": {
   "display_name": "ada",
   "language": "python",
   "name": "python3"
  },
  "language_info": {
   "codemirror_mode": {
    "name": "ipython",
    "version": 3
   },
   "file_extension": ".py",
   "mimetype": "text/x-python",
   "name": "python",
   "nbconvert_exporter": "python",
   "pygments_lexer": "ipython3",
   "version": "3.11.9"
  }
 },
 "nbformat": 4,
 "nbformat_minor": 2
}
