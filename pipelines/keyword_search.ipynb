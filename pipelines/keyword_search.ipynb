{
 "cells": [
  {
   "cell_type": "code",
   "execution_count": null,
   "metadata": {},
   "outputs": [],
   "source": [
    "# TODO catégories très grandes, histograme de quels mots ont le plus recruté de vidéos"
   ]
  },
  {
   "cell_type": "code",
   "execution_count": 1,
   "metadata": {},
   "outputs": [],
   "source": [
    "%load_ext autoreload\n",
    "%autoreload 2\n",
    "\n",
    "import pandas as pd \n",
    "import numpy as np \n",
    "import os \n",
    "import os.path as op \n",
    "import sys\n",
    "from tqdm.notebook import tqdm\n",
    "\n",
    "import re\n",
    "\n",
    "sys.path.insert(0, '..') # project folder\n",
    "from config import * # all paths to files and constants"
   ]
  },
  {
   "cell_type": "code",
   "execution_count": 2,
   "metadata": {},
   "outputs": [],
   "source": [
    "edu = pd.DataFrame()\n",
    "for i in range(N_BATCHES):\n",
    "    batch = pd.read_csv(path_edu.format(i), index_col=0)\n",
    "    edu = pd.concat([edu, batch])\n",
    "edu = edu.rename(columns={'channel_id': 'channel', 'categories': 'vid_category'})\n",
    "channels = pd.read_csv(path_channels, compression=\"infer\", sep=\"\\t\")\n",
    "channels = channels[['channel', 'name_cc', 'category_cc']]\n",
    "edu = edu[['display_id', 'vid_category', 'channel', 'title', 'tags']]\n",
    "edu = edu.merge(channels, on='channel', how='left')\n",
    "#edu.head()"
   ]
  },
  {
   "cell_type": "code",
   "execution_count": 3,
   "metadata": {},
   "outputs": [],
   "source": [
    "del channels, batch\n",
    "edu['text'] = edu['title'].fillna('') + ' ' + edu['tags'].fillna('')\n",
    "edu = edu.drop(columns=['title', 'tags'])"
   ]
  },
  {
   "cell_type": "markdown",
   "metadata": {},
   "source": [
    "This notebook extracts the subcategories by keyword search using a human and bottom up approach. Since looking for single expressions is way faster than combinations we start by looking at very specific words in the biggest categories (eg. gaming). We proceed with other niche categories that are heavily represented in our observations. Then we group with more complex regular expressions but hopefully on a much smaller dataset. The order of classification is thus important, even crucial. We used personal knowledge, chatGPT, the web, youtube, twitch and copilot to curate the lists of expressions for the categories. Instead of applying complicated patterns with regexp it is preferable to do a big search and then sort out outliers (eg. search for 'python' then sort out all that contain 'animal' and 'snake'). After having run many specific keywords, run the general on the remaining data and try to identify what other keywords one could add."
   ]
  },
  {
   "cell_type": "markdown",
   "metadata": {},
   "source": [
    "# Pipeline for text processing"
   ]
  },
  {
   "cell_type": "code",
   "execution_count": 4,
   "metadata": {},
   "outputs": [],
   "source": [
    "def clean_non_word(text): #punctuation, underscores seem to evade this regex so add it\n",
    "        return  re.sub(r'[^\\w\\s]|_+', ' ', text)\n",
    "\n",
    "def clean_non_ascii(text): # indian symbols that might still be left\n",
    "        return  re.sub(r'[^\\x00-\\x7F]+', ' ', text)"
   ]
  },
  {
   "cell_type": "code",
   "execution_count": 5,
   "metadata": {},
   "outputs": [],
   "source": [
    "edu['text'] = edu['text'].apply(clean_non_word).apply(clean_non_ascii)"
   ]
  },
  {
   "cell_type": "code",
   "execution_count": null,
   "metadata": {},
   "outputs": [],
   "source": [
    "\"\"\" would take 13h\n",
    "import spacy\n",
    "\n",
    "tqdm.pandas()\n",
    "nlp = spacy.load(\"en_core_web_sm\")\n",
    "def lemmatize(text):\n",
    "    doc = nlp(text)\n",
    "    lemmas = [token.lemma_ for token in doc if not token.is_stop and not token.is_punct]\n",
    "    return ' '.join(lemmas)\n",
    "edu['lemma'] = edu.text.progress_apply(lemmatize)\"\"\""
   ]
  },
  {
   "cell_type": "code",
   "execution_count": 6,
   "metadata": {},
   "outputs": [],
   "source": [
    "edu['category'] = 'unclass'"
   ]
  },
  {
   "cell_type": "markdown",
   "metadata": {},
   "source": [
    "# Testing"
   ]
  },
  {
   "cell_type": "code",
   "execution_count": null,
   "metadata": {},
   "outputs": [],
   "source": [
    "# Sample for testing\n",
    "df = edu.sample(frac=0.1, random_state=42, axis =0, ignore_index=True)\n",
    "len(df)"
   ]
  },
  {
   "cell_type": "code",
   "execution_count": 12,
   "metadata": {},
   "outputs": [],
   "source": [
    "keyword = 'audiobook\\w*'\n",
    "case = False\n",
    "pattern = rf'{keyword}' # r\"(?=.*\\bpython\\b)(?=.*\\b(programming|program|code|coding)\\b)\"  \n",
    "keyword = df[df.text.str.contains(pattern, case = case, na ='', regex = True)]"
   ]
  },
  {
   "cell_type": "code",
   "execution_count": null,
   "metadata": {},
   "outputs": [],
   "source": [
    "keyword.text.values"
   ]
  },
  {
   "cell_type": "code",
   "execution_count": 105,
   "metadata": {},
   "outputs": [],
   "source": [
    "(keyword[['name_cc', 'text']]).to_csv(op.join('keys', 'python.csv'))"
   ]
  },
  {
   "cell_type": "markdown",
   "metadata": {},
   "source": [
    "# Classsification"
   ]
  },
  {
   "cell_type": "code",
   "execution_count": 38,
   "metadata": {},
   "outputs": [
    {
     "data": {
      "text/plain": [
       "\"\\nfor keyword in tqdm(keywords, total = len(keywords), desc = bar_text):\\n    pattern = rf'{keyword}'\\n    edu.loc[(edu.category == 'unclass') & edu.text.str.contains(pattern, case = case, na ='', regex = True) , 'category'] = category\\nprint(f'This category now has {len(edu[edu.category == category])} videos')\\n\""
      ]
     },
     "execution_count": 38,
     "metadata": {},
     "output_type": "execute_result"
    }
   ],
   "source": [
    "import time\n",
    "def assign_category(keywords:list, case:bool = False, category:str = 'unclass', edu = edu, pre_b = True, post_b = True, bar_text ='', verbose = False):\n",
    "    pre = ''; post = ''\n",
    "    if pre_b:  pre = r'\\b'\n",
    "    if post_b: post = r'\\b'\n",
    "\n",
    "    keywords = [pre+k+r'\\w*'+post for k in keywords]\n",
    "    keywords = '|'.join(keywords)\n",
    "    pattern = rf'{keywords}'\n",
    "    \n",
    "    start = time.time()\n",
    "    if verbose: print(pattern)\n",
    "    edu.loc[(edu.category == 'unclass') & edu.text.str.contains(pattern, case = case, na ='', regex = True) , 'category'] = category\n",
    "    stop = time.time()\n",
    "    print(f'Category {bar_text} now has {len(edu[edu.category == category])} videos, ellapsed time: {stop-start:.2f} s')\n",
    "\n",
    "def detect_left(keywords, edu = edu, case:bool = False, pre_b = True, post_b = True, cat = 'unclass'):\n",
    "    df = edu[edu.category == cat]\n",
    "    pre = ''; post = ''\n",
    "    if pre_b:  pre = r'\\b'\n",
    "    if post_b: post = r'\\b' \n",
    "    keywords = [pre+k+r'\\w*'+post for k in keywords]\n",
    "    keywords = '|'.join(keywords)\n",
    "    pattern = rf'{keywords}'\n",
    "    df = df.loc[df.text.str.contains(pattern, case = case, na ='', regex = True)]\n",
    "    return df\n",
    "\"\"\"\n",
    "for keyword in tqdm(keywords, total = len(keywords), desc = bar_text):\n",
    "    pattern = rf'{keyword}'\n",
    "    edu.loc[(edu.category == 'unclass') & edu.text.str.contains(pattern, case = case, na ='', regex = True) , 'category'] = category\n",
    "print(f'This category now has {len(edu[edu.category == category])} videos')\n",
    "\"\"\""
   ]
  },
  {
   "cell_type": "code",
   "execution_count": null,
   "metadata": {},
   "outputs": [],
   "source": [
    "regexp_dict = {\n",
    "    '4': r'\\bcoding\\b|\\bprogramming\\b|\\bpython\\b|\\bhtml\\b|\\bjavascript\\b|\\bweb development\\b|\\bweb design',\n",
    "    '9': r'\\bgaming|\\besports\\b',\n",
    "    '91': r'roblox',\n",
    "    '92' : r'minecraft',\n",
    "}"
   ]
  },
  {
   "cell_type": "code",
   "execution_count": null,
   "metadata": {},
   "outputs": [],
   "source": [
    "['', '', '', '', '', '', '', '', '', '', '', '', '', '', '', '', '', '']"
   ]
  },
  {
   "cell_type": "code",
   "execution_count": null,
   "metadata": {},
   "outputs": [],
   "source": [
    "# Check classification\n",
    "key = '91'\n",
    "edu[edu.category == key].sample(10).text.values"
   ]
  },
  {
   "cell_type": "code",
   "execution_count": 37,
   "metadata": {},
   "outputs": [
    {
     "data": {
      "text/plain": [
       "category\n",
       "unclass    3000980\n",
       "8           232214\n",
       "20          123783\n",
       "86          104118\n",
       "4            81481\n",
       "q            54677\n",
       "87           43236\n",
       "7            39087\n",
       "49           31709\n",
       "android      21923\n",
       "79           14804\n",
       "81            8848\n",
       "9             7350\n",
       "a             4781\n",
       "72            3840\n",
       "92            3542\n",
       "82            3095\n",
       "41            2314\n",
       "96            1774\n",
       "74            1772\n",
       "98            1674\n",
       "71            1628\n",
       "73            1308\n",
       "91            1266\n",
       "97            1246\n",
       "83            1215\n",
       "94             637\n",
       "95             569\n",
       "85             313\n",
       "75             308\n",
       "84              72\n",
       "Name: count, dtype: int64"
      ]
     },
     "execution_count": 37,
     "metadata": {},
     "output_type": "execute_result"
    }
   ],
   "source": [
    "edu.category.value_counts() "
   ]
  },
  {
   "cell_type": "code",
   "execution_count": null,
   "metadata": {},
   "outputs": [],
   "source": [
    "# reset a category\n",
    "# edu.loc[edu.category == '20', 'category'] = 'Ole'"
   ]
  },
  {
   "cell_type": "markdown",
   "metadata": {},
   "source": [
    "### TODO before others"
   ]
  },
  {
   "cell_type": "code",
   "execution_count": 8,
   "metadata": {},
   "outputs": [
    {
     "name": "stdout",
     "output_type": "stream",
     "text": [
      "Category  now has 101329 videos, ellapsed time: 271.19 s\n",
      "Category  now has 116459 videos, ellapsed time: 101.88 s\n"
     ]
    }
   ],
   "source": [
    "kids = [r\"nursery rhyme\",r\"sing.along\",r\"Twinkle Twinkle\",r\"Row Row Row Your Boat\",r\"Old MacDonald Had a Farm\",r\"Baa Baa Black Sheep\",r\"The Wheels on the Bus\",r\"If You.re Happy and You Know It\",r\"Itsy Bitsy Spider\",r\"Five Little Monkey\",r\"Baby Shark\",r\"Johnny Johnny Yes Papa\",r\"London Bridge is Falling Down\",r\"Head Shoulders Knees\",\n",
    "    r\"learn color\",r\"learn shapes\",r\"learn numbers\",r\"alphabet songs\",r\"learn ABC\",r\"counting songs\",r\"preschool learning\",r\"early learning\",r\"kindergarten\",r\"how to count\",r\"learning to read\",\n",
    "    r\"Cocomelon\",r\"Peppa Pig\",r\"Blippi\",r\"Baby Shark\",r\"Paw Patrol\",r\"Bluey\",r\"Dora the Explorer\",r\"Thomas and Friend\",r\"Masha and the Bear\",r\"Barney and Friend\",r\"Teletubb\",\n",
    "    r\"kids storytelling\",r\"family-friendly\",r\"playtime\",r\"DIY for kid\",r\"finger painting\",r\"pretend play\",r\"puppet show\",\n",
    "    r\"learn animal\",r\"learn vehicle\", r\"learn the days\",r\"learn the months\", 'learn animal']\n",
    "tricky = [r\"kid\\w* educational song\",r\"kid\\w* song\", r\"kid\\w* dance\",r\"educational video\\w* for kid\",r\"cartoon\\w* for kid\", r\"bedtime stor\\w*\",r\"kid\\w* craft\",\n",
    "          r\"kid\\w* sing.along\",r\"kid\\w* comedy\",r\"kid\\w* yoga\",r\"kid\\w* exercise\",r\"kid\\w* party song\",r\"animal sound\\w* for kid\",r\"chil\\w+ song\",r\"bab\\w+ song\",r\"lullab\\w+\"]\n",
    "assign_category(kids, case = False, category = '20')\n",
    "assign_category(tricky, case = False, category = '20')"
   ]
  },
  {
   "cell_type": "code",
   "execution_count": null,
   "metadata": {},
   "outputs": [],
   "source": [
    "conspiracy = ['conspiracy', 'Qanon', \"hoax\", \"false flag\", \"deep state\", \"new world order\",     \"shadow government\", \"illuminati\",  \"psyop\", \"plandemic\",     \n",
    "              \"government mind control\",\"rigged system\", \"big brother\", \"surveillance state\", \"censorship\", \"black budget\", \"Area 51\",  \"crop circles\", \"ancient aliens\",    \n",
    "              \"reptilian\", \"hollow Earth\", \"interdimensional beings\",  \"Bermuda Triangle\", \"vaccine hoax\", \"anti-vax\", \"chemtrails\", \"fluoride\",  \"pandemic hoax\", \"climate hoax\", \"genetic engineering\", \"eugenics\", \"population control\", \"artificial intelligence takeover\", \"fake science\", \n",
    "            \"JFK assassination\", \"9.11 inside job\", \"moon landing hoax\", \"flat Earth\",'flatist', \"holocaust denial\", \"Freemasons\", \"Knights Templar\", \"Zionist conspiracy\", \"Operation Northwoods\",\n",
    "            \"pizzagate\", \"mass media manipulation\", \"big tech\", \"mass surveillance\", \"AI singularity\", \"robot uprising\", \n",
    "            \"occult\", \"satanic ritual\", \"luciferian\", \"black magic\", \"symbolism\", \"numerology\", \"astrology conspiracy\", \"esoteric knowledge\", \"deep state\"\n",
    "            \"occult rituals\", \"secret worship\", \"paganism cover-up\", \"Epstein island\",\"Q drop\", \"Q clearance\", \"The Storm\", \"The Great Awakening\",\"WWG1WGA\",\"elite cabal\", \"pedo ring\", \"adrenochrome\",  \"Great Reset\",\n",
    "    \"Hollywood pedophiles\",\"media lie\", \"sheeple\", \"Guantanamo Bay\", \"traitors\", \"red October\"]\n",
    "\n",
    "assign_category(conspiracy, case = False, category = 'q', bar_text = 'Conspiracy')"
   ]
  },
  {
   "cell_type": "code",
   "execution_count": 9,
   "metadata": {},
   "outputs": [
    {
     "name": "stdout",
     "output_type": "stream",
     "text": [
      "Category Roblox now has 1274 videos, ellapsed time: 28.78 s\n",
      "Category Minecraft now has 3553 videos, ellapsed time: 28.05 s\n",
      "Category PUBG now has 639 videos, ellapsed time: 28.20 s\n",
      "Category LoL now has 581 videos, ellapsed time: 26.55 s\n",
      "Category CoD now has 1786 videos, ellapsed time: 26.59 s\n",
      "Category Super Mario now has 1251 videos, ellapsed time: 36.68 s\n",
      "Category Pokemon now has 1709 videos, ellapsed time: 27.11 s\n"
     ]
    }
   ],
   "source": [
    "assign_category(['roblox'], category = '91', bar_text='Roblox')\n",
    "assign_category(['minecraft'], category = '92', bar_text='Minecraft')\n",
    "assign_category(['pubg'], category = '94', bar_text='PUBG')\n",
    "assign_category(['league of legend'], category = '95', bar_text='LoL')\n",
    "assign_category(['call of duty'], category = '96', bar_text='CoD')\n",
    "assign_category(['super mario', 'mario kart'], category = '97', bar_text='Super Mario')\n",
    "assign_category(['pokemon'], category = '98', bar_text='Pokemon')"
   ]
  },
  {
   "cell_type": "code",
   "execution_count": 10,
   "metadata": {},
   "outputs": [
    {
     "name": "stdout",
     "output_type": "stream",
     "text": [
      "Category  now has 4975 videos, ellapsed time: 26.89 s\n",
      "Category  now has 123981 videos, ellapsed time: 29.73 s\n"
     ]
    }
   ],
   "source": [
    "assign_category(['audiobook'], case = False, category = 'a')\n",
    "assign_category(['wwii', 'wwi'], case = False, category = '20')"
   ]
  },
  {
   "cell_type": "code",
   "execution_count": null,
   "metadata": {},
   "outputs": [],
   "source": [
    "edu.category.value_counts()"
   ]
  },
  {
   "cell_type": "markdown",
   "metadata": {},
   "source": [
    "### Programming"
   ]
  },
  {
   "cell_type": "code",
   "execution_count": 11,
   "metadata": {},
   "outputs": [
    {
     "name": "stdout",
     "output_type": "stream",
     "text": [
      "Category ML now has 2317 videos, ellapsed time: 87.49 s\n",
      "Category All programming now has 33937 videos, ellapsed time: 120.24 s\n",
      "Category Case sensitive now has 37762 videos, ellapsed time: 28.74 s\n",
      "Category SQL now has 40911 videos, ellapsed time: 23.71 s\n"
     ]
    }
   ],
   "source": [
    "ml = [r'neural network', r'Deep Learning', r'Support Vector Machine', r'K.Nearest', r'K.mean', r'Random Forest', r'Markov Chain', r'AdaBoost', r'Hyperparameter', r'Overfitting', r'Gradient Descent', r'Loss Function']\n",
    "#python = r\"(?=.*\\bpython\\b)(?=.*\\b(programming|program|code|coding)\\b)\" # very time consuming 1h30 so no go \n",
    "keywords = [r'Javascript', r'HTML', r'CSS', r'C\\+\\+', r'matlab', r'web development', r'software development', r'github', r'http', r'Docker', r'Vscode', r'numpy', r'matplotlib', r'scikit.learn', r'ggplot', r'plotly', r'TensorFlow', r'PyTorch', r'Jupyter']\n",
    "case_sensitive = [r'AWS', r'OpenCV', r'SQL']\n",
    "\n",
    "assign_category(ml, case = False, category = '41', bar_text = 'ML')  \n",
    "assign_category(keywords, case = False, category = '4', bar_text = 'All programming')\n",
    "assign_category(case_sensitive, case = True, category = '4', bar_text = 'Case sensitive')\n",
    "assign_category(['SQL'], case = False, category = '4', bar_text = 'SQL', pre_b=False, post_b=False)"
   ]
  },
  {
   "cell_type": "code",
   "execution_count": 12,
   "metadata": {},
   "outputs": [
    {
     "name": "stdout",
     "output_type": "stream",
     "text": [
      "Category Extra programming now has 81711 videos, ellapsed time: 198.75 s\n"
     ]
    }
   ],
   "source": [
    "extra = ['command prompt', 'codeblocks', 'program[a-zA-Z]* tutorial', 'mysql', 'unreal engine', 'blender', 'VBscript', 'VB net', 'c sharp', 'for loop', 'if clause',\n",
    "         r'python program[a-zA-Z]*', r'c program[a-zA-Z]*', r'java program[a-zA-Z]*', r'cnc program[a-zA-Z]*','unity3d', 'unity2d', 'unity c', 'raspberry pi', 'arduino', 'visual studio code', 'geeksforgeeks','PERL', \n",
    "         'wordpress','PHP','scala'] + ['xml', 'gamedev', r'vmc program[a-zA-Z]*', 'clever programmer','codecademy', r'R program[a-zA-Z]*', 'install python', 'wxpython', 'javafx', 'cherrypy' ]\n",
    "assign_category(extra, case = False, category = '4', bar_text = 'Extra programming')\n",
    "# excel, threads, pointer, natural language processing, scala tutorial"
   ]
  },
  {
   "cell_type": "code",
   "execution_count": null,
   "metadata": {},
   "outputs": [
    {
     "name": "stdout",
     "output_type": "stream",
     "text": [
      "Category android now has 21956 videos, ellapsed time: 15.51 s\n",
      "Category Extra programming now has 23655 videos, ellapsed time: 38.10 s\n"
     ]
    }
   ],
   "source": [
    "# left_programing = detect_left(['programming', 'coding','python'], case = False)\n",
    "assign_category(['android'], case = False, category = 'android', bar_text = 'android', pre_b=False, post_b=False)\n",
    "assign_category(['programming', 'coding','python'], case = False, category = '49', bar_text = 'Extra programming')\n",
    "# left_programing.to_csv(op.join('keys', 'left_programing.csv'))"
   ]
  },
  {
   "cell_type": "markdown",
   "metadata": {},
   "source": [
    "# Gaming"
   ]
  },
  {
   "cell_type": "code",
   "execution_count": 14,
   "metadata": {},
   "outputs": [
    {
     "name": "stdout",
     "output_type": "stream",
     "text": [
      "Category Games now has 2075 videos, ellapsed time: 116.57 s\n",
      "Category Brands now has 5807 videos, ellapsed time: 87.19 s\n",
      "Category Case sensitive now has 6552 videos, ellapsed time: 29.85 s\n"
     ]
    }
   ],
   "source": [
    "games = ['tetris', 'Grand Theft Auto', 'Epic Games',  'stardew valley' 'Riot Games', 'terraria', 'Elden Ring', 'zelda', 'overwatch', 'Counter.Strike', 'elder scrolls', 'skyrim', 'World of Warcraft', 'apex legends', 'Dead by Daylight', 'EA SPORTS', 'Hearthstone', 'Rainbow Six' ]\n",
    "\n",
    "brands = ['ASUS ROG', 'Razer', 'SteelSeries', 'Corsair', 'HyperX', 'Logitech', 'nvidia','Thrustmaster', 'Blizzard Entertainment', 'xbox', 'Nintendo','Ubisoft']\n",
    "\n",
    "case_sensitive = ['PvP', 'MMO', 'MOBA','DOTA', 'AMD']\n",
    "\n",
    "assign_category(games, case = False, category = '9', bar_text = 'Games')\n",
    "assign_category(brands, case = False, category = '9', bar_text = 'Brands', post_b= False)\n",
    "assign_category(case_sensitive, case = True, category = '9', bar_text = 'Case sensitive')"
   ]
  },
  {
   "cell_type": "code",
   "execution_count": 33,
   "metadata": {},
   "outputs": [],
   "source": [
    "# left = detect_left(['wii'], case = False, pre_b=False, post_b=False)\n",
    "# left.to_csv(op.join('keys', 'left_wii.csv'))\n",
    "# print('the witcher')\n",
    "# display(detect_left(['the witcher'], case = False, pre_b=False, post_b=False))\n",
    "# left = detect_left(['playstation'], case = False, pre_b=False, post_b=False)\n",
    "# left.to_csv(op.join('keys', 'left_playstation.csv'))"
   ]
  },
  {
   "cell_type": "code",
   "execution_count": 15,
   "metadata": {},
   "outputs": [
    {
     "name": "stdout",
     "output_type": "stream",
     "text": [
      "Category Extra gaming now has 7432 videos, ellapsed time: 124.43 s\n"
     ]
    }
   ],
   "source": [
    "extra = ['witcher 2', 'witcher ii', 'BenQ zowie', 'gameboy', 'witcher III', 'witcher 3', 'emulator', 'playstation 4', 'playstation 3','playstation 2', 'playstation 1', 'gta v', 'gta 5', 'gta iv','gta 4', 'gta 3', 'gta iii', 'playstation vita' 'bandicoot', 'assassin.s creed']\n",
    "assign_category(extra, case = False, category = '9', bar_text = 'Extra gaming')"
   ]
  },
  {
   "cell_type": "code",
   "execution_count": 17,
   "metadata": {},
   "outputs": [],
   "source": [
    "general = ['gaming', r'esport\\w*', 'gameplay', 'playstation']\n",
    "# left_gaming = detect_left(general, case = False, )\n",
    "# left_gaming.to_csv(op.join('keys', 'left_gaming.csv'))"
   ]
  },
  {
   "cell_type": "code",
   "execution_count": 19,
   "metadata": {},
   "outputs": [
    {
     "name": "stdout",
     "output_type": "stream",
     "text": [
      "Category Gaming now has 32628 videos, ellapsed time: 40.59 s\n"
     ]
    }
   ],
   "source": [
    "assign_category(general, case = False, category = '49', bar_text = 'Gaming', post_b = False)"
   ]
  },
  {
   "cell_type": "markdown",
   "metadata": {},
   "source": [
    "# Music"
   ]
  },
  {
   "cell_type": "code",
   "execution_count": 21,
   "metadata": {},
   "outputs": [
    {
     "name": "stdout",
     "output_type": "stream",
     "text": [
      "Category piano now has 8784 videos, ellapsed time: 26.90 s\n",
      "Category keyboard now has 8853 videos, ellapsed time: 25.30 s\n",
      "Category guitar now has 3098 videos, ellapsed time: 25.40 s\n",
      "Category violin now has 1215 videos, ellapsed time: 25.09 s\n",
      "Category drums now has 72 videos, ellapsed time: 26.11 s\n",
      "Category ukulele now has 309 videos, ellapsed time: 24.06 s\n",
      "Category uke now has 313 videos, ellapsed time: 25.44 s\n",
      "Category Composers now has 13953 videos, ellapsed time: 269.65 s\n",
      "Category Classical now has 44518 videos, ellapsed time: 109.28 s\n",
      "Category Music now has 43911 videos, ellapsed time: 61.53 s\n",
      "Category Instruments now has 96742 videos, ellapsed time: 104.92 s\n",
      "Category Styles now has 203782 videos, ellapsed time: 163.30 s\n",
      "Category Festivals now has 204970 videos, ellapsed time: 63.29 s\n",
      "Category Artists now has 104999 videos, ellapsed time: 577.20 s\n",
      "Category Terms now has 231334 videos, ellapsed time: 74.90 s\n"
     ]
    }
   ],
   "source": [
    "popular_instruments = ['piano', 'keyboard', 'guitar', 'violin', 'drums', 'ukulele', 'uke']\n",
    "instruments = ['flute', 'bass','saxophone', 'trumpet', 'clarinet', 'cello', 'trombone' , 'harp', 'sing', 'Accordion', 'bagpipes', 'Mandolin', 'marimba']\n",
    "composers = ['beethoven', 'mozart', 'haydn', 'bach', 'chopin', 'tchaikovsky', 'handel', 'vivaldi', 'rachmaninoff', 'Mendelssohn', 'debussy', 'stravinsky', 'shostakovich', 'prokofiev', 'sibelius', 'mahler', 'brahms', 'schubert', 'schumann', 'liszt', 'wagner', 'verdi', 'puccini', 'rossini', 'bellini', 'donizetti', 'offenbach', 'meyerbeer', 'gounod', 'massenet', 'saint saens', 'faure', 'debussy', 'poulenc', 'milhaud', 'honneger', 'messiaen', 'dutilleux', 'ravel', 'stravinsky', 'bartok', 'shostakovich', 'prokofiev', 'schnittke', 'ligeti']\n",
    "classical = ['symphony', 'Sonata', 'cantata', 'Arpeggio', 'perfect pitch', 'syncopation', 'fugue', 'opera', 'operetta',  'cantata', 'lied', 'aria','chorale',  'concerto', 'intermezzo']\n",
    "styles = ['jazz', 'rock', 'reggae', 'R&B', 'heavy metal', 'hard metal', 'hip.hop', 'rap', 'disco', 'techno', 'dubstep', 'drum and bass', 'rave', 'gregorian chant', 'madrigal', 'rhapsody', 'mazurka', 'polonaise', 'waltz', 'tango', 'rumba', 'samba', 'bossa nova', 'cha cha', 'merengue',  'reggaeton', 'dancehall', 'ragga']\n",
    "festivals = ['Coachella', 'Glastonbury', 'Tomorrowland', 'Lollapalooza', 'Woodstock', 'Montreux Jazz', 'Rock in Rio', ]\n",
    "artists_2010s = ['Drake', 'Rihanna', 'Bruno Mars', 'Justin Bieber', 'Nicki Minaj', 'Taylor Swift', \n",
    "    'Post Malone', 'Ariana Grande', 'Maroon 5', 'Katy Perry', 'Lady Gaga', 'Lil Wayne', \n",
    "    'Ed Sheeran', 'Imagine Dragons', 'Cardi B', 'the Weeknd', 'Pitbull', 'Eminem', \n",
    "    'Chris Brown', 'One Direction', 'Selena Gomez', 'Justin Timberlake', \n",
    "    'Kesha', 'Kendrick Lamar',  'Lady Antebellum', 'Beyonce', 'Jason Aldean', \n",
    "    'Sam Smith', 'Khalid', 'Blake Shelton', 'Travis Scott', \n",
    "    'Shawn Mendes', 'Usher', \n",
    "    'Mumford...Sons', 'Travi. Scott', 'Jay.Z', \n",
    "    'Meghan Trainor', 'Big Sean',  'Coldplay', \n",
    "    'Florida Georgia Line',  'DJ Snake', \n",
    "    'Flo Rida',  'Michael Buble',  'Zac Brown Band', 'Beyonc.', \n",
    "    'Jason Derulo', 'The Chainsmokers', 'Halsey', \n",
    "    'Ludacris', 'Kanye West', 'Swae Lee', 'Kenny Chesney', 'Miley Cyrus', \n",
    "    'Macklemore', 'Carrie Underwood',  'Wiz Khalifa',  \n",
    "    'Migos', 'Twenty One Pilots', 'Charlie Puth', 'Fetty Wap', \n",
    "    'The Black Eyed Peas', 'XXXTentacion', 'Eric Church', \n",
    "    'OneRepublic', 'Juice WRLD', '21 Savage', 'Young Thug', 'Billie Eilish', \n",
    "    'Ty Dolla .ign', 'LMFAO', 'Bebe Rexha', 'Britney Spears', 'Chris Stapleton', \n",
    "    'Iggy Azalea', 'Calvin Harris', '2 Chainz', 'Britney Spears',  \n",
    "     'Sia', 'Ne.Yo', 'Pentatonix', 'Christina Aguilera', 'Kidz Bop Kidz', 'Juicy J', \n",
    "    'David Guetta', 'Quavo', 'U2', 'Lil Nas X', 'Ellie Goulding', 'Bastille', 'The Lumineers', \n",
    "    'Daft Punk', 'Pharrell Williams', 'The Rolling Stones', 'Marshmello', 'Train', \n",
    "    'Luke Bryan', 'Trey Songz', 'Snoop Dogg', 'Demi Lovato',  'Sam Hunt', \n",
    "    'Enrique Iglesias',  'Taio Cruz', 'Camila Cabello', 'Tyga', 'Lil Uzi Vert', \n",
    "    'Alessia Cara', 'Panic. at the Disco', 'will.i.am', 'Miranda Lambert', \n",
    "    'Bruce Springsteen', 'Kelly Clarkson', 'Jeremih',  'Charli XCX', \n",
    "    'Lil Baby', 'Thomas Rhett', 'John Legend', 'Meek Mill',  'Keith Urban', \n",
    "    'Lorde', 'Bon Jovi', 'Carly Rae Jepsen', '5 Seconds of Summer', 'Paul McCartney', 'G.Eazy']\n",
    "# dances \n",
    "others = ['concert', 'karaoke', 'musical', 'garage band', 'sheet music', 'Soundtrack','songwriter', 'DJ'] # festival cooccuring with music # chord\n",
    "\n",
    "from config import content_categories, inverted_categories \n",
    "\n",
    "for instr in popular_instruments:\n",
    "    pattern = rf'\\b{instr} tutorial\\b'\n",
    "    ins = instr if instr != 'uke' else 'ukulele'\n",
    "    ins = ins if ins != 'keyboard' else 'piano'\n",
    "    assign_category([pattern], case = False, category = inverted_categories[f'{ins} tutorial'], bar_text = instr, pre_b=False, post_b=False)\n",
    "\n",
    "assign_category(composers, case = False, category = '87', bar_text = 'Composers')\n",
    "assign_category(classical, case = False, category = '87', bar_text = 'Classical')\n",
    "assign_category(popular_instruments, case = False, category = '8', bar_text = 'Popular instruments')\n",
    "assign_category(instruments, case = False, category = '8', bar_text = 'Instruments')\n",
    "assign_category(styles, case = False, category = '8', bar_text = 'Styles') \n",
    "assign_category(festivals, case = False, category = '8', bar_text = 'Festivals')\n",
    "assign_category(artists_2010s, case = False, category = '86', bar_text = 'Artists')\n",
    "assign_category(others, case = False, category = '8', bar_text = 'Terms')"
   ]
  },
  {
   "cell_type": "code",
   "execution_count": null,
   "metadata": {},
   "outputs": [],
   "source": [
    "# assign_category(['music'], case = False, category = '89', bar_text = 'music rest', backslah_b_after = False)\n",
    "left_music = detect_left(['music'], case = False)\n",
    "left_music.to_csv(op.join('keys', 'left_music.csv'))\n",
    "#still too general"
   ]
  },
  {
   "cell_type": "markdown",
   "metadata": {},
   "source": [
    "# Chess"
   ]
  },
  {
   "cell_type": "code",
   "execution_count": 22,
   "metadata": {},
   "outputs": [
    {
     "name": "stdout",
     "output_type": "stream",
     "text": [
      "Category Chess now has 237927 videos, ellapsed time: 386.57 s\n",
      "Category Chesss + now has 238094 videos, ellapsed time: 28.74 s\n"
     ]
    }
   ],
   "source": [
    "# '', '', '', '', '', '', '', '', '', '', '', '', '', '', '', '', '', ''\n",
    "chess = ['chess opening', 'chess board', 'chess engine','chess olympiad','world chess', 'chess move','chess tournament', 'pawn promotion', 'chess composition', 'chess theory','Stalemate', 'Zugzwang', 'En passant', 'Castling', 'Gambit', 'Pawn structure', 'Sicilian Defense', 'Caro-Kann', 'King\\S* Indian Defense', 'Queen\\S* Gambit', 'queen sacrifice', 'rook sacrifice', 'bishop sacrifice',\n",
    "         'deep blue','Ruy Lopez', 'Scandinavian Defense','Gukesh Dommaraju', 'World Chess Championship','chaturanga', 'Magnus Carlsen','José Capablanca','Vasily Smyslov','Viktor Korchnoi','Alexander Alekhine', 'Magnus Carlsen', , 'Hikaru', 'Hikaru Nakamura', 'Mikhail Botvinnik', 'Emanuel Lasker', 'Garry Kasparov', 'Maxime Vachier-Lagrave','Kasparov', 'Anatoly Karpov','Bobby Fischer', 'Shakhriyar Mamedyarov','Judit Polgar','Fabiano Caruana', 'Wesley So', 'Vishy Anand', 'Levon Aronian',\n",
    "         'International Chess Federation', 'perpetual check', 'pawnless', 'Grandmaster','International Master', 'International Grandmaster','H.J.R. Murray', 'pawn structure','Lichess', 'Chess.com','Tata Steel Chess','Sinquefield Cup',\n",
    "         'FIDE World', 'Bullet chess', 'blitz chess', 'rapid chess', 'fischer random', 'Stockfish', 'AlphaZero', 'Leela Chess Zero', 'Komodo','Chess puzzle']\n",
    "case_sensitive = ['FIDE', 'ELO'] # 'Carlsen' tout seul peut etre pas bonne idee \n",
    "assign_category(chess, case = False, category = '8', bar_text = 'Chess')\n",
    "assign_category(case_sensitive, case = True, category = '8', bar_text = 'Chesss +')"
   ]
  },
  {
   "cell_type": "code",
   "execution_count": null,
   "metadata": {},
   "outputs": [],
   "source": [
    "#'chess', Blunder # maybe chess lingo Nf4, checkmate, elo, pawn, middlegame, chess engine"
   ]
  },
  {
   "cell_type": "markdown",
   "metadata": {},
   "source": [
    "# sports"
   ]
  },
  {
   "cell_type": "code",
   "execution_count": 31,
   "metadata": {},
   "outputs": [
    {
     "name": "stdout",
     "output_type": "stream",
     "text": [
      "Category Football now has 1644 videos, ellapsed time: 555.22 s\n",
      "Category American football now has 1349 videos, ellapsed time: 249.56 s\n",
      "Category Cricket now has 1780 videos, ellapsed time: 231.09 s\n",
      "Category Basketball now has 3880 videos, ellapsed time: 229.56 s\n",
      "Category Baseball now has 313 videos, ellapsed time: 222.81 s\n",
      "Category Sports now has 39428 videos, ellapsed time: 579.06 s\n"
     ]
    }
   ],
   "source": [
    "football = [\"goalkeeper\",'uefa','cross bar challenge', \"corner kick\",\"free kick\",\"penalty shootout\",\"offside\",\"video assistant referee\",\"hat-trick\",\"Champions League\",\"FIFA World Cup\",\"La Liga\",\"Premier League\",\"Serie A\", 'Serie B'\"Bundesliga\",\"goal line technology\",'cr7', \n",
    "\"Lionel Messi\", \"Cristiano Ronaldo\", \"Neymar\", \"Kylian Mbapp.\", 'Mbappe', 'Mbappé', \"Zlatan\",\"Ibrahimovic\", \"Luka Modric\", \"Karim Benzema\", 'benzema', \"Mohamed Salah\", \n",
    "    \"van Dijk\", \"Lewandowski\", \"Haaland\", \"Kevin De Bruyne\", \"Marta Vieira da Silva\", \"Megan Rapinoe\", \"Alex Morgan\", \"Sam Kerr\", \"Vivianne Miedema\", \"Lucy Bronze\", \"Ada Hegerberg\", \"Amandine Henry\",\n",
    "    \"Manchester United\", \"Manchester City\", \"Arsenal\", \"Tottenham Hotspur\", \"Newcastle United\", \"Leeds United\", \"Aston Villa\", \"West Ham United\", \"Brighton & Hove Albion\",\"Wolverhampton Wanderers\", \"Leicester City\",  \"Crystal Palace\", \"Brentford\", \"Sheffield United\"\n",
    "    \"Real Madrid\", \"Barca\", \"Atletico Madrid\", \"Real Betis\", \"Villarreal\", \"Real Sociedad\",  \"Athletic Bilbao\", \"Celta Vigo\", \"Rayo Vallecano\", \"Espanyol\", \n",
    "    'calcio', \"AC Milan\", \"Inter Milan\", \"Juventus\", \"ssc Napoli\", \"As Roma\", \"ss Lazio\", \"Atalanta bc\", \"acf Fiorentina\", \"Torino fc\", \"ac Monza\"\n",
    "    \"Bayern Munich\", \"Borussia Dortmund\", \"RB Leipzig\", \"Bayer Leverkusen\", \"Eintracht\", \"Borussia M.nchengladbach\", \"Schalke 04\", \"Union Berlin\", \"Hertha Berlin\",\"Augsburg\", \"Werder Bremen\", \"Hamburger SV\"\n",
    "    \"Paris Saint.Germain\", \"Olympique Marseille\", \"Olympique Lyon\", \"as Monaco\", \n",
    "    'benfica', 'futebol clube porto',\"Sporting CP\", \"Ajax\", \"PSV Eindhoven\",\"Galatasaray\", \"Fenerbah.e\", \"Be.ikta.\",\n",
    "    \"LA Galaxy\", \"Los Angeles FC\", \"New York City FC\", \"Seattle Sounders\", \"Atlanta United\", \"Inter Miami\", \"Orlando City SC\",\n",
    "]\n",
    "# beware of those that are also cities \n",
    "# \"Everton\", \"Chelsea\" ,'Liverpool', \"Sevilla\", \"Valencia\" ,'napoli'\n",
    "# VAR\n",
    "\n",
    "american_football = [\"quarterback\",\"linebacker\",\"wide receiver\",\"running back\",\"field goal\",\"Super Bowl\",\"college football\",\"two-point conversion\",\"yard line\", \"Tom Brady\", \"Patrick Mahomes\", \"Aaron Rodgers\", \"Peyton Manning\", \n",
    "            \"Joe Montana\", \"Drew Brees\", \"Russell Wilson\", \"Odell Beckham Jr\",\n",
    "            \"Ezekiel Elliott\", \"J.J. Watt\", \"Travis Kelce\", \"Saquon Barkley\",\n",
    "            \"Lamar Jackson\", \"DeAndre Hopkins\", \"Tyreek Hill\", \"Von Miller\",\n",
    "             \"Rob Gronkowski\", \"Walter Payton\", \"Jerry Rice\", \"Jim Brown\", \"Dallas Cowboys\", \"New England Patriots\", \"Green Bay Packers\", \n",
    "            \"Kansas City Chiefs\", \"Pittsburgh Steelers\", \"San Francisco 49ers\", \n",
    "            \"Chicago Bears\", \"Seattle Seahawks\", \"New York Giants\", \"Buffalo Bills\",\n",
    "         \"Los Angeles Rams\", \"Philadelphia Eagles\", \"Denver Broncos\", \n",
    "          \"Baltimore Ravens\", \"Indianapolis Colts\", \"Tampa Bay Buccaneers\"]\n",
    "#\"NFL\"\n",
    "\n",
    "\n",
    "cricket = ['cricket',\"Indian Premier League\",\"The Ashes\", \"Virat Kohli\", \"Sachin Tendulkar\", \"MS Dhoni\", \"Steve Smith\",\n",
    "            \"Kane Williamson\", \"Joe Root\", \"Ben Stokes\", \"AB de Villiers\",\"Jacques Kalli\", \"Ricky Ponting\", \"Muttiah Muralitharan\", \"Shane Warne\",\n",
    "            \"Lasith Malinga\", \"Brett Lee\", \"Ellyse Perry\", \"Mithali Raj\",\"Harmanpreet Kaur\", \"Jhulan Goswami\", \"Meg Lanning\", \"Heather Knight\",\n",
    "            \"Mumbai Indian\", \"Chennai Super King\", \"Kolkata Knight Rider\",\"Sydney Sixer\", \"Perth Scorcher\", \"Surrey County Cricket\", \n",
    "            \"Mumbai Cricket\", \"Guyana Amazon Warrior\", \"Barbados Royal\", \"Karachi King\", \"Islamabad United\", \n",
    "            \"Melbourne Star\", \"Hampshire County Cricket\", \"Central Stag\", \"Delhi Capital\"\n",
    "]\n",
    "\n",
    "basketball = ['basketball', \"March Madness\",\n",
    "                \"Los Angeles Lakers\", \"Boston Celtics\", \"Golden State Warriors\",\"Chicago Bulls\", \"Miami Heat\", \"San Antonio Spurs\", \"Brooklyn Nets\", \"Phoenix Suns\", \"Dallas Mavericks\", \"Philadelphia 76ers\", \"Milwaukee Bucks\", \"New York Knicks\", \"Utah Jazz\", \"Denver Nuggets\", \n",
    "                \"Toronto Raptors\", \"Houston Rockets\",\"Michael Jordan\", \"LeBron James\",'lebron', \"Kobe Bryant\", \"Shaquille O'Neal\", \"Steph Curry\", \"Kevin Durant\", \"Tim Duncan\", \"Magic Johnson\", \"Larry Bird\", \"Wilt Chamberlain\", \"Kareem Abdul-Jabbar\", \"Giannis Antetokounmpo\",\"Dirk Nowitzki\", \"Scottie Pippen\", \"Sue Bird\", \"Diana Taurasi\", \"Maya Moore\", \"Breanna Stewart\", \"Candace Parker\", \"Lisa Leslie\"\n",
    "            ]\n",
    "# \"NBA\",\"WNBA\"\n",
    "\n",
    "baseball = [\"Babe Ruth\", \"Jackie Robinson\", \"Hank Aaron\", \"Willie Mays\",  \"Derek Jeter\", \"Albert Pujols\", \"Barry Bonds\", \"Clayton Kershaw\",\n",
    "    \"Mike Trout\", \"Nolan Ryan\", \"Ted Williams\", \"Ken Griffey Jr.\",  \"Alex Rodriguez\", \"Joe DiMaggio\", \"Sandy Koufax\", \"Mariano Rivera\", \"Mookie Betts\", \"Shohei Ohtani\", \"Ichiro Suzuki\", \"Cy Young\",\n",
    "    \"New York Yankees\", \"Los Angeles Dodgers\", \"Boston Red Sox\", \"Chicago Cubs\", \"San Francisco Giants\", \"Houston Astros\", \"Atlanta Braves\", \"St. Louis Cardinals\", \"Oakland Athletics\", \n",
    "    \"Philadelphia Phillies\", \"Detroit Tigers\", \"Cleveland Guardians\", \"San Diego Padres\", \"Minnesota Twins\", \"Toronto Blue Jays\", \n",
    "    \"Seattle Mariners\", # baseball\n",
    "]\n",
    "\n",
    "sports =[\"athletics\",\"goal\",\"training\",\"halftime\",\"sportsmanship\",\"medal\", 'olympic', 'Jeux olympiques', \"Archery\", \"Athletics\", \"Badminton\", \"Baseball\", 'Slalom',\"Boxing\", r\"Canoe\\w*\",'BMX', 'bicycle',\"Cycling\", \"Mountain Bike\", \"Road Cycling\", \n",
    "    \"Diving\", \"Golf\", \"Gymnastics\", \"Trampoline\", \"Handball\", \"Hockey\", \"Judo\", \"Karate\", \"Pentathlon\", \"Rowing\", \"Rugby\", \"Skateboard\", \"Sport Climbing\", \"Surfing\", \"Swimming\", \"Table Tennis\", 'ping.pong', \"Taekwondo\", \"Tennis\", \"Triathlon\", \"Volleyball\", \n",
    "    \"Polo\", \"Weightlift\", \"Wrestling\", \"Biathlon\", \"Bobsleigh\", \"Cross-Country Skiing\", \"Curling\", \"Skating\", \"Freestyle Skiing\", \"Luge\", \"Ski Jump\", \"Snowboard\",\n",
    "    \"Kabaddi\", \"Floorball\", \"Lacrosse\", \"Futsal\",\"Kickboxing\", \"Muay Thai\", \"Jiu-Jitsu\", \"Kung Fu\",  \"Aikido\", \"Jeet Kune Do\", \"Capoeira\", \"Savate\",  \"Krav Maga\", \"Wushu\", \"Wakeboard\"\n",
    "    \"jetski\", r\"Freediv\\w+\", r\"Spearfish\\w*\",\"Squash\", \"Padel\", \"Pickleball\", \"Racquetball\"\n",
    "    \"Parkour\", \"Bouldering\", \"Wingsuit\", \"Bungee Jumping\", \"Motocross\", \"Skating\", \"Bowling\", \"Darts\",  \"Sepak Takraw\", \"Teqball\", \"Petanque\",  \"Cheerleading\",  \"Boccia\", \"Goalball\", \"Archery\", \"Athletics\", \n",
    "    \"Powerlifting\",\"Fencing\",\"Sumo\", \"Kabaddi\", \"Pencak Silat\", \"Sepak Takraw\", \"Dragon Boat Racing\", \"Buzkashi\", \"Kitesurf\",'Bodyboard', 'windsurf',\"Shinty\", \"Basque Pelota\",'Jet.Ski', 'Kayak', 'sailing' , 'Stand.Up Paddle'\n",
    "]\n",
    "\n",
    "\n",
    "assign_category(football, case = False, category = '71', bar_text = 'Football')\n",
    "assign_category(american_football, case = False, category = '73', bar_text = 'American football')\n",
    "assign_category(cricket, case = False, category = '74', bar_text = 'Cricket')\n",
    "assign_category(basketball, case = False, category = '72', bar_text = 'Basketball')\n",
    "assign_category(baseball, case = False, category = '75', bar_text = 'Baseball')\n",
    "assign_category(sports, case = False, category = '7', bar_text = 'Sports')\n"
   ]
  },
  {
   "cell_type": "code",
   "execution_count": 39,
   "metadata": {},
   "outputs": [
    {
     "name": "stdout",
     "output_type": "stream",
     "text": [
      "Category Sport now has 20814 videos, ellapsed time: 26.08 s\n"
     ]
    }
   ],
   "source": [
    "assign_category(['sport'], case = False, category = '79', bar_text = 'Sport', post_b = False, pre_b = False)"
   ]
  },
  {
   "cell_type": "markdown",
   "metadata": {},
   "source": [
    "# History"
   ]
  },
  {
   "cell_type": "code",
   "execution_count": 40,
   "metadata": {},
   "outputs": [
    {
     "name": "stdout",
     "output_type": "stream",
     "text": [
      "Category History now has 571646 videos, ellapsed time: 1473.85 s\n"
     ]
    }
   ],
   "source": [
    "history = [\n",
    "    \"Babylon\", \"Sumer\", \"Carthage\", \"Assyria\", \"Phoenicia\", \"Byzantium\", \"Hittite\", \"Persian\", \"Mesopotamia\", \"Gaul\", \"Akkadia\",  \"Etruria\", \"Elam\", \"Lydia\", \"Urartu\", \"Minoa\",\"Hammurabi\", \"Nebuchadnezzar\", \"Gilgamesh\", \"Ashoka\", \"Cleopatra\",  \"Ramses\", \"Hatshepsut\", \"Akhenaten\", \"Tutankhamun\", \"Charlemagne\", \n",
    "    \"Attila\", \"Genghis Khan\", \"Kublai Khan\", \"Alexander the Great\", \"Julius Caesar\", \"Marcus Aurelius\", \"Constantine\", \"Harun al-Rashid\", \"Alaric\", \"Boudica\", \"Joan of Arc\", \"Leonidas\", \"Pericles\", \"Theodora\", \"Hypatia\", \"Suleiman the Magnificent\", \"Tamerlane\",\n",
    "    'olympus', 'cyclops', \"Zeus\", \"Poseidon\", \"Hades\", \"Apollo\", \"Athena\", \"Hera\", \"Ares\", \"Hermes\", \"Artemis\", \"Dionysus\", \"Persephone\", \"Ra\", \"Isis\", \n",
    "    \"Osiris\", \"Horus\", \"Set\", \"Anubis\", \"Bastet\", \"Amaterasu\", \"Susanoo\", \"Tsukuyomi\", \"Odin\", \"Loki\", \"Freya\",  \"Heimdall\", \"Baldur\", \"Huitzilopochtli\", \"Quetzalcoatl\", \"Tezcatlipoca\", \n",
    "    \"Ixchel\", \"Chac\", \"Inti\", \"Viracocha\", \"Pachamama\", \"Tlaloc\",    \"Troy\", \"Atlantis\", \"Nineveh\", \"Pompeii\", \"Ecbatana\", \"Tenochtitlan\",     \"Machu Picchu\", \"Palmyra\", \"Hattusa\", \"Knossos\", \"Teotihuacan\",    \"Angkor\", \"Petra\", \"Persepolis\", \"Mohenjo-Daro\",   \"Harappa\", \"Ur\", \"Susa\", \"Meroë\",\n",
    "    \"Dead Sea Scrolls\", \"Shroud of Turin\", \"Terracotta Army\", \"Golden Fleece\", \"Ark of the Covenant\", \"Excalibur\", \"Holy Grail\", \n",
    "    \"Stonehenge\", \"Hanging Gardens\", \"Colossus of Rhodes\",  \"Library of Alexandria\", \"Antikythera Mechanism\", \"Sphinx\", \"Ziggurat\",  \"Pantheon\", \"Acropolis\",\n",
    "    \"Paleolithic\", \"Neolithic\", \"Bronze Age\", \"Iron Age\", \"Antiquity\", \"Middle Ages\", \"Renaissance\", \"Reformation\", \"Enlightenment\", \"Industrial Revolution\",\n",
    "    \"centurion\", \"samurai\", \"shogun\",   \"vizier\", \"janissary\", \"mamluk\", \"satrap\", \"praetorian guard\", \"knight-errant\", \"caliphate\", \"crusade\",   \"reich\", \"dynasty\", \"empire\",\n",
    "    \"Gilgamesh\", \"Iliad\", \"Odyssey\", \"Aeneid\", \"Bhagavad Gita\",     \"Mahabharata\", \"Ramayana\", \"Book of the Dead\", \"Analects\",     \"Tao Te Ching\",  \"Summa Theologica\",   \"Peloponnesian War\", \n",
    "    \"pharaoh\", \"consul\", \"tsar\", \"kaiser\", \"emir\", \"viceroy\", \"archduke\",  \"shah\", \"imperator\", \"thane\", \" caliph\", \"czar\",\n",
    "    \"Crusade\", \"Hundred Years. War\", \"War of the Roses\", \"Peloponnesian War\",    \"Pax Romana\", \"Constantinople\", \"Great Schism\", \"Renaissance\", \"Age of Exploration\", \"Westphalia\", \n",
    "    \"Meiji Restoration\", \"Partition of India\", \"American Revolution\",     \"French Revolution\", \"Battle of Hastings\", \"Black Death\",\"mummy\", \"feudalism\",  \"oracle\", \n",
    "    \"Cold War\", \"Space Race\", \"Iron Curtain\",  \"Vietnam War\",  \"Decolonization\",   \"Great Depression\", \"New Deal\",  \"Roaring Twenties\", \"World War I\", \"World War II\",  \"Post-War Reconstruction\", \"Marshall Plan\", \n",
    "    \"Warsaw Pact\", \"Cultural Revolution\", \"Domino Theory\",  \"Red Scare\", \"Nuremberg Trials\", \"Partition of Palestine\", 'holocaust',  \"Partition of India\", \"Nehruvian Era\",\n",
    "    \"fascism\", \"nazism\", \"apartheid\",  \"imperialism\", \"anti-colonialism\", \n",
    "    \"Roosevelt\", \"Winston Churchill\", 'churchill', \"Joseph Stalin\",'stalin','ussr' \"Adolf Hitler\", 'hitler', \"Mahatma Gandhi\",   \"Jawaharlal Nehru\", \"John F. Kennedy\",  \"Martin Luther King\",\n",
    "    \"Che Guevara\", \"Fidel Castro\", \"Ho Chi Minh\",   \"Charles de Gaulle\", \"Mao Zedong\",   \"Chiang Kai.shek\", \"Hirohito\", \"George Patton\",   \"Dwight D. Eisenhower\", \"Nikita Khrushchev\", \n",
    "    \"Leonid Brezhnev\", \"Harry S. Truman\", \"Lyndon B. Johnson\",  \"Richard Nixon\", \"Golda Meir\",\n",
    "    \"Battle of Midway\", \"Stalingrad\",\"Blitzkrieg\", \"Operation Overlord\", \"Pearl Harbor\",  \"Manhattan Project\", \"Hiroshima\", \"Nagasaki\",  \"Korean War\", \"Gulf of Tonkin\", \"Tet Offensive\",  \"Treaty of Versailles\", \"Potsdam Conference\", \n",
    "    \"Yalta Conference\", \"Cuban Missile Crisis\",   \"Montgomery Bus Boycott\",  \"Black Panthers\", \"March on Washington\",  \"Satyagraha\", \"Salt March\", \"Kwame Nkrumah\",   \"Julius Nyerere\", \"Patrice Lumumba\", \"Nelson Mandela\",\n",
    "    \"Apollo 11\", \"Sputnik\", \"Lunar Module\",  \"Neil Armstrong\", \"Buzz Aldrin\", \"Yuri Gagarin\", \"Vostok\", \"Gemini\",   \"Mercury Program\", \"Jodrell Bank\",     \"Berlin Wall\", \"Checkpoint Charlie\", \"Hiroshima Peace Memorial\",  \"Independence Hall\", \"Selma Bridge\",  \"Mount Rushmore\", \"Iwo Jima Memorial\",\n",
    "    \"KGB\", \"Third Reich\",  \"Axis Powers\", \"Allied Powers\",  \"Vietnamese National Front\",  \"Watergate\", \"Bay of Pigs\", \"Rosenberg Trials\",   \"Hollywood Ten\", \"Munich Massacre\", \"My Lai Massacre\",     \"Chernobyl\", \"Cuban Revolution\",\n",
    "    \"Iron Curtain\", \"Berlin Airlift\", \"Moon Landing\"]\n",
    "\n",
    "assign_category(history, case = False, category = '20', bar_text = 'History')"
   ]
  },
  {
   "cell_type": "code",
   "execution_count": 41,
   "metadata": {},
   "outputs": [
    {
     "name": "stdout",
     "output_type": "stream",
     "text": [
      "Category History now has 960 videos, ellapsed time: 15.94 s\n"
     ]
    }
   ],
   "source": [
    "assign_category(['edutainment'], case = False, category = '6', bar_text = 'History', post_b = False, pre_b = False)"
   ]
  },
  {
   "cell_type": "code",
   "execution_count": 42,
   "metadata": {},
   "outputs": [
    {
     "name": "stdout",
     "output_type": "stream",
     "text": [
      "Category History now has 73423 videos, ellapsed time: 98.08 s\n"
     ]
    }
   ],
   "source": [
    "assign_category(['yoga', 'fitness','exercise', 'strength training'], case = False, category = '7', bar_text = 'sport', post_b = False, pre_b = False)"
   ]
  },
  {
   "cell_type": "code",
   "execution_count": 43,
   "metadata": {},
   "outputs": [
    {
     "name": "stdout",
     "output_type": "stream",
     "text": [
      "Category Spirituality now has 309311 videos, ellapsed time: 707.87 s\n"
     ]
    }
   ],
   "source": [
    "spirituality = ['spirituality', \"Bible\", \"Quran\", \"Torah\", \"Tanakh\", \"Vedas\", \"Upanishads\", \"Bhagavad Gita\", \"Talmud\", \"Hadith\", \"Tripitaka\", \"Dhammapada\", \"Guru Granth Sahib\", \"Avesta\", \"Zend-Avesta\", \"Mormon\",\n",
    "    \"Yahweh\", \"Allah\", \"Jesus\", \"Christ\", \"Buddha\", \"Krishna\", \"Shiva\", \"Vishnu\", \"Ganesha\", \"Lakshmi\", \"Hanuman\", \"Holy Spirit\", \"Jehovah\", \"Adonai\", \"Elohim\", \"Rama\", \"Parvati\", \"Durga\", \"Kali\", \"Ahura Mazda\", \n",
    "    \"Moses\", \"Muhammad\",\"John the Baptist\", \"Saint Peter\", \"Saint Paul\", \"Saint Augustine\", \"Saint Francis\", \"Saint Teresa\", \"Joan of Arc\", \"Martin Luther\", \"Calvin\", \"Guru Nanak\", \"Mahavira\", \"Zoroaster\", \n",
    "    \"Archangels\", \"Djinn\", \"Asura\", \"Yaksha\", \"Naga\", \"Rakshasa\", \"Gandharva\", \"Deva\", \"Valkyrie\", \"Fairy\", \"Satyr\", \"Centaur\", \"Phoenix\", \n",
    "    \"Mecca\", \"Nazareth\", \"Mount Sinai\", \"Mount Zion\", \"Kailash\", \"Varanasi\", \"Lumbini\", \"Bodh Gaya\",  \"Amritsar\", \"Monastery\", \"Abbey\", \"Chapel\", \"Synagogue\", \"Pagoda\", \"Stupa\", \"Cathedral\", \"Temple\", 'shrine'\n",
    "    \"Baptism\", \"Eucharist\", \"Confession\", \"Mass\", \"Hajj\", \"Salah\", \"Fasting\", \"Meditation\", \"Puja\", \"Arti\", \"Yagna\", \"Namaz\", \"Mantra\",  \"Prayer\", \"Rosary\", \"Ordination\", \"Sacrament\",\n",
    "    \"Sin\", \"Karma\", \"Dharma\", \"Nirvana\", \"Samsara\", \"Moksha\", \"Resurrection\", \"Reincarnation\", \"Purgatory\", \"Afterlife\", 'meditation', \n",
    "    \"Crucifix\", \"Chalice\", \"Ciborium\", \"Menorah\", \"Altar\", \"Tabernacle\", \"Tefillin\", \"Rosary\", \"Reliquary\", \"Ramadan\", \"Eid\", \"Yom Kippur\", \"Hanukkah\", \"Holi\", \"Vesak\", \"Lent\", \"Ash Wednesday\", \"Good Friday\", \"Rosh Hashanah\", \"Navaratri\", \"Durga Puja\", \"Thaipusam\",\n",
    "    \"Monk\", \"Nun\", \"Priest\", \"Imam\", \"Rabbi\", \"Swami\", \"Yogi\", \"Shaman\", \"Mystic\", \"Hermit\", \"Sage\", \"Oracle\", \"Prophetess\", \"Pope\", \"Cardinal\", \"Bishop\", \"Caliph\", \"Mysticism\", \"Asceticism\"\n",
    "]\n",
    "assign_category(spirituality, case = False, category = '21', bar_text = 'Spirituality')"
   ]
  },
  {
   "cell_type": "markdown",
   "metadata": {},
   "source": [
    "# Food and cooking"
   ]
  },
  {
   "cell_type": "code",
   "execution_count": 50,
   "metadata": {},
   "outputs": [
    {
     "name": "stdout",
     "output_type": "stream",
     "text": [
      "Category Cooking and food terms now has 166673 videos, ellapsed time: 1333.46 s\n"
     ]
    }
   ],
   "source": [
    "cooking = ['cooking',\"mandoline\", \"microplane\", \"spatula\", \"skillet\", \"wok\", \"tagine\",\"tandoor\",'tandoori', \"colander\", \"zester\", \"rolling pin\", \"pastry\", \"mezzaluna\", \"pepper mill\", \"spoon\",\n",
    "    \"ladle\", \"bench scraper\", \"peeler\", \"grater\",\"knife\", \"cleaver\", \"butcher block\", \"blender\", \"pestle\",'mortar', \"bain.marie\", \"Dutch oven\",\"ramekin\", \"cookie\", \"cake\", \"pan\",\n",
    "    \"ice cream\",\"sous vide\", \"food processor\",\"pressure cooker\", \"rice\", \"stockpot\", \"griddle\", \"piping bag\", \"salad\", \"citrus\", \"melon\",\"pasta\", \"tamis\", \"potato\", \"spice\",\n",
    "    \"braising\", r\"saut.ing\", \"julienne\", \"maceration\", \"tempering\", \"roux\", \"beurre\", r\"blanch\\w+\", r\"deglaz\\w+\", r\"emulsif\\w+\", \"proofing\", r\"carameliz\\w+\", \n",
    "    r\"ferment\\w*\", r\"poach\\w*\", r\"sear\\w*\", r\"marinat\\w+\", \"confit\", \"curdling\", 'jam', r\"roast\\w*\",\n",
    "    \"saffron\", \"truffle\", \"sumac\", \"tamarind\", \"miso\", \"kombu\", \"yuzu\", \"ponzu\", \"amaranth\", \"quinoa\", \"farro\", \"freekeh\",\"barberries\", \"vermouth\", \"creme fraiche\", \"mascarpone\", \"fontina\", \"pecorino\", \"burrata\", \"paneer\", \"gorgonzola\",\n",
    "    \"anchovy\", \"capers\", \"kimchi\", \"gochujang\", \"furikake\", 'parmesan', 'parmiggiano',\"nori\", \"wasabi\", \"adzuki\", \"tamari\", \"mirin\",\"guanciale\", \"prosciutto\", \"pancetta\", \"kefir\", \"labneh\",\n",
    "    \"ghee\", \"lard\", \"tallow\", \"duck fat\",\"ratatouille\", \"bouillabaisse\", \"cassoulet\", \"coq au vin\",\"chateaubriand\", \"paella\", \"tapas\", \"gazpacho\", \"tortilla\",\n",
    "    \"gnocchi\", \"risotto\", \"carbonara\", \"osso buco\", \"tiramisu\",\"strudel\", \"goulash\", \"pierogi\", \"borscht\", \"pelmeni\", \"blini\", \"baklava\", \"dolma\", \"shawarma\",\"tabbouleh\", \"hummus\", \"shakshuka\", \"falafel\",\n",
    "    \"kimchi\", \"bibimbap\", \"bulgogi\", \"ramen\", \"sushi\", \"sashimi\", \"tempura\", \"teriyaki\", \"udon\", \"katsu\", \"pho\", \"banh mi\",\"som tam\", \"pad thai\", \"laksa\", \"rendang\", \"naan\", \"rogan josh\", \"vindaloo\", \"dosa\", \"idli\", \"sambar\", \"khichdi\", \"gulab jamun\",\n",
    "    \"pavlova\", \"lamington\", \"churros\", \"arepas\",\"empanadas\", \"tamales\", \"ceviche\", \"asado\", \"clam\", \"jambalaya\", \"gumbo\",\"chow mein\", \"mapo\",\"tofu\", \"duck\",\n",
    "    \"Gordon Ramsay\",'Ramsay', \"Julia Child\", \"Anthony Bourdain\", \"Ina Garten\", \"Thomas Keller\", \"Alice Waters\",\"Ferran Adrià\", \"Massimo Bottura\", \"Heston Blumenthal\",\"Wolfgang Puck\", \"Marco Pierre White\", \"Alain Ducasse\",\"Joël Robuchon\", \"Jamie Oliver\", \"Nigella Lawson\",\n",
    "    \"Emeril Lagasse\", \"Rick Bayless\", \"David Chang\",\"Ottolenghi\", \"José Andrés\", \"Rachel Ray\",\"Paul Bocuse\", \"Rene Redzepi\", \"Grant Achatz\",\"Pierre Hermé\", \"Dominique Ansel\",\n",
    "    \"umami\", \"mise en place\", \"terroir\", \"degustation\", \"artisanal\", \"locavore\", \"farm.to.table\", \"gastronomy\", \"cuisine\", \"a la carte\", \"charcuterie\", \"patisserie\", \"fromagerie\",\n",
    "    \"boucherie\", \"rôtisserie\", \"brasserie\", \"bistro\", 'foodporn',  \"stir-fry\", \"barbecue\", r\"grill\\w*\", \"broiling\",  r\"pickl\\w+\",\n",
    "    \"sommelier\", \"mixology\", \"crockpot\", 'wine', 'beer', \"reduction\", \"garnish\", \"quenelle\",\"souffle\", \"meringue\", \"ganache\", \"fondant\", \"praline\"\n",
    "]\n",
    "assign_category(cooking, case = False, category = '64', bar_text = 'Cooking and food terms')"
   ]
  },
  {
   "cell_type": "code",
   "execution_count": null,
   "metadata": {},
   "outputs": [],
   "source": [
    "# check food"
   ]
  },
  {
   "cell_type": "markdown",
   "metadata": {},
   "source": [
    "# Diy and home repair"
   ]
  },
  {
   "cell_type": "code",
   "execution_count": 51,
   "metadata": {},
   "outputs": [
    {
     "name": "stdout",
     "output_type": "stream",
     "text": [
      "Category DIY and home repair terms now has 35147 videos, ellapsed time: 699.22 s\n"
     ]
    }
   ],
   "source": [
    "diy_and_home_repair_terms = ['renovation', 'diy', \"jigsaw\", \"bandsaw\", \"saw\",\"impact driver\", \"drill\",\n",
    "    \"rotary tool\", \"multitool\", r\"caulk\\w*\", \"stud finder\", \"grinder\", \"sander\", \"tile cutter\", \"paint sprayer\", \"lathe\",\n",
    "    \"chisel\",  \"brick trowel\", \"tape measure\", \"awl\", \"workbench\", \"vise\", \"planer\", \"utility knife\", \"wire stripper\",\n",
    "    r\"solder\\w*\", \"shop vac\", \"dust extractor\", \"power washer\", \"cable tester\", \"stud extractor\", \"wrench\",\n",
    "    \"hacksaw\",  \"combination square\", \"masonry\",  \"countersink\", \"plywood\", \"MDF\", \"OSB\", \"drywall\", \"cement\",\n",
    "    \"hardwood\", \"softwood\", r\"veneer\\w*\", \"epoxy\", \"polyurethane\", \"wood filler\", \"construction adhesive\", \n",
    "    \"mortar\", \"silicone sealant\", \"weatherstripping\", \"beadboard\",\"crown molding\", \"baseboard\", \"dowel rod\", \"rebar\", \"paver\", \"decking\", \"insulation\", \"shingle\", \"underlayment\", \"PEX pipe\", \"angle iron\", \n",
    "    \"chipboard\", \"wainscoting\", \"stucco\", \"toggle bolt\", \"lag screw\", \"wood screw\", \"deck screw\", \"finishing nail\", \"brad nail\", \"carriage bolt\", \"joist hanger\",\n",
    "    \"hinge pin\", \"washer\", \"split ring\", \"cotter pin\", \"cable clamp\",\n",
    "    \"upcycling\", \"decoupage\", \"distressing\", \"mortise and tenon\", \"dovetail joint\", \"miter joint\", \"rabbet joint\", \"lamination\", \n",
    "    r\"varnish\\w*\", r\"weld\\w*\", r\"plaster\\w*\", \"mudding\", r\"grout\\w*\", \"tuckpointing\", \"tiling\", \"etching\",  \n",
    "    r\"lacquer\\w*\", \"raised garden bed\", \"DIY greenhouse\", 'diy '\n",
    "    \"Kreg Jig\", \"Makita\", \"DeWalt\", \"Ryobi\", \"Bosch\", \"Festool\", r\"Porter.Cable\", \"Craftsman\", r\"Black.Decker\", \"Fiskars\",\n",
    "    \"Simpson Strong-Tie\", \"Loctite\", \"Titebond\", \"Gorilla Glue\", \"Liquid Nails\", \"Rust-Oleum\", \"Minwax\", \"3M Command\", \"ScotchBlue\", \"DAP\", \"Quickrete\",\n",
    "    \"drop cloth\",  \"tarpaulin\", \"wood glue\",  \"masking tape\",\"sandpaper\", \n",
    "    \"putty\", \"tile spacer\", \"grout \\w+\", \"chalk line\", \"work gloves\", \"tool belt\"]\n",
    "\n",
    "assign_category(diy_and_home_repair_terms, case = False, category = '65', bar_text = 'DIY and home repair terms')"
   ]
  },
  {
   "cell_type": "markdown",
   "metadata": {},
   "source": [
    "# Crypto"
   ]
  },
  {
   "cell_type": "code",
   "execution_count": 52,
   "metadata": {},
   "outputs": [
    {
     "name": "stdout",
     "output_type": "stream",
     "text": [
      "Category Cryptocurrencies now has 23071 videos, ellapsed time: 361.03 s\n"
     ]
    }
   ],
   "source": [
    "crypto = [\n",
    "    # Popular Cryptocurrencies\n",
    "    \"Bitcoin\", \"Ethereum\", \"Tether\", \"Binance Coin\", \"Cardano\", \"Solana\", \"XRP\", \"Polkadot\", \"Litecoin\", \"Chainlink\",\"Avalanche\", \"Dogecoin\", \"Shiba Inu\", \"Stellar\", \"Monero\", \"Zcash\",  \"Uniswap\", \"Aave\", \"Compound\", \"PancakeSwap\", \n",
    "    \"MakerDAO\", \"Synthetix\",\"Algorand\", \"Filecoin\", \"Arbitrum\",\"Elrond\", \"VeChain\",  \"Decentraland\", \"Sandbox\",\"Axie Infinity\", \"Enjin\", \"Zilliqa\", \"Arweave\",\n",
    "    # DeFi (Decentralized Finance)\n",
    "    \"Yield Farming\", \"Liquidity Pool\", \"Impermanent Loss\",\"Automated Market Maker\", \"Decentralized Exchange\", \"Stablecoin\",\"Collateralized Debt Position\", \"Flash Loan\",\"Synthetic Asset\", \"Decentralized Autonomous Organization\",\"Liquidity Mining\", \"Tokenomics\",\n",
    "    # NFT (Non-Fungible Tokens) and Gaming\n",
    "    \"Non-Fungible Token\", # only from 2017\n",
    "    # Cryptography and Technology\n",
    "    \"Blockchain\", \"Hash Function\", \"SHA-256\", \"Keccak\", \"Elliptic Curve Cryptography\", \"Digital Signature\", \"Public-Private Key Pair\", \"Distributed Ledger\", \n",
    "    # Popular Platforms and Tools\n",
    "    \"Coinbase\", \"Kraken\", \"Metamask\",\"Trust Wallet\", \"OpenSea\", \"Rarible\", \"Etherscan\", \"Block Explorer\", \"CoinMarketCap\", \"CoinGecko\",\n",
    "]\n",
    "\n",
    "assign_category(crypto, case = False, category = '25', bar_text = 'Cryptocurrencies')"
   ]
  },
  {
   "cell_type": "code",
   "execution_count": 53,
   "metadata": {},
   "outputs": [
    {
     "data": {
      "text/plain": [
       "1817955"
      ]
     },
     "execution_count": 53,
     "metadata": {},
     "output_type": "execute_result"
    }
   ],
   "source": [
    "len(edu[edu.category != 'unclass'])   \n",
    "# print the categories\n",
    "# edu.category.unique()\n",
    "# edu[edu.category == ''].head(20)"
   ]
  },
  {
   "cell_type": "code",
   "execution_count": null,
   "metadata": {},
   "outputs": [],
   "source": []
  },
  {
   "cell_type": "code",
   "execution_count": null,
   "metadata": {},
   "outputs": [],
   "source": [
    "spirituality = ['spirit', 'psalm', 'mass', 'requiem', 'jesus', 'mohammed', 'prophet', 'bible']"
   ]
  },
  {
   "cell_type": "code",
   "execution_count": 54,
   "metadata": {},
   "outputs": [],
   "source": [
    "save_df = edu[['display_id', 'channel','name_cc', 'category_cc', 'category']]\n",
    "save_df.to_csv(op.join(path_deriv, 'subcategories_1512_21h.csv'), index = False)"
   ]
  }
 ],
 "metadata": {
  "kernelspec": {
   "display_name": "ada",
   "language": "python",
   "name": "python3"
  },
  "language_info": {
   "codemirror_mode": {
    "name": "ipython",
    "version": 3
   },
   "file_extension": ".py",
   "mimetype": "text/x-python",
   "name": "python",
   "nbconvert_exporter": "python",
   "pygments_lexer": "ipython3",
   "version": "3.11.9"
  }
 },
 "nbformat": 4,
 "nbformat_minor": 2
}
