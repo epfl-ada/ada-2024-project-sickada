{
 "cells": [
  {
   "cell_type": "code",
   "execution_count": 1,
   "metadata": {},
   "outputs": [
    {
     "name": "stderr",
     "output_type": "stream",
     "text": [
      "[nltk_data] Downloading package brown to\n",
      "[nltk_data]     C:\\Users\\gbrag\\AppData\\Roaming\\nltk_data...\n",
      "[nltk_data]   Package brown is already up-to-date!\n",
      "[nltk_data] Downloading package webtext to\n",
      "[nltk_data]     C:\\Users\\gbrag\\AppData\\Roaming\\nltk_data...\n",
      "[nltk_data]   Package webtext is already up-to-date!\n"
     ]
    }
   ],
   "source": [
    "%load_ext autoreload\n",
    "%autoreload 2\n",
    "\n",
    "import pandas as pd \n",
    "import numpy as np \n",
    "import os \n",
    "import os.path as op \n",
    "import sys\n",
    "from tqdm.notebook import tqdm\n",
    "import re\n",
    "import nltk\n",
    "from nltk.corpus import brown, webtext\n",
    "\n",
    "nltk.download('brown')\n",
    "nltk.download('webtext')\n",
    "\n",
    "sys.path.insert(0, '..') # project folder\n",
    "from config import * # all paths to files and constants\n",
    "\n",
    "import time\n",
    "\n",
    "brown_freq = nltk.FreqDist(brown.words())\n",
    "webtext_freq = nltk.FreqDist(webtext.words())"
   ]
  },
  {
   "cell_type": "code",
   "execution_count": 2,
   "metadata": {},
   "outputs": [],
   "source": [
    "edu = pd.DataFrame()\n",
    "for i in range(N_BATCHES):\n",
    "    batch = pd.read_csv(path_edu.format(i), index_col=0)\n",
    "    batch = batch.drop(columns = 'description')\n",
    "    edu = pd.concat([edu, batch])\n",
    "edu = edu.rename(columns={'channel_id': 'channel', 'categories': 'vid_category'})\n",
    "channels = pd.read_csv(path_channels, compression=\"infer\", sep=\"\\t\")\n",
    "channels = channels[['channel', 'name_cc', 'category_cc']]\n",
    "edu = edu[['display_id', 'vid_category', 'channel', 'title', 'tags']]\n",
    "edu = edu.merge(channels, on='channel', how='left')\n",
    "#edu.head()"
   ]
  },
  {
   "cell_type": "code",
   "execution_count": 3,
   "metadata": {},
   "outputs": [],
   "source": [
    "del channels, batch\n",
    "edu['text'] = edu['title'].fillna('') + ' ' + edu['tags'].fillna('')\n",
    "edu = edu.drop(columns=['title', 'tags'])"
   ]
  },
  {
   "cell_type": "markdown",
   "metadata": {},
   "source": [
    "This notebook extracts the subcategories by keyword search using a human and bottom up approach. Since looking for single expressions is way faster than combinations we start by looking at very specific words in the biggest categories (eg. gaming). We proceed with other niche categories that are heavily represented in our observations. Then we group with more complex regular expressions but hopefully on a much smaller dataset. The order of classification is thus important, even crucial. We used personal knowledge, chatGPT, the web, youtube, twitch and copilot to curate the lists of expressions for the categories. Instead of applying complicated patterns with regexp it is preferable to do a big search and then sort out outliers (eg. search for 'python' then sort out all that contain 'animal' and 'snake'). After having run many specific keywords, run the general on the remaining data and try to identify what other keywords one could add.\n",
    "\n",
    "Since the keywords chosen aim to be specific we need a lot which is where chatGPT and others come in handy"
   ]
  },
  {
   "cell_type": "markdown",
   "metadata": {},
   "source": [
    "# Text preprocessing"
   ]
  },
  {
   "cell_type": "code",
   "execution_count": 4,
   "metadata": {},
   "outputs": [],
   "source": [
    "def clean_non_word(text): #punctuation, underscores seem to evade this regex so add it\n",
    "        return  re.sub(r'[^\\w\\s]|_+', ' ', text)\n",
    "\n",
    "def clean_non_ascii(text): # indian symbols that might still be left\n",
    "        return  re.sub(r'[^\\x00-\\x7F]+', ' ', text)"
   ]
  },
  {
   "cell_type": "code",
   "execution_count": 5,
   "metadata": {},
   "outputs": [],
   "source": [
    "edu['text'] = edu['text'].apply(clean_non_word).apply(clean_non_ascii)"
   ]
  },
  {
   "cell_type": "code",
   "execution_count": 6,
   "metadata": {},
   "outputs": [
    {
     "data": {
      "text/plain": [
       "' would take 13h - also dangerous since would generalize the words too much\\nimport spacy\\n\\ntqdm.pandas()\\nnlp = spacy.load(\"en_core_web_sm\")\\ndef lemmatize(text):\\n    doc = nlp(text)\\n    lemmas = [token.lemma_ for token in doc if not token.is_stop and not token.is_punct]\\n    return \\' \\'.join(lemmas)\\nedu[\\'lemma\\'] = edu.text.progress_apply(lemmatize)'"
      ]
     },
     "execution_count": 6,
     "metadata": {},
     "output_type": "execute_result"
    }
   ],
   "source": [
    "\"\"\" would take 13h - also dangerous since would generalize the words too much\n",
    "import spacy\n",
    "\n",
    "tqdm.pandas()\n",
    "nlp = spacy.load(\"en_core_web_sm\")\n",
    "def lemmatize(text):\n",
    "    doc = nlp(text)\n",
    "    lemmas = [token.lemma_ for token in doc if not token.is_stop and not token.is_punct]\n",
    "    return ' '.join(lemmas)\n",
    "edu['lemma'] = edu.text.progress_apply(lemmatize)\"\"\""
   ]
  },
  {
   "cell_type": "markdown",
   "metadata": {},
   "source": [
    "# Classsification"
   ]
  },
  {
   "cell_type": "code",
   "execution_count": 81,
   "metadata": {},
   "outputs": [],
   "source": [
    "def assign_category(keywords:list, case:bool = False, category:str = 'unclass', edu = edu, pre_b = True, w_star = False, post_b = True, bar_text ='search', verbose = False, search_within = 'unclass'):\n",
    "    pre = ''; post = ''\n",
    "    if pre_b:  pre = r'\\b'\n",
    "    if post_b: post = r'\\b'\n",
    "    if w_star: post = r'\\w*' + post\n",
    "    if search_within == 'ALL':\n",
    "        search_range = pd.Series([True]*len(edu))\n",
    "    else:\n",
    "        search_range = (edu['category'] == search_within)\n",
    "\n",
    "    for k in keywords:\n",
    "        if brown_freq[k.lower()]>5 or webtext_freq[k.lower()]>5:\n",
    "            print(f'Warning: {k} is a common word: {brown_freq[k.lower()]} in brown and {webtext_freq[k.lower()]} in webtext')\n",
    "    \n",
    "    long = [pre + k + post for k in keywords if len(k) > 4]\n",
    "    short = [k for k in keywords if len(k) <= 4] \n",
    "    if short :\n",
    "        print(f'Warning : Short keywords: {short}')\n",
    "        short = [r'\\b' + k + r'\\b' for k in short] + [r'\\b' + k + 's' +r'\\b' for k in short]\n",
    "\n",
    "    keywords = '|'.join(long + short)\n",
    "    pattern = rf'{keywords}'\n",
    "    start = time.time()\n",
    "    if verbose: print(pattern)\n",
    "    edu.loc[search_range & edu.text.str.contains(pattern, case = case, na ='', regex = True) , 'category'] = category\n",
    "    stop = time.time()\n",
    "    print(f'{bar_text}: Category {category} now has {len(edu[edu.category == category])} videos, search time: {stop-start:.2f} s')\n",
    "\n",
    "def detect_left(keywords, edu = edu, case:bool = False, pre_b = True, post_b = True, w_star = False, search_within = 'unclass'):\n",
    "    if search_within == 'ALL':      df = edu\n",
    "    else :      df = edu[edu['category'] == search_within]\n",
    "\n",
    "    pre = ''; post = ''\n",
    "    if pre_b:  pre = r'\\b'\n",
    "    if post_b: post = r'\\b' \n",
    "    if w_star: post = r'\\w*' + post\n",
    "    keywords = [pre+k+r'\\w*'+post for k in keywords]\n",
    "    keywords = '|'.join(keywords)\n",
    "    pattern = rf'{keywords}'\n",
    "    df = df.loc[df.text.str.contains(pattern, case = case, na ='', regex = True)]\n",
    "    print(f'Length of the dataframe: {len(df)}')\n",
    "    return df"
   ]
  },
  {
   "cell_type": "markdown",
   "metadata": {},
   "source": [
    "### TODO before others"
   ]
  },
  {
   "cell_type": "code",
   "execution_count": 12,
   "metadata": {},
   "outputs": [
    {
     "name": "stdout",
     "output_type": "stream",
     "text": [
      "Kids: Category 5 now has 116719 videos, search time: 357.89 s\n"
     ]
    }
   ],
   "source": [
    "kids = [r\"nursery rhyme\",r\"sing.along\",r\"Twinkle Twinkle\",r\"Row Row Row Your Boat\",r\"Old MacDonald Had a Farm\",r\"Baa Baa Black Sheep\",r\"The Wheels on the Bus\",r\"If You.re Happy and You Know It\",r\"Itsy Bitsy Spider\",r\"Five Little Monkey\",r\"Baby Shark\",r\"Johnny Johnny Yes Papa\",r\"London Bridge is Falling Down\",r\"Head Shoulders Knees\",\n",
    "    r\"learn color\",'lego duplo', 'count to ten',r\"learn shapes\",r\"learn numbers\",r\"alphabet songs\",r\"learn ABC\",r\"counting songs\",r\"preschool learning\",r\"early learning\",r\"kindergarten\",r\"how to count\",r\"learning to read\",\n",
    "    r\"Cocomelon\",r\"Peppa Pig\",r\"Blippi\",r\"Baby Shark\",r\"Paw Patrol\",r\"Bluey\",r\"Dora the Explorer\",r\"Thomas and Friend\",r\"Masha and the Bear\",r\"Barney and Friend\",r\"Teletubb\",\n",
    "    r\"kids storytelling\",r\"family-friendly\",r\"playtime\",r\"DIY for kid\",r\"finger painting\",r\"pretend play\",r\"puppet show\",\n",
    "    r\"learn animal\",r\"learn vehicle\", r\"learn the days\",r\"learn the months\", 'learn animal', r\"kid\\w* educational song\",r\"kid\\w* song\", r\"kid\\w* dance\",r\"educational video\\w* for kid\",r\"cartoon\\w* for kid\", r\"bedtime stor\",r\"kid\\w* craft\",\n",
    "    r\"kid\\w* sing.along\",r\"kid\\w* comedy\",r\"kid\\w* yoga\",r\"kid\\w* exercise\",r\"kid\\w* party song\",r\"animal sound\\w* for kid\",r\"chil\\w+ song\",r\"bab\\w+ song\",r\"lullab\\w+\"]\n",
    "assign_category(kids, case = False, w_star = True, category = '5', bar_text='Kids')"
   ]
  },
  {
   "cell_type": "code",
   "execution_count": 13,
   "metadata": {},
   "outputs": [
    {
     "name": "stdout",
     "output_type": "stream",
     "text": [
      "Warning: conspiracy is a common word: 22 in brown and 0 in webtext\n",
      "Warning: symbolism is a common word: 8 in brown and 0 in webtext\n",
      "Conspiracy: Category q now has 50564 videos, search time: 408.61 s\n",
      "Conspiracy: Category q now has 50565 videos, search time: 50.58 s\n"
     ]
    }
   ],
   "source": [
    "conspiracy = ['conspiracy', 'Qanon', \"hoax\", \"false flag\", \"deep state\", \"new world order\", \"shadow government\", \"illuminati\",  \"psyop \", \"plandemic\",\n",
    "              \"government mind control\",\"rigged system\", \"big brother\", \"surveillance state\", \"censorship\", \"black budget\", \"Area 51\",  \"crop circles\", \"ancient aliens\",    \n",
    "              \"reptilian\", \"hollow Earth\", \"interdimensional beings\",  \"Bermuda Triangle\", \"vaccine hoax\", \"anti-vax\", \"chemtrails\", \"pandemic hoax\", \"climate hoax\", \"genetic engineering\", \"eugenics\", \n",
    "              \"population control\", \"artificial intelligence takeover\", \"fake science\", \"JFK assassination\", \"9.11 inside job\", \"moon landing hoax\", \"flat Earth\",'flatist', \"holocaust denial\", \"Freemason\", \n",
    "              \"Zionist conspiracy\", \"Operation Northwoods\", \"pizzagate\", \"mass media manipulation\", \"mass surveillance\", \"robot uprising\", \n",
    "              \"the occult\", \"satanic ritual\", \"luciferian\", \"black magic\", \"symbolism\", \"numerology\", \"astrology conspiracy\", \"esoteric knowledge\", \"deep state\"\n",
    "              \"occult rituals\", \"secret worship\", \"paganism cover-up\", \"Epstein island\",\"Q drop\", \"Q clearance\", \"The Storm\", \"The Great Awakening\",\"WWG1WGA\",\"elite cabal\", \"pedo ring\", \"adrenochrome\",  \"Great Reset\",\n",
    "              \"Hollywood pedophiles\",\"media lie\", \"sheeple\", \"Guantanamo Bay\", \"red October\"]\n",
    "\n",
    "extra = [\"birds aren.t real\", \"moon landing hoax\", \"lizard people\", \"bigfoot sightings\", \"aliens are real\", \"area 51 raid\"] \n",
    "\n",
    "assign_category(conspiracy + extra, case = False, w_star = True, category = 'q', bar_text = 'Conspiracy')\n",
    "assign_category(extra, case = False, category = 'q', bar_text = 'Conspiracy', search_within='ALL')"
   ]
  },
  {
   "cell_type": "code",
   "execution_count": 79,
   "metadata": {},
   "outputs": [],
   "source": [
    "edu.loc[edu.category == '94', 'category'] = 'unclass'"
   ]
  },
  {
   "cell_type": "code",
   "execution_count": 80,
   "metadata": {},
   "outputs": [
    {
     "name": "stdout",
     "output_type": "stream",
     "text": [
      "Warning : Short keywords: ['pubg']\n",
      "\\bpubg\\b|\\bpubgs\\b\n",
      "PUBG: Category 94 now has 636 videos, search time: 41.05 s\n",
      "\\bleague of legend\\w*\\b\n",
      "LoL: Category 95 now has 569 videos, search time: 85.39 s\n",
      "\\bcall of duty\\w*\\b\n",
      "CoD: Category 96 now has 1774 videos, search time: 47.55 s\n",
      "\\bsuper mario\\w*\\b|\\bmario kart\\w*\\b\n",
      "Super Mario: Category 97 now has 1248 videos, search time: 41.40 s\n",
      "\\bpokemon\\w*\\b\n",
      "Pokemon: Category 98 now has 1677 videos, search time: 28.96 s\n"
     ]
    }
   ],
   "source": [
    "assign_category(['roblox'], category = '91', bar_text='Roblox')\n",
    "assign_category(['minecraft'], w_star = True, category = '92', bar_text='Minecraft')\n",
    "assign_category(['pubg'], category = '94', bar_text='PUBG')\n",
    "assign_category(['league of legend'],w_star = True, category = '95', bar_text='LoL')\n",
    "assign_category(['call of duty'],w_star = True, category = '96', bar_text='CoD')\n",
    "assign_category(['super mario', 'mario kart'],w_star = True, category = '97', bar_text='Super Mario')\n",
    "assign_category(['pokemon'],w_star = True, category = '98', bar_text='Pokemon')"
   ]
  },
  {
   "cell_type": "code",
   "execution_count": 82,
   "metadata": {},
   "outputs": [
    {
     "name": "stdout",
     "output_type": "stream",
     "text": [
      "Audiobooks: Category a now has 4845 videos, search time: 42.51 s\n",
      "Warning : Short keywords: ['wwii', 'wwi']\n",
      "World wars: Category 20 now has 7258 videos, search time: 39.00 s\n",
      "Lifestyle: Category life now has 16346 videos, search time: 44.37 s\n"
     ]
    }
   ],
   "source": [
    "assign_category(['audiobook'], case = False, w_star = True, category = 'a', bar_text= 'Audiobooks')\n",
    "assign_category(['wwii', 'wwi'], case = False, category = '20',bar_text= 'World wars')\n",
    "assign_category(['lifestyle'], case = False, category = 'life', bar_text='Lifestyle')"
   ]
  },
  {
   "cell_type": "markdown",
   "metadata": {},
   "source": [
    "### Programming"
   ]
  },
  {
   "cell_type": "code",
   "execution_count": 83,
   "metadata": {},
   "outputs": [
    {
     "name": "stdout",
     "output_type": "stream",
     "text": [
      "Warning : Short keywords: ['nltk']\n",
      "ML: Category 41 now has 5010 videos, search time: 600.45 s\n",
      "Warning: Javascript is a common word: 0 in brown and 91 in webtext\n",
      "Warning: HTML is a common word: 0 in brown and 66 in webtext\n",
      "Warning: CSS is a common word: 0 in brown and 23 in webtext\n",
      "Warning: http is a common word: 0 in brown and 113 in webtext\n",
      "Warning : Short keywords: ['HTML', 'CSS', 'http', 'MobX']\n",
      "All programming: Category 4 now has 39538 videos, search time: 456.48 s\n",
      "Warning : Short keywords: ['AWS', 'SQL', 'HDFS', 'PyQT']\n",
      "Case sensitive: Category 4 now has 42821 videos, search time: 41.27 s\n",
      "Warning : Short keywords: ['SQL']\n",
      "SQL: Category 4 now has 43659 videos, search time: 42.77 s\n"
     ]
    }
   ],
   "source": [
    "ml = [r'neural network', r'Deep Learning', r'Support Vector Machine', r'K.Nearest', r'K.mean', r'Random Forest', r'Markov Chain', r'AdaBoost', r'Hyperparameter', r'Overfitting', r'Gradient Descent', r'Loss Function',\n",
    "      \"decision tree\", \"random forest\", \"gradient boosting\",\"naive bayes\",\"transformer\", \"autoencoder\", \"generative adversarial network\", \n",
    "    \"backpropagation\", \"gradient descent\", \"adam optimizer\",\"apriori algorithm\",\"Markov chain\",  \"Q-learning\", \"deep Q-network\", \"feature engineering\", \"batch normalization\",\"one-hot encoding\", \"cross.val\", \"grid search\", \"hyperparameter tuning\", \"regulariz\", \"self.supervised learning\",\n",
    "    \"zero.shot learning\", \"few.shot learning\", \"unsupervised learning\", \"supervised learning\", \"reinforcement learning\", \"TensorFlow\", \"PyTorch\", \"Keras\", \"Scikit.learn\", \"XGBoost\", \"LightGBM\", \"CatBoost\",\n",
    "    \"FastText\",\"OpenAI\",\"underfit\", \"overfit\",  \"F1 score\", \"ROC curve\", \"log loss\",\"natural language processing\", \"sentiment analysis\", 'nltk', r'lemmati\\w+'\n",
    "]\n",
    "\n",
    "coding = [r'Javascript', r'HTML', r'CSS', r'C\\+\\+', r'matlab', r'web development', r'software development', r'github', r'http', r'Docker', r'Vscode', r'numpy', r'matplotlib', r'ggplot', r'plotly',\n",
    "    \"Kotlin\", \"Haskell\", \"Clojure\", \"TypeScript\", \"COBOL\", \"Objective-C\",\"Ruby on Rails\", \"ASP.NET\", \"Next.js\", \"Nuxt.js\", \"SvelteKit\", \"Vue.js\", \"Ember.js\", \"GraphQL\", \"MobX\",\n",
    "    \"OpenGL\", \"DirectX\", \"Three.js\", \"Anime.js\", \"MXNet\", \"Theano\", \"Chart.js\", \"object.oriented\", \"memoization\", \"DevOps\",'kotlin'\n",
    "    \"containerization\", \"virtual machine\", \"backend\", \"frontend\", \"fullstack\", \"MongoDB\", \"PostgreSQL\", \"SQLite\", \"MariaDB\", \"CouchDB\",\n",
    "    \"DynamoDB\", \"Neo4j\",\"Elasticsearch\", \"Bigtable\", \"debugger\", \"WebSocket\", \"IP routing\", \"OpenSSH\",\"WebAssembly\",\n",
    "]\n",
    "\n",
    "case_sensitive = [r'AWS', r'OpenCV', r'SQL',\"HDFS\",\"PyQT\",\"D3.js\"]\n",
    "\n",
    "assign_category(ml, case = False, w_star = True, category = '41', bar_text = 'ML')  \n",
    "assign_category(coding, case = False, category = '4', bar_text = 'All programming')\n",
    "assign_category(case_sensitive, case = True, category = '4', bar_text = 'Case sensitive')\n",
    "assign_category(['SQL'], case = False, category = '4', bar_text = 'SQL', pre_b=False, post_b=False)"
   ]
  },
  {
   "cell_type": "code",
   "execution_count": 84,
   "metadata": {},
   "outputs": [
    {
     "name": "stdout",
     "output_type": "stream",
     "text": [
      "Warning: PHP is a common word: 0 in brown and 10 in webtext\n",
      "Warning: xml is a common word: 0 in brown and 15 in webtext\n",
      "Warning : Short keywords: ['PHP', 'xml']\n",
      "Extra programming: Category 4 now has 94322 videos, search time: 386.45 s\n"
     ]
    }
   ],
   "source": [
    "extra_prog = ['command prompt', 'codeblocks', 'program[a-zA-Z]* tutorial', 'mysql', 'unreal engine', 'VBscript', 'VB net', 'c sharp', 'for loop', 'if clause',\n",
    "         r'python program[a-zA-Z]*', r'c program[a-zA-Z]*', r'java program[a-zA-Z]*', r'cnc program[a-zA-Z]*',r'unity\\s*3d',  'unity\\s*2d', 'unity c', 'raspberry pi', 'arduino', 'visual studio code', 'geeksforgeeks','PERL ', \n",
    "         'wordpress','PHP','scala ', 'xml', 'gamedev', r'vmc program[a-zA-Z]*', 'clever programmer','blender 2', 'autodesk', 'excel ', 'codecademy', r'R program[a-zA-Z]*', 'install python', 'wxpython', 'javafx', 'cherrypy',\"dimensionality reduction\", \"principal component analysis\", \"t-SNE\", \"data preprocessing\", \"data pipeline\"]\n",
    "assign_category(extra_prog, case = False, category = '4', bar_text = 'Extra programming')"
   ]
  },
  {
   "cell_type": "code",
   "execution_count": 85,
   "metadata": {},
   "outputs": [
    {
     "name": "stdout",
     "output_type": "stream",
     "text": [
      "android: Category android now has 21188 videos, search time: 41.16 s\n",
      "Warning: python is a common word: 14 in brown and 3 in webtext\n",
      "Extra programming: Category 49 now has 22027 videos, search time: 63.83 s\n"
     ]
    }
   ],
   "source": [
    "# left_programing = detect_left(['programming', 'coding','python'], case = False)\n",
    "assign_category(['android'], case = False, category = 'android', bar_text = 'android', pre_b=False, post_b=False)\n",
    "assign_category(['programming', 'coding', 'python'], case = False, category = '49', bar_text = 'Extra programming')\n",
    "# left_programing.to_csv(op.join('keys', 'left_programing.csv'))"
   ]
  },
  {
   "cell_type": "markdown",
   "metadata": {},
   "source": [
    "# Gaming"
   ]
  },
  {
   "cell_type": "code",
   "execution_count": 86,
   "metadata": {},
   "outputs": [
    {
     "name": "stdout",
     "output_type": "stream",
     "text": [
      "Warning : Short keywords: ['eGPU']\n",
      "Games: Category 9 now has 4589 videos, search time: 373.09 s\n",
      "Warning : Short keywords: ['xbox']\n",
      "Brands: Category 9 now has 7474 videos, search time: 93.02 s\n",
      "Warning : Short keywords: ['PvP', 'MMO', 'MOBA', 'DOTA', 'AMD']\n",
      "Case sensitive: Category 9 now has 8144 videos, search time: 37.84 s\n"
     ]
    }
   ],
   "source": [
    "games = ['tetris', 'Grand Theft Auto', 'stardew valley', 'terraria', 'Elden Ring', 'zelda', 'overwatch', 'Counter.Strike', 'elder scrolls', 'skyrim', 'World of Warcraft', 'apex legends', 'Dead by Daylight', 'EA SPORTS', 'Hearthstone', 'Rainbow Six',\n",
    "    'battle royale', 'sandbox game','idle game', 'shooter game', 'simulation game', 'arcade','open-world game', 'dungeon crawler', r'VR game\\w*'\n",
    "    'Red Dead Redemption', 'The Last of Us', 'Bioshock', 'Minecraft', 'Dark Souls', 'Hollow Knight', 'Mass Effect', 'Genshin Impact', 'Fire Emblem', 'Monster Hunter','Xenoblade Chronicles', 'Pikmin', 'gaming mouse', \n",
    "    'VR headset', 'racing wheel', 'arcade stick','gaming chair', 'RGB lighting','gaming monitor', 'anti-ghosting keyboard', 'haptic feedback controller',\n",
    "    'streaming deck','console dock', 'GameCube', 'Dreamcast', 'Steam Deck','Atari', 'Commodore 64', 'Sega Genesis', 'Game Boy','PS Vita', 'Nintendo Switch', 'Wii U','Arcade cabinet', 'gaming desktop',\n",
    "    'eGPU', 'graphics card', 'gaming headset','loot box', 'boss fight','battle pass','matchmaking'\n",
    "]\n",
    "brands = ['ASUS ROG', 'Razer', 'SteelSeries', 'Corsair', 'HyperX', 'Logitech', 'nvidia','Thrustmaster', 'Blizzard Entertainment', 'xbox', 'Nintendo','Ubisoft']\n",
    "case_gaming = ['PvP', 'MMO', 'MOBA','DOTA', 'AMD']\n",
    "\n",
    "assign_category(games, case = False, category = '9', bar_text = 'Games')\n",
    "assign_category(brands, case = False, category = '9', bar_text = 'Brands', post_b= False)\n",
    "assign_category(case_gaming, case = True, category = '9', bar_text = 'Case sensitive')"
   ]
  },
  {
   "cell_type": "code",
   "execution_count": 20,
   "metadata": {},
   "outputs": [],
   "source": [
    "# left = detect_left(['wii'], case = False, pre_b=False, post_b=False) # nope\n",
    "# left.to_csv(op.join('keys', 'left_wii.csv'))\n",
    "# print('the witcher')\n",
    "# display(detect_left(['the witcher'], case = False, pre_b=False, post_b=False))\n",
    "# left = detect_left(['playstation'], case = False, pre_b=False, post_b=False)\n",
    "# left.to_csv(op.join('keys', 'left_playstation.csv'))"
   ]
  },
  {
   "cell_type": "code",
   "execution_count": 87,
   "metadata": {},
   "outputs": [
    {
     "name": "stdout",
     "output_type": "stream",
     "text": [
      "Extra gaming: Category 9 now has 8931 videos, search time: 113.31 s\n"
     ]
    }
   ],
   "source": [
    "extra_gaming = ['witcher 2', 'witcher ii', 'BenQ zowie', 'gameboy', 'witcher III', 'witcher 3', 'emulator', 'playstation 4', 'playstation 3','playstation 2', 'playstation 1', 'gta v', 'gta 5', 'gta iv','gta 4', 'gta 3', 'gta iii', 'playstation vita' 'bandicoot', 'assassin.s creed']\n",
    "assign_category(extra_gaming, case = False, category = '9', bar_text = 'Extra gaming')"
   ]
  },
  {
   "cell_type": "code",
   "execution_count": 88,
   "metadata": {},
   "outputs": [
    {
     "name": "stdout",
     "output_type": "stream",
     "text": [
      "Gaming: Category 49 now has 30458 videos, search time: 56.91 s\n"
     ]
    }
   ],
   "source": [
    "general_gaming = ['gaming', r'esport\\w*', 'gameplay', 'playstation', 'gamer']\n",
    "assign_category(general_gaming, case = False, category = '49', bar_text = 'Gaming', post_b = False)\n",
    "# left_gaming = detect_left(general, case = False, )\n",
    "# left_gaming.to_csv(op.join('keys', 'left_gaming.csv'))"
   ]
  },
  {
   "cell_type": "markdown",
   "metadata": {},
   "source": [
    "# Music"
   ]
  },
  {
   "cell_type": "code",
   "execution_count": 89,
   "metadata": {},
   "outputs": [
    {
     "name": "stdout",
     "output_type": "stream",
     "text": [
      "piano: Category 81 now has 8744 videos, search time: 28.18 s\n",
      "guitar: Category 82 now has 3092 videos, search time: 26.37 s\n",
      "violin: Category 83 now has 1213 videos, search time: 29.90 s\n",
      "drums: Category 84 now has 72 videos, search time: 28.93 s\n",
      "ukulele: Category 85 now has 309 videos, search time: 28.09 s\n",
      "uke: Category 85 now has 313 videos, search time: 40.73 s\n",
      "Warning : Short keywords: ['bach']\n",
      "Composers: Category 87 now has 7116 videos, search time: 277.16 s\n",
      "Warning: symphony is a common word: 10 in brown and 0 in webtext\n",
      "Warning: opera is a common word: 27 in brown and 3 in webtext\n",
      "Warning: operetta is a common word: 6 in brown and 0 in webtext\n",
      "Warning: concerto is a common word: 6 in brown and 0 in webtext\n",
      "Warning : Short keywords: ['lied', 'aria']\n",
      "Classical: Category 87 now has 11702 videos, search time: 113.51 s\n",
      "Warning: ballet is a common word: 28 in brown and 2 in webtext\n",
      "Dances: Category 88 now has 8278 videos, search time: 194.16 s\n",
      "Warning: piano is a common word: 30 in brown and 2 in webtext\n",
      "Warning: guitar is a common word: 17 in brown and 3 in webtext\n",
      "Warning: violin is a common word: 10 in brown and 4 in webtext\n",
      "Warning: drums is a common word: 14 in brown and 5 in webtext\n",
      "Warning : Short keywords: ['uke']\n",
      "Popular instruments: Category 8 now has 40763 videos, search time: 60.54 s\n",
      "Warning: trumpet is a common word: 7 in brown and 0 in webtext\n",
      "Warning: singing is a common word: 44 in brown and 50 in webtext\n",
      "Warning : Short keywords: ['harp']\n",
      "Instruments: Category 8 now has 53505 videos, search time: 97.50 s\n",
      "Warning: jazz is a common word: 81 in brown and 0 in webtext\n",
      "Warning : Short keywords: ['jazz', 'R&B', 'rap', 'rave']\n",
      "Styles: Category 8 now has 69561 videos, search time: 190.85 s\n",
      "Festivals: Category 8 now has 70704 videos, search time: 72.44 s\n",
      "Warning : Short keywords: ['Sia', 'Tyga']\n",
      "Artists: Category 86 now has 11614 videos, search time: 590.12 s\n",
      "Warning: concert is a common word: 35 in brown and 1 in webtext\n",
      "Warning : Short keywords: ['DJ']\n",
      "Terms: Category 8 now has 83863 videos, search time: 73.62 s\n"
     ]
    }
   ],
   "source": [
    "popular_instruments = ['piano', 'guitar', 'violin', 'drums', 'ukulele', 'uke']\n",
    "instruments = ['flute', 'saxophone', 'trumpet', 'clarinet', 'cello', 'trombone' , 'harp', 'singing' ,'Accordion', 'bagpipes', 'Mandolin', 'marimba']\n",
    "composers = ['beethoven', 'mozart', 'haydn', 'bach', 'chopin', 'tchaikovsky', 'handel', 'vivaldi', 'rachmaninoff', 'Mendelssohn', 'debussy', 'stravinsky', 'shostakovich', 'prokofiev', 'sibelius', 'mahler', 'brahms', 'schubert', 'schumann', 'liszt', 'wagner', 'verdi', 'puccini', 'rossini', 'bellini', 'donizetti', 'offenbach', 'meyerbeer', 'gounod', 'massenet', 'saint saens', 'faure', 'debussy', 'poulenc', 'milhaud', 'honneger', 'messiaen', 'dutilleux', 'ravel', 'stravinsky', 'bartok', 'shostakovich', 'prokofiev', 'schnittke', 'ligeti']\n",
    "classical = ['symphony', 'Sonata', 'cantata', 'Arpeggio', 'perfect pitch', 'syncopation', 'fugue', 'opera', 'operetta',  'cantata', 'lied', 'aria','chorale',  'concerto', 'intermezzo']\n",
    "music_styles = ['jazz', 'reggae', 'R&B', 'heavy metal', 'hard metal', 'hip.hop', 'rap', 'disco', 'techno', 'dubstep', 'drum and bass', 'rave', 'gregorian chant', 'madrigal', 'rhapsody', 'mazurka', 'polonaise', 'waltz', 'tango', 'rumba', 'samba', 'bossa nova', 'cha cha', 'merengue',  'reggaeton', 'dancehall', 'ragga']\n",
    "festivals = ['Coachella', 'Glastonbury', 'Tomorrowland', 'Lollapalooza', 'Woodstock', 'Montreux Jazz', 'Rock in Rio', ]\n",
    "artists_2010s = ['Drake', 'Rihanna', 'Bruno Mars', 'Justin Bieber', 'Nicki Minaj', 'Taylor Swift', \n",
    "    'Post Malone', 'Ariana Grande', 'Maroon 5', 'Katy Perry', 'Lady Gaga', 'Lil Wayne', \n",
    "    'Ed Sheeran', 'Imagine Dragons', 'Cardi B', 'the Weeknd', 'Pitbull', 'Eminem', \n",
    "    'Chris Brown', 'One Direction', 'Selena Gomez', 'Justin Timberlake', \n",
    "    'Kesha', 'Kendrick Lamar',  'Lady Antebellum', 'Beyonce', 'Jason Aldean', \n",
    "    'Sam Smith', 'Khalid', 'Blake Shelton', 'Travis Scott', \n",
    "    'Shawn Mendes', 'Usher', \n",
    "    'Mumford...Sons', 'Travi. Scott', 'Jay.Z', \n",
    "    'Meghan Trainor', 'Big Sean',  'Coldplay', \n",
    "    'Florida Georgia Line',  'DJ Snake', \n",
    "    'Flo Rida',  'Michael Buble',  'Zac Brown Band', 'Beyonc.', \n",
    "    'Jason Derulo', 'The Chainsmokers', 'Halsey', \n",
    "    'Ludacris', 'Kanye West', 'Swae Lee', 'Kenny Chesney', 'Miley Cyrus', \n",
    "    'Macklemore', 'Carrie Underwood',  'Wiz Khalifa',  \n",
    "    'Migos', 'Twenty One Pilots', 'Charlie Puth', 'Fetty Wap', \n",
    "    'The Black Eyed Peas', 'XXXTentacion', 'Eric Church', \n",
    "    'OneRepublic', 'Juice WRLD', '21 Savage', 'Young Thug', 'Billie Eilish', \n",
    "    'Ty Dolla .ign', 'LMFAO', 'Bebe Rexha', 'Britney Spears', 'Chris Stapleton', \n",
    "    'Iggy Azalea', 'Calvin Harris', '2 Chainz', 'Britney Spears',  \n",
    "     'Sia', 'Ne.Yo', 'Pentatonix', 'Christina Aguilera', 'Kidz Bop Kidz', 'Juicy J', \n",
    "    'David Guetta', 'Quavo', 'Lil Nas X', 'Ellie Goulding', 'Bastille', 'The Lumineers', \n",
    "    'Daft Punk', 'Pharrell Williams', 'The Rolling Stones', 'Marshmello', \n",
    "    'Luke Bryan', 'Trey Songz', 'Snoop Dogg', 'Demi Lovato',  'Sam Hunt', \n",
    "    'Enrique Iglesias',  'Taio Cruz', 'Camila Cabello', 'Tyga', 'Lil Uzi Vert', \n",
    "    'Alessia Cara', 'Panic. at the Disco', 'will.i.am', 'Miranda Lambert', \n",
    "    'Bruce Springsteen', 'Kelly Clarkson', 'Jeremih',  'Charli XCX', \n",
    "    'Lil Baby', 'Thomas Rhett', 'John Legend', 'Meek Mill',  'Keith Urban', \n",
    "    'Lorde', 'Bon Jovi', 'Carly Rae Jepsen', '5 Seconds of Summer', 'Paul McCartney', 'G.Eazy']\n",
    "# dances \n",
    "others_music = ['concert', 'karaoke',  'garage band', 'learn music','sheet music', 'Soundtrack','songwriter', 'DJ'] # festival cooccuring with music # chord\n",
    "\n",
    "dances = [\"ballet\", \"tap dance\", \"tango\", \"foxtrot\", r\"breakdanc\\w+\", \"flamenco\", \"belly dance\", \"contemporary dance\", \"cumbia\", \"capoeira\", \"bachata\",\n",
    "    \"katakali\", \"morris dance\", \"irish stepdance\", \"fandango\", \"kathak\", \"jitterbug\", \"jazzercise\", \"bhangra\", \"gagaku\", \"garba\", \"jaipuri dance\", \"folk dance\", \"hula dance\",\"dance competition\", \"dance championship\", \"dance-off\", r\"choreograph\\w+\",\n",
    "    \"moonwalk\",  \"Martha Graham Dance\", \"Broadway Dance\", \"Alvin Ailey Dance\", \"Royal Academy of Dance\", \"Salsa Dance\", \"Danceworks\",\"Dance Academy\", \"Ballet Austin\", \"Steps on Broadway\"\n",
    "]\n",
    "\n",
    "\n",
    "from config import content_categories, inverted_categories \n",
    "\n",
    "for instr in popular_instruments:\n",
    "    pattern = rf'\\b{instr} tutorial\\b'\n",
    "    ins = instr if instr != 'uke' else 'ukulele'\n",
    "    ins = ins if ins != 'keyboard' else 'piano'\n",
    "    assign_category([pattern], case = False, category = inverted_categories[f'{ins} tutorial'], bar_text = instr, pre_b=False, post_b=False)\n",
    "\n",
    "assign_category(composers, case = False, category = '87', bar_text = 'Composers')\n",
    "assign_category(classical, case = False, category = '87', bar_text = 'Classical')\n",
    "assign_category(dances, case = False, category = '88', bar_text = 'Dances')\n",
    "assign_category(popular_instruments, case = False, category = '8', bar_text = 'Popular instruments')\n",
    "assign_category(instruments, case = False, category = '8', bar_text = 'Instruments')\n",
    "assign_category(music_styles, case = False, category = '8', bar_text = 'Styles') \n",
    "assign_category(festivals, case = False, category = '8', bar_text = 'Festivals')\n",
    "assign_category(artists_2010s, case = False, category = '86', bar_text = 'Artists')\n",
    "assign_category(others_music, case = False, category = '8', bar_text = 'Terms')\n",
    "# TODO take out lied"
   ]
  },
  {
   "cell_type": "code",
   "execution_count": 24,
   "metadata": {},
   "outputs": [],
   "source": [
    "# assign_category(['music'], case = False, category = '89', bar_text = 'music rest', backslah_b_after = False)\n",
    "# left_music = detect_left(['music'], case = False)\n",
    "# left_music.to_csv(op.join('keys', 'left_music.csv'))\n",
    "#still too general 'musical' and 'music'"
   ]
  },
  {
   "cell_type": "markdown",
   "metadata": {},
   "source": [
    "# Chess"
   ]
  },
  {
   "cell_type": "code",
   "execution_count": 90,
   "metadata": {},
   "outputs": [
    {
     "name": "stdout",
     "output_type": "stream",
     "text": [
      "Chess: Category 90 now has 9297 videos, search time: 350.09 s\n",
      "Warning : Short keywords: ['FIDE', 'ELO']\n",
      "Chesss +: Category 90 now has 9313 videos, search time: 27.01 s\n"
     ]
    }
   ],
   "source": [
    "chess = ['chess opening', 'chess board', 'chess engine','chess olympiad', 'chess engine', 'world chess', 'chess move','chess tournament', 'pawn promotion', 'chess composition', 'chess theory','Stalemate', 'Zugzwang', \n",
    "         'En passant', 'Castling', 'Gambit', 'Pawn structure', 'Sicilian Defense', 'Caro-Kann', 'King\\S* Indian Defense', 'Queen\\S* Gambit', 'queen sacrifice', 'rook sacrifice', 'bishop sacrifice',\n",
    "         'deep blue','Ruy Lopez', 'Scandinavian Defense','Gukesh Dommaraju', 'World Chess Championship','chaturanga', 'Magnus Carlsen','José Capablanca','Vasily Smyslov','Viktor Korchnoi','Alexander Alekhine', \n",
    "         'Magnus Carlsen', 'Hikaru', 'Hikaru Nakamura', 'Mikhail Botvinnik', 'Emanuel Lasker', 'Garry Kasparov', 'Maxime Vachier-Lagrave','Kasparov', 'Anatoly Karpov','Bobby Fischer', 'Shakhriyar Mamedyarov',\n",
    "         'Judit Polgar','Fabiano Caruana', 'Wesley So', 'Vishy Anand', 'Levon Aronian','International Chess Federation', 'perpetual check', 'pawnless', 'Grandmaster','International Master', 'International Grandmaster',\n",
    "         'H.J.R. Murray', 'pawn structure','Lichess', 'Chess.com','Tata Steel Chess','Sinquefield Cup',\n",
    "         'FIDE World', 'Bullet chess', 'blitz chess', 'rapid chess', 'fischer random', 'Stockfish', 'AlphaZero', 'Leela Chess Zero', 'Komodo','Chess puzzle']\n",
    "case_sensitive = ['FIDE', 'ELO'] # 'Carlsen' tout seul peut etre pas bonne idee \n",
    "assign_category(chess, case = False, category = '90', bar_text = 'Chess')\n",
    "assign_category(case_sensitive, case = True, category = '90', bar_text = 'Chesss +')"
   ]
  },
  {
   "cell_type": "code",
   "execution_count": 26,
   "metadata": {},
   "outputs": [],
   "source": [
    "#'chess', Blunder # maybe chess lingo Nf4, checkmate, pawn"
   ]
  },
  {
   "cell_type": "markdown",
   "metadata": {},
   "source": [
    "# sports"
   ]
  },
  {
   "cell_type": "code",
   "execution_count": 91,
   "metadata": {},
   "outputs": [
    {
     "name": "stdout",
     "output_type": "stream",
     "text": [
      "Warning : Short keywords: ['uefa', 'cr7', 'Ajax']\n",
      "Football: Category 71 now has 1864 videos, search time: 440.38 s\n",
      "American football: Category 73 now has 1427 videos, search time: 223.50 s\n",
      "Cricket: Category 74 now has 1837 videos, search time: 209.98 s\n",
      "Warning: basketball is a common word: 8 in brown and 4 in webtext\n",
      "Basketball: Category 72 now has 4078 videos, search time: 222.63 s\n",
      "Warning: baseball is a common word: 52 in brown and 3 in webtext\n",
      "Baseball: Category 75 now has 1500 videos, search time: 210.20 s\n",
      "Warning: athletics is a common word: 6 in brown and 0 in webtext\n",
      "Warning: Golf is a common word: 27 in brown and 4 in webtext\n",
      "Warning: Gymnastics is a common word: 11 in brown and 0 in webtext\n",
      "Warning: Rowing is a common word: 0 in brown and 7 in webtext\n",
      "Warning: Tennis is a common word: 12 in brown and 1 in webtext\n",
      "Warning: Bowling is a common word: 0 in brown and 6 in webtext\n",
      "Warning: Athletics is a common word: 6 in brown and 0 in webtext\n",
      "Warning : Short keywords: ['BMX', 'Golf', 'Judo', 'Polo', 'Luge', 'Sumo']\n",
      "Sports: Category 7 now has 28084 videos, search time: 515.34 s\n",
      "Warning: fitness is a common word: 8 in brown and 2 in webtext\n",
      "Warning : Short keywords: ['yoga']\n",
      "sport: Category 7 now has 59842 videos, search time: 91.63 s\n"
     ]
    }
   ],
   "source": [
    "football = [\"goalkeeper\",'uefa','cross bar challenge', \"corner kick\",\"free kick\",\"penalty shootout\",\"offside\",\"video assistant referee\",\"hat-trick\",\"Champions League\",\"FIFA World Cup\",\"La Liga\",\"Premier League\",\"Serie A\", 'Serie B'\"Bundesliga\",\"goal line technology\",'cr7', \n",
    "\"Lionel Messi\", \"Cristiano Ronaldo\", \"Neymar\", \"Kylian Mbapp.\", 'Mbappe', 'Mbappé', \"Zlatan\",\"Ibrahimovic\", \"Luka Modric\", \"Karim Benzema\", 'benzema', \"Mohamed Salah\", \n",
    "    \"van Dijk\", \"Lewandowski\", \"Haaland\", \"Kevin De Bruyne\",\n",
    "    \"Manchester United\", \"Manchester City\", \"Arsenal\", \"Tottenham Hotspur\", \"Newcastle United\", \"Leeds United\", \"Aston Villa\", \"West Ham United\", \"Leicester City\",  \"Crystal Palace\", \n",
    "    \"Real Madrid\", \"Atletico Madrid\", \"Real Betis\", \"Villarreal\", \"Athletic Bilbao\", \"Celta Vigo\", \n",
    "    'calcio', \"AC Milan\", \"Inter Milan\", \"Juventus\", \"ssc Napoli\", \"As Roma\", \"ss Lazio\", \"Atalanta bc\", \"acf Fiorentina\", \"Torino fc\", \"ac Monza\"\n",
    "    \"Bayern Munich\", \"Borussia Dortmund\", \"RB Leipzig\", \"Bayer Leverkusen\", \"Eintracht\", \"M.nchengladbach\", \"Schalke 04\", \"Union Berlin\", \"Hertha Berlin\",\"Augsburg\", \"Werder Bremen\", \"Hamburger SV\"\n",
    "    \"Paris Saint.Germain\", \"Olympique Marseille\", \"Olympique Lyon\", \"as Monaco\", \n",
    "    'benfica', 'futebol clube porto',\"Sporting CP\", \"Ajax\", \"PSV Eindhoven\",\"Galatasaray\", \"Fenerbah.e\", \"Be.ikta.\",\n",
    "    \"LA Galaxy\", \"Los Angeles FC\", \"New York City FC\", \"Seattle Sounders\", \"Atlanta United\", \"Inter Miami\", \"Orlando City SC\",\n",
    "]\n",
    "# beware of those that are also cities \n",
    "# \"Everton\", \"Chelsea\" ,'Liverpool', \"Sevilla\", \"Valencia\" ,'napoli'# VAR\n",
    "\n",
    "american_football = [\"quarterback\",\"linebacker\", \"Super Bowl\",\"college football\",\"two-point conversion\",\"yard line\", \"Tom Brady\", \"Patrick Mahomes\", \"Aaron Rodgers\", \"Peyton Manning\", \n",
    "            \"Joe Montana\", \"Drew Brees\", \"Russell Wilson\", \"Odell Beckham Jr\",\"Ezekiel Elliott\", \"J.J. Watt\", \"Travis Kelce\", \"Saquon Barkley\",\"Lamar Jackson\", \"DeAndre Hopkins\", \"Tyreek Hill\", \"Von Miller\",\n",
    "             \"Rob Gronkowski\", \"Walter Payton\", \"Jerry Rice\", \"Jim Brown\", \"Dallas Cowboys\", \"New England Patriots\", \"Green Bay Packers\", \"Kansas City Chiefs\", \"Pittsburgh Steelers\", \"San Francisco 49ers\", \n",
    "            \"Chicago Bears\", \"Seattle Seahawks\", \"New York Giants\", \"Buffalo Bills\",\"Los Angeles Rams\", \"Philadelphia Eagles\", \"Denver Broncos\", \"Baltimore Ravens\", \"Indianapolis Colts\", \"Tampa Bay Buccaneers\"]\n",
    "#\"NFL\"\n",
    "\n",
    "cricket = ['cricket',\"Indian Premier League\",\"The Ashes\", \"Virat Kohli\", \"Sachin Tendulkar\", \"MS Dhoni\", \"Steve Smith\",\"Kane Williamson\", \"Joe Root\", \"Ben Stokes\", \"AB de Villiers\",\"Jacques Kalli\", \"Ricky Ponting\", \"Muttiah Muralitharan\", \"Shane Warne\",\n",
    "            \"Lasith Malinga\", \"Brett Lee\", \"Ellyse Perry\", \"Mithali Raj\",\"Harmanpreet Kaur\", \"Jhulan Goswami\", \"Meg Lanning\", \"Heather Knight\",\"Mumbai Indian\", \"Chennai Super King\", \"Kolkata Knight Rider\",\"Sydney Sixer\", \"Perth Scorcher\", \"Surrey County Cricket\", \n",
    "            \"Mumbai Cricket\", \"Guyana Amazon Warrior\", \"Barbados Royal\", \"Karachi King\", \"Islamabad United\", \"Melbourne Star\", \"Hampshire County Cricket\", \"Central Stag\", \"Delhi Capital\"\n",
    "]\n",
    "\n",
    "basketball = ['basketball', \"March Madness\", \n",
    "            \"Los Angeles Lakers\", \"Boston Celtics\", \"Golden State Warriors\",\"Chicago Bulls\", \"Miami Heat\", \"San Antonio Spurs\", \"Brooklyn Nets\", \"Phoenix Suns\", \"Dallas Mavericks\", \"Philadelphia 76ers\", \"Milwaukee Bucks\", \"New York Knicks\", \"Utah Jazz\", \"Denver Nuggets\", \n",
    "            \"Toronto Raptors\", \"Houston Rockets\",\"Michael Jordan\", \"LeBron James\",'lebron', \"Kobe Bryant\", \"Shaquille O'Neal\", \"Steph Curry\", \"Kevin Durant\", \"Tim Duncan\", \"Magic Johnson\", \"Larry Bird\", \"Wilt Chamberlain\", \"Kareem Abdul-Jabbar\", \"Giannis Antetokounmpo\",\"Dirk Nowitzki\", \"Scottie Pippen\", \"Sue Bird\", \"Diana Taurasi\", \"Maya Moore\", \"Breanna Stewart\", \"Candace Parker\", \"Lisa Leslie\"\n",
    "]\n",
    "# \"NBA\",\"WNBA\"\n",
    "\n",
    "baseball = ['baseball', \"Babe Ruth\", \"Jackie Robinson\", \"Hank Aaron\", \"Willie Mays\",  \"Derek Jeter\", \"Albert Pujols\", \"Barry Bonds\", \"Clayton Kershaw\",\"Mike Trout\", \"Nolan Ryan\", \"Ted Williams\", \"Ken Griffey Jr.\",  \"Alex Rodriguez\", \"Joe DiMaggio\", \"Sandy Koufax\", \"Mariano Rivera\", \"Mookie Betts\", \"Shohei Ohtani\", \"Ichiro Suzuki\", \"Cy Young\",\n",
    "    \"New York Yankees\", \"Los Angeles Dodgers\", \"Boston Red Sox\", \"Chicago Cubs\", \"San Francisco Giants\", \"Houston Astros\", \"Atlanta Braves\", \"St. Louis Cardinals\", \"Oakland Athletics\", \"Philadelphia Phillies\", \"Detroit Tigers\", \"Cleveland Guardians\", \"San Diego Padres\", \"Minnesota Twins\", \"Toronto Blue Jays\", \"Seattle Mariners\", \n",
    "]\n",
    "\n",
    "sports = [\"athletics\",\"sportsmanship\", 'olympic', 'Jeux olympiques', \"Archery\", \"Badminton\", 'Slalom',\"Boxing\", r\"Canoe\\w*\",'BMX', 'bicycle',\"Cycling\", \"Mountain Bike\", \"Road Cycling\", \n",
    "    \"Diving\", \"Golf\", \"Gymnastics\", \"Trampoline\", \"Handball\", \"Hockey\", \"Judo\", \"Karate\", \"Pentathlon\", \"Rowing\", \"Rugby\", \"Skateboard\", \"Sport Climbing\", \"Surfing\", \"Table Tennis\", 'ping.pong', \"Taekwondo\", \"Tennis\", \"Triathlon\", \"Volleyball\", \n",
    "    \"Polo\", \"Weightlift\", \"Wrestling\", \"Biathlon\", \"Bobsleigh\", \"Cross-Country Skiing\", \"Curling\", \"Skating\", \"Freestyle Skiing\", \"Luge\", \"Ski Jump\", \"Snowboard\",\n",
    "    \"Kabaddi\", \"Floorball\", \"Lacrosse\", \"Futsal\",\"Kickboxing\", \"Muay Thai\", \"Jiu-Jitsu\", \"Kung Fu\",  \"Aikido\", \"Jeet Kune Do\", \"Capoeira\", \"Savate\",  \"Krav Maga\", \"Wushu\", \"Wakeboard\"\n",
    "    \"jetski\", r\"Freediv\\w+\", r\"Spearfish\\w*\",\"Squash\", \"Padel\", \"Pickleball\", \"Racquetball\"\n",
    "    \"Parkour\", \"Bouldering\", \"Wingsuit\", \"Bungee Jumping\", \"Motocross\", \"Skating\", \"Bowling\", \"Darts\",  \"Sepak Takraw\", \"Teqball\", \"Petanque\",  \"Cheerleading\",  \"Boccia\", \"Goalball\", \"Archery\", \"Athletics\", \n",
    "    \"Powerlifting\",\"Fencing\",\"Sumo\", \"Kabaddi\", \"Pencak Silat\", \"Sepak Takraw\", \"Dragon Boat Racing\", \"Buzkashi\", \"Kitesurf\",'Bodyboard', 'windsurf',\"Shinty\", \"Basque Pelota\",'Jet.Ski', 'Kayak', 'Stand.Up Paddle'\n",
    "]\n",
    "\n",
    "\n",
    "assign_category(football, case = False, category = '71', bar_text = 'Football')\n",
    "assign_category(american_football, case = False, category = '73', bar_text = 'American football')\n",
    "assign_category(cricket, case = False, category = '74', bar_text = 'Cricket')\n",
    "assign_category(basketball, case = False, category = '72', bar_text = 'Basketball')\n",
    "assign_category(baseball, case = False, category = '75', bar_text = 'Baseball')\n",
    "assign_category(sports, case = False, category = '7', bar_text = 'Sports')\n",
    "assign_category(['yoga', 'fitness', 'strength training'], case = False, category = '7', bar_text = 'sport', post_b = False, pre_b = False)"
   ]
  },
  {
   "cell_type": "code",
   "execution_count": 92,
   "metadata": {},
   "outputs": [
    {
     "name": "stdout",
     "output_type": "stream",
     "text": [
      "Warning: sport is a common word: 17 in brown and 6 in webtext\n",
      "Sport: Category 79 now has 24706 videos, search time: 21.90 s\n"
     ]
    }
   ],
   "source": [
    "assign_category(['sport'], case = False, category = '79', bar_text = 'Sport', post_b = False, pre_b = False)"
   ]
  },
  {
   "cell_type": "markdown",
   "metadata": {},
   "source": [
    "# History"
   ]
  },
  {
   "cell_type": "code",
   "execution_count": 100,
   "metadata": {},
   "outputs": [
    {
     "name": "stdout",
     "output_type": "stream",
     "text": [
      "Warning: empire is a common word: 9 in brown and 0 in webtext\n",
      "Warning : Short keywords: ['Zeus', 'Odin', 'Loki', 'tsar', 'emir', 'shah', 'czar', 'KGB']\n",
      "History: Category 20 now has 63208 videos, search time: 1336.30 s\n"
     ]
    }
   ],
   "source": [
    "history = [ # think of perfumes and mythology inspired brands :(\n",
    "    \"Babylon\", \"Sumer\", \"Carthage\", \"Assyria\", \"Phoenicia\", \"Byzantium\", \"Hittite\", \"Mesopotamia\", \"Akkadia\",  \"Etruria\",  \"Lydia\", \"Urartu\", \"Minoa\",\"Hammurabi\", \"Nebuchadnezzar\", \"Gilgamesh\", \"Ashoka\", \"Cleopatra\",  \"Ramses\", \"Hatshepsut\", \"Akhenaten\", \"Tutankhamun\", \"Charlemagne\", \n",
    "    \"Attila\", \"Genghis Khan\", \"Kublai Khan\", \"Alexander the Great\", \"Julius Caesar\", \"Marcus Aurelius\", \"Constantine\", \"Harun al-Rashid\", \"Alaric\", \"Boudica\", \"Joan of Arc\", \"Leonidas\", \"Pericles\", \"Theodora\", \"Hypatia\", \"Suleiman the Magnificent\", \"Tamerlane\",\n",
    "    'cyclops', \"Zeus\", \"Poseidon\", \"Hades\", \"Athena\", \"Artemis\", \"Dionysus\", \"Persephone\", \n",
    "    \"Osiris\", \"Horus\", \"Anubis\", \"Bastet\", \"Amaterasu\", \"Susanoo\", \"Tsukuyomi\", \"Odin\", \"Loki\", \"Freya\",  \"Heimdall\", \"Baldur\", \"Huitzilopochtli\", \"Quetzalcoatl\", \"Tezcatlipoca\", \n",
    "    \"Ixchel\", \"Viracocha\", \"Pachamama\", \"Tlaloc\", \"Atlantis\", \"Nineveh\", \"Pompeii\", \"Ecbatana\", \"Tenochtitlan\", \"Machu Picchu\", \"Palmyra\", \"Hattusa\", \"Knossos\", \"Teotihuacan\",    \"Angkor\", \"Petra\", \"Persepolis\", \"Mohenjo-Daro\",   \"Harappa\", \"Meroë\",\n",
    "    \"Dead Sea Scrolls\", \"Shroud of Turin\", \"Terracotta Army\", \"Golden Fleece\", \"Ark of the Covenant\", \"Excalibur\", \"Holy Grail\", \n",
    "    \"Stonehenge\", \"Hanging Gardens\", \"Colossus of Rhodes\",  \"Library of Alexandria\", \"Antikythera Mechanism\", \"Sphinx\", \"Ziggurat\",  \"Pantheon\", \"Acropolis\",\n",
    "    \"Paleolithic\", \"Neolithic\", \"Bronze Age\", \"Iron Age\", \"Antiquity\", \"Middle Ages\",  \"Reformation\", \"Enlightenment\", \"Industrial Revolution\",\n",
    "    \"centurion\", \"samurai\", \"shogun\", \"vizier\", \"janissary\", \"mamluk\", \"satrap\", \"praetorian guard\", \"knight-errant\", \"caliphate\", \"dynasty\", \"empire\",\n",
    "    \"Gilgamesh\", \"Iliad\", \"Odyssey\", \"Aeneid\", \"Bhagavad Gita\",  \"Mahabharata\", \"Ramayana\", \"Book of the Dead\", \"Analects\",\"Tao Te Ching\",  \"Summa Theologica\",   \"Peloponnesian War\", \n",
    "    \"pharaoh\", \"consul\", \"tsar\", \"kaiser\", \"emir\", \"viceroy\", \"archduke\",  \"shah\", \"imperator\", \"thane\", \" caliph\", \"czar\",\n",
    "    \"Hundred Years. War\", \"War of the Roses\", \"Peloponnesian War\", \"Pax Romana\", \"Constantinople\", \"Great Schism\", \"Age of Exploration\", \"Westphalia\", \n",
    "    \"Meiji\", \"Partition of India\", \"American Revolution\",\"French Revolution\", \"Battle of Hastings\", \"Black Death\", \"feudalism\",  \n",
    "    \"Cold War\", \"Iron Curtain\",  \"Vietnam War\",  \"Decolonization\", \"Great Depression\", \"New Deal\",  \"Roaring Twenties\", \"World War I\", \"World War II\",  \"Post-War Reconstruction\", \"Marshall Plan\", \n",
    "    \"Warsaw Pact\", \"Cultural Revolution\", \"Domino Theory\",  \"Red Scare\", \"Nuremberg Trials\", \"Partition of Palestine\", 'holocaust',  \"Partition of India\", \"Nehruvian Era\",\n",
    "    \"fascism\", \"nazism\", \"apartheid\",  \"imperialism\", \"anti-colonialism\", \"theodor Roosevelt\", \"Winston Churchill\", \"Joseph Stalin\", \"Adolf Hitler\", \"Mahatma Gandhi\",\"Jawaharlal Nehru\", \"John F. Kennedy\",  \"Martin Luther King\",\n",
    "    \"Che Guevara\", \"Fidel Castro\", \"Ho Chi Minh\", \"Charles de Gaulle\", \"Mao Zedong\",   \"Chiang Kai.shek\", \"Hirohito\", \"George Patton\",   \"Dwight D. Eisenhower\", \"Nikita Khrushchev\", \n",
    "    \"Leonid Brezhnev\", \"Harry S. Truman\", \"Lyndon B. Johnson\",  \"Richard Nixon\", \"Golda Meir\",\n",
    "    \"Battle of Midway\", \"Stalingrad\",\"Blitzkrieg\", \"Operation Overlord\", \"Pearl Harbor\",  \"Manhattan Project\", \"Hiroshima\", \"Nagasaki\",  \"Korean War\", \"Gulf of Tonkin\", \"Tet Offensive\",  \"Treaty of Versailles\", \"Potsdam Conference\", \n",
    "    \"Yalta Conference\", \"Cuban Missile Crisis\",   \"Montgomery Bus Boycott\",  \"Black Panthers\", \"March on Washington\",  \"Satyagraha\", \"Salt March\", \"Kwame Nkrumah\",   \"Julius Nyerere\", \"Patrice Lumumba\", \"Nelson Mandela\",\n",
    "    \"Apollo 11\", \"Sputnik\", \"Lunar Module\",  \"Neil Armstrong\", \"Buzz Aldrin\", \"Yuri Gagarin\", \"Vostok\", \"Gemini\",   \"Mercury Program\", \"Jodrell Bank\",     \"Berlin Wall\", \"Checkpoint Charlie\", \"Hiroshima Peace Memorial\",  \"Independence Hall\", \"Selma Bridge\",  \"Iwo Jima Memorial\",\n",
    "    \"KGB\", \"Third Reich\",  \"Axis Powers\", \"Allied Powers\",  \"Vietnamese National Front\",  \"Watergate\", \"Bay of Pigs\", \"Rosenberg Trials\",   \"Munich Massacre\", \"My Lai Massacre\",\"Chernobyl\", \"Cuban Revolution\",\n",
    "    \"Iron Curtain\", \"Berlin Airlift\", \"Moon Landing\"]\n",
    "\n",
    "assign_category(history, case = False, category = '20', bar_text = 'History')"
   ]
  },
  {
   "cell_type": "code",
   "execution_count": 101,
   "metadata": {},
   "outputs": [
    {
     "name": "stdout",
     "output_type": "stream",
     "text": [
      "Warning: archaeology is a common word: 10 in brown and 0 in webtext\n",
      "Extra history: Category 20 now has 66158 videos, search time: 36.55 s\n"
     ]
    }
   ],
   "source": [
    "extra_history = ['paleontology', 'archaeology']\n",
    "assign_category(extra_history, case = False, category = '20', bar_text = 'Extra history')"
   ]
  },
  {
   "cell_type": "code",
   "execution_count": 102,
   "metadata": {},
   "outputs": [
    {
     "name": "stdout",
     "output_type": "stream",
     "text": [
      "Warning: historical is a common word: 68 in brown and 1 in webtext\n",
      "Warning: medieval is a common word: 17 in brown and 2 in webtext\n",
      "History: Category 29 now has 15400 videos, search time: 36.01 s\n"
     ]
    }
   ],
   "source": [
    "assign_category(['historical', 'medieval'], case = False, category = '29', bar_text = 'History')"
   ]
  },
  {
   "cell_type": "markdown",
   "metadata": {},
   "source": [
    "### Edutainment"
   ]
  },
  {
   "cell_type": "code",
   "execution_count": 103,
   "metadata": {},
   "outputs": [
    {
     "name": "stdout",
     "output_type": "stream",
     "text": [
      "edutainment: Category 6 now has 1174 videos, search time: 16.36 s\n"
     ]
    }
   ],
   "source": [
    "assign_category(['edutainment'], case = False, category = '6', bar_text = 'edutainment', post_b = False, pre_b = False)"
   ]
  },
  {
   "cell_type": "markdown",
   "metadata": {},
   "source": [
    "### Spirituality"
   ]
  },
  {
   "cell_type": "code",
   "execution_count": 107,
   "metadata": {},
   "outputs": [
    {
     "name": "stdout",
     "output_type": "stream",
     "text": [
      "Warning: Chapel is a common word: 9 in brown and 0 in webtext\n",
      "Warning: Cathedral is a common word: 6 in brown and 0 in webtext\n",
      "Warning: Temple is a common word: 22 in brown and 0 in webtext\n",
      "Warning: Confession is a common word: 16 in brown and 0 in webtext\n",
      "Warning: Monk is a common word: 13 in brown and 1 in webtext\n",
      "Warning: Priest is a common word: 16 in brown and 3 in webtext\n",
      "Warning: Rabbi is a common word: 6 in brown and 3 in webtext\n",
      "Warning : Short keywords: ['Hajj', 'Puja', 'Arti', 'Monk', 'Imam', 'Pope']\n",
      "Spirituality: Category 21 now has 251833 videos, search time: 641.17 s\n"
     ]
    }
   ],
   "source": [
    "spirituality = ['spirituality', \"Bible\", \"Quran\", \"Torah\", \"Tanakh\", \"Upanishads\", \"Bhagavad Gita\", \"Talmud\", \"Hadith\", \"Tripitaka\", \"Dhammapada\", \"Guru Granth Sahib\", \"Avesta\", \"Zend-Avesta\", \"Mormon\",\n",
    "    \"Yahweh\", \"Allah\", \"Jesus Christ\", \"Buddha\", \"Krishna\", \"Shiva\", \"Vishnu\", \"Ganesha\", \"Lakshmi\", \"Hanuman\", \"Holy Spirit\", \"Jehovah\", \"Adonai\", \"Elohim\", \"Parvati\", \"Durga\",  \"Ahura Mazda\", \n",
    "    \"Moses\", \"John the Baptist\", \"Saint Peter\", \"Saint Paul\", \"Saint Augustine\", \"Saint Francis\", \"Saint Teresa\", \"Joan of Arc\", \"Martin Luther\", \"Guru Nanak\", \"Mahavira\", \"Zoroaster\", \n",
    "    \"Archangels\", \"Djinn\", \"Yaksha\", \"Rakshasa\", \"Gandharva\", \"Valkyrie\",\n",
    "    \"Mecca\", \"Nazareth\", \"Mount Sinai\", \"Mount Zion\", \"Kailash\", \"Varanasi\", \"Lumbini\", \"Bodh Gaya\",  \"Amritsar\", \"Monastery\", \"Abbey\", \"Chapel\", \"Synagogue\", \"Pagoda\", \"Stupa\", \"Cathedral\", \"Temple\", 'shrine'\n",
    "    \"Baptism\", \"Eucharist\", \"Confession\",  \"Hajj\", \"Salah\",\"Meditation\", \"Puja\", \"Arti\", \"Yagna\", \"Namaz\", \"Mantra\", \"Rosary\", \"Ordination\", \"Sacrament\",\n",
    "    \"Dharma\", \"Nirvana\", \"Samsara\", \"Moksha\", \"Resurrection\", \"Reincarnation\", \"Purgatory\", \"Afterlife\", 'meditation', \n",
    "    \"Crucifix\", \"Chalice\", \"Ciborium\", \"Menorah\", \"Tabernacle\", \"Tefillin\", \"Rosary\", \"Reliquary\", \"Ramadan\", \"Yom Kippur\", \"Hanukkah\", \"Vesak\", \"Ash Wednesday\", \"Good Friday\", \"Rosh Hashanah\", \"Navaratri\", \"Durga Puja\", \"Thaipusam\",\n",
    "    \"Monk\", \"Priest\", \"Imam\", \"Rabbi\", \"Swami\",  \"Shaman\", \"Mystic\", \"Hermit\", \"Oracle\", \"Prophetess\", \"Pope\", \"Bishop\", \"Caliph\", \"Mysticism\", \"Asceticism\"\n",
    "]\n",
    "\n",
    "assign_category(spirituality, case = False, category = '21', bar_text = 'Spirituality')"
   ]
  },
  {
   "cell_type": "code",
   "execution_count": 108,
   "metadata": {},
   "outputs": [
    {
     "name": "stdout",
     "output_type": "stream",
     "text": [
      "Warning: requiem is a common word: 0 in brown and 8 in webtext\n",
      "Warning: pilgrimage is a common word: 6 in brown and 0 in webtext\n",
      "Warning: testament is a common word: 6 in brown and 0 in webtext\n",
      "Warning: gospel is a common word: 9 in brown and 0 in webtext\n",
      "Warning : Short keywords: ['ayah', 'sawm', 'hajj', 'iman', 'sabr', 'kufr', 'fiqh', 'mahr']\n",
      "Extra spirituality: Category 21 now has 287469 videos, search time: 548.70 s\n"
     ]
    }
   ],
   "source": [
    "extra = [r'psal\\w+',  'requiem',  'prophet', r'exorcis\\w+',\n",
    "    \"prophecy\",\"parable\", \"scripture\", \"expiation\", \"idolatry\", \"monotheism\", \"polytheism\",  \"piety\", \"fasting\", \"pilgrimage\",\"apostasy\", \"sanctification\",  \"sanctity\", \"afterlife\", \"hellfire\",  \n",
    "    \"beatitude\", \"epistle\", \"testament\",\"decalogue\", \"sabbath\", r\"anoint\\w*\",  \"exodus\", \"manna\", \"pharisee\", \"sadducee\", \"gospel\", r\"eucharist\\w*\", \"baptism\", \"trinity\", \n",
    "    r\"beatif\\w+\", \"sacrament\", \"crucifixion\", r\"messiah\\w*\",r\"prophet\\w*\", \"psalter\",\"surah\", \"ayah\", \"tajweed\", \"sharia\",\"hadith\", \"sunnah\", \"qibla\", \"adhan\", \"zakat\", \"sawm\", \"hajj\", \"umrah\", \n",
    "    \"fitrah\", \"dhikr\",  \"jannah\", \"jahannam\", \"tawheed\", \"akhirah\", \"shirk\", \"halal\",  \"iman\", \"taqwa\", \"sabr\", \"shukr\", \"kufr\", \"munafiq\", \"jihad\", \"fiqh\", \"fatwa\", \"ijtihad\", \"qiyas\", \"hadith qudsi\", \n",
    "    \"shura\", \"hikmah\",  \"ikhwan\", \"risalah\", \"aqeedah\", \"mahr\", \"zalim\", \"shaheed\", \"ummah\", \"muhajir\", \"ansar\", \"tafsir\", \"nasikh\", \"mansukh\",\"mala'ika\", \"ruhul qudus\", \"nifaq\",\"eternal life\", \n",
    "    \"eternal damnation\", \"heavenly light\", \"sacred trust\", \"spiritual guidance\", \"mystic knowledge\",  'adam and eve'\n",
    "]\n",
    "# # \"spiritual\" too much\n",
    "assign_category(extra, case = False, category = '21', bar_text = 'Extra spirituality')"
   ]
  },
  {
   "cell_type": "markdown",
   "metadata": {},
   "source": [
    "# Food and cooking"
   ]
  },
  {
   "cell_type": "code",
   "execution_count": 109,
   "metadata": {},
   "outputs": [
    {
     "name": "stdout",
     "output_type": "stream",
     "text": [
      "Warning: mortar is a common word: 9 in brown and 0 in webtext\n",
      "Warning: cookie is a common word: 3 in brown and 42 in webtext\n",
      "Warning: rice is a common word: 24 in brown and 12 in webtext\n",
      "Warning: salad is a common word: 9 in brown and 7 in webtext\n",
      "Warning: sushi is a common word: 1 in brown and 12 in webtext\n",
      "Warning: terroir is a common word: 0 in brown and 8 in webtext\n",
      "Warning: barbecue is a common word: 13 in brown and 1 in webtext\n",
      "Warning : Short keywords: ['wok', 'rice', 'miso', 'yuzu', 'ghee', 'lard', 'udon', 'naan', 'idli', 'tofu']\n",
      "Cooking and food terms: Category 3 now has 25912 videos, search time: 1039.42 s\n",
      "Warning: cooking is a common word: 32 in brown and 4 in webtext\n",
      "Cooking and food terms: Category 39 now has 25082 videos, search time: 25.70 s\n"
     ]
    }
   ],
   "source": [
    "cooking = [\"mandoline\", \"microplane\", \"spatula\", \"skillet\", \"wok\", \"tagine\",\"tandoor\",'tandoori', \"colander\", \"zester\", \"rolling pin\", \"pastry\", \"mezzaluna\", \"pepper mill\", \n",
    "    \"ladle\", \"bench scraper\", \"peeler\", \"grater\", \"cleaver\", \"butcher block\", \"blender\", \"pestle\",'mortar', r\"bain.marie\", \"Dutch oven\",\"ramekin\", \"cookie\", \"steel pan\", 'frying pan', \n",
    "    \"ice cream\",\"sous vide\", \"food processor\",\"pressure cooker\", \"rice\", \"stockpot\", \"griddle\", \"piping bag\", \"salad\", \"citrus\", \"melon\",\"pasta\",\n",
    "    \"braising\", r\"saut.ing\", \"julienne\", \"maceration\", \"beurre\", r\"blanch\\w+\", r\"deglaz\\w+\", r\"emulsif\\w+\", \"proofing\", r\"carameliz\\w+\", \n",
    "    r\"ferment\\w*\",  r\"marinat\\w+\", \"confit\", \"curdling\",  r\"roast\\w*\",\n",
    "    \"saffron\", \"truffle\", \"sumac\", \"tamarind\", \"miso\", \"kombu\", \"yuzu\", \"ponzu\", \"amaranth\", \"quinoa\", \"farro\", \"freekeh\",\"barberries\",\"creme fraiche\", \"mascarpone\", \"fontina\", \"pecorino\", \"burrata\", \"paneer\", \"gorgonzola\",\n",
    "    \"anchovy\", \"capers\", \"kimchi\", \"gochujang\", \"furikake\", 'parmesan', 'parmiggiano', \"wasabi\", \"adzuki\", \"tamari\", \"mirin\",\"guanciale\", \"prosciutto\", \"pancetta\", \"kefir\", \"labneh\",\n",
    "    \"ghee\", \"lard\", \"tallow\", \"duck fat\",\"ratatouille\", \"bouillabaisse\", \"cassoulet\", \"coq au vin\", \"chateaubriand\", \"paella\", \"gazpacho\", \"tortilla\",\n",
    "    \"gnocchi\", \"risotto\", \"carbonara\", \"osso buco\", \"tiramisu\",\"strudel\", \"goulash\", \"pierogi\", \"borscht\", \"pelmeni\", \"baklava\", \"dolma\", \"shawarma\",\"tabbouleh\", \"hummus\", \"shakshuka\", \"falafel\",\n",
    "    \"kimchi\", \"bibimbap\", \"bulgogi\", \"ramen\", \"sushi\", \"sashimi\", \"tempura\", \"teriyaki\", \"udon\", \"katsu\", \"banh mi\",\"som tam\", \"pad thai\", \"laksa\", \"rendang\", \"naan\", \"rogan josh\", \"vindaloo\", \"idli\", \"sambar\", \"khichdi\", \"gulab jamun\",\n",
    "    \"pavlova\", \"lamington\", \"churros\", \"arepas\",\"empanadas\", \"tamales\", \"ceviche\", \"asado\", \"jambalaya\", \"gumbo\",\"chow mein\", \"tofu\", \n",
    "    \"Gordon Ramsay\", \"Julia Child\", \"Anthony Bourdain\", \"Ina Garten\", \"Thomas Keller\", \"Alice Waters\",\"Ferran Adrià\", \"Massimo Bottura\", \"Heston Blumenthal\",\"Wolfgang Puck\", \"Marco Pierre White\", \"Alain Ducasse\",\"Joël Robuchon\", \"Jamie Oliver\", \"Nigella Lawson\",\n",
    "    \"Emeril Lagasse\", \"Rick Bayless\", \"David Chang\",\"Ottolenghi\", \"José Andrés\", \"Rachel Ray\",\"Paul Bocuse\", \"Rene Redzepi\", \"Grant Achatz\",\"Pierre Hermé\", \"Dominique Ansel\",\n",
    "    \"umami\", \"mise en place\", \"terroir\", \"degustation\", \"farm.to.table\", \"gastronomy\", \"cuisine\", \"a la carte\", \"charcuterie\", \"patisserie\", \"fromagerie\",\n",
    "    \"boucherie\", \"rôtisserie\", \"brasserie\", \"bistro\", 'foodporn',  \"stir-fry\", \"barbecue\", \"broiling\",  r\"pickl\\w+\",\n",
    "    \"sommelier\", \"mixology\", \"crockpot\", \"garnish\", \"quenelle\",\"souffle\", \"meringue\", \"ganache\", \"fondant\", \"praline\"\n",
    "]\n",
    "assign_category(cooking, case = False, category = '3', bar_text = 'Cooking and food terms')\n",
    "assign_category(['cooking'], case = False, category = '39', bar_text = 'Cooking and food terms')"
   ]
  },
  {
   "cell_type": "code",
   "execution_count": 110,
   "metadata": {},
   "outputs": [
    {
     "name": "stdout",
     "output_type": "stream",
     "text": [
      "Warning: vegan is a common word: 0 in brown and 9 in webtext\n",
      "Warning: vegetarian is a common word: 1 in brown and 13 in webtext\n",
      "Extra cooking: Category 3 now has 37375 videos, search time: 39.99 s\n"
     ]
    }
   ],
   "source": [
    "extra = ['vegan', 'vegetarian', 'curry'] # diet and keto for lifestyle\n",
    "assign_category(extra, case = False, category = '3', bar_text = 'Extra cooking')"
   ]
  },
  {
   "cell_type": "markdown",
   "metadata": {},
   "source": [
    "# Diy and home repair"
   ]
  },
  {
   "cell_type": "code",
   "execution_count": 111,
   "metadata": {},
   "outputs": [
    {
     "name": "stdout",
     "output_type": "stream",
     "text": [
      "Warning: workbench is a common word: 8 in brown and 0 in webtext\n",
      "Warning: plywood is a common word: 9 in brown and 0 in webtext\n",
      "Warning: cement is a common word: 10 in brown and 0 in webtext\n",
      "Warning: mortar is a common word: 9 in brown and 0 in webtext\n",
      "Warning : Short keywords: ['diy', 'vise', 'MDF', 'OSB']\n",
      "DIY and home repair terms: Category 65 now has 45668 videos, search time: 612.36 s\n"
     ]
    }
   ],
   "source": [
    "diy_and_home_repair_terms = ['renovation', 'diy', \"jigsaw\", \"bandsaw\", \"impact driver\", \n",
    "    \"rotary tool\", \"multitool\", r\"caulk\\w*\", \"stud finder\", \"grinder\", \"sander\", \"tile cutter\", \"paint sprayer\", \"lathe\",\n",
    "    \"chisel\",  \"brick trowel\", \"tape measure\", \"workbench\", \"vise\", \"planer\", \"utility knife\", \"wire stripper\",\n",
    "    r\"solder\\w*\", \"shop vac\", \"dust extractor\", \"power washer\", \"cable tester\", \"stud extractor\", \"wrench\",\n",
    "    \"hacksaw\",  \"combination square\", \"masonry\",  \"countersink\", \"plywood\", \"MDF\", \"OSB\", \"drywall\", \"cement\",\n",
    "    \"hardwood\", \"softwood\", r\"veneer\\w*\", \"epoxy\", \"polyurethane\", \"wood filler\", \"construction adhesive\", \n",
    "    \"mortar\", \"silicone sealant\", \"weatherstripping\", \"beadboard\",\"crown molding\", \"baseboard\", \"dowel rod\", \"rebar\", \"paver\", \"decking\",  \"shingle\", \"underlayment\", \"PEX pipe\", \"angle iron\", \n",
    "    \"chipboard\", \"wainscoting\", \"stucco\", \"toggle bolt\", \"lag screw\", \"wood screw\", \"deck screw\", \"finishing nail\", \"brad nail\", \"carriage bolt\", \"joist hanger\",\n",
    "    \"hinge pin\", \"washer\", \"split ring\", \"cotter pin\", \"cable clamp\",\n",
    "    \"decoupage\",  \"mortise and tenon\", \"dovetail joint\", \"miter joint\", \"rabbet joint\", \"lamination\", \n",
    "    r\"varnish\\w*\", r\"weld\\w*\", r\"plaster\\w*\", \"mudding\", r\"grout\\w*\", \"tuckpointing\", \"tiling\",  \n",
    "    r\"lacquer\\w*\", \"raised garden bed\", \"DIY greenhouse\", 'diy '\n",
    "    \"Kreg Jig\", \"Makita\", \"DeWalt\", \"Ryobi\", \"Bosch\", \"Festool\", r\"Porter.Cable\", \"Craftsman\", r\"Black.Decker\", \"Fiskars\",\n",
    "    \"Simpson Strong-Tie\", \"Loctite\", \"Titebond\", \"Gorilla Glue\", \"Liquid Nails\", \"Rust-Oleum\", \"Minwax\", \"3M Command\", \"ScotchBlue\", \"Quickrete\",\n",
    "    \"drop cloth\",  \"tarpaulin\", \"wood glue\",  \"masking tape\",\"sandpaper\", \n",
    "    \"putty\", \"tile spacer\", \"grout \\w+\", \"chalk line\", \"work gloves\", \"tool belt\"]\n",
    "\n",
    "assign_category(diy_and_home_repair_terms, case = False, category = '65', bar_text = 'DIY and home repair terms')"
   ]
  },
  {
   "cell_type": "markdown",
   "metadata": {},
   "source": [
    "# Crypto"
   ]
  },
  {
   "cell_type": "code",
   "execution_count": 112,
   "metadata": {},
   "outputs": [
    {
     "name": "stdout",
     "output_type": "stream",
     "text": [
      "Warning : Short keywords: ['XRP', 'Aave']\n",
      "Cryptocurrencies: Category 25 now has 24787 videos, search time: 309.95 s\n"
     ]
    }
   ],
   "source": [
    "crypto = [\n",
    "    \"Bitcoin\", \"Ethereum\", \"Binance Coin\", \"Cardano\", \"Solana\", \"XRP\", \"Polkadot\", \"Litecoin\", \"Chainlink\", \"Dogecoin\", \"Shiba Inu\", \"Stellar\", \"Monero\", \"Zcash\",  \"Uniswap\", \"Aave\",  \"PancakeSwap\", \n",
    "    \"MakerDAO\", \"Synthetix\",\"Algorand\", \"Filecoin\", \"Arbitrum\", \"VeChain\",  \"Decentraland\", \"Axie Infinity\", \"Enjin\", \"Zilliqa\", \"Arweave\",\n",
    "    \"Yield Farming\", \"Liquidity Pool\", \"Impermanent Loss\",\"Automated Market Maker\", \"Decentralized Exchange\", \"Stablecoin\",\"Collateralized Debt Position\", \"Flash Loan\",\"Synthetic Asset\", \"Decentralized Autonomous Organization\",\"Liquidity Mining\", \"Tokenomics\",\n",
    "    \"Non-Fungible Token\", # only from 2017\n",
    "    \"Blockchain\", \"Hash Function\", \"SHA-256\", \"Keccak\", \"Elliptic Curve Cryptography\", \"Digital Signature\", \"Public-Private Key Pair\", \"Distributed Ledger\", \n",
    "    \"Coinbase\", \"Metamask\",\"Trust Wallet\", \"Etherscan\", \"Block Explorer\", \"CoinMarketCap\", \"CoinGecko\",\n",
    "]\n",
    "\n",
    "assign_category(crypto, case = False, category = '25', bar_text = 'Cryptocurrencies')"
   ]
  },
  {
   "cell_type": "code",
   "execution_count": 113,
   "metadata": {},
   "outputs": [
    {
     "name": "stdout",
     "output_type": "stream",
     "text": [
      "search: Category 25 now has 28562 videos, search time: 26.83 s\n"
     ]
    }
   ],
   "source": [
    "assign_category(['crypto'], case = False, category = '25', post_b=False)"
   ]
  },
  {
   "cell_type": "code",
   "execution_count": 114,
   "metadata": {},
   "outputs": [],
   "source": [
    "# extra = ['investing','stock', 'finance']\n",
    "# assign_category([r'cryptocurrenc\\w+'], case = False, category = '25', bar_text = 'Extra cryptocurrencies')"
   ]
  },
  {
   "cell_type": "markdown",
   "metadata": {},
   "source": [
    "# Philosophy and ethics"
   ]
  },
  {
   "cell_type": "code",
   "execution_count": 116,
   "metadata": {},
   "outputs": [
    {
     "name": "stdout",
     "output_type": "stream",
     "text": [
      "Warning: ethics is a common word: 13 in brown and 0 in webtext\n",
      "Warning: dialectic is a common word: 6 in brown and 0 in webtext\n",
      "Warning : Short keywords: ['Kant']\n",
      "Philosophy and ethics: Category 22 now has 20573 videos, search time: 623.58 s\n"
     ]
    }
   ],
   "source": [
    "philosophy_ethics = [ \n",
    "     'ethics',\n",
    "    r\"metaphysic\", r\"epistemology\", r\"ontology\", r\"phenomenology\", r\"hermeneutic\", r\"axiology\", r\"dualism\", r\"monism\", r\"determinis\\w+\", r\"indeterminis\\w+\", r\"existentialis\\w+\", \n",
    "    r\"nihilis\\w+\", r\"stoicism\", r\"skepticism\", r\"utilitarianism\", r\"hedonis\\w+\", r\"deontology\",  r\"essentialis\\w+\", r\"constructivism\", r\"postmodernism\", r\"absurdism\", r\"humanis\\w+\", r\"naturalism\", r\"anti-realism\", r\"phenomenology\", r\"transcendence\", r\"immanence\", r\"dialectic\", \n",
    "    r\"teleology\", r\"determinism\", r\"free will\", r\"theism\", r\"atheism\", r\"agnosticism\", r\"pantheism\", r\"panentheism\",r\"consequentialism\", r\"moral agency\", r\"meta-ethics\", \n",
    "    r\"Plato\", r\"Aristotle\", r\"Socrates\", r\"Kant\", r\"Descartes\", r\"Locke\", r\"Hobbes\", r\"Nietzsche\", r\"Heidegger\", r\"Sartre\", r\"Kierkegaard\", r\"Albert Camus\", r\"Bentham\", r\"Spinoza\", r\"Leibniz\", r\"Wittgenstein\", r\"Russell\", r\"Derrida\", \n",
    "    r\"Foucault\", r\"Rawls\", r\"Nozick\", r\"Levinas\", r\"Simone de Beauvoir\", r\"Arendt\",  r\"Zizek\", r\"Althusser\", r\"Hegel\", r\"Schopenhauer\", r\"Epicurus\", r\"Marcus Aurelius\", r\"Aquinas\", r\"Confucius\", r\"Mencius\", r\"Laozi\", r\"Zhuangzi\",\n",
    "    r\"Sorites Paradox\", r\"Liar Paradox\", r\"Ship of Theseus\",r\"Moore.s Paradox\", r\"Russell.s Paradox\", r\"Goodman.s Paradox\", r\"Newcomb.s Problem\", r\"Omnipotence Paradox\", r\"Paradox of Tolerance\", r\"Gettier Problem\", r\"Meno.s Paradox\",  r\"M.nchhausen Trilemma\",r\"G.del.s Incompleteness\", r\"Trolley Problem\", \n",
    "    r\"Prisoner.s Dilemma\", r\"Veil of Ignorance\", r\"Hume.s Guillotine\", r\"Hard Problem of Consciousness\", r\"Mind-Body Problem\", r\"Is-Ought Problem\", r\"Mary's Room\",\n",
    "    r\"Platonism\", r\"Aristotelianism\", r\"Cartesianism\", r\"Empiricism\", r\"Rationalism\", r\"Structuralism\", r\"Post-structuralism\", r\"Existentialism\", r\"Marxism\", r\"Phenomenology\",r\"nonmaleficence\", r\"personhood\", r\"sentience\", \n",
    "    r\"Nicomachean Ethics\", r\"Critique of Pure Reason\", r\"Discourse on Method\", r\"The Prince\", r\"Beyond Good and Evil\", r\"Zarathustra\",  r\"The Phenomenology of Spirit\", r\"Tractatus Logico.Philosophicus\", r\"Utilitarianism\",r\"A Theory of Justice\", r\"The Second Sex\", r\"The Communist Manifesto\",\n",
    "    r\"Phenomenology of Perception\", r\"Ethics of Ambiguity\", r\"Simulacra and Simulation\", r\"Fear and Trembling\", r\"The Myth of Sisyphus\", r\"Letter on Humanism\",  r\"Animal Liberation\", r\"The Social Contract\"\n",
    "]\n",
    "\n",
    "assign_category(philosophy_ethics, case = False, category = '22', bar_text = 'Philosophy and ethics')\n",
    "# 'philosophy'"
   ]
  },
  {
   "cell_type": "markdown",
   "metadata": {},
   "source": [
    "# Science and technology"
   ]
  },
  {
   "cell_type": "code",
   "execution_count": 117,
   "metadata": {},
   "outputs": [
    {
     "name": "stdout",
     "output_type": "stream",
     "text": [
      "Warning: astronomy is a common word: 23 in brown and 1 in webtext\n",
      "Warning: anthropology is a common word: 6 in brown and 1 in webtext\n",
      "Warning: microscope is a common word: 8 in brown and 1 in webtext\n",
      "Warning: pollution is a common word: 6 in brown and 0 in webtext\n",
      "Science and technology terms: Category 61 now has 49897 videos, search time: 659.42 s\n",
      "Warning : Short keywords: ['NASA', 'CERN', 'MRI', 'DNA', 'LIGO']\n",
      "Case sensitive science: Category 61 now has 55507 videos, search time: 29.83 s\n",
      "search: Category 69 now has 31202 videos, search time: 24.77 s\n"
     ]
    }
   ],
   "source": [
    "cas = ['NASA',\"LIDAR\", 'CERN',\"MRI\", \"DNA\",\"LIGO\",'CRISPR'           ]\n",
    "science_technology_terms =  ['astronomy', 'geology', 'meteorology', 'oceanography', 'botany', 'zoology', 'entomology', 'ornithology', 'herpetology', 'ichthyology', 'anthropology', \n",
    "    'neuroscience',  'oncology', 'pharmacology', 'forensics', 'criminology', 'geophysics', 'seismology', 'volcanology', 'climatology', 'meteorology', 'oceanography', 'limnology', 'hydrology', 'glaciology', 'cosmology', \n",
    "    'astrophysics', 'thermodynamic', 'fluid dynamic', 'materials science', 'biophysics', 'biochemistry', \n",
    "    \"quantum\", \"autonomous vehicles\", \"self-driving cars\", \"augmented reality\", \n",
    "    \"virtual reality\", \"Internet of Things\", \"digital twin\", \"cybersecurity\", \n",
    "    \"data science\", \"cloud computing\", \"genomics\",\"gene editing\", \"bioinformatics\", \"nanotechnology\", \"carbon capture\", \"renewable energy\", \n",
    "    \"solar panel\", \"electric vehicles\", \"hyperloop\", \"smart grids\", \"renewable\",\n",
    "    \"biometric\", \"3D print\", r\"lithium.ion\", \"robotics\", \"exoskeleton\",\"tablet\", \"space telescope\", \"hydraulic press\", \n",
    "    \"particle accelerator\", \"fusion reactor\", \"spectrometer\", \"mass spectrometer\", \"microscope\", \"wind turbine\", \"solar inverter\", \"solid-state drive\", \n",
    "    \"dark matter\", \"dark energy\", r\"gravitation\\w*\", \"exoplanet\", \"terraforming\", \"string theory\", \"superfluidity\", \"higgs\", \"black hole\",  \"stem cell\", \n",
    "    \"immunotherapy\", \"microbiome\", 'vaccine',\"biodiversity\", \"pollution\", \"ocean acidification\", \"space exploration\",\"asteroid mining\", \"fusion energy\", \"renewable hydrogen\", r\"superconduct\\w+\",\n",
    "    \"cloud server\", \"virtual machine\",\"DeepMind\", \"AlphaGo\", \"IBM Watson\", \"Blue Origin\", \"SpaceX\", \"Starship\", \"Falcon Heavy\", \n",
    "    \"Perseverance rover\", \"InSight lander\", \"James Webb Telescope\", \"Large Hadron Collider\", \"Artemis program\", \"Voyager\", \"Hubble\",\n",
    "    \"graphene\", \"nanotubes\", \"perovskite\", \"aerogel\", \"self-healing materials\", \n",
    "    \"climate change\", \"data privacy\", \"facial recognition\", \"vaccine\", \"deepfake technology\", \n",
    "]\n",
    "\n",
    "assign_category(science_technology_terms, case = False, category = '61', bar_text = 'Science and technology terms')\n",
    "assign_category(cas, case = True, category = '61', bar_text = 'Case sensitive science')\n",
    "assign_category([r\"engineer\\w*\",], case = False, category = '69', post_b=False)"
   ]
  },
  {
   "cell_type": "markdown",
   "metadata": {},
   "source": [
    "# Wildlife, nature and pets"
   ]
  },
  {
   "cell_type": "code",
   "execution_count": 118,
   "metadata": {},
   "outputs": [
    {
     "name": "stdout",
     "output_type": "stream",
     "text": [
      "Warning: anaconda is a common word: 12 in brown and 0 in webtext\n",
      "Warning: turtle is a common word: 8 in brown and 1 in webtext\n",
      "Warning: wildlife is a common word: 18 in brown and 0 in webtext\n",
      "Warning: rabbit is a common word: 11 in brown and 10 in webtext\n",
      "Warning: goat is a common word: 6 in brown and 8 in webtext\n",
      "Warning: monkey is a common word: 9 in brown and 30 in webtext\n",
      "Warning : Short keywords: ['reef', 'koi', 'goat']\n",
      "Wildlife and animals terms: Category 62 now has 26667 videos, search time: 719.21 s\n"
     ]
    }
   ],
   "source": [
    "wildlife_and_animals = [\n",
    "    \"pangolin\", \"platypus\", \"manatee\", \"narwhal\", \"okapi\", \"axolotl\", \"aardvark\", \"quokka\", \"tasmanian devil\", \"snow leopard\", \"red panda\", \"binturong\", \"komodo dragon\", \"gila monster\", \n",
    "    \"horned lizard\", \"cobra\", \"crocodile\", \"anaconda\", \"tortoise\", \"turtle\", \"tuatara\", \"salamander\", \"spider\", \"anthill\", \"honeybee\", \"butterfly\", \"beetle\", \"stick insect\", \n",
    "    \"savanna\", \"rainforest\", \"mangrove\", \"coral reef\", \"tundra\", \"steppe\", \"wetland\", \"everglades\", \n",
    "    \"serengeti\", \"boreal forest\", \"kelp forest\", \"intertidal zone\", \"reef\", \"rainforest\", \n",
    "    \"hibernation\", \"camouflage\", \"bioluminescence\", \"echolocation\", \"carapace\", \"antlers\", \"burrowing\", \"molting\", \"basking\", \"courtship\", \"aposematism\", \n",
    "    \"endangered species\", \"apex predator\", \"pollinator\", \"marsupial\", \"arachnid\", \"amphibian\", \"ungulate\", \"chiroptera\", \"bivalve\", \"crustacean\", \"annelid\", \"cnidarian\", \n",
    "    \"banff\", \"serengeti national park\", \"galapagos islands\", \"masai mara\", \"pantanal\", \"denali\",\n",
    "    \"planet earth\", \"blue planet\", \"frozen planet\", r\"nature.s wonders\", \"wild kratts\", \"wildlife\", \"david attenborough\", 'attenborough', \"disneynature\", \"nat geo\", \"arctic wolves\", 'natural geographic',\n",
    "    \"lizard\", \"caiman\", \"tarantula\",\"scorpion\", \n",
    "    \"cassowary\", \"shoebill\", \"kakapo\", \"albatross\",  \"frigatebird\", \"osprey\", \"kingfisher\", \"angelfish\", \"clownfish\", \"leafy sea dragon\", \"seahorse\", \"electric eel\", \"manta ray\", \"squid\", 'octopus' \n",
    "    \"baobab\", \"eucalyptus\", \"acacia\", \"mangrove\", \"giant kelp\", \"rafflesia\", \"venus flytrap\", \"pitcher plant\", \n",
    "    \"nature reserve\", \"poaching\", \"reintroduction\", \"habitat destruction\",\"breeding\", r\"anti.poaching\", \"conservation biology\"\n",
    "    \"dog\",\"rabbit\",\"hamster\",\"guinea pig\",\"ferret\",\"chinchilla\",\"hedgehog\",\n",
    "    \"parrot\", \"budgerigar\",\"cockatiel\",\"canary\",\"lovebird\",\"finch\",\n",
    "    \"gecko\",\"bearded dragon\",\"viper\", 'anaconda'\n",
    "    \"goldfish\",\"betta fish\",\"guppy\",\"tetra\",\"cichlid\",\"angelfish\",\"clownfish\",\"koi\",\n",
    "    \"mantis\",\"goat\",\"axolotl\",\"capybara\",\"fennec\",\"monkey\",\"macaw\",\"kinkajou\",\"skunk\"\n",
    "]\n",
    "assign_category(wildlife_and_animals, case = False, category = '62', bar_text = 'Wildlife and animals terms')"
   ]
  },
  {
   "cell_type": "markdown",
   "metadata": {},
   "source": [
    "# Language learning"
   ]
  },
  {
   "cell_type": "code",
   "execution_count": 119,
   "metadata": {},
   "outputs": [
    {
     "name": "stdout",
     "output_type": "stream",
     "text": [
      "Warning: syntax is a common word: 6 in brown and 4 in webtext\n",
      "Warning: orthography is a common word: 6 in brown and 0 in webtext\n",
      "Warning: idiom is a common word: 7 in brown and 2 in webtext\n",
      "Warning: translation is a common word: 16 in brown and 3 in webtext\n",
      "Warning: dialect is a common word: 10 in brown and 0 in webtext\n",
      "Warning: accent is a common word: 9 in brown and 13 in webtext\n",
      "Warning : Short keywords: ['verb']\n",
      "Language learning terms: Category 63 now has 63243 videos, search time: 350.91 s\n",
      "Warning : Short keywords: ['CEFR', 'DELF', 'DALF', 'JLPT']\n",
      "Case sensitive language: Category 63 now has 66840 videos, search time: 30.04 s\n"
     ]
    }
   ],
   "source": [
    "case= [ \"CEFR\", \"TOEFL\", \"IELTS\", \"DELF\", \"DALF\", \"JLPT\", ]\n",
    "language_learning = [\n",
    "    \"syntax\", \"semantics\", \"phonology\", \"phonetics\", \"pragmatics\", \"lexicon\", \"orthography\",\n",
    "    \"verb\", \"adverb\", \"preposition\", \"pronoun\", \"gerund\", \"participle\", \"predicate\", \"conjugation\", \"declension\", 'dativ', 'akkusativ', 'gerund'\n",
    "    \"diphthong\", \"schwa\", \"phoneme\", \"allophone\",\n",
    "    \"glottal stop\", \"fricative\", \"plosive\", \"labiodental\", r\"phonem\\w*\", \"alphabet\", \"syllabary\", \"logogram\",\"cursive\", \"romanization\", \"transliteration\",\n",
    "    \"calligraphy\", \"stroke order\", \"punctuation\", \"diacritic\", \"glyph\", \"ligature\", \"synonym\", \"antonym\", \"homograph\", \"polysemy\",\"compound word\",\n",
    "    \"etymology\", \"neologism\", \"idiom\", \"proverb\", \"oxymoron\", \"alliteration\", \"thesaurus\", \"language exchange\",\n",
    "    \"fluency\", \"language portfolio\", \"listening comprehension\", \"reading comprehension\", \n",
    "    \"translation\", \"dialect\", \"accent\", \"patois\", \"creole\", \"pidgin\", \"vernacular\", \"argot\",  \"linguistics\", \"grammar\", \"translation memory\", \n",
    "    \"mother tongue\", \"second language\", \"native language\", r\"bilingual\\w*\", r\"multilingual\\w*\", 'foreign language' \n",
    "]\n",
    "assign_category(language_learning, case = False, category = '63', bar_text = 'Language learning terms')\n",
    "assign_category(case, case = True, category = '63', bar_text = 'Case sensitive language')"
   ]
  },
  {
   "cell_type": "code",
   "execution_count": 121,
   "metadata": {},
   "outputs": [
    {
     "name": "stdout",
     "output_type": "stream",
     "text": [
      "Language learning: Category 63 now has 104930 videos, search time: 433.62 s\n"
     ]
    }
   ],
   "source": [
    "# here run on the whole dataset since very specific\n",
    "languages = [\"English\", \"Spanish\", \"Mandarin\", \"French\", \"German\", \"Japanese\", \"Russian\", \"Portuguese\", \"Italian\", \"Arabic\", \"Korean\", \"Hindi\", \"Dutch\", \"Swedish\", \"Turkish\", \"Thai\", \"Greek\", \"Hebrew\", \"Polish\", \"Vietnamese\"] \n",
    "learn= ['learn ' + lang for lang in languages]+ ['fluent in ' + lang for lang in languages] + [lang + ' learning' for lang in languages] + ['learning ' +lang  for lang in languages] + [lang + ' proficiency' for lang in languages]\n",
    "assign_category(learn, case = False, category = '63', bar_text = 'Language learning', search_within='ALL')"
   ]
  },
  {
   "cell_type": "code",
   "execution_count": 122,
   "metadata": {},
   "outputs": [
    {
     "name": "stdout",
     "output_type": "stream",
     "text": [
      "Language learning: Category 63 now has 107722 videos, search time: 43.03 s\n"
     ]
    }
   ],
   "source": [
    "# detect_left(['language'], case = False).to_csv(op.join('keys', 'left_learn.csv'))\n",
    "extra = ['cambridge certificate', 'learn romanian', 'english literature', 'learn chinese'] \n",
    "assign_category(extra, case = False, category = '63', bar_text = 'Language learning')"
   ]
  },
  {
   "cell_type": "markdown",
   "metadata": {},
   "source": [
    "# geopolitics"
   ]
  },
  {
   "cell_type": "code",
   "execution_count": 123,
   "metadata": {},
   "outputs": [
    {
     "name": "stdout",
     "output_type": "stream",
     "text": [
      "Warning: Refugee is a common word: 7 in brown and 1 in webtext\n",
      "Warning : Short keywords: ['ISIS', 'PKK', 'LRA', 'YPG']\n",
      "Geopolitics terms: Category 24 now has 4498 videos, search time: 481.28 s\n"
     ]
    }
   ],
   "source": [
    "# Refined Geopolitics-Related Nouns (1980s–present, excluding political systems and structures)\n",
    "geopolitics = [\n",
    "    \"Falklands War\", \"Iran.Iraq War\", \"Iran War\", \"Iraq War\", \"Gulf War\", \"Bosnian War\", \"Kosovo War\", \"Rwandan Genocide\", \"Chechen Wars\", \"Second Intifada\", \"Syrian Civil War\", \"Libyan Civil War\", \"Yemen Civil War\", \n",
    "    \"Donbas Conflict\", \"Iraq War\", \"Afghanistan War\", \"Somali Civil War\", \"Darfur Conflict\", \"Ethiopian Civil War\", \"South Sudanese Civil War\", \"Nagorno-Karabakh Conflict\", \n",
    "    \"Tigray War\", \"Chadian Civil War\", \"Kosovo Independence Conflict\",\"South China Sea Dispute\", \"Kashmir Conflict\", \"Taiwan Strait Tensions\", \"Gaza-Israel Conflict\", \"Lebanese Civil War\", \"Crimea Annexation\", \n",
    "    \"Kuril Islands Dispute\", \"Senkaku Islands Dispute\", \"Falkland Islands Dispute\",\"Boko Haram Insurgency\", \"Houthi Rebellion\", \"Sudanese Coup\", \n",
    "    \"Myanmar Crisis\", \"Uyghur Detention Camps\", \"Hong Kong Protests\", \"Catalonia Independence Movement\", \"Brexit\",\"Al-Qaeda\", \"ISIS\", \"Taliban\", \"Hezbollah\", \"Hamas\", \"Boko Haram\", \"PKK\", \"LRA\", \"Shining Path\", \n",
    "    \"Mujahideen\", \"YPG\", \"Houthi Movement\", \"Black September\", \"Jemaah Islamiyah\", \"Al-Shabaab\",\"NATO Expansion\", \"European Union Enlargement\",\n",
    "    \"Kyoto Protocol\", \"Paris Agreement\", \"NAFTA\", \"USMCA\", \"CPTPP\", \"Belt and Road Initiative\", \"ASEAN Free Trade Area\", \"African Continental Free Trade Agreement\",\n",
    "    \"Schengen\", \"Oslo Accords\", \"Camp David Accords\",\"Refugee\", \"Rohingya Crisis\", \"Darfur Genocide\", \"Venezuelan Migration Crisis\",\"Mediterranean Migrant Crisis\",\n",
    "    \"Berlin Wall\", \"collapse of the Soviet Union\", \"9.11 Attacks\", \"Arab Spring\", \"Brexit\", \"Hong Kong Protests\", \"Tiananmen Square Protests\", \"China's Belt and Road Initiative\", \"Global Financial Crisis\", \n",
    "    \"Eurozone Crisis\", \"Sudanese Revolution\", \"Ethiopian Renaissance\",\"Taiwanese Independence\", \"Kurdish Independence\", \"Catalan Independence\", \"Crimean Annexation\", \"Golan Heights Dispute\",\"Western Sahara Conflict\", \"Arctic Sovereignty Dispute\"\n",
    "]\n",
    "\n",
    "assign_category(geopolitics, case = False, category = '24', bar_text = 'Geopolitics terms')"
   ]
  },
  {
   "cell_type": "markdown",
   "metadata": {},
   "source": [
    "# finance and economics"
   ]
  },
  {
   "cell_type": "code",
   "execution_count": null,
   "metadata": {},
   "outputs": [],
   "source": [
    "# TODO"
   ]
  },
  {
   "cell_type": "markdown",
   "metadata": {},
   "source": [
    "# spam&scam  vlam -> trash"
   ]
  },
  {
   "cell_type": "code",
   "execution_count": 129,
   "metadata": {},
   "outputs": [
    {
     "name": "stdout",
     "output_type": "stream",
     "text": [
      "Warning: joke is a common word: 22 in brown and 16 in webtext\n",
      "Warning: comedy is a common word: 37 in brown and 7 in webtext\n",
      "Warning : Short keywords: ['rant', 'joke', 'skit', 'meme', 'spam', 'simp', 'noob', 'kys', 'rekt', 'dab']\n",
      "Trolling and humor: Category s now has 44563 videos, search time: 513.33 s\n"
     ]
    }
   ],
   "source": [
    "# Keywords for trolling, memes, jokes, and humorous content\n",
    "\n",
    "trolling = ['you won.t believe' # humour ???? \n",
    "    \"troll\", \"trolling\", \"rant\", r\"parod\\w+\", \"prank\", \"joke\", \"comedy\", \"skit\", \"meme\", r\"shitpost\\w*\", \n",
    "    \"punchline\", \"dad jokes\", \"reaction video\", \"fail compilation\",\"dank memes\", \"normie memes\", \"wholesome memes\", \"cursed images\", \"among us memes\", \"shrek memes\", \"rickroll\", \"trollface\", \n",
    "    \"distracted boyfriend\", \"big chungus\", \"sigma grindset\", \"gigachad\", \"karen meme\", \"npc meme\", \"virgin vs chad\", \"elmo fire meme\", \"the office memes\", \"spiderman pointing meme\", \"is this a pigeon?\", \n",
    "    \"mocking spongebob\", \"harambe\", \"cash me outside\",\"comment wars\", \"spam\", \"clout chasing\", \"cringe\", \"simp\", \"stan wars\",\n",
    "    \"boomer humor\", \"clickbait\", \"red circle thumbnail\", \"yassification\", r\"catfish\\w+\", \"fake account\",\n",
    "    \"epic fails\", \"hidden camera\", \"funny animal\", \"laugh challenge\", \"funniest home video\", \"try not to laugh\", \"awkward moment\", \"compilation video\",\"tinfoil hat\",\"time travel theories\", \n",
    "    \"funny dubs\", \"shower thoughts\", \"unexpected plot twist\", \"sarcastic news\", \"funny conspiracy theories\",\n",
    "    \"griefing\", \"rage quit\", \"spawn camping\", \"toxic behavior\", \"teabagging\", \"stream sniping\", \"baiting players\", \"smurfing\", \"rage moments\",\"get rekt\", \"ez clap\", \"noob\", \"kys\", \n",
    "    \"trash talk\", \"u mad bro\", \"rekt\", \"dab\", \"L + ratio\", \"poggers\", \"suspect behavior\", \"420 blaze it\", \"for the lulz\", \"le epic\", \"ok boomer\", \"doomer\", \"cringe compilations\"\n",
    "]\n",
    "assign_category(trolling, case = False, category = 's', bar_text = 'Trolling and humor', search_within = 'ALL')"
   ]
  },
  {
   "cell_type": "markdown",
   "metadata": {},
   "source": [
    "### Tools"
   ]
  },
  {
   "cell_type": "code",
   "execution_count": 62,
   "metadata": {},
   "outputs": [],
   "source": [
    "# reset or change a category\n",
    "# edu.loc[edu.category == '94', 'category'] = 'unclass'"
   ]
  },
  {
   "cell_type": "code",
   "execution_count": 125,
   "metadata": {},
   "outputs": [
    {
     "data": {
      "text/plain": [
       "2462819"
      ]
     },
     "execution_count": 125,
     "metadata": {},
     "output_type": "execute_result"
    }
   ],
   "source": [
    "len(edu[edu.category == 'unclass'])   \n",
    "# edu.category.unique()\n",
    "# edu[edu.category == ''].head(20)"
   ]
  },
  {
   "cell_type": "code",
   "execution_count": 130,
   "metadata": {},
   "outputs": [
    {
     "data": {
      "text/plain": [
       "1123"
      ]
     },
     "execution_count": 130,
     "metadata": {},
     "output_type": "execute_result"
    }
   ],
   "source": [
    "save_df = edu[['display_id', 'channel','name_cc', 'category_cc', 'category']]\n",
    "save_df.to_csv(op.join(path_deriv, 'subcategories_18_12_w_spam.csv'), index = False)\n",
    "del save_df\n",
    "import gc\n",
    "gc.collect()"
   ]
  },
  {
   "cell_type": "code",
   "execution_count": 127,
   "metadata": {},
   "outputs": [
    {
     "data": {
      "text/plain": [
       "1706"
      ]
     },
     "execution_count": 127,
     "metadata": {},
     "output_type": "execute_result"
    }
   ],
   "source": [
    "# edu[edu.category == '21'].to_csv(op.join(path_deriv, 'spirituality.csv'), index = False)"
   ]
  },
  {
   "cell_type": "markdown",
   "metadata": {},
   "source": [
    "#### Plot current sorting"
   ]
  },
  {
   "cell_type": "code",
   "execution_count": 132,
   "metadata": {},
   "outputs": [
    {
     "data": {
      "image/png": "[encoded data removed]",
      "text/plain": [
       "<Figure size 2000x300 with 1 Axes>"
      ]
     },
     "metadata": {},
     "output_type": "display_data"
    }
   ],
   "source": [
    "import matplotlib.pyplot as plt \n",
    "import seaborn as sns\n",
    "\n",
    "to_plot = edu[edu.category != 'unclass'].copy().drop(columns = ['text'])\n",
    "\n",
    "fig, ax = plt.subplots(figsize=(20, 3))\n",
    "sns.countplot(x='category', data=to_plot, order = to_plot.category.value_counts().index, hue = 'category', ax=ax)\n",
    "#ax.set_yscale('log')\n",
    "ax.set_title('Number of videos per category')\n",
    "ax.set_xlabel('category')\n",
    "ax.set_ylabel('Number of channels')\n",
    "#ax.legend_.remove()\n",
    "plt.show()\n",
    "del to_plot"
   ]
  },
  {
   "cell_type": "code",
   "execution_count": null,
   "metadata": {},
   "outputs": [],
   "source": [
    "# Check classification\n",
    "key = '91'\n",
    "edu[edu.category == key].sample(10).text.values"
   ]
  }
 ],
 "metadata": {
  "kernelspec": {
   "display_name": "ada",
   "language": "python",
   "name": "python3"
  },
  "language_info": {
   "codemirror_mode": {
    "name": "ipython",
    "version": 3
   },
   "file_extension": ".py",
   "mimetype": "text/x-python",
   "name": "python",
   "nbconvert_exporter": "python",
   "pygments_lexer": "ipython3",
   "version": "3.11.9"
  }
 },
 "nbformat": 4,
 "nbformat_minor": 2
}
