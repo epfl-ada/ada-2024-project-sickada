{
 "cells": [
  {
   "cell_type": "code",
   "execution_count": null,
   "metadata": {},
   "outputs": [],
   "source": [
    "%load_ext autoreload\n",
    "%autoreload 2\n",
    "\n",
    "import matplotlib.pyplot as plt\n",
    "import seaborn as sns\n",
    "import pandas as pd\n",
    "import numpy as np\n",
    "import os\n",
    "import sys\n",
    "import os.path as op\n",
    "from tqdm.notebook import tqdm\n",
    "import requests as req\n",
    "from bs4 import BeautifulSoup as bs\n",
    "import re\n",
    "import time\n",
    "\n",
    "from googleapiclient.errors import HttpError\n",
    "\n",
    "sys.path.insert(0, '..') # project folder\n",
    "\n",
    "from country_scraping import extract_channels_edu, youtube_country_scraper, youtube_handle_scraper, extract_countries_socialblade\n",
    "\n",
    "path_data = op.join('..', 'data', 'raw')\n",
    "path_deriv = op.join(path_data, '..', 'derivatives')\n",
    "path_metadata = op.join(path_data, \"yt_metadata_en.jsonl.gz\")\n",
    "path_edu = op.join(path_deriv, \"Education_videos_{}.csv\")\n",
    "path_channels = op.join(path_data, \"df_channels_en.tsv.gz\")\n",
    "\n",
    "API_KEY = pd.read_json(op.join('..','config.json'))['api_key'][0]\n",
    "N_BATCHES = 8"
   ]
  },
  {
   "cell_type": "code",
   "execution_count": null,
   "metadata": {},
   "outputs": [
    {
     "data": {
      "text/plain": [
       "<Axes: xlabel='month_year'>"
      ]
     },
     "execution_count": 50,
     "metadata": {},
     "output_type": "execute_result"
    },
    {
     "data": {
      "image/png": "[encoded data removed]",
      "text/plain": [
       "<Figure size 2000x600 with 1 Axes>"
      ]
     },
     "metadata": {},
     "output_type": "display_data"
    }
   ],
   "source": [
    "df = pd.read_csv(op.join(path_edu.format(0)), index_col=0)\n",
    "df['month_year'] = df['upload_date'].apply(lambda x: '_'.join(str(x).split('-')[:2]))\n",
    "fig, ax = plt.subplots(figsize=(20, 6))\n",
    "df.groupby(by='month_year').month_year.value_counts().plot(kind='bar', ax=ax)"
   ]
  },
  {
   "cell_type": "markdown",
   "metadata": {},
   "source": [
    "### Channel extraction from Edu videos"
   ]
  },
  {
   "cell_type": "code",
   "execution_count": null,
   "metadata": {},
   "outputs": [
    {
     "name": "stdout",
     "output_type": "stream",
     "text": [
      "Processing file : path_edu_0  --> Found 3412 channels\n",
      "Processing file : path_edu_1  --> Found 3039 channels\n",
      "Processing file : path_edu_2  --> Found 3069 channels\n",
      "Processing file : path_edu_3  --> Found 3036 channels\n",
      "Processing file : path_edu_4  --> Found 3384 channels\n",
      "Processing file : path_edu_5  --> Found 3282 channels\n",
      "Processing file : path_edu_6  --> Found 3150 channels\n",
      "Processing file : path_edu_7  --> Found 3224 channels\n",
      "Total number of channels : 25587\n"
     ]
    }
   ],
   "source": [
    "channels = extract_channels_edu(verbose = True)"
   ]
  },
  {
   "cell_type": "markdown",
   "metadata": {},
   "source": [
    "### Youtube API - extract the countries directly"
   ]
  },
  {
   "cell_type": "code",
   "execution_count": null,
   "metadata": {},
   "outputs": [],
   "source": [
    "countries = pd.DataFrame(columns = ['channel_id', 'country']) \n",
    "countries['channel_id'] = channels\n",
    "countries['country'] = 'empty'"
   ]
  },
  {
   "cell_type": "code",
   "execution_count": null,
   "metadata": {},
   "outputs": [],
   "source": [
    "start = 0\n",
    "end = len(countries) # max 10k per day - improved since now we do batches so can run all of them in one go\n",
    "batch_size = 50 # max youtube allows per request\n",
    "\n",
    "try:\n",
    "    for i in tqdm(range(start,end,batch_size), total = (end - start)//batch_size, desc = 'Country extraction'):\n",
    "        chs = channels[i:min(i+batch_size,end)]\n",
    "        nations = youtube_country_scraper(API_KEY, chs, verbose= False)\n",
    "        \n",
    "        for ch in chs:\n",
    "            countries.loc[countries.channel_id == ch, 'country'] = nations[ch]\n",
    "            tqdm.write('Channel {} : {} - {}  '.format(i, ch, nations[ch]), end=\"\\r\")\n",
    "\n",
    "    if end % batch_size != 0:\n",
    "        chs_extra = channels[(end//batch_size)* batch_size:end]\n",
    "        nations = youtube_country_scraper(API_KEY, chs_extra, verbose= False)\n",
    "        for i, ch in enumerate(chs_extra):\n",
    "            countries.loc[countries.channel_id == ch, 'country'] = nations[ch]\n",
    "            tqdm.write('Channel {} : {} - {}  '.format(i, ch, nations[ch]), end=\"\\r\")\n",
    "\n",
    "except HttpError as e:\n",
    "        if e.resp.status == 403:\n",
    "            print('Quota exceeded, saving extracted countries')\n",
    "            countries.to_csv(op.join(path_deriv, 'countries.csv'), index = False)        \n",
    "\n",
    "countries.to_csv(op.join(path_deriv, 'countries.csv'))\n",
    "tqdm.write('Done!                                        ')"
   ]
  },
  {
   "cell_type": "code",
   "execution_count": null,
   "metadata": {},
   "outputs": [],
   "source": [
    "#Redo those that did not return the same channel id\n",
    "countries_redo = countries[countries.country == 'deleted'].reset_index(drop = True) \n",
    "for i, ch in tqdm(enumerate(countries_redo.channel_id), total = len(countries_redo)//10, desc = 'Countries redo'):\n",
    "    nations = youtube_country_scraper(API_KEY, [ch], verbose= False)\n",
    "    countries.loc[countries.channel_id == ch, 'country'] = nations[ch]\n",
    "    tqdm.write('Channel {} : {} - {}  '.format(i, ch, nations[ch]), end=\"\\r\")\n",
    "\n",
    "countries.to_csv(op.join(path_deriv, 'countries.csv'))"
   ]
  },
  {
   "cell_type": "code",
   "execution_count": null,
   "metadata": {},
   "outputs": [],
   "source": [
    "pd.set_option(\"display.max_rows\", None) #11 is default\n",
    "display(countries.country.value_counts(dropna=True))"
   ]
  },
  {
   "cell_type": "markdown",
   "metadata": {},
   "source": [
    "### Countplot of countries"
   ]
  },
  {
   "cell_type": "code",
   "execution_count": 92,
   "metadata": {},
   "outputs": [
    {
     "name": "stderr",
     "output_type": "stream",
     "text": [
      "C:\\Users\\gbrag\\AppData\\Local\\Temp\\ipykernel_28728\\2877193261.py:10: FutureWarning: Setting an item of incompatible dtype is deprecated and will raise an error in a future version of pandas. Value '?' has dtype incompatible with int64, please explicitly cast to a compatible dtype first.\n",
      "  to_plot[to_plot.country == 'deleted'] = '?'\n"
     ]
    }
   ],
   "source": [
    "#group in single category all the countries with less than 10 channels\n",
    "countries = pd.read_csv(op.join(path_deriv, 'countries.csv'))\n",
    "filter = 20\n",
    "to_plot = countries.copy()\n",
    "value_countss = to_plot['country'].value_counts()\n",
    "to_plot['country'] = to_plot['country'].apply(lambda x: 'Other' if type(x) == str and value_countss[x] < filter  else x)\n",
    "to_plot = to_plot[to_plot.country != 'Other']\n",
    "\n",
    "to_plot.country.value_counts(dropna=False)\n",
    "to_plot[to_plot.country == 'deleted'] = '?'\n",
    "to_plot.country  = to_plot.country.fillna('?')"
   ]
  },
  {
   "cell_type": "code",
   "execution_count": 93,
   "metadata": {},
   "outputs": [
    {
     "data": {
      "image/png": "[encoded data removed]",
      "text/plain": [
       "<Figure size 2000x500 with 1 Axes>"
      ]
     },
     "metadata": {},
     "output_type": "display_data"
    }
   ],
   "source": [
    "fig, ax = plt.subplots(figsize=(20, 5))\n",
    "sns.countplot(x='country', data=to_plot, order = to_plot['country'].value_counts(dropna=False).index, hue = 'country', ax=ax)\n",
    "ax.set_yscale('log')\n",
    "ax.set_title('Number of channels per country')\n",
    "ax.set_xlabel('Country')\n",
    "ax.set_ylabel('Number of channels (log)')\n",
    "plt.show()\n",
    "# ax.legend_.remove()"
   ]
  },
  {
   "cell_type": "markdown",
   "metadata": {},
   "source": [
    "## Handling channels that Youtube API couldn't inform us about"
   ]
  },
  {
   "cell_type": "code",
   "execution_count": 28,
   "metadata": {},
   "outputs": [],
   "source": [
    "pd.set_option(\"display.max_rows\", 11)"
   ]
  },
  {
   "cell_type": "code",
   "execution_count": 52,
   "metadata": {},
   "outputs": [],
   "source": [
    "if op.isfile(op.join(path_deriv, 'countries.csv')):\n",
    "    countries = pd.read_csv(op.join(path_deriv, 'countries.csv'), index_col = 0)"
   ]
  },
  {
   "cell_type": "code",
   "execution_count": 53,
   "metadata": {},
   "outputs": [],
   "source": [
    "# Merge the countries for which we have no info with the channel information to be able to crawl socialblade\n",
    "channels = pd.read_csv(path_channels, compression=\"infer\", sep=\"\\t\")\n",
    "delNone = countries[(countries.country == 'deleted') | (countries['country'].apply(lambda x: isinstance(x, float)))]\n",
    "delNone = delNone.rename(columns={'channel_id':'channel'})\n",
    "no_country = pd.merge(delNone, channels, on='channel', how='left')\n",
    "no_country['handle'] = None\n",
    "#print('length before : ',len(deleted), ' and after : ', len(deleted_df))"
   ]
  },
  {
   "cell_type": "markdown",
   "metadata": {},
   "source": [
    "#### Get the handles of the countries we could not get the country of"
   ]
  },
  {
   "cell_type": "code",
   "execution_count": null,
   "metadata": {},
   "outputs": [
    {
     "data": {
      "application/vnd.jupyter.widget-view+json": {
       "model_id": "f716a1a6434b4f06a3b1035ebc419d7e",
       "version_major": 2,
       "version_minor": 0
      },
      "text/plain": [
       "Handle extraction:   0%|          | 0/97 [00:00<?, ?it/s]"
      ]
     },
     "metadata": {},
     "output_type": "display_data"
    },
    {
     "name": "stdout",
     "output_type": "stream",
     "text": [
      "Done!                                        sult      505                            \n"
     ]
    }
   ],
   "source": [
    "start = 0\n",
    "channels = no_country.channel.to_list()\n",
    "end = len(channels) # max 10k per day - improved since now we do batches so can run all of them in one go\n",
    "batch_size = 50 # max youtube allows per request\n",
    "\n",
    "try:\n",
    "    for i in tqdm(range(start,end,batch_size), total = (end - start)//batch_size, desc = 'Handle extraction'):\n",
    "        chs = channels[i:min(i+batch_size,end)]\n",
    "        handles = youtube_handle_scraper(chs, verbose= False)\n",
    "        \n",
    "        for ch in chs:\n",
    "            no_country.loc[no_country.channel == ch, 'handle'] = handles[ch]\n",
    "            tqdm.write('Channel {} : {} - {}             '.format(i, ch, handles[ch]), end=\"\\r\")\n",
    "\n",
    "    if end % batch_size != 0:\n",
    "        chs_extra = channels[(end//batch_size)* batch_size:end]\n",
    "        handles = youtube_handle_scraper(chs_extra, verbose= False)\n",
    "        for i, ch in enumerate(chs_extra):\n",
    "            no_country.loc[no_country.channel == ch, 'handle'] = handles[ch]\n",
    "            tqdm.write('Channel {} : {} - {}  '.format(i, ch, handles[ch]), end=\"\\r\")\n",
    "\n",
    "except HttpError as e:\n",
    "        if e.resp.status == 403:\n",
    "            print('Quota exceeded, saving extracted countries')\n",
    "            no_country.to_csv(op.join(path_deriv, 'no_country_handles.csv'), index = False)\n",
    "\n",
    "no_country.handle = no_country.handle.apply(lambda x : x.replace('@','') if x is not None else x)\n",
    "no_country.to_csv(op.join(path_deriv, 'no_country_handles.csv'))\n",
    "tqdm.write('Done!                                        ')"
   ]
  },
  {
   "cell_type": "markdown",
   "metadata": {},
   "source": [
    "#### Try to get the countries through the archive"
   ]
  },
  {
   "cell_type": "code",
   "execution_count": null,
   "metadata": {},
   "outputs": [],
   "source": [
    "from country_scraping import extract_countries_socialblade\n",
    "\n",
    "#no_country= pd.read_csv(op.join(path_deriv, 'no_country_handles.csv'), index_col = 0)\n",
    "codes = no_country['channel']\n",
    "usernames = no_country['handle']\n",
    "\n",
    "redo = ['api', 'attempts exhausted', 'request error', 'except', 'no_info' , 'None', 'wrong status code','no_info'] # iteratively run these until \n",
    "to_iterate = no_country[no_country.country.isin(redo)].handle.to_list() #usernames\n",
    "\n",
    "for i, channel in tqdm(enumerate(to_iterate), total = len(to_iterate), desc='going through channels'):\n",
    "    if channel != 'no_result' and isinstance(channel,str) :\n",
    "        country = extract_countries_socialblade(user = channel, username=True)\n",
    "        no_country.loc[no_country.handle == channel, 'country'] = country\n",
    "    if i % 50 == 0:\n",
    "        no_country.to_csv(op.join(path_deriv, f'countries_webarchive_handles.csv'), index = False)\n",
    "no_country.to_csv(op.join(path_deriv, f'countries_webarchive_handles.csv'), index = False)"
   ]
  },
  {
   "cell_type": "code",
   "execution_count": null,
   "metadata": {},
   "outputs": [
    {
     "data": {
      "text/plain": [
       "country\n",
       "no_country    122\n",
       "Name: count, dtype: int64"
      ]
     },
     "execution_count": 61,
     "metadata": {},
     "output_type": "execute_result"
    }
   ],
   "source": [
    "# check where algorithm failed to retrieve information, to loop it back into algorithm\n",
    "no_country[no_country.country.isin(redo + ['no_country'])].country.value_counts(dropna=False)"
   ]
  },
  {
   "cell_type": "code",
   "execution_count": null,
   "metadata": {},
   "outputs": [
    {
     "data": {
      "text/plain": [
       "country\n",
       "no_rec        2441\n",
       "deleted       1245\n",
       "US             686\n",
       "no_country     122\n",
       "GB              90\n",
       "              ... \n",
       "SY               1\n",
       "NZ               1\n",
       "AD               1\n",
       "RS               1\n",
       "BS               1\n",
       "Name: count, Length: 75, dtype: int64"
      ]
     },
     "execution_count": 183,
     "metadata": {},
     "output_type": "execute_result"
    }
   ],
   "source": [
    "# Visualize the countries we could get with this alternative method\n",
    "#no_country[~no_country.country.isin(redo + ['no_rec', 'deleted','no_country'])].country.value_counts(dropna=False)\n",
    "no_country.country.value_counts(dropna=False)"
   ]
  },
  {
   "cell_type": "code",
   "execution_count": null,
   "metadata": {},
   "outputs": [],
   "source": [
    "# _______ Postprocessing the no_country df\n",
    "#no_country.loc[no_country.handle == 'no_result', 'country'] = 'deleted' # 1245 deleted channels\n",
    "#no_country.loc[no_country.country == '', 'country'] = 'no_country'\n",
    "#no_country.loc[no_country.country == '', 'attempts exhausted'] = 'no_country'\n",
    "#no_country.loc[(no_country['handle'].apply(lambda x: isinstance(x, float))), 'country'] = 'no_info'\n",
    "#no_country.loc[(no_country['handle'].apply(lambda x: isinstance(x, float))), 'handle'] = 'no_result'"
   ]
  },
  {
   "cell_type": "code",
   "execution_count": null,
   "metadata": {},
   "outputs": [],
   "source": [
    "# the method with the codes yielded 3 new countries (for a third of the no_country dataset)\n",
    "# the method with guessing the usernames yielded 100 new countries but with less certainty that these were the correct ones\n",
    "# asking chat GPT for the handles did not prove to be  conclusive\n",
    "# finally the method of asking youtube for the handle then asking the archive for the country yielded a bit more than 1000 new countries\n",
    "# i manually set some problematic ones to 'no_info' or 'deleted' and some others to their country manually"
   ]
  },
  {
   "cell_type": "markdown",
   "metadata": {},
   "source": [
    "# Combining them back into countries df"
   ]
  },
  {
   "cell_type": "code",
   "execution_count": null,
   "metadata": {},
   "outputs": [],
   "source": [
    "no_country = pd.read_csv(op.join(path_deriv, 'countries_webarchive_handles.csv')).rename(columns = {'channel':'channel_id'})\n",
    "countries = pd.read_csv(op.join(path_deriv, 'countries_old.csv'), index_col = 0)\n",
    "countries.country = countries.country.apply(lambda x: x if isinstance(x, str) and x!= 'deleted' else None)\n",
    "countries_all = pd.merge(countries, no_country[['channel_id','country']], on='channel_id', how='outer', suffixes=('', '_extra'))\n",
    "countries_all['country'] = countries_all['country_extra'].combine_first(countries_all['country'])\n",
    "countries_all = countries_all.drop(columns = 'country_extra')\n",
    "countries_all.to_csv(op.join(path_deriv, 'countries.csv'))"
   ]
  },
  {
   "cell_type": "code",
   "execution_count": 118,
   "metadata": {},
   "outputs": [
    {
     "data": {
      "text/plain": [
       "country\n",
       "US         12312\n",
       "IN          2464\n",
       "no_rec      2441\n",
       "GB          1963\n",
       "deleted     1245\n",
       "           ...  \n",
       "AI             1\n",
       "BZ             1\n",
       "ME             1\n",
       "UM             1\n",
       "SY             1\n",
       "Name: count, Length: 126, dtype: int64"
      ]
     },
     "execution_count": 118,
     "metadata": {},
     "output_type": "execute_result"
    }
   ],
   "source": [
    "pd.set_option(\"display.max_rows\", 11) \n",
    "countries_all.country.value_counts(dropna=False)"
   ]
  },
  {
   "cell_type": "code",
   "execution_count": 136,
   "metadata": {},
   "outputs": [
    {
     "name": "stderr",
     "output_type": "stream",
     "text": [
      "C:\\Users\\gbrag\\AppData\\Local\\Temp\\ipykernel_31968\\1002662812.py:10: FutureWarning: Setting an item of incompatible dtype is deprecated and will raise an error in a future version of pandas. Value '?' has dtype incompatible with int64, please explicitly cast to a compatible dtype first.\n",
      "  to_plot[to_plot.country == 'deleted'] = '?'\n"
     ]
    }
   ],
   "source": [
    "# redo plot\n",
    "#group in single category all the countries with less than 10 channels\n",
    "to_plot = pd.read_csv(op.join(path_deriv, 'countries.csv')).copy()\n",
    "filter = 20\n",
    "value_countss = to_plot['country'].value_counts()\n",
    "to_plot['country'] = to_plot['country'].apply(lambda x: 'Other' if type(x) == str and value_countss[x] < filter  else x)\n",
    "to_plot = to_plot[to_plot.country != 'Other']\n",
    "\n",
    "# deleted and no_rec we dont have information so question mark\n",
    "to_plot[to_plot.country == 'deleted'] = '?'\n",
    "to_plot[to_plot.country == 'no_country'] = '-'\n",
    "to_plot[to_plot.country == 'no_rec'] = '?'\n",
    "to_plot.country = to_plot.country.fillna('?')"
   ]
  },
  {
   "cell_type": "code",
   "execution_count": 137,
   "metadata": {},
   "outputs": [
    {
     "data": {
      "image/png": "[encoded data removed]",
      "text/plain": [
       "<Figure size 2000x500 with 1 Axes>"
      ]
     },
     "metadata": {},
     "output_type": "display_data"
    }
   ],
   "source": [
    "fig, ax = plt.subplots(figsize=(20, 5))\n",
    "sns.countplot(x='country', data=to_plot, order = to_plot['country'].value_counts(dropna=False).index, hue = 'country', ax=ax)\n",
    "ax.set_yscale('log')\n",
    "ax.set_title('Number of channels per country')\n",
    "ax.set_xlabel('Country')\n",
    "ax.set_ylabel('Number of channels (log)')\n",
    "#ax.legend_.remove()\n",
    "plt.show()"
   ]
  },
  {
   "cell_type": "markdown",
   "metadata": {},
   "source": [
    "## Other explored methods - Socialblade directly, webarchive top lists"
   ]
  },
  {
   "cell_type": "code",
   "execution_count": null,
   "metadata": {},
   "outputs": [],
   "source": [
    "#Socialblade has a paid API\n",
    "\n",
    "#import requests as req\n",
    "#from bs4 import BeautifulSoup as bs\n",
    "\"\"\"url = r'https://socialblade.com/youtube/c/simonegiertz'\n",
    "r = req.get(url)\n",
    "print('Response status code: {0}\\n'.format(r.status_code))\n",
    "soup = bs(r.text, 'html.parser')\n",
    "country = soup.find('span', {'id': 'youtube-stats-header-country'}).text\n",
    "print(country)\"\"\""
   ]
  },
  {
   "cell_type": "code",
   "execution_count": null,
   "metadata": {},
   "outputs": [],
   "source": [
    "#Web archive for Socialblade - solution not practical because you have to find the exact date of the snapshot - improved above through using the webarchive API\n",
    "\"\"\"url = r'https://web.archive.org/web/20161218062757/https://socialblade.com/youtube/user/leafyishere/monthly'\n",
    "r = req.get(url)\n",
    "print('Response status code: {0}\\n'.format(r.status_code))\n",
    "soup = bs(r.text, 'html.parser')\n",
    "country = soup.find('span', {'id': 'youtube-stats-header-country'}).text\n",
    "print(country)\"\"\""
   ]
  },
  {
   "cell_type": "code",
   "execution_count": null,
   "metadata": {},
   "outputs": [],
   "source": [
    "# The logic here is to crawl the top channels of their country so that if this channel has been deleted we can still have its country, \n",
    "# we are thus favoring the biggest channels but also the biggest countries since a random search in socialblade revealed that among deleted these were the most common countries\n",
    "# we scrape two dates only since the url search is done by hand \n",
    "\n",
    "# THIS APPROACH DID NOT YIELD MUCH RESULTS\n",
    "links_country = ['https://web.archive.org/web/20161222044632/http://socialblade.com/youtube/top/country/US',\n",
    "                   'https://web.archive.org/web/20161222072007/http://socialblade.com/youtube/top/country/us/mostsubscribed',\n",
    "                   'https://web.archive.org/web/20161222072024/http://socialblade.com/youtube/top/country/us/mostviewed',\n",
    "                   'https://web.archive.org/web/20161222044658/http://socialblade.com/youtube/top/country/au',\n",
    "                   'https://web.archive.org/web/20161222072954/http://socialblade.com/youtube/top/country/au/mostsubscribed',\n",
    "                   'https://web.archive.org/web/20161222073230/http://socialblade.com/youtube/top/country/au/mostviewed',\n",
    "                   'https://web.archive.org/web/20161222044703/http://socialblade.com/youtube/top/country/ca',\n",
    "                   'https://web.archive.org/web/20161229071141/http://socialblade.com/youtube/top/country/ca/mostsubscribed',\n",
    "                   'https://web.archive.org/web/20161229071159/http://socialblade.com/youtube/top/country/ca/mostviewed',\n",
    "                   'https://web.archive.org/web/20161229050027/http://socialblade.com/youtube/top/country/gb',\n",
    "                   'https://web.archive.org/web/20161229065353/http://socialblade.com/youtube/top/country/gb/mostsubscribed',\n",
    "                   'https://web.archive.org/web/20161229065406/http://socialblade.com/youtube/top/country/gb/mostviewed',\n",
    "                   'https://web.archive.org/web/20161119014022/http://socialblade.com/youtube/top/country/in',\n",
    "                   'https://web.archive.org/web/20161119181439/http://socialblade.com/youtube/top/country/in/mostsubscribed',\n",
    "                   'https://web.archive.org/web/20161202092130/http://socialblade.com/youtube/top/country/in/mostviewed',\n",
    "                   'https://web.archive.org/web/20161119021551/http://socialblade.com/youtube/top/country/pk',\n",
    "                   'https://web.archive.org/web/20161119065202/http://socialblade.com/youtube/top/country/pk/mostsubscribed',\n",
    "                   'https://web.archive.org/web/20161119234149/http://socialblade.com/youtube/top/country/pk/mostviewed',\n",
    "                   'https://web.archive.org/web/20161119002647/http://socialblade.com/youtube/top/country/de',\n",
    "                   'https://web.archive.org/web/20161119021541/http://socialblade.com/youtube/top/country/de/mostsubscribed',\n",
    "                   'https://web.archive.org/web/20161119181429/http://socialblade.com/youtube/top/country/de/mostviewed',\n",
    "                   'https://web.archive.org/web/20161130221530/http://socialblade.com/youtube/top/country/ph',\n",
    "                   'https://web.archive.org/web/20161130221536/http://socialblade.com/youtube/top/country/ph/mostsubscribed',\n",
    "                   'https://web.archive.org/web/20161130155016/http://socialblade.com/youtube/top/country/ph/mostviewed',\n",
    "                   'https://web.archive.org/web/20161119065157/http://socialblade.com/youtube/top/country/nl',\n",
    "                   'https://web.archive.org/web/20161120184457/http://socialblade.com/youtube/top/country/nl/mostsubscribed',\n",
    "                   'https://web.archive.org/web/20161123080436/http://socialblade.com/youtube/top/country/nl/mostviewed',\n",
    "                   'https://web.archive.org/web/20161121061011/http://socialblade.com/youtube/top/country/se',\n",
    "                   'https://web.archive.org/web/20161130221540/http://socialblade.com/youtube/top/country/se/mostsubscribed',\n",
    "                   'https://web.archive.org/web/20170224131438/http://socialblade.com/youtube/top/country/se/mostviewed',\n",
    "                   'https://web.archive.org/web/20161127085334/http://socialblade.com/youtube/top/country/nz',\n",
    "                   'https://web.archive.org/web/20161122173341/http://socialblade.com/youtube/top/country/nz/mostsubscribed',\n",
    "                   'https://web.archive.org/web/20161127132852/http://socialblade.com/youtube/top/country/nz/mostviewed',\n",
    "\n",
    "                   'https://web.archive.org/web/20140329221609/http://socialblade.com/youtube/top/country/US',\n",
    "                   'https://web.archive.org/web/20140329235335/http://socialblade.com/youtube/top/country/US/mostsubscribed',\n",
    "                   'https://web.archive.org/web/20140329235338/http://socialblade.com/youtube/top/country/US/mostviewed',\n",
    "                   'https://web.archive.org/web/20140329221613/http://socialblade.com/youtube/top/country/GB',\n",
    "                   'https://web.archive.org/web/20140329235344/http://socialblade.com/youtube/top/country/GB/mostsubscribed',\n",
    "                   'https://web.archive.org/web/20140329235349/http://socialblade.com/youtube/top/country/GB/mostviewed',\n",
    "                   'https://web.archive.org/web/20140329221616/http://socialblade.com/youtube/top/country/AU',\n",
    "                   'https://web.archive.org/web/20140329235644/http://socialblade.com/youtube/top/country/AU/mostsubscribed',\n",
    "                   'https://web.archive.org/web/20140329235652/http://socialblade.com/youtube/top/country/AU/mostviewed',\n",
    "                   'https://web.archive.org/web/20140329221619/http://socialblade.com/youtube/top/country/CA',\n",
    "                   'https://web.archive.org/web/20140330000114/http://socialblade.com/youtube/top/country/CA/mostsubscribed',\n",
    "                   'https://web.archive.org/web/20140330000119/http://socialblade.com/youtube/top/country/CA/mostviewed',\n",
    "                   'https://web.archive.org/web/20140318191804/http://socialblade.com/youtube/top/country/IN',\n",
    "                   'https://web.archive.org/web/20140301072718/http://socialblade.com/youtube/top/country/IN/mostsubscribed',\n",
    "                   'https://web.archive.org/web/20140219090930/http://socialblade.com/youtube/top/country/IN/mostviewed',\n",
    "                   'https://web.archive.org/web/20140313100549/http://socialblade.com/youtube/top/country/PK',\n",
    "                   'https://web.archive.org/web/20140724211914/http://socialblade.com/youtube/top/country/PK/mostsubscribed',\n",
    "                   'https://web.archive.org/web/20140726062807/http://socialblade.com/youtube/top/country/PK/mostviewed',\n",
    "                   'https://web.archive.org/web/20140728125858/http://socialblade.com/youtube/top/country/DE',\n",
    "                   'https://web.archive.org/web/20140728151629/http://socialblade.com/youtube/top/country/DE/mostsubscribed',\n",
    "                   'https://web.archive.org/web/20140728151641/http://socialblade.com/youtube/top/country/DE/mostviewed',\n",
    "                   'https://web.archive.org/web/20140503064338/http://socialblade.com/youtube/top/country/PH',\n",
    "                   'https://web.archive.org/web/20140521080641/http://socialblade.com/youtube/top/country/PH/mostsubscribed',\n",
    "                   'https://web.archive.org/web/20140521082425/http://socialblade.com/youtube/top/country/PH/mostviewed',\n",
    "                   'https://web.archive.org/web/20140504103707/http://socialblade.com/youtube/top/country/NL',\n",
    "                   'https://web.archive.org/web/20140427110000/http://socialblade.com/youtube/top/country/NL/mostsubscribed',\n",
    "                   'https://web.archive.org/web/20140216200300/http://socialblade.com/youtube/top/country/NL/mostviewed',\n",
    "                   'https://web.archive.org/web/20140504103947/http://socialblade.com/youtube/top/country/SE',\n",
    "                   'https://web.archive.org/web/20140517204258/http://socialblade.com/youtube/top/country/SE/mostsubscribed',\n",
    "                   'https://web.archive.org/web/20140921004212/http://socialblade.com/youtube/top/country/SE/mostviewed',\n",
    "                   'https://web.archive.org/web/20140508220634/http://socialblade.com/youtube/top/country/NZ',\n",
    "                   'https://web.archive.org/web/20140505062836/http://socialblade.com/youtube/top/country/NZ/mostsubscribed',\n",
    "                   'https://web.archive.org/web/20140505065259/http://socialblade.com/youtube/top/country/NZ/mostviewed'\n",
    "                   ]\n",
    "\n",
    "liks_top =['https://web.archive.org/web/20161222050636/http://socialblade.com/youtube/top/5000',\n",
    "           'https://web.archive.org/web/20161201234302/http://socialblade.com/youtube/top/5000/mostsubscribed',\n",
    "           'https://web.archive.org/web/20161201234305/http://socialblade.com/youtube/top/5000/mostviewed',\n",
    "           'https://web.archive.org/web/20161128234930/http://socialblade.com/youtube/top/category/education',\n",
    "           'https://web.archive.org/web/20161119012425/http://socialblade.com/youtube/top/bottom50030d/mostunsubscribed',\n",
    "           'https://web.archive.org/web/20160427033433/http://socialblade.com/youtube/top/bottom50030d/mostunsubscribed',\n",
    "           'https://web.archive.org/web/20150629035707/http://socialblade.com/youtube/top/bottom50030d/mostunsubscribed',\n",
    "           'https://web.archive.org/web/20140601022314/http://socialblade.com/youtube/top/bottom50030d/mostunsubscribed',\n",
    "           'https://web.archive.org/web/20131205214715/http://socialblade.com/youtube/top/bottom50030d/mostunsubscribed',\n",
    "           ]\n",
    "\n",
    "\n",
    "\n",
    "def extract_countries_socialblade_manual_url(url, dict, retries= 5):\n",
    "    for i in range(retries):\n",
    "        try:\n",
    "            r = req.get(url)\n",
    "            break\n",
    "        except req.exceptions.ConnectionError as e:\n",
    "            print(e)\n",
    "            time.sleep(3) # seconds\n",
    "    \n",
    "    value =  url.split(\"country/\")[-1].split('/')[0].lower() # get the country as per the link \n",
    "    if r.status_code == 200:\n",
    "        soup = bs(r.text, 'html.parser')\n",
    "        youtube_user_links = soup.find_all(\"a\", href=re.compile(r\"youtube/user/\"))\n",
    "\n",
    "        for link in youtube_user_links:\n",
    "            href = link.get(\"href\")\n",
    "            channel = href.split('/')[-1]\n",
    "            dict[channel] = value\n",
    "    else:\n",
    "        print(r.status_code)\n",
    "    return dict \n",
    "\n",
    "socialblade_scraped = {}\n",
    "for i, url in enumerate(links_country):\n",
    "    socialblade_scraped = extract_countries_socialblade_manual_url(url, socialblade_scraped)"
   ]
  },
  {
   "cell_type": "code",
   "execution_count": null,
   "metadata": {},
   "outputs": [],
   "source": [
    "socialblade = pd.DataFrame(list(socialblade_scraped.items()), columns =['name_cc', 'country'])\n",
    "socialblade.to_csv(op.join(path_deriv, 'countries_tops_socialblade.csv'))"
   ]
  }
 ],
 "metadata": {
  "kernelspec": {
   "display_name": "ada",
   "language": "python",
   "name": "python3"
  },
  "language_info": {
   "codemirror_mode": {
    "name": "ipython",
    "version": 3
   },
   "file_extension": ".py",
   "mimetype": "text/x-python",
   "name": "python",
   "nbconvert_exporter": "python",
   "pygments_lexer": "ipython3",
   "version": "3.11.9"
  }
 },
 "nbformat": 4,
 "nbformat_minor": 2
}
