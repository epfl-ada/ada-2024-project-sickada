{
 "cells": [
  {
   "cell_type": "code",
   "execution_count": 3,
   "metadata": {},
   "outputs": [],
   "source": [
    "import pandas as pd\n",
    "import re\n",
    "\n",
    "def remove_nan(df: pd.DataFrame) :\n",
    "    df = df.dropna()\n",
    "    return df\n",
    "\n",
    "def clean_non_ascii(text):\n",
    "    return re.sub(r'[^\\x00-\\x7F]+', ' ', text)\n",
    "\n",
    "def replace_non_ascii_in_dataframe(df, columns=['title', 'tags', 'description']):\n",
    "    for column in columns:\n",
    "        df.loc[:, column] = df[column].apply(lambda x: clean_non_ascii(x) if isinstance(x, str) else x)\n",
    "    return df\n",
    "\n",
    "def remove_rows_with_empty_strings(df, columns=['title', 'tags', 'description']):\n",
    "    # Filter out rows where any specified column has an empty string\n",
    "    df_filtered = df[~df[columns].apply(lambda row: any(cell == \"\" for cell in row), axis=1)]\n",
    "    return df_filtered\n",
    "\n",
    "def clean_data(df: pd.DataFrame) :\n",
    "    out = remove_nan(df)\n",
    "    out = replace_non_ascii_in_dataframe(out)\n",
    "    out = remove_rows_with_empty_strings(out)\n",
    "    return out"
   ]
  },
  {
   "cell_type": "code",
   "execution_count": 4,
   "metadata": {},
   "outputs": [
    {
     "name": "stdout",
     "output_type": "stream",
     "text": [
      "Processing Education_videos_0.csv...\n",
      "Processing Education_videos_1.csv...\n",
      "Processing Education_videos_2.csv...\n"
     ]
    }
   ],
   "source": [
    "import glob\n",
    "from pathlib import Path\n",
    "\n",
    "directory_path = './data'\n",
    "\n",
    "file_paths = glob.glob(f\"{directory_path}/Education_videos_*.csv\")\n",
    "\n",
    "for file_path in file_paths :\n",
    "    print(f'Processing {Path(file_path).name}...')\n",
    "    df = pd.read_csv(file_path)\n",
    "    df_cleaned = clean_data(df)\n",
    "    df.to_csv(directory_path + '/' + Path(file_path).stem + '_cleaned.csv')\n"
   ]
  }
 ],
 "metadata": {
  "kernelspec": {
   "display_name": "ada",
   "language": "python",
   "name": "python3"
  },
  "language_info": {
   "codemirror_mode": {
    "name": "ipython",
    "version": 3
   },
   "file_extension": ".py",
   "mimetype": "text/x-python",
   "name": "python",
   "nbconvert_exporter": "python",
   "pygments_lexer": "ipython3",
   "version": "3.11.9"
  }
 },
 "nbformat": 4,
 "nbformat_minor": 2
}
